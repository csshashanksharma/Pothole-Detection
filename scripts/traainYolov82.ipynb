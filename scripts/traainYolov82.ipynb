{
 "cells": [
  {
   "cell_type": "code",
   "execution_count": 2,
   "metadata": {},
   "outputs": [
    {
     "name": "stdout",
     "output_type": "stream",
     "text": [
      "Saved model not found at /home/shashank/Desktop/Mini_project /runs/detect/pothole_detection/best.pt. Training a new model...\n",
      "New https://pypi.org/project/ultralytics/8.3.59 available 😃 Update with 'pip install -U ultralytics'\n",
      "Ultralytics 8.3.58 🚀 Python-3.10.12 torch-2.5.1+cu124 CPU (12th Gen Intel Core(TM) i5-1235U)\n",
      "\u001b[34m\u001b[1mengine/trainer: \u001b[0mtask=detect, mode=train, model=yolov8n.pt, data=/home/shashank/Desktop/Mini_project /dataset/pothole detection new.v1i.yolov8/pothole.yaml, epochs=10, time=None, patience=100, batch=16, imgsz=640, save=True, save_period=-1, cache=False, device=None, workers=8, project=None, name=pothole_detection7, exist_ok=False, pretrained=True, optimizer=auto, verbose=True, seed=0, deterministic=True, single_cls=False, rect=False, cos_lr=False, close_mosaic=10, resume=False, amp=True, fraction=1.0, profile=False, freeze=None, multi_scale=False, overlap_mask=True, mask_ratio=4, dropout=0.0, val=True, split=val, save_json=False, save_hybrid=False, conf=None, iou=0.7, max_det=300, half=False, dnn=False, plots=True, source=None, vid_stride=1, stream_buffer=False, visualize=False, augment=False, agnostic_nms=False, classes=None, retina_masks=False, embed=None, show=False, save_frames=False, save_txt=False, save_conf=False, save_crop=False, show_labels=True, show_conf=True, show_boxes=True, line_width=None, format=torchscript, keras=False, optimize=False, int8=False, dynamic=False, simplify=True, opset=None, workspace=None, nms=False, lr0=0.01, lrf=0.2, momentum=0.937, weight_decay=0.0005, warmup_epochs=3.0, warmup_momentum=0.8, warmup_bias_lr=0.1, box=7.5, cls=0.5, dfl=1.5, pose=12.0, kobj=1.0, nbs=64, hsv_h=0.015, hsv_s=0.7, hsv_v=0.4, degrees=0.0, translate=0.1, scale=0.5, shear=0.0, perspective=0.0, flipud=0.0, fliplr=0.5, bgr=0.0, mosaic=1.0, mixup=0.0, copy_paste=0.0, copy_paste_mode=flip, auto_augment=randaugment, erasing=0.4, crop_fraction=1.0, cfg=None, tracker=botsort.yaml, save_dir=runs/detect/pothole_detection7\n",
      "Overriding model.yaml nc=80 with nc=1\n",
      "\n",
      "                   from  n    params  module                                       arguments                     \n",
      "  0                  -1  1       464  ultralytics.nn.modules.conv.Conv             [3, 16, 3, 2]                 \n",
      "  1                  -1  1      4672  ultralytics.nn.modules.conv.Conv             [16, 32, 3, 2]                \n",
      "  2                  -1  1      7360  ultralytics.nn.modules.block.C2f             [32, 32, 1, True]             \n",
      "  3                  -1  1     18560  ultralytics.nn.modules.conv.Conv             [32, 64, 3, 2]                \n",
      "  4                  -1  2     49664  ultralytics.nn.modules.block.C2f             [64, 64, 2, True]             \n",
      "  5                  -1  1     73984  ultralytics.nn.modules.conv.Conv             [64, 128, 3, 2]               \n",
      "  6                  -1  2    197632  ultralytics.nn.modules.block.C2f             [128, 128, 2, True]           \n",
      "  7                  -1  1    295424  ultralytics.nn.modules.conv.Conv             [128, 256, 3, 2]              \n",
      "  8                  -1  1    460288  ultralytics.nn.modules.block.C2f             [256, 256, 1, True]           \n",
      "  9                  -1  1    164608  ultralytics.nn.modules.block.SPPF            [256, 256, 5]                 \n",
      " 10                  -1  1         0  torch.nn.modules.upsampling.Upsample         [None, 2, 'nearest']          \n",
      " 11             [-1, 6]  1         0  ultralytics.nn.modules.conv.Concat           [1]                           \n",
      " 12                  -1  1    148224  ultralytics.nn.modules.block.C2f             [384, 128, 1]                 \n",
      " 13                  -1  1         0  torch.nn.modules.upsampling.Upsample         [None, 2, 'nearest']          \n",
      " 14             [-1, 4]  1         0  ultralytics.nn.modules.conv.Concat           [1]                           \n",
      " 15                  -1  1     37248  ultralytics.nn.modules.block.C2f             [192, 64, 1]                  \n",
      " 16                  -1  1     36992  ultralytics.nn.modules.conv.Conv             [64, 64, 3, 2]                \n",
      " 17            [-1, 12]  1         0  ultralytics.nn.modules.conv.Concat           [1]                           \n",
      " 18                  -1  1    123648  ultralytics.nn.modules.block.C2f             [192, 128, 1]                 \n",
      " 19                  -1  1    147712  ultralytics.nn.modules.conv.Conv             [128, 128, 3, 2]              \n",
      " 20             [-1, 9]  1         0  ultralytics.nn.modules.conv.Concat           [1]                           \n",
      " 21                  -1  1    493056  ultralytics.nn.modules.block.C2f             [384, 256, 1]                 \n",
      " 22        [15, 18, 21]  1    751507  ultralytics.nn.modules.head.Detect           [1, [64, 128, 256]]           \n",
      "Model summary: 225 layers, 3,011,043 parameters, 3,011,027 gradients, 8.2 GFLOPs\n",
      "\n",
      "Transferred 319/355 items from pretrained weights\n",
      "\u001b[34m\u001b[1mTensorBoard: \u001b[0mStart with 'tensorboard --logdir runs/detect/pothole_detection7', view at http://localhost:6006/\n",
      "Freezing layer 'model.22.dfl.conv.weight'\n"
     ]
    },
    {
     "name": "stderr",
     "output_type": "stream",
     "text": [
      "\u001b[34m\u001b[1mtrain: \u001b[0mScanning /home/shashank/Desktop/Mini_project /dataset/pothole detection new.v1i.yolov8/train/labels.cache... 372 images, 0 backgrounds, 0 corrupt: 100%|██████████| 372/372 [00:00<?, ?it/s]\n",
      "\u001b[34m\u001b[1mval: \u001b[0mScanning /home/shashank/Desktop/Mini_project /dataset/pothole detection new.v1i.yolov8/test/labels.cache... 55 images, 0 backgrounds, 0 corrupt: 100%|██████████| 55/55 [00:00<?, ?it/s]"
     ]
    },
    {
     "name": "stdout",
     "output_type": "stream",
     "text": [
      "Plotting labels to runs/detect/pothole_detection7/labels.jpg... \n"
     ]
    },
    {
     "name": "stderr",
     "output_type": "stream",
     "text": [
      "\n"
     ]
    },
    {
     "name": "stdout",
     "output_type": "stream",
     "text": [
      "\u001b[34m\u001b[1moptimizer:\u001b[0m 'optimizer=auto' found, ignoring 'lr0=0.01' and 'momentum=0.937' and determining best 'optimizer', 'lr0' and 'momentum' automatically... \n",
      "\u001b[34m\u001b[1moptimizer:\u001b[0m AdamW(lr=0.002, momentum=0.9) with parameter groups 57 weight(decay=0.0), 64 weight(decay=0.0005), 63 bias(decay=0.0)\n",
      "\u001b[34m\u001b[1mTensorBoard: \u001b[0mmodel graph visualization added ✅\n",
      "Image sizes 640 train, 640 val\n",
      "Using 0 dataloader workers\n",
      "Logging results to \u001b[1mruns/detect/pothole_detection7\u001b[0m\n",
      "Starting training for 10 epochs...\n",
      "Closing dataloader mosaic\n",
      "\n",
      "      Epoch    GPU_mem   box_loss   cls_loss   dfl_loss  Instances       Size\n"
     ]
    },
    {
     "name": "stderr",
     "output_type": "stream",
     "text": [
      "  0%|          | 0/24 [00:03<?, ?it/s]\n"
     ]
    },
    {
     "ename": "KeyboardInterrupt",
     "evalue": "",
     "output_type": "error",
     "traceback": [
      "\u001b[0;31m---------------------------------------------------------------------------\u001b[0m",
      "\u001b[0;31mKeyboardInterrupt\u001b[0m                         Traceback (most recent call last)",
      "Cell \u001b[0;32mIn[2], line 29\u001b[0m\n\u001b[1;32m     26\u001b[0m model \u001b[38;5;241m=\u001b[39m YOLO(pretrained_model)  \u001b[38;5;66;03m# Load the pre-trained YOLOv8 model\u001b[39;00m\n\u001b[1;32m     28\u001b[0m \u001b[38;5;66;03m# Train the model\u001b[39;00m\n\u001b[0;32m---> 29\u001b[0m \u001b[43mmodel\u001b[49m\u001b[38;5;241;43m.\u001b[39;49m\u001b[43mtrain\u001b[49m\u001b[43m(\u001b[49m\n\u001b[1;32m     30\u001b[0m \u001b[43m    \u001b[49m\u001b[43mdata\u001b[49m\u001b[38;5;241;43m=\u001b[39;49m\u001b[43myaml_path\u001b[49m\u001b[43m,\u001b[49m\n\u001b[1;32m     31\u001b[0m \u001b[43m    \u001b[49m\u001b[43mepochs\u001b[49m\u001b[38;5;241;43m=\u001b[39;49m\u001b[38;5;241;43m10\u001b[39;49m\u001b[43m,\u001b[49m\n\u001b[1;32m     32\u001b[0m \u001b[43m    \u001b[49m\u001b[43mimgsz\u001b[49m\u001b[38;5;241;43m=\u001b[39;49m\u001b[38;5;241;43m640\u001b[39;49m\u001b[43m,\u001b[49m\n\u001b[1;32m     33\u001b[0m \u001b[43m    \u001b[49m\u001b[43mbatch\u001b[49m\u001b[38;5;241;43m=\u001b[39;49m\u001b[38;5;241;43m16\u001b[39;49m\u001b[43m,\u001b[49m\n\u001b[1;32m     34\u001b[0m \u001b[43m    \u001b[49m\u001b[43mname\u001b[49m\u001b[38;5;241;43m=\u001b[39;49m\u001b[38;5;124;43m\"\u001b[39;49m\u001b[38;5;124;43mpothole_detection\u001b[39;49m\u001b[38;5;124;43m\"\u001b[39;49m\u001b[43m,\u001b[49m\n\u001b[1;32m     35\u001b[0m \u001b[43m    \u001b[49m\u001b[43mlr0\u001b[49m\u001b[38;5;241;43m=\u001b[39;49m\u001b[38;5;241;43m0.01\u001b[39;49m\u001b[43m,\u001b[49m\u001b[43m  \u001b[49m\u001b[38;5;66;43;03m# Learning rate\u001b[39;49;00m\n\u001b[1;32m     36\u001b[0m \u001b[43m    \u001b[49m\u001b[43mlrf\u001b[49m\u001b[38;5;241;43m=\u001b[39;49m\u001b[38;5;241;43m0.2\u001b[39;49m\u001b[43m,\u001b[49m\u001b[43m   \u001b[49m\u001b[38;5;66;43;03m# Learning rate final multiplier\u001b[39;49;00m\n\u001b[1;32m     37\u001b[0m \u001b[43m    \u001b[49m\u001b[43mmomentum\u001b[49m\u001b[38;5;241;43m=\u001b[39;49m\u001b[38;5;241;43m0.937\u001b[39;49m\u001b[43m,\u001b[49m\n\u001b[1;32m     38\u001b[0m \u001b[43m    \u001b[49m\u001b[43mweight_decay\u001b[49m\u001b[38;5;241;43m=\u001b[39;49m\u001b[38;5;241;43m0.0005\u001b[39;49m\u001b[43m,\u001b[49m\n\u001b[1;32m     39\u001b[0m \u001b[43m    \u001b[49m\u001b[43mwarmup_epochs\u001b[49m\u001b[38;5;241;43m=\u001b[39;49m\u001b[38;5;241;43m3.0\u001b[39;49m\u001b[43m,\u001b[49m\u001b[43m  \u001b[49m\u001b[38;5;66;43;03m# Gradual LR warm-up\u001b[39;49;00m\n\u001b[1;32m     40\u001b[0m \u001b[43m    \u001b[49m\u001b[43mwarmup_momentum\u001b[49m\u001b[38;5;241;43m=\u001b[39;49m\u001b[38;5;241;43m0.8\u001b[39;49m\u001b[43m,\u001b[49m\n\u001b[1;32m     41\u001b[0m \u001b[43m    \u001b[49m\u001b[43mwarmup_bias_lr\u001b[49m\u001b[38;5;241;43m=\u001b[39;49m\u001b[38;5;241;43m0.1\u001b[39;49m\u001b[43m,\u001b[49m\n\u001b[1;32m     42\u001b[0m \u001b[43m    \u001b[49m\u001b[43msave\u001b[49m\u001b[38;5;241;43m=\u001b[39;49m\u001b[38;5;28;43;01mTrue\u001b[39;49;00m\n\u001b[1;32m     43\u001b[0m \u001b[43m\u001b[49m\u001b[43m)\u001b[49m\n\u001b[1;32m     44\u001b[0m \u001b[38;5;28mprint\u001b[39m(\u001b[38;5;124m\"\u001b[39m\u001b[38;5;124mTraining completed!\u001b[39m\u001b[38;5;124m\"\u001b[39m)\n\u001b[1;32m     46\u001b[0m \u001b[38;5;66;03m# Ensure the model is saved\u001b[39;00m\n",
      "File \u001b[0;32m~/.local/lib/python3.10/site-packages/ultralytics/engine/model.py:806\u001b[0m, in \u001b[0;36mModel.train\u001b[0;34m(self, trainer, **kwargs)\u001b[0m\n\u001b[1;32m    803\u001b[0m     \u001b[38;5;28mself\u001b[39m\u001b[38;5;241m.\u001b[39mmodel \u001b[38;5;241m=\u001b[39m \u001b[38;5;28mself\u001b[39m\u001b[38;5;241m.\u001b[39mtrainer\u001b[38;5;241m.\u001b[39mmodel\n\u001b[1;32m    805\u001b[0m \u001b[38;5;28mself\u001b[39m\u001b[38;5;241m.\u001b[39mtrainer\u001b[38;5;241m.\u001b[39mhub_session \u001b[38;5;241m=\u001b[39m \u001b[38;5;28mself\u001b[39m\u001b[38;5;241m.\u001b[39msession  \u001b[38;5;66;03m# attach optional HUB session\u001b[39;00m\n\u001b[0;32m--> 806\u001b[0m \u001b[38;5;28;43mself\u001b[39;49m\u001b[38;5;241;43m.\u001b[39;49m\u001b[43mtrainer\u001b[49m\u001b[38;5;241;43m.\u001b[39;49m\u001b[43mtrain\u001b[49m\u001b[43m(\u001b[49m\u001b[43m)\u001b[49m\n\u001b[1;32m    807\u001b[0m \u001b[38;5;66;03m# Update model and cfg after training\u001b[39;00m\n\u001b[1;32m    808\u001b[0m \u001b[38;5;28;01mif\u001b[39;00m RANK \u001b[38;5;129;01min\u001b[39;00m {\u001b[38;5;241m-\u001b[39m\u001b[38;5;241m1\u001b[39m, \u001b[38;5;241m0\u001b[39m}:\n",
      "File \u001b[0;32m~/.local/lib/python3.10/site-packages/ultralytics/engine/trainer.py:207\u001b[0m, in \u001b[0;36mBaseTrainer.train\u001b[0;34m(self)\u001b[0m\n\u001b[1;32m    204\u001b[0m         ddp_cleanup(\u001b[38;5;28mself\u001b[39m, \u001b[38;5;28mstr\u001b[39m(file))\n\u001b[1;32m    206\u001b[0m \u001b[38;5;28;01melse\u001b[39;00m:\n\u001b[0;32m--> 207\u001b[0m     \u001b[38;5;28;43mself\u001b[39;49m\u001b[38;5;241;43m.\u001b[39;49m\u001b[43m_do_train\u001b[49m\u001b[43m(\u001b[49m\u001b[43mworld_size\u001b[49m\u001b[43m)\u001b[49m\n",
      "File \u001b[0;32m~/.local/lib/python3.10/site-packages/ultralytics/engine/trainer.py:388\u001b[0m, in \u001b[0;36mBaseTrainer._do_train\u001b[0;34m(self, world_size)\u001b[0m\n\u001b[1;32m    383\u001b[0m     \u001b[38;5;28mself\u001b[39m\u001b[38;5;241m.\u001b[39mtloss \u001b[38;5;241m=\u001b[39m (\n\u001b[1;32m    384\u001b[0m         (\u001b[38;5;28mself\u001b[39m\u001b[38;5;241m.\u001b[39mtloss \u001b[38;5;241m*\u001b[39m i \u001b[38;5;241m+\u001b[39m \u001b[38;5;28mself\u001b[39m\u001b[38;5;241m.\u001b[39mloss_items) \u001b[38;5;241m/\u001b[39m (i \u001b[38;5;241m+\u001b[39m \u001b[38;5;241m1\u001b[39m) \u001b[38;5;28;01mif\u001b[39;00m \u001b[38;5;28mself\u001b[39m\u001b[38;5;241m.\u001b[39mtloss \u001b[38;5;129;01mis\u001b[39;00m \u001b[38;5;129;01mnot\u001b[39;00m \u001b[38;5;28;01mNone\u001b[39;00m \u001b[38;5;28;01melse\u001b[39;00m \u001b[38;5;28mself\u001b[39m\u001b[38;5;241m.\u001b[39mloss_items\n\u001b[1;32m    385\u001b[0m     )\n\u001b[1;32m    387\u001b[0m \u001b[38;5;66;03m# Backward\u001b[39;00m\n\u001b[0;32m--> 388\u001b[0m \u001b[38;5;28;43mself\u001b[39;49m\u001b[38;5;241;43m.\u001b[39;49m\u001b[43mscaler\u001b[49m\u001b[38;5;241;43m.\u001b[39;49m\u001b[43mscale\u001b[49m\u001b[43m(\u001b[49m\u001b[38;5;28;43mself\u001b[39;49m\u001b[38;5;241;43m.\u001b[39;49m\u001b[43mloss\u001b[49m\u001b[43m)\u001b[49m\u001b[38;5;241;43m.\u001b[39;49m\u001b[43mbackward\u001b[49m\u001b[43m(\u001b[49m\u001b[43m)\u001b[49m\n\u001b[1;32m    390\u001b[0m \u001b[38;5;66;03m# Optimize - https://pytorch.org/docs/master/notes/amp_examples.html\u001b[39;00m\n\u001b[1;32m    391\u001b[0m \u001b[38;5;28;01mif\u001b[39;00m ni \u001b[38;5;241m-\u001b[39m last_opt_step \u001b[38;5;241m>\u001b[39m\u001b[38;5;241m=\u001b[39m \u001b[38;5;28mself\u001b[39m\u001b[38;5;241m.\u001b[39maccumulate:\n",
      "File \u001b[0;32m~/.local/lib/python3.10/site-packages/torch/_tensor.py:581\u001b[0m, in \u001b[0;36mTensor.backward\u001b[0;34m(self, gradient, retain_graph, create_graph, inputs)\u001b[0m\n\u001b[1;32m    571\u001b[0m \u001b[38;5;28;01mif\u001b[39;00m has_torch_function_unary(\u001b[38;5;28mself\u001b[39m):\n\u001b[1;32m    572\u001b[0m     \u001b[38;5;28;01mreturn\u001b[39;00m handle_torch_function(\n\u001b[1;32m    573\u001b[0m         Tensor\u001b[38;5;241m.\u001b[39mbackward,\n\u001b[1;32m    574\u001b[0m         (\u001b[38;5;28mself\u001b[39m,),\n\u001b[0;32m   (...)\u001b[0m\n\u001b[1;32m    579\u001b[0m         inputs\u001b[38;5;241m=\u001b[39minputs,\n\u001b[1;32m    580\u001b[0m     )\n\u001b[0;32m--> 581\u001b[0m \u001b[43mtorch\u001b[49m\u001b[38;5;241;43m.\u001b[39;49m\u001b[43mautograd\u001b[49m\u001b[38;5;241;43m.\u001b[39;49m\u001b[43mbackward\u001b[49m\u001b[43m(\u001b[49m\n\u001b[1;32m    582\u001b[0m \u001b[43m    \u001b[49m\u001b[38;5;28;43mself\u001b[39;49m\u001b[43m,\u001b[49m\u001b[43m \u001b[49m\u001b[43mgradient\u001b[49m\u001b[43m,\u001b[49m\u001b[43m \u001b[49m\u001b[43mretain_graph\u001b[49m\u001b[43m,\u001b[49m\u001b[43m \u001b[49m\u001b[43mcreate_graph\u001b[49m\u001b[43m,\u001b[49m\u001b[43m \u001b[49m\u001b[43minputs\u001b[49m\u001b[38;5;241;43m=\u001b[39;49m\u001b[43minputs\u001b[49m\n\u001b[1;32m    583\u001b[0m \u001b[43m\u001b[49m\u001b[43m)\u001b[49m\n",
      "File \u001b[0;32m~/.local/lib/python3.10/site-packages/torch/autograd/__init__.py:347\u001b[0m, in \u001b[0;36mbackward\u001b[0;34m(tensors, grad_tensors, retain_graph, create_graph, grad_variables, inputs)\u001b[0m\n\u001b[1;32m    342\u001b[0m     retain_graph \u001b[38;5;241m=\u001b[39m create_graph\n\u001b[1;32m    344\u001b[0m \u001b[38;5;66;03m# The reason we repeat the same comment below is that\u001b[39;00m\n\u001b[1;32m    345\u001b[0m \u001b[38;5;66;03m# some Python versions print out the first line of a multi-line function\u001b[39;00m\n\u001b[1;32m    346\u001b[0m \u001b[38;5;66;03m# calls in the traceback and some print out the last line\u001b[39;00m\n\u001b[0;32m--> 347\u001b[0m \u001b[43m_engine_run_backward\u001b[49m\u001b[43m(\u001b[49m\n\u001b[1;32m    348\u001b[0m \u001b[43m    \u001b[49m\u001b[43mtensors\u001b[49m\u001b[43m,\u001b[49m\n\u001b[1;32m    349\u001b[0m \u001b[43m    \u001b[49m\u001b[43mgrad_tensors_\u001b[49m\u001b[43m,\u001b[49m\n\u001b[1;32m    350\u001b[0m \u001b[43m    \u001b[49m\u001b[43mretain_graph\u001b[49m\u001b[43m,\u001b[49m\n\u001b[1;32m    351\u001b[0m \u001b[43m    \u001b[49m\u001b[43mcreate_graph\u001b[49m\u001b[43m,\u001b[49m\n\u001b[1;32m    352\u001b[0m \u001b[43m    \u001b[49m\u001b[43minputs\u001b[49m\u001b[43m,\u001b[49m\n\u001b[1;32m    353\u001b[0m \u001b[43m    \u001b[49m\u001b[43mallow_unreachable\u001b[49m\u001b[38;5;241;43m=\u001b[39;49m\u001b[38;5;28;43;01mTrue\u001b[39;49;00m\u001b[43m,\u001b[49m\n\u001b[1;32m    354\u001b[0m \u001b[43m    \u001b[49m\u001b[43maccumulate_grad\u001b[49m\u001b[38;5;241;43m=\u001b[39;49m\u001b[38;5;28;43;01mTrue\u001b[39;49;00m\u001b[43m,\u001b[49m\n\u001b[1;32m    355\u001b[0m \u001b[43m\u001b[49m\u001b[43m)\u001b[49m\n",
      "File \u001b[0;32m~/.local/lib/python3.10/site-packages/torch/autograd/graph.py:825\u001b[0m, in \u001b[0;36m_engine_run_backward\u001b[0;34m(t_outputs, *args, **kwargs)\u001b[0m\n\u001b[1;32m    823\u001b[0m     unregister_hooks \u001b[38;5;241m=\u001b[39m _register_logging_hooks_on_whole_graph(t_outputs)\n\u001b[1;32m    824\u001b[0m \u001b[38;5;28;01mtry\u001b[39;00m:\n\u001b[0;32m--> 825\u001b[0m     \u001b[38;5;28;01mreturn\u001b[39;00m \u001b[43mVariable\u001b[49m\u001b[38;5;241;43m.\u001b[39;49m\u001b[43m_execution_engine\u001b[49m\u001b[38;5;241;43m.\u001b[39;49m\u001b[43mrun_backward\u001b[49m\u001b[43m(\u001b[49m\u001b[43m  \u001b[49m\u001b[38;5;66;43;03m# Calls into the C++ engine to run the backward pass\u001b[39;49;00m\n\u001b[1;32m    826\u001b[0m \u001b[43m        \u001b[49m\u001b[43mt_outputs\u001b[49m\u001b[43m,\u001b[49m\u001b[43m \u001b[49m\u001b[38;5;241;43m*\u001b[39;49m\u001b[43margs\u001b[49m\u001b[43m,\u001b[49m\u001b[43m \u001b[49m\u001b[38;5;241;43m*\u001b[39;49m\u001b[38;5;241;43m*\u001b[39;49m\u001b[43mkwargs\u001b[49m\n\u001b[1;32m    827\u001b[0m \u001b[43m    \u001b[49m\u001b[43m)\u001b[49m  \u001b[38;5;66;03m# Calls into the C++ engine to run the backward pass\u001b[39;00m\n\u001b[1;32m    828\u001b[0m \u001b[38;5;28;01mfinally\u001b[39;00m:\n\u001b[1;32m    829\u001b[0m     \u001b[38;5;28;01mif\u001b[39;00m attach_logging_hooks:\n",
      "\u001b[0;31mKeyboardInterrupt\u001b[0m: "
     ]
    }
   ],
   "source": [
    "import os\n",
    "from ultralytics import YOLO\n",
    "\n",
    "# Define paths\n",
    "yaml_path = \"/home/shashank/Desktop/Mini_project /dataset/pothole detection new.v1i.yolov8/pothole.yaml\"\n",
    "pretrained_model = \"yolov8n.pt\"  # Use YOLOv8 Nano model (smallest, fastest)\n",
    "saved_model_path = \"/home/shashank/Desktop/Mini_project /runs/detect/pothole_detection/best.pt\"  # Correct path to the saved model\n",
    "output_path = \"/home/shashank/Desktop/Mini_project /results\"  # Directory to save training outputs\n",
    "single_image_path = \"/home/shashank/Desktop/Mini_project /pothole.jpeg\"\n",
    "test_images_path = \"/home/shashank/Desktop/Mini_project /dataset/pothole detection new.v1i.yolov8/test/images\"\n",
    "\n",
    "# Helper function to print validation results\n",
    "def print_validation_results(results):\n",
    "    print(\"Validation Metrics:\")\n",
    "    if results:\n",
    "        print(f\"mAP50: {results.box.map:.3f}, Precision: {results.box.p:.3f}, Recall: {results.box.r:.3f}\")\n",
    "    else:\n",
    "        print(\"No validation results returned.\")\n",
    "\n",
    "# Step 1: Check if the saved model exists\n",
    "if os.path.exists(saved_model_path):\n",
    "    print(f\"Saved model found at {saved_model_path}. Loading...\")\n",
    "    model = YOLO(saved_model_path)\n",
    "else:\n",
    "    print(f\"Saved model not found at {saved_model_path}. Training a new model...\")\n",
    "    model = YOLO(pretrained_model)  # Load the pre-trained YOLOv8 model\n",
    "    \n",
    "    # Train the model\n",
    "    model.train(\n",
    "        data=yaml_path,\n",
    "        epochs=10,\n",
    "        imgsz=640,\n",
    "        batch=16,\n",
    "        name=\"pothole_detection\",\n",
    "        lr0=0.01,  # Learning rate\n",
    "        lrf=0.2,   # Learning rate final multiplier\n",
    "        momentum=0.937,\n",
    "        weight_decay=0.0005,\n",
    "        warmup_epochs=3.0,  # Gradual LR warm-up\n",
    "        warmup_momentum=0.8,\n",
    "        warmup_bias_lr=0.1,\n",
    "        save=True\n",
    "    )\n",
    "    print(\"Training completed!\")\n",
    "    \n",
    "    # Ensure the model is saved\n",
    "    if os.path.exists(saved_model_path):\n",
    "        print(f\"Model successfully saved at {saved_model_path}.\")\n",
    "    else:\n",
    "        print(\"Error: Model training completed, but the model was not saved.\")\n",
    "\n",
    "# Step 2: Perform validation\n",
    "print(\"Validating the model...\")\n",
    "try:\n",
    "    val_results = model.val(data=yaml_path)\n",
    "    print_validation_results(val_results)\n",
    "except Exception as e:\n",
    "    print(f\"Validation failed: {e}\")\n",
    "\n",
    "# Step 3: Inference on test images\n",
    "print(\"Running inference on test images...\")\n",
    "try:\n",
    "    predict_results = model.predict(source=test_images_path, save=True, imgsz=640)\n",
    "    print(f\"Inference completed. Results saved at: {predict_results[0].save_dir if predict_results else 'Unknown'}\")\n",
    "except Exception as e:\n",
    "    print(f\"Test image inference failed: {e}\")\n",
    "\n",
    "# Step 4: Inference on a single image\n",
    "print(f\"Running inference on single image: {single_image_path}\")\n",
    "try:\n",
    "    single_image_results = model.predict(source=single_image_path, save=True, imgsz=640)\n",
    "    print(f\"Detection completed. Results saved at: {single_image_results[0].save_dir if single_image_results else 'Unknown'}\")\n",
    "except Exception as e:\n",
    "    print(f\"Single image detection failed: {e}\")\n"
   ]
  },
  {
   "cell_type": "code",
   "execution_count": 7,
   "metadata": {},
   "outputs": [
    {
     "name": "stdout",
     "output_type": "stream",
     "text": [
      "Starting training...\n",
      "New https://pypi.org/project/ultralytics/8.3.61 available 😃 Update with 'pip install -U ultralytics'\n",
      "Ultralytics 8.3.58 🚀 Python-3.10.12 torch-2.5.1+cu124 CPU (12th Gen Intel Core(TM) i5-1235U)\n",
      "\u001b[34m\u001b[1mengine/trainer: \u001b[0mtask=detect, mode=train, model=yolov8n.pt, data=/home/shashank/Desktop/Mini_project /dataset/pothole detection new.v1i.yolov8/pothole.yaml, epochs=50, time=None, patience=100, batch=16, imgsz=640, save=True, save_period=-1, cache=False, device=None, workers=8, project=None, name=pothole_detection11, exist_ok=False, pretrained=True, optimizer=auto, verbose=True, seed=0, deterministic=True, single_cls=False, rect=False, cos_lr=False, close_mosaic=10, resume=False, amp=True, fraction=1.0, profile=False, freeze=None, multi_scale=False, overlap_mask=True, mask_ratio=4, dropout=0.0, val=True, split=val, save_json=False, save_hybrid=False, conf=None, iou=0.7, max_det=300, half=False, dnn=False, plots=True, source=None, vid_stride=1, stream_buffer=False, visualize=False, augment=False, agnostic_nms=False, classes=None, retina_masks=False, embed=None, show=False, save_frames=False, save_txt=False, save_conf=False, save_crop=False, show_labels=True, show_conf=True, show_boxes=True, line_width=None, format=torchscript, keras=False, optimize=False, int8=False, dynamic=False, simplify=True, opset=None, workspace=None, nms=False, lr0=0.01, lrf=0.01, momentum=0.937, weight_decay=0.0005, warmup_epochs=3.0, warmup_momentum=0.8, warmup_bias_lr=0.1, box=7.5, cls=0.5, dfl=1.5, pose=12.0, kobj=1.0, nbs=64, hsv_h=0.015, hsv_s=0.7, hsv_v=0.4, degrees=0.0, translate=0.1, scale=0.5, shear=0.0, perspective=0.0, flipud=0.0, fliplr=0.5, bgr=0.0, mosaic=1.0, mixup=0.0, copy_paste=0.0, copy_paste_mode=flip, auto_augment=randaugment, erasing=0.4, crop_fraction=1.0, cfg=None, tracker=botsort.yaml, save_dir=runs/detect/pothole_detection11\n",
      "Overriding model.yaml nc=80 with nc=1\n",
      "\n",
      "                   from  n    params  module                                       arguments                     \n",
      "  0                  -1  1       464  ultralytics.nn.modules.conv.Conv             [3, 16, 3, 2]                 \n",
      "  1                  -1  1      4672  ultralytics.nn.modules.conv.Conv             [16, 32, 3, 2]                \n",
      "  2                  -1  1      7360  ultralytics.nn.modules.block.C2f             [32, 32, 1, True]             \n",
      "  3                  -1  1     18560  ultralytics.nn.modules.conv.Conv             [32, 64, 3, 2]                \n",
      "  4                  -1  2     49664  ultralytics.nn.modules.block.C2f             [64, 64, 2, True]             \n",
      "  5                  -1  1     73984  ultralytics.nn.modules.conv.Conv             [64, 128, 3, 2]               \n",
      "  6                  -1  2    197632  ultralytics.nn.modules.block.C2f             [128, 128, 2, True]           \n",
      "  7                  -1  1    295424  ultralytics.nn.modules.conv.Conv             [128, 256, 3, 2]              \n",
      "  8                  -1  1    460288  ultralytics.nn.modules.block.C2f             [256, 256, 1, True]           \n",
      "  9                  -1  1    164608  ultralytics.nn.modules.block.SPPF            [256, 256, 5]                 \n",
      " 10                  -1  1         0  torch.nn.modules.upsampling.Upsample         [None, 2, 'nearest']          \n",
      " 11             [-1, 6]  1         0  ultralytics.nn.modules.conv.Concat           [1]                           \n",
      " 12                  -1  1    148224  ultralytics.nn.modules.block.C2f             [384, 128, 1]                 \n",
      " 13                  -1  1         0  torch.nn.modules.upsampling.Upsample         [None, 2, 'nearest']          \n",
      " 14             [-1, 4]  1         0  ultralytics.nn.modules.conv.Concat           [1]                           \n",
      " 15                  -1  1     37248  ultralytics.nn.modules.block.C2f             [192, 64, 1]                  \n",
      " 16                  -1  1     36992  ultralytics.nn.modules.conv.Conv             [64, 64, 3, 2]                \n",
      " 17            [-1, 12]  1         0  ultralytics.nn.modules.conv.Concat           [1]                           \n",
      " 18                  -1  1    123648  ultralytics.nn.modules.block.C2f             [192, 128, 1]                 \n",
      " 19                  -1  1    147712  ultralytics.nn.modules.conv.Conv             [128, 128, 3, 2]              \n",
      " 20             [-1, 9]  1         0  ultralytics.nn.modules.conv.Concat           [1]                           \n",
      " 21                  -1  1    493056  ultralytics.nn.modules.block.C2f             [384, 256, 1]                 \n",
      " 22        [15, 18, 21]  1    751507  ultralytics.nn.modules.head.Detect           [1, [64, 128, 256]]           \n",
      "Model summary: 225 layers, 3,011,043 parameters, 3,011,027 gradients, 8.2 GFLOPs\n",
      "\n",
      "Transferred 319/355 items from pretrained weights\n",
      "\u001b[34m\u001b[1mTensorBoard: \u001b[0mStart with 'tensorboard --logdir runs/detect/pothole_detection11', view at http://localhost:6006/\n",
      "Freezing layer 'model.22.dfl.conv.weight'\n"
     ]
    },
    {
     "name": "stderr",
     "output_type": "stream",
     "text": [
      "\u001b[34m\u001b[1mtrain: \u001b[0mScanning /home/shashank/Desktop/Mini_project /dataset/pothole detection new.v1i.yolov8/train/labels.cache... 372 images, 0 backgrounds, 0 corrupt: 100%|██████████| 372/372 [00:00<?, ?it/s]\n",
      "\u001b[34m\u001b[1mval: \u001b[0mScanning /home/shashank/Desktop/Mini_project /dataset/pothole detection new.v1i.yolov8/test/labels.cache... 55 images, 0 backgrounds, 0 corrupt: 100%|██████████| 55/55 [00:00<?, ?it/s]"
     ]
    },
    {
     "name": "stdout",
     "output_type": "stream",
     "text": [
      "Plotting labels to runs/detect/pothole_detection11/labels.jpg... \n"
     ]
    },
    {
     "name": "stderr",
     "output_type": "stream",
     "text": [
      "\n"
     ]
    },
    {
     "name": "stdout",
     "output_type": "stream",
     "text": [
      "\u001b[34m\u001b[1moptimizer:\u001b[0m 'optimizer=auto' found, ignoring 'lr0=0.01' and 'momentum=0.937' and determining best 'optimizer', 'lr0' and 'momentum' automatically... \n",
      "\u001b[34m\u001b[1moptimizer:\u001b[0m AdamW(lr=0.002, momentum=0.9) with parameter groups 57 weight(decay=0.0), 64 weight(decay=0.0005), 63 bias(decay=0.0)\n",
      "\u001b[34m\u001b[1mTensorBoard: \u001b[0mmodel graph visualization added ✅\n",
      "Image sizes 640 train, 640 val\n",
      "Using 0 dataloader workers\n",
      "Logging results to \u001b[1mruns/detect/pothole_detection11\u001b[0m\n",
      "Starting training for 50 epochs...\n",
      "\n",
      "      Epoch    GPU_mem   box_loss   cls_loss   dfl_loss  Instances       Size\n"
     ]
    },
    {
     "name": "stderr",
     "output_type": "stream",
     "text": [
      "       1/50         0G      1.395      2.697      1.343         34        640: 100%|██████████| 24/24 [01:25<00:00,  3.57s/it]\n",
      "                 Class     Images  Instances      Box(P          R      mAP50  mAP50-95): 100%|██████████| 2/2 [00:05<00:00,  2.67s/it]"
     ]
    },
    {
     "name": "stdout",
     "output_type": "stream",
     "text": [
      "                   all         55        193     0.0102       0.87       0.26      0.129\n"
     ]
    },
    {
     "name": "stderr",
     "output_type": "stream",
     "text": [
      "\n"
     ]
    },
    {
     "name": "stdout",
     "output_type": "stream",
     "text": [
      "\n",
      "      Epoch    GPU_mem   box_loss   cls_loss   dfl_loss  Instances       Size\n"
     ]
    },
    {
     "name": "stderr",
     "output_type": "stream",
     "text": [
      "       2/50         0G      1.178       1.76      1.236         14        640: 100%|██████████| 24/24 [01:28<00:00,  3.71s/it]\n",
      "                 Class     Images  Instances      Box(P          R      mAP50  mAP50-95): 100%|██████████| 2/2 [00:05<00:00,  2.58s/it]"
     ]
    },
    {
     "name": "stdout",
     "output_type": "stream",
     "text": [
      "                   all         55        193    0.00727      0.622     0.0909     0.0409\n"
     ]
    },
    {
     "name": "stderr",
     "output_type": "stream",
     "text": [
      "\n"
     ]
    },
    {
     "name": "stdout",
     "output_type": "stream",
     "text": [
      "\n",
      "      Epoch    GPU_mem   box_loss   cls_loss   dfl_loss  Instances       Size\n"
     ]
    },
    {
     "name": "stderr",
     "output_type": "stream",
     "text": [
      "       3/50         0G      1.158      1.547      1.198         39        640: 100%|██████████| 24/24 [01:28<00:00,  3.69s/it]\n",
      "                 Class     Images  Instances      Box(P          R      mAP50  mAP50-95): 100%|██████████| 2/2 [00:05<00:00,  2.55s/it]"
     ]
    },
    {
     "name": "stdout",
     "output_type": "stream",
     "text": [
      "                   all         55        193      0.409      0.192      0.182      0.105\n"
     ]
    },
    {
     "name": "stderr",
     "output_type": "stream",
     "text": [
      "\n"
     ]
    },
    {
     "name": "stdout",
     "output_type": "stream",
     "text": [
      "\n",
      "      Epoch    GPU_mem   box_loss   cls_loss   dfl_loss  Instances       Size\n"
     ]
    },
    {
     "name": "stderr",
     "output_type": "stream",
     "text": [
      "       4/50         0G       1.24       1.62      1.282         11        640: 100%|██████████| 24/24 [01:28<00:00,  3.68s/it]\n",
      "                 Class     Images  Instances      Box(P          R      mAP50  mAP50-95): 100%|██████████| 2/2 [00:05<00:00,  2.57s/it]"
     ]
    },
    {
     "name": "stdout",
     "output_type": "stream",
     "text": [
      "                   all         55        193      0.239      0.269      0.156      0.085\n"
     ]
    },
    {
     "name": "stderr",
     "output_type": "stream",
     "text": [
      "\n"
     ]
    },
    {
     "name": "stdout",
     "output_type": "stream",
     "text": [
      "\n",
      "      Epoch    GPU_mem   box_loss   cls_loss   dfl_loss  Instances       Size\n"
     ]
    },
    {
     "name": "stderr",
     "output_type": "stream",
     "text": [
      "       5/50         0G      1.275      1.612      1.294         12        640: 100%|██████████| 24/24 [01:28<00:00,  3.70s/it]\n",
      "                 Class     Images  Instances      Box(P          R      mAP50  mAP50-95): 100%|██████████| 2/2 [00:05<00:00,  2.65s/it]"
     ]
    },
    {
     "name": "stdout",
     "output_type": "stream",
     "text": [
      "                   all         55        193      0.535      0.286      0.347      0.217\n"
     ]
    },
    {
     "name": "stderr",
     "output_type": "stream",
     "text": [
      "\n"
     ]
    },
    {
     "name": "stdout",
     "output_type": "stream",
     "text": [
      "\n",
      "      Epoch    GPU_mem   box_loss   cls_loss   dfl_loss  Instances       Size\n"
     ]
    },
    {
     "name": "stderr",
     "output_type": "stream",
     "text": [
      "       6/50         0G      1.228      1.443      1.249         20        640: 100%|██████████| 24/24 [01:28<00:00,  3.70s/it]\n",
      "                 Class     Images  Instances      Box(P          R      mAP50  mAP50-95): 100%|██████████| 2/2 [00:05<00:00,  2.52s/it]"
     ]
    },
    {
     "name": "stdout",
     "output_type": "stream",
     "text": [
      "                   all         55        193      0.437      0.306      0.308      0.165\n"
     ]
    },
    {
     "name": "stderr",
     "output_type": "stream",
     "text": [
      "\n"
     ]
    },
    {
     "name": "stdout",
     "output_type": "stream",
     "text": [
      "\n",
      "      Epoch    GPU_mem   box_loss   cls_loss   dfl_loss  Instances       Size\n"
     ]
    },
    {
     "name": "stderr",
     "output_type": "stream",
     "text": [
      "       7/50         0G      1.244       1.46      1.267         15        640: 100%|██████████| 24/24 [01:28<00:00,  3.68s/it]\n",
      "                 Class     Images  Instances      Box(P          R      mAP50  mAP50-95): 100%|██████████| 2/2 [00:05<00:00,  2.64s/it]"
     ]
    },
    {
     "name": "stdout",
     "output_type": "stream",
     "text": [
      "                   all         55        193      0.476      0.544      0.457      0.275\n"
     ]
    },
    {
     "name": "stderr",
     "output_type": "stream",
     "text": [
      "\n"
     ]
    },
    {
     "name": "stdout",
     "output_type": "stream",
     "text": [
      "\n",
      "      Epoch    GPU_mem   box_loss   cls_loss   dfl_loss  Instances       Size\n"
     ]
    },
    {
     "name": "stderr",
     "output_type": "stream",
     "text": [
      "       8/50         0G      1.234      1.409      1.279          8        640: 100%|██████████| 24/24 [01:30<00:00,  3.78s/it]\n",
      "                 Class     Images  Instances      Box(P          R      mAP50  mAP50-95): 100%|██████████| 2/2 [00:05<00:00,  2.67s/it]"
     ]
    },
    {
     "name": "stdout",
     "output_type": "stream",
     "text": [
      "                   all         55        193      0.604      0.538      0.575      0.347\n"
     ]
    },
    {
     "name": "stderr",
     "output_type": "stream",
     "text": [
      "\n"
     ]
    },
    {
     "name": "stdout",
     "output_type": "stream",
     "text": [
      "\n",
      "      Epoch    GPU_mem   box_loss   cls_loss   dfl_loss  Instances       Size\n"
     ]
    },
    {
     "name": "stderr",
     "output_type": "stream",
     "text": [
      "       9/50         0G       1.14       1.27      1.218         17        640: 100%|██████████| 24/24 [01:31<00:00,  3.81s/it]\n",
      "                 Class     Images  Instances      Box(P          R      mAP50  mAP50-95): 100%|██████████| 2/2 [00:05<00:00,  2.74s/it]"
     ]
    },
    {
     "name": "stdout",
     "output_type": "stream",
     "text": [
      "                   all         55        193      0.617      0.651      0.628       0.41\n"
     ]
    },
    {
     "name": "stderr",
     "output_type": "stream",
     "text": [
      "\n"
     ]
    },
    {
     "name": "stdout",
     "output_type": "stream",
     "text": [
      "\n",
      "      Epoch    GPU_mem   box_loss   cls_loss   dfl_loss  Instances       Size\n"
     ]
    },
    {
     "name": "stderr",
     "output_type": "stream",
     "text": [
      "      10/50         0G      1.179      1.329      1.227         20        640: 100%|██████████| 24/24 [01:31<00:00,  3.81s/it]\n",
      "                 Class     Images  Instances      Box(P          R      mAP50  mAP50-95): 100%|██████████| 2/2 [00:05<00:00,  2.62s/it]"
     ]
    },
    {
     "name": "stdout",
     "output_type": "stream",
     "text": [
      "                   all         55        193      0.612       0.58      0.611      0.408\n"
     ]
    },
    {
     "name": "stderr",
     "output_type": "stream",
     "text": [
      "\n"
     ]
    },
    {
     "name": "stdout",
     "output_type": "stream",
     "text": [
      "\n",
      "      Epoch    GPU_mem   box_loss   cls_loss   dfl_loss  Instances       Size\n"
     ]
    },
    {
     "name": "stderr",
     "output_type": "stream",
     "text": [
      "      11/50         0G       1.14      1.236      1.182         17        640: 100%|██████████| 24/24 [01:31<00:00,  3.80s/it]\n",
      "                 Class     Images  Instances      Box(P          R      mAP50  mAP50-95): 100%|██████████| 2/2 [00:05<00:00,  2.68s/it]"
     ]
    },
    {
     "name": "stdout",
     "output_type": "stream",
     "text": [
      "                   all         55        193      0.682      0.634      0.626      0.418\n"
     ]
    },
    {
     "name": "stderr",
     "output_type": "stream",
     "text": [
      "\n"
     ]
    },
    {
     "name": "stdout",
     "output_type": "stream",
     "text": [
      "\n",
      "      Epoch    GPU_mem   box_loss   cls_loss   dfl_loss  Instances       Size\n"
     ]
    },
    {
     "name": "stderr",
     "output_type": "stream",
     "text": [
      "      12/50         0G      1.129       1.22      1.199         31        640: 100%|██████████| 24/24 [01:29<00:00,  3.75s/it]\n",
      "                 Class     Images  Instances      Box(P          R      mAP50  mAP50-95): 100%|██████████| 2/2 [00:05<00:00,  2.55s/it]"
     ]
    },
    {
     "name": "stdout",
     "output_type": "stream",
     "text": [
      "                   all         55        193      0.717      0.629       0.71      0.479\n"
     ]
    },
    {
     "name": "stderr",
     "output_type": "stream",
     "text": [
      "\n"
     ]
    },
    {
     "name": "stdout",
     "output_type": "stream",
     "text": [
      "\n",
      "      Epoch    GPU_mem   box_loss   cls_loss   dfl_loss  Instances       Size\n"
     ]
    },
    {
     "name": "stderr",
     "output_type": "stream",
     "text": [
      "      13/50         0G      1.123      1.164      1.178         26        640: 100%|██████████| 24/24 [01:30<00:00,  3.76s/it]\n",
      "                 Class     Images  Instances      Box(P          R      mAP50  mAP50-95): 100%|██████████| 2/2 [00:05<00:00,  2.62s/it]"
     ]
    },
    {
     "name": "stdout",
     "output_type": "stream",
     "text": [
      "                   all         55        193      0.705      0.585      0.658      0.409\n"
     ]
    },
    {
     "name": "stderr",
     "output_type": "stream",
     "text": [
      "\n"
     ]
    },
    {
     "name": "stdout",
     "output_type": "stream",
     "text": [
      "\n",
      "      Epoch    GPU_mem   box_loss   cls_loss   dfl_loss  Instances       Size\n"
     ]
    },
    {
     "name": "stderr",
     "output_type": "stream",
     "text": [
      "      14/50         0G      1.086      1.122      1.166         15        640: 100%|██████████| 24/24 [01:27<00:00,  3.65s/it]\n",
      "                 Class     Images  Instances      Box(P          R      mAP50  mAP50-95): 100%|██████████| 2/2 [00:05<00:00,  2.54s/it]"
     ]
    },
    {
     "name": "stdout",
     "output_type": "stream",
     "text": [
      "                   all         55        193      0.697      0.611       0.67      0.449\n"
     ]
    },
    {
     "name": "stderr",
     "output_type": "stream",
     "text": [
      "\n"
     ]
    },
    {
     "name": "stdout",
     "output_type": "stream",
     "text": [
      "\n",
      "      Epoch    GPU_mem   box_loss   cls_loss   dfl_loss  Instances       Size\n"
     ]
    },
    {
     "name": "stderr",
     "output_type": "stream",
     "text": [
      "      15/50         0G      1.018      1.021      1.108         28        640: 100%|██████████| 24/24 [01:27<00:00,  3.63s/it]\n",
      "                 Class     Images  Instances      Box(P          R      mAP50  mAP50-95): 100%|██████████| 2/2 [00:04<00:00,  2.48s/it]"
     ]
    },
    {
     "name": "stdout",
     "output_type": "stream",
     "text": [
      "                   all         55        193      0.673      0.745      0.745      0.483\n"
     ]
    },
    {
     "name": "stderr",
     "output_type": "stream",
     "text": [
      "\n"
     ]
    },
    {
     "name": "stdout",
     "output_type": "stream",
     "text": [
      "\n",
      "      Epoch    GPU_mem   box_loss   cls_loss   dfl_loss  Instances       Size\n"
     ]
    },
    {
     "name": "stderr",
     "output_type": "stream",
     "text": [
      "      16/50         0G      1.015      1.016       1.12         25        640: 100%|██████████| 24/24 [01:26<00:00,  3.62s/it]\n",
      "                 Class     Images  Instances      Box(P          R      mAP50  mAP50-95): 100%|██████████| 2/2 [00:04<00:00,  2.46s/it]"
     ]
    },
    {
     "name": "stdout",
     "output_type": "stream",
     "text": [
      "                   all         55        193       0.74      0.677      0.732      0.499\n"
     ]
    },
    {
     "name": "stderr",
     "output_type": "stream",
     "text": [
      "\n"
     ]
    },
    {
     "name": "stdout",
     "output_type": "stream",
     "text": [
      "\n",
      "      Epoch    GPU_mem   box_loss   cls_loss   dfl_loss  Instances       Size\n"
     ]
    },
    {
     "name": "stderr",
     "output_type": "stream",
     "text": [
      "      17/50         0G       1.06      1.095      1.163          9        640: 100%|██████████| 24/24 [01:27<00:00,  3.65s/it]\n",
      "                 Class     Images  Instances      Box(P          R      mAP50  mAP50-95): 100%|██████████| 2/2 [00:04<00:00,  2.45s/it]"
     ]
    },
    {
     "name": "stdout",
     "output_type": "stream",
     "text": [
      "                   all         55        193      0.647       0.71      0.704      0.483\n"
     ]
    },
    {
     "name": "stderr",
     "output_type": "stream",
     "text": [
      "\n"
     ]
    },
    {
     "name": "stdout",
     "output_type": "stream",
     "text": [
      "\n",
      "      Epoch    GPU_mem   box_loss   cls_loss   dfl_loss  Instances       Size\n"
     ]
    },
    {
     "name": "stderr",
     "output_type": "stream",
     "text": [
      "      18/50         0G       1.02      1.041       1.13          6        640: 100%|██████████| 24/24 [01:25<00:00,  3.58s/it]\n",
      "                 Class     Images  Instances      Box(P          R      mAP50  mAP50-95): 100%|██████████| 2/2 [00:04<00:00,  2.47s/it]"
     ]
    },
    {
     "name": "stdout",
     "output_type": "stream",
     "text": [
      "                   all         55        193      0.741      0.648      0.744      0.526\n"
     ]
    },
    {
     "name": "stderr",
     "output_type": "stream",
     "text": [
      "\n"
     ]
    },
    {
     "name": "stdout",
     "output_type": "stream",
     "text": [
      "\n",
      "      Epoch    GPU_mem   box_loss   cls_loss   dfl_loss  Instances       Size\n"
     ]
    },
    {
     "name": "stderr",
     "output_type": "stream",
     "text": [
      "      19/50         0G      1.026      1.014       1.13         30        640: 100%|██████████| 24/24 [01:25<00:00,  3.58s/it]\n",
      "                 Class     Images  Instances      Box(P          R      mAP50  mAP50-95): 100%|██████████| 2/2 [00:04<00:00,  2.45s/it]"
     ]
    },
    {
     "name": "stdout",
     "output_type": "stream",
     "text": [
      "                   all         55        193      0.721      0.731      0.772      0.536\n"
     ]
    },
    {
     "name": "stderr",
     "output_type": "stream",
     "text": [
      "\n"
     ]
    },
    {
     "name": "stdout",
     "output_type": "stream",
     "text": [
      "\n",
      "      Epoch    GPU_mem   box_loss   cls_loss   dfl_loss  Instances       Size\n"
     ]
    },
    {
     "name": "stderr",
     "output_type": "stream",
     "text": [
      "      20/50         0G     0.9849     0.9947       1.11         57        640: 100%|██████████| 24/24 [01:25<00:00,  3.54s/it]\n",
      "                 Class     Images  Instances      Box(P          R      mAP50  mAP50-95): 100%|██████████| 2/2 [00:04<00:00,  2.43s/it]"
     ]
    },
    {
     "name": "stdout",
     "output_type": "stream",
     "text": [
      "                   all         55        193      0.659      0.684      0.735      0.526\n"
     ]
    },
    {
     "name": "stderr",
     "output_type": "stream",
     "text": [
      "\n"
     ]
    },
    {
     "name": "stdout",
     "output_type": "stream",
     "text": [
      "\n",
      "      Epoch    GPU_mem   box_loss   cls_loss   dfl_loss  Instances       Size\n"
     ]
    },
    {
     "name": "stderr",
     "output_type": "stream",
     "text": [
      "      21/50         0G      1.027      1.024      1.129         30        640: 100%|██████████| 24/24 [01:24<00:00,  3.53s/it]\n",
      "                 Class     Images  Instances      Box(P          R      mAP50  mAP50-95): 100%|██████████| 2/2 [00:04<00:00,  2.40s/it]"
     ]
    },
    {
     "name": "stdout",
     "output_type": "stream",
     "text": [
      "                   all         55        193      0.792      0.746      0.795      0.527\n"
     ]
    },
    {
     "name": "stderr",
     "output_type": "stream",
     "text": [
      "\n"
     ]
    },
    {
     "name": "stdout",
     "output_type": "stream",
     "text": [
      "\n",
      "      Epoch    GPU_mem   box_loss   cls_loss   dfl_loss  Instances       Size\n"
     ]
    },
    {
     "name": "stderr",
     "output_type": "stream",
     "text": [
      "      22/50         0G     0.9822     0.9681      1.111          9        640: 100%|██████████| 24/24 [01:24<00:00,  3.53s/it]\n",
      "                 Class     Images  Instances      Box(P          R      mAP50  mAP50-95): 100%|██████████| 2/2 [00:04<00:00,  2.43s/it]"
     ]
    },
    {
     "name": "stdout",
     "output_type": "stream",
     "text": [
      "                   all         55        193      0.761      0.746      0.781      0.557\n"
     ]
    },
    {
     "name": "stderr",
     "output_type": "stream",
     "text": [
      "\n"
     ]
    },
    {
     "name": "stdout",
     "output_type": "stream",
     "text": [
      "\n",
      "      Epoch    GPU_mem   box_loss   cls_loss   dfl_loss  Instances       Size\n"
     ]
    },
    {
     "name": "stderr",
     "output_type": "stream",
     "text": [
      "      23/50         0G     0.9876     0.9645      1.107         13        640: 100%|██████████| 24/24 [01:24<00:00,  3.53s/it]\n",
      "                 Class     Images  Instances      Box(P          R      mAP50  mAP50-95): 100%|██████████| 2/2 [00:04<00:00,  2.48s/it]"
     ]
    },
    {
     "name": "stdout",
     "output_type": "stream",
     "text": [
      "                   all         55        193      0.781      0.757       0.79      0.542\n"
     ]
    },
    {
     "name": "stderr",
     "output_type": "stream",
     "text": [
      "\n"
     ]
    },
    {
     "name": "stdout",
     "output_type": "stream",
     "text": [
      "\n",
      "      Epoch    GPU_mem   box_loss   cls_loss   dfl_loss  Instances       Size\n"
     ]
    },
    {
     "name": "stderr",
     "output_type": "stream",
     "text": [
      "      24/50         0G       1.01     0.9979      1.128         18        640: 100%|██████████| 24/24 [01:29<00:00,  3.72s/it]\n",
      "                 Class     Images  Instances      Box(P          R      mAP50  mAP50-95): 100%|██████████| 2/2 [00:04<00:00,  2.49s/it]"
     ]
    },
    {
     "name": "stdout",
     "output_type": "stream",
     "text": [
      "                   all         55        193      0.681      0.684      0.723       0.51\n"
     ]
    },
    {
     "name": "stderr",
     "output_type": "stream",
     "text": [
      "\n"
     ]
    },
    {
     "name": "stdout",
     "output_type": "stream",
     "text": [
      "\n",
      "      Epoch    GPU_mem   box_loss   cls_loss   dfl_loss  Instances       Size\n"
     ]
    },
    {
     "name": "stderr",
     "output_type": "stream",
     "text": [
      "      25/50         0G     0.9394     0.9183      1.093         28        640: 100%|██████████| 24/24 [01:27<00:00,  3.66s/it]\n",
      "                 Class     Images  Instances      Box(P          R      mAP50  mAP50-95): 100%|██████████| 2/2 [00:04<00:00,  2.44s/it]"
     ]
    },
    {
     "name": "stdout",
     "output_type": "stream",
     "text": [
      "                   all         55        193       0.77      0.746      0.791      0.557\n"
     ]
    },
    {
     "name": "stderr",
     "output_type": "stream",
     "text": [
      "\n"
     ]
    },
    {
     "name": "stdout",
     "output_type": "stream",
     "text": [
      "\n",
      "      Epoch    GPU_mem   box_loss   cls_loss   dfl_loss  Instances       Size\n"
     ]
    },
    {
     "name": "stderr",
     "output_type": "stream",
     "text": [
      "      26/50         0G     0.9743     0.8913      1.104         31        640: 100%|██████████| 24/24 [01:27<00:00,  3.63s/it]\n",
      "                 Class     Images  Instances      Box(P          R      mAP50  mAP50-95): 100%|██████████| 2/2 [00:04<00:00,  2.40s/it]"
     ]
    },
    {
     "name": "stdout",
     "output_type": "stream",
     "text": [
      "                   all         55        193      0.777      0.812      0.833      0.588\n"
     ]
    },
    {
     "name": "stderr",
     "output_type": "stream",
     "text": [
      "\n"
     ]
    },
    {
     "name": "stdout",
     "output_type": "stream",
     "text": [
      "\n",
      "      Epoch    GPU_mem   box_loss   cls_loss   dfl_loss  Instances       Size\n"
     ]
    },
    {
     "name": "stderr",
     "output_type": "stream",
     "text": [
      "      27/50         0G     0.9727     0.9135      1.115         23        640: 100%|██████████| 24/24 [01:27<00:00,  3.64s/it]\n",
      "                 Class     Images  Instances      Box(P          R      mAP50  mAP50-95): 100%|██████████| 2/2 [00:04<00:00,  2.48s/it]"
     ]
    },
    {
     "name": "stdout",
     "output_type": "stream",
     "text": [
      "                   all         55        193      0.771      0.793      0.827      0.601\n"
     ]
    },
    {
     "name": "stderr",
     "output_type": "stream",
     "text": [
      "\n"
     ]
    },
    {
     "name": "stdout",
     "output_type": "stream",
     "text": [
      "\n",
      "      Epoch    GPU_mem   box_loss   cls_loss   dfl_loss  Instances       Size\n"
     ]
    },
    {
     "name": "stderr",
     "output_type": "stream",
     "text": [
      "      28/50         0G     0.9346     0.9445      1.098         11        640: 100%|██████████| 24/24 [01:26<00:00,  3.62s/it]\n",
      "                 Class     Images  Instances      Box(P          R      mAP50  mAP50-95): 100%|██████████| 2/2 [00:04<00:00,  2.48s/it]"
     ]
    },
    {
     "name": "stdout",
     "output_type": "stream",
     "text": [
      "                   all         55        193       0.78      0.782      0.831      0.602\n"
     ]
    },
    {
     "name": "stderr",
     "output_type": "stream",
     "text": [
      "\n"
     ]
    },
    {
     "name": "stdout",
     "output_type": "stream",
     "text": [
      "\n",
      "      Epoch    GPU_mem   box_loss   cls_loss   dfl_loss  Instances       Size\n"
     ]
    },
    {
     "name": "stderr",
     "output_type": "stream",
     "text": [
      "      29/50         0G     0.9355     0.8867      1.093         12        640: 100%|██████████| 24/24 [01:27<00:00,  3.64s/it]\n",
      "                 Class     Images  Instances      Box(P          R      mAP50  mAP50-95): 100%|██████████| 2/2 [00:05<00:00,  2.51s/it]"
     ]
    },
    {
     "name": "stdout",
     "output_type": "stream",
     "text": [
      "                   all         55        193      0.759      0.749      0.781      0.571\n"
     ]
    },
    {
     "name": "stderr",
     "output_type": "stream",
     "text": [
      "\n"
     ]
    },
    {
     "name": "stdout",
     "output_type": "stream",
     "text": [
      "\n",
      "      Epoch    GPU_mem   box_loss   cls_loss   dfl_loss  Instances       Size\n"
     ]
    },
    {
     "name": "stderr",
     "output_type": "stream",
     "text": [
      "      30/50         0G     0.9436     0.9055      1.096         18        640: 100%|██████████| 24/24 [01:27<00:00,  3.64s/it]\n",
      "                 Class     Images  Instances      Box(P          R      mAP50  mAP50-95): 100%|██████████| 2/2 [00:04<00:00,  2.46s/it]"
     ]
    },
    {
     "name": "stdout",
     "output_type": "stream",
     "text": [
      "                   all         55        193      0.735      0.793      0.808      0.591\n"
     ]
    },
    {
     "name": "stderr",
     "output_type": "stream",
     "text": [
      "\n"
     ]
    },
    {
     "name": "stdout",
     "output_type": "stream",
     "text": [
      "\n",
      "      Epoch    GPU_mem   box_loss   cls_loss   dfl_loss  Instances       Size\n"
     ]
    },
    {
     "name": "stderr",
     "output_type": "stream",
     "text": [
      "      31/50         0G     0.9403     0.9448       1.11          7        640: 100%|██████████| 24/24 [01:27<00:00,  3.65s/it]\n",
      "                 Class     Images  Instances      Box(P          R      mAP50  mAP50-95): 100%|██████████| 2/2 [00:04<00:00,  2.43s/it]"
     ]
    },
    {
     "name": "stdout",
     "output_type": "stream",
     "text": [
      "                   all         55        193      0.818      0.767      0.849      0.618\n"
     ]
    },
    {
     "name": "stderr",
     "output_type": "stream",
     "text": [
      "\n"
     ]
    },
    {
     "name": "stdout",
     "output_type": "stream",
     "text": [
      "\n",
      "      Epoch    GPU_mem   box_loss   cls_loss   dfl_loss  Instances       Size\n"
     ]
    },
    {
     "name": "stderr",
     "output_type": "stream",
     "text": [
      "      32/50         0G     0.9122     0.8219      1.057         11        640: 100%|██████████| 24/24 [01:27<00:00,  3.63s/it]\n",
      "                 Class     Images  Instances      Box(P          R      mAP50  mAP50-95): 100%|██████████| 2/2 [00:04<00:00,  2.45s/it]"
     ]
    },
    {
     "name": "stdout",
     "output_type": "stream",
     "text": [
      "                   all         55        193      0.832       0.77      0.852      0.602\n"
     ]
    },
    {
     "name": "stderr",
     "output_type": "stream",
     "text": [
      "\n"
     ]
    },
    {
     "name": "stdout",
     "output_type": "stream",
     "text": [
      "\n",
      "      Epoch    GPU_mem   box_loss   cls_loss   dfl_loss  Instances       Size\n"
     ]
    },
    {
     "name": "stderr",
     "output_type": "stream",
     "text": [
      "      33/50         0G     0.9103      0.865      1.094         24        640: 100%|██████████| 24/24 [01:26<00:00,  3.60s/it]\n",
      "                 Class     Images  Instances      Box(P          R      mAP50  mAP50-95): 100%|██████████| 2/2 [00:04<00:00,  2.47s/it]"
     ]
    },
    {
     "name": "stdout",
     "output_type": "stream",
     "text": [
      "                   all         55        193      0.757      0.798      0.826      0.614\n"
     ]
    },
    {
     "name": "stderr",
     "output_type": "stream",
     "text": [
      "\n"
     ]
    },
    {
     "name": "stdout",
     "output_type": "stream",
     "text": [
      "\n",
      "      Epoch    GPU_mem   box_loss   cls_loss   dfl_loss  Instances       Size\n"
     ]
    },
    {
     "name": "stderr",
     "output_type": "stream",
     "text": [
      "      34/50         0G     0.8638     0.8129      1.048         32        640: 100%|██████████| 24/24 [01:27<00:00,  3.64s/it]\n",
      "                 Class     Images  Instances      Box(P          R      mAP50  mAP50-95): 100%|██████████| 2/2 [00:04<00:00,  2.49s/it]"
     ]
    },
    {
     "name": "stdout",
     "output_type": "stream",
     "text": [
      "                   all         55        193      0.779      0.808      0.812      0.616\n"
     ]
    },
    {
     "name": "stderr",
     "output_type": "stream",
     "text": [
      "\n"
     ]
    },
    {
     "name": "stdout",
     "output_type": "stream",
     "text": [
      "\n",
      "      Epoch    GPU_mem   box_loss   cls_loss   dfl_loss  Instances       Size\n"
     ]
    },
    {
     "name": "stderr",
     "output_type": "stream",
     "text": [
      "      35/50         0G     0.8886     0.8551      1.077         30        640: 100%|██████████| 24/24 [01:26<00:00,  3.60s/it]\n",
      "                 Class     Images  Instances      Box(P          R      mAP50  mAP50-95): 100%|██████████| 2/2 [00:05<00:00,  2.50s/it]"
     ]
    },
    {
     "name": "stdout",
     "output_type": "stream",
     "text": [
      "                   all         55        193      0.778      0.781      0.822      0.628\n"
     ]
    },
    {
     "name": "stderr",
     "output_type": "stream",
     "text": [
      "\n"
     ]
    },
    {
     "name": "stdout",
     "output_type": "stream",
     "text": [
      "\n",
      "      Epoch    GPU_mem   box_loss   cls_loss   dfl_loss  Instances       Size\n"
     ]
    },
    {
     "name": "stderr",
     "output_type": "stream",
     "text": [
      "      36/50         0G     0.8619     0.8089      1.052         11        640: 100%|██████████| 24/24 [01:26<00:00,  3.61s/it]\n",
      "                 Class     Images  Instances      Box(P          R      mAP50  mAP50-95): 100%|██████████| 2/2 [00:04<00:00,  2.49s/it]"
     ]
    },
    {
     "name": "stdout",
     "output_type": "stream",
     "text": [
      "                   all         55        193      0.837      0.808      0.844      0.632\n"
     ]
    },
    {
     "name": "stderr",
     "output_type": "stream",
     "text": [
      "\n"
     ]
    },
    {
     "name": "stdout",
     "output_type": "stream",
     "text": [
      "\n",
      "      Epoch    GPU_mem   box_loss   cls_loss   dfl_loss  Instances       Size\n"
     ]
    },
    {
     "name": "stderr",
     "output_type": "stream",
     "text": [
      "      37/50         0G     0.8536     0.7604      1.044         19        640: 100%|██████████| 24/24 [01:27<00:00,  3.65s/it]\n",
      "                 Class     Images  Instances      Box(P          R      mAP50  mAP50-95): 100%|██████████| 2/2 [00:04<00:00,  2.47s/it]"
     ]
    },
    {
     "name": "stdout",
     "output_type": "stream",
     "text": [
      "                   all         55        193      0.793      0.816      0.844       0.63\n"
     ]
    },
    {
     "name": "stderr",
     "output_type": "stream",
     "text": [
      "\n"
     ]
    },
    {
     "name": "stdout",
     "output_type": "stream",
     "text": [
      "\n",
      "      Epoch    GPU_mem   box_loss   cls_loss   dfl_loss  Instances       Size\n"
     ]
    },
    {
     "name": "stderr",
     "output_type": "stream",
     "text": [
      "      38/50         0G     0.8468     0.7503      1.049         22        640: 100%|██████████| 24/24 [01:27<00:00,  3.65s/it]\n",
      "                 Class     Images  Instances      Box(P          R      mAP50  mAP50-95): 100%|██████████| 2/2 [00:04<00:00,  2.49s/it]"
     ]
    },
    {
     "name": "stdout",
     "output_type": "stream",
     "text": [
      "                   all         55        193      0.819      0.767      0.849      0.632\n"
     ]
    },
    {
     "name": "stderr",
     "output_type": "stream",
     "text": [
      "\n"
     ]
    },
    {
     "name": "stdout",
     "output_type": "stream",
     "text": [
      "\n",
      "      Epoch    GPU_mem   box_loss   cls_loss   dfl_loss  Instances       Size\n"
     ]
    },
    {
     "name": "stderr",
     "output_type": "stream",
     "text": [
      "      39/50         0G     0.7894     0.7293      1.018         33        640: 100%|██████████| 24/24 [01:26<00:00,  3.62s/it]\n",
      "                 Class     Images  Instances      Box(P          R      mAP50  mAP50-95): 100%|██████████| 2/2 [00:04<00:00,  2.44s/it]"
     ]
    },
    {
     "name": "stdout",
     "output_type": "stream",
     "text": [
      "                   all         55        193      0.848      0.811      0.859      0.661\n"
     ]
    },
    {
     "name": "stderr",
     "output_type": "stream",
     "text": [
      "\n"
     ]
    },
    {
     "name": "stdout",
     "output_type": "stream",
     "text": [
      "\n",
      "      Epoch    GPU_mem   box_loss   cls_loss   dfl_loss  Instances       Size\n"
     ]
    },
    {
     "name": "stderr",
     "output_type": "stream",
     "text": [
      "      40/50         0G     0.8224     0.7369      1.036         23        640: 100%|██████████| 24/24 [01:28<00:00,  3.68s/it]\n",
      "                 Class     Images  Instances      Box(P          R      mAP50  mAP50-95): 100%|██████████| 2/2 [00:05<00:00,  2.52s/it]"
     ]
    },
    {
     "name": "stdout",
     "output_type": "stream",
     "text": [
      "                   all         55        193      0.825      0.805      0.859      0.658\n"
     ]
    },
    {
     "name": "stderr",
     "output_type": "stream",
     "text": [
      "\n"
     ]
    },
    {
     "name": "stdout",
     "output_type": "stream",
     "text": [
      "Closing dataloader mosaic\n",
      "\n",
      "      Epoch    GPU_mem   box_loss   cls_loss   dfl_loss  Instances       Size\n"
     ]
    },
    {
     "name": "stderr",
     "output_type": "stream",
     "text": [
      "      41/50         0G     0.8105     0.7676      1.028         62        640: 100%|██████████| 24/24 [01:25<00:00,  3.55s/it]\n",
      "                 Class     Images  Instances      Box(P          R      mAP50  mAP50-95): 100%|██████████| 2/2 [00:05<00:00,  2.56s/it]"
     ]
    },
    {
     "name": "stdout",
     "output_type": "stream",
     "text": [
      "                   all         55        193      0.826      0.793      0.859      0.653\n"
     ]
    },
    {
     "name": "stderr",
     "output_type": "stream",
     "text": [
      "\n"
     ]
    },
    {
     "name": "stdout",
     "output_type": "stream",
     "text": [
      "\n",
      "      Epoch    GPU_mem   box_loss   cls_loss   dfl_loss  Instances       Size\n"
     ]
    },
    {
     "name": "stderr",
     "output_type": "stream",
     "text": [
      "      42/50         0G     0.7964     0.7103      1.026         12        640: 100%|██████████| 24/24 [01:27<00:00,  3.67s/it]\n",
      "                 Class     Images  Instances      Box(P          R      mAP50  mAP50-95): 100%|██████████| 2/2 [00:04<00:00,  2.48s/it]"
     ]
    },
    {
     "name": "stdout",
     "output_type": "stream",
     "text": [
      "                   all         55        193      0.828        0.8      0.853      0.638\n"
     ]
    },
    {
     "name": "stderr",
     "output_type": "stream",
     "text": [
      "\n"
     ]
    },
    {
     "name": "stdout",
     "output_type": "stream",
     "text": [
      "\n",
      "      Epoch    GPU_mem   box_loss   cls_loss   dfl_loss  Instances       Size\n"
     ]
    },
    {
     "name": "stderr",
     "output_type": "stream",
     "text": [
      "      43/50         0G      0.785     0.7298      1.032         37        640: 100%|██████████| 24/24 [01:28<00:00,  3.70s/it]\n",
      "                 Class     Images  Instances      Box(P          R      mAP50  mAP50-95): 100%|██████████| 2/2 [00:05<00:00,  2.53s/it]"
     ]
    },
    {
     "name": "stdout",
     "output_type": "stream",
     "text": [
      "                   all         55        193      0.807      0.813      0.858      0.655\n"
     ]
    },
    {
     "name": "stderr",
     "output_type": "stream",
     "text": [
      "\n"
     ]
    },
    {
     "name": "stdout",
     "output_type": "stream",
     "text": [
      "\n",
      "      Epoch    GPU_mem   box_loss   cls_loss   dfl_loss  Instances       Size\n"
     ]
    },
    {
     "name": "stderr",
     "output_type": "stream",
     "text": [
      "      44/50         0G     0.7563     0.7384      1.019         27        640: 100%|██████████| 24/24 [01:27<00:00,  3.66s/it]\n",
      "                 Class     Images  Instances      Box(P          R      mAP50  mAP50-95): 100%|██████████| 2/2 [00:05<00:00,  2.58s/it]"
     ]
    },
    {
     "name": "stdout",
     "output_type": "stream",
     "text": [
      "                   all         55        193      0.808      0.828      0.861      0.664\n"
     ]
    },
    {
     "name": "stderr",
     "output_type": "stream",
     "text": [
      "\n"
     ]
    },
    {
     "name": "stdout",
     "output_type": "stream",
     "text": [
      "\n",
      "      Epoch    GPU_mem   box_loss   cls_loss   dfl_loss  Instances       Size\n"
     ]
    },
    {
     "name": "stderr",
     "output_type": "stream",
     "text": [
      "      45/50         0G     0.7729     0.6995      1.023         18        640: 100%|██████████| 24/24 [01:26<00:00,  3.62s/it]\n",
      "                 Class     Images  Instances      Box(P          R      mAP50  mAP50-95): 100%|██████████| 2/2 [00:05<00:00,  2.52s/it]"
     ]
    },
    {
     "name": "stdout",
     "output_type": "stream",
     "text": [
      "                   all         55        193      0.813      0.813      0.858      0.672\n"
     ]
    },
    {
     "name": "stderr",
     "output_type": "stream",
     "text": [
      "\n"
     ]
    },
    {
     "name": "stdout",
     "output_type": "stream",
     "text": [
      "\n",
      "      Epoch    GPU_mem   box_loss   cls_loss   dfl_loss  Instances       Size\n"
     ]
    },
    {
     "name": "stderr",
     "output_type": "stream",
     "text": [
      "      46/50         0G     0.7489     0.6619      0.999          4        640: 100%|██████████| 24/24 [01:27<00:00,  3.63s/it]\n",
      "                 Class     Images  Instances      Box(P          R      mAP50  mAP50-95): 100%|██████████| 2/2 [00:05<00:00,  2.55s/it]"
     ]
    },
    {
     "name": "stdout",
     "output_type": "stream",
     "text": [
      "                   all         55        193      0.828      0.826      0.866      0.672\n"
     ]
    },
    {
     "name": "stderr",
     "output_type": "stream",
     "text": [
      "\n"
     ]
    },
    {
     "name": "stdout",
     "output_type": "stream",
     "text": [
      "\n",
      "      Epoch    GPU_mem   box_loss   cls_loss   dfl_loss  Instances       Size\n"
     ]
    },
    {
     "name": "stderr",
     "output_type": "stream",
     "text": [
      "      47/50         0G     0.7379      0.677     0.9986          6        640: 100%|██████████| 24/24 [01:26<00:00,  3.62s/it]\n",
      "                 Class     Images  Instances      Box(P          R      mAP50  mAP50-95): 100%|██████████| 2/2 [00:04<00:00,  2.47s/it]"
     ]
    },
    {
     "name": "stdout",
     "output_type": "stream",
     "text": [
      "                   all         55        193      0.834      0.808      0.864      0.669\n"
     ]
    },
    {
     "name": "stderr",
     "output_type": "stream",
     "text": [
      "\n"
     ]
    },
    {
     "name": "stdout",
     "output_type": "stream",
     "text": [
      "\n",
      "      Epoch    GPU_mem   box_loss   cls_loss   dfl_loss  Instances       Size\n"
     ]
    },
    {
     "name": "stderr",
     "output_type": "stream",
     "text": [
      "      48/50         0G     0.7549     0.6738      1.005         17        640: 100%|██████████| 24/24 [01:27<00:00,  3.63s/it]\n",
      "                 Class     Images  Instances      Box(P          R      mAP50  mAP50-95): 100%|██████████| 2/2 [00:05<00:00,  2.54s/it]"
     ]
    },
    {
     "name": "stdout",
     "output_type": "stream",
     "text": [
      "                   all         55        193      0.813      0.839      0.864      0.667\n"
     ]
    },
    {
     "name": "stderr",
     "output_type": "stream",
     "text": [
      "\n"
     ]
    },
    {
     "name": "stdout",
     "output_type": "stream",
     "text": [
      "\n",
      "      Epoch    GPU_mem   box_loss   cls_loss   dfl_loss  Instances       Size\n"
     ]
    },
    {
     "name": "stderr",
     "output_type": "stream",
     "text": [
      "      49/50         0G     0.7144     0.6218     0.9795         22        640: 100%|██████████| 24/24 [01:24<00:00,  3.54s/it]\n",
      "                 Class     Images  Instances      Box(P          R      mAP50  mAP50-95): 100%|██████████| 2/2 [00:04<00:00,  2.38s/it]"
     ]
    },
    {
     "name": "stdout",
     "output_type": "stream",
     "text": [
      "                   all         55        193      0.783      0.834      0.848      0.668\n"
     ]
    },
    {
     "name": "stderr",
     "output_type": "stream",
     "text": [
      "\n"
     ]
    },
    {
     "name": "stdout",
     "output_type": "stream",
     "text": [
      "\n",
      "      Epoch    GPU_mem   box_loss   cls_loss   dfl_loss  Instances       Size\n"
     ]
    },
    {
     "name": "stderr",
     "output_type": "stream",
     "text": [
      "      50/50         0G     0.6973     0.6171     0.9778          7        640: 100%|██████████| 24/24 [01:27<00:00,  3.63s/it]\n",
      "                 Class     Images  Instances      Box(P          R      mAP50  mAP50-95): 100%|██████████| 2/2 [00:04<00:00,  2.38s/it]"
     ]
    },
    {
     "name": "stdout",
     "output_type": "stream",
     "text": [
      "                   all         55        193      0.788      0.845      0.849      0.667\n"
     ]
    },
    {
     "name": "stderr",
     "output_type": "stream",
     "text": [
      "\n"
     ]
    },
    {
     "name": "stdout",
     "output_type": "stream",
     "text": [
      "\n",
      "50 epochs completed in 1.291 hours.\n",
      "Optimizer stripped from runs/detect/pothole_detection11/weights/last.pt, 6.2MB\n",
      "Optimizer stripped from runs/detect/pothole_detection11/weights/best.pt, 6.2MB\n",
      "\n",
      "Validating runs/detect/pothole_detection11/weights/best.pt...\n",
      "Ultralytics 8.3.58 🚀 Python-3.10.12 torch-2.5.1+cu124 CPU (12th Gen Intel Core(TM) i5-1235U)\n",
      "Model summary (fused): 168 layers, 3,005,843 parameters, 0 gradients, 8.1 GFLOPs\n"
     ]
    },
    {
     "name": "stderr",
     "output_type": "stream",
     "text": [
      "                 Class     Images  Instances      Box(P          R      mAP50  mAP50-95): 100%|██████████| 2/2 [00:04<00:00,  2.09s/it]\n"
     ]
    },
    {
     "name": "stdout",
     "output_type": "stream",
     "text": [
      "                   all         55        193      0.829      0.827      0.865      0.673\n",
      "Speed: 1.0ms preprocess, 68.0ms inference, 0.0ms loss, 0.4ms postprocess per image\n",
      "Results saved to \u001b[1mruns/detect/pothole_detection11\u001b[0m\n",
      "Training completed!\n"
     ]
    }
   ],
   "source": [
    "from ultralytics import YOLO\n",
    "\n",
    "# Step 1: Define Paths\n",
    "yaml_path = \"/home/shashank/Desktop/Mini_project /dataset/pothole detection new.v1i.yolov8/pothole.yaml\"\n",
    "pretrained_model = \"yolov8n.pt\"  \n",
    "output_path = \"/home/shashank/Desktop/Mini_project /results\"  \n",
    "saved_model_path = f\"{output_path}/best_model.pt\"  \n",
    "\n",
    "# Step 2: Load YOLOv8 Model\n",
    "model = YOLO(pretrained_model)  \n",
    "\n",
    "# Step 3: Train the Model\n",
    "print(\"Starting training...\")\n",
    "model.train(\n",
    "    data=yaml_path,  \n",
    "    epochs=50,       \n",
    "    imgsz=640,      \n",
    "    batch=16,        \n",
    "    name=\"pothole_detection\"  # Custom name for the training run\n",
    ")\n",
    "print(\"Training completed!\")\n"
   ]
  },
  {
   "cell_type": "code",
   "execution_count": 2,
   "metadata": {},
   "outputs": [
    {
     "name": "stdout",
     "output_type": "stream",
     "text": [
      "Loading the trained model...\n",
      "Exporting the trained model...\n",
      "Ultralytics 8.3.58 🚀 Python-3.10.12 torch-2.5.1+cu124 CPU (12th Gen Intel Core(TM) i5-1235U)\n",
      "Model summary (fused): 168 layers, 3,005,843 parameters, 0 gradients, 8.1 GFLOPs\n",
      "\n",
      "\u001b[34m\u001b[1mPyTorch:\u001b[0m starting from '/home/shashank/Desktop/Mini_project /runs/detect/pothole_detection9/weights/best.pt' with input shape (1, 3, 640, 640) BCHW and output shape(s) (1, 5, 8400) (6.0 MB)\n",
      "\n",
      "\u001b[34m\u001b[1mTorchScript:\u001b[0m starting export with torch 2.5.1+cu124...\n",
      "\u001b[34m\u001b[1mTorchScript:\u001b[0m optimizing for mobile...\n",
      "\u001b[34m\u001b[1mTorchScript:\u001b[0m export success ✅ 2.0s, saved as '/home/shashank/Desktop/Mini_project /runs/detect/pothole_detection9/weights/best.torchscript' (11.6 MB)\n",
      "\n",
      "Export complete (2.4s)\n",
      "Results saved to \u001b[1m/home/shashank/Desktop/Mini_project /runs/detect/pothole_detection9/weights\u001b[0m\n",
      "Predict:         yolo predict task=detect model=/home/shashank/Desktop/Mini_project /runs/detect/pothole_detection9/weights/best.torchscript imgsz=640  \n",
      "Validate:        yolo val task=detect model=/home/shashank/Desktop/Mini_project /runs/detect/pothole_detection9/weights/best.torchscript imgsz=640 data=/home/shashank/Desktop/Mini_project /dataset/pothole detection new.v1i.yolov8/pothole.yaml  \n",
      "Visualize:       https://netron.app\n",
      "Trained model successfully exported at: /home/shashank/Desktop/Mini_project /runs/detect/pothole_detection9/weights/best.torchscript\n"
     ]
    }
   ],
   "source": [
    "from ultralytics import YOLO\n",
    "\n",
    "saved_model_path = \"/home/shashank/Desktop/Mini_project /runs/detect/pothole_detection9/weights/best.pt\"\n",
    "\n",
    "print(\"Loading the trained model...\")\n",
    "model = YOLO(saved_model_path)\n",
    "\n",
    "print(\"Exporting the trained model...\")\n",
    "try:\n",
    "    model_path = model.export(format=\"torchscript\", optimize=True, imgsz=640)\n",
    "    print(f\"Trained model successfully exported at: {model_path}\")\n",
    "except Exception as e:\n",
    "    print(f\"Error during model export: {e}\")\n"
   ]
  },
  {
   "cell_type": "code",
   "execution_count": 4,
   "metadata": {},
   "outputs": [
    {
     "name": "stdout",
     "output_type": "stream",
     "text": [
      "Validating the model...\n",
      "Ultralytics 8.3.58 🚀 Python-3.10.12 torch-2.5.1+cu124 CPU (12th Gen Intel Core(TM) i5-1235U)\n"
     ]
    },
    {
     "name": "stderr",
     "output_type": "stream",
     "text": [
      "\u001b[34m\u001b[1mval: \u001b[0mScanning /home/shashank/Desktop/Mini_project /dataset/pothole detection new.v1i.yolov8/test/labels.cache... 55 images, 0 backgrounds, 0 corrupt: 100%|██████████| 55/55 [00:00<?, ?it/s]\n",
      "                 Class     Images  Instances      Box(P          R      mAP50  mAP50-95): 100%|██████████| 4/4 [00:06<00:00,  1.52s/it]\n"
     ]
    },
    {
     "name": "stdout",
     "output_type": "stream",
     "text": [
      "                   all         55        193      0.788      0.855      0.863      0.674\n",
      "Speed: 2.0ms preprocess, 98.3ms inference, 0.0ms loss, 0.7ms postprocess per image\n",
      "Results saved to \u001b[1mruns/detect/val3\u001b[0m\n",
      "Validation Results: ultralytics.utils.metrics.DetMetrics object with attributes:\n",
      "\n",
      "ap_class_index: array([0])\n",
      "box: ultralytics.utils.metrics.Metric object\n",
      "confusion_matrix: <ultralytics.utils.metrics.ConfusionMatrix object at 0x77f77e9874c0>\n",
      "curves: ['Precision-Recall(B)', 'F1-Confidence(B)', 'Precision-Confidence(B)', 'Recall-Confidence(B)']\n",
      "curves_results: [[array([          0,    0.001001,    0.002002,    0.003003,    0.004004,    0.005005,    0.006006,    0.007007,    0.008008,    0.009009,     0.01001,    0.011011,    0.012012,    0.013013,    0.014014,    0.015015,    0.016016,    0.017017,    0.018018,    0.019019,     0.02002,    0.021021,    0.022022,    0.023023,\n",
      "          0.024024,    0.025025,    0.026026,    0.027027,    0.028028,    0.029029,     0.03003,    0.031031,    0.032032,    0.033033,    0.034034,    0.035035,    0.036036,    0.037037,    0.038038,    0.039039,     0.04004,    0.041041,    0.042042,    0.043043,    0.044044,    0.045045,    0.046046,    0.047047,\n",
      "          0.048048,    0.049049,     0.05005,    0.051051,    0.052052,    0.053053,    0.054054,    0.055055,    0.056056,    0.057057,    0.058058,    0.059059,     0.06006,    0.061061,    0.062062,    0.063063,    0.064064,    0.065065,    0.066066,    0.067067,    0.068068,    0.069069,     0.07007,    0.071071,\n",
      "          0.072072,    0.073073,    0.074074,    0.075075,    0.076076,    0.077077,    0.078078,    0.079079,     0.08008,    0.081081,    0.082082,    0.083083,    0.084084,    0.085085,    0.086086,    0.087087,    0.088088,    0.089089,     0.09009,    0.091091,    0.092092,    0.093093,    0.094094,    0.095095,\n",
      "          0.096096,    0.097097,    0.098098,    0.099099,      0.1001,      0.1011,      0.1021,      0.1031,      0.1041,     0.10511,     0.10611,     0.10711,     0.10811,     0.10911,     0.11011,     0.11111,     0.11211,     0.11311,     0.11411,     0.11512,     0.11612,     0.11712,     0.11812,     0.11912,\n",
      "           0.12012,     0.12112,     0.12212,     0.12312,     0.12412,     0.12513,     0.12613,     0.12713,     0.12813,     0.12913,     0.13013,     0.13113,     0.13213,     0.13313,     0.13413,     0.13514,     0.13614,     0.13714,     0.13814,     0.13914,     0.14014,     0.14114,     0.14214,     0.14314,\n",
      "           0.14414,     0.14515,     0.14615,     0.14715,     0.14815,     0.14915,     0.15015,     0.15115,     0.15215,     0.15315,     0.15415,     0.15516,     0.15616,     0.15716,     0.15816,     0.15916,     0.16016,     0.16116,     0.16216,     0.16316,     0.16416,     0.16517,     0.16617,     0.16717,\n",
      "           0.16817,     0.16917,     0.17017,     0.17117,     0.17217,     0.17317,     0.17417,     0.17518,     0.17618,     0.17718,     0.17818,     0.17918,     0.18018,     0.18118,     0.18218,     0.18318,     0.18418,     0.18519,     0.18619,     0.18719,     0.18819,     0.18919,     0.19019,     0.19119,\n",
      "           0.19219,     0.19319,     0.19419,      0.1952,      0.1962,      0.1972,      0.1982,      0.1992,      0.2002,      0.2012,      0.2022,      0.2032,      0.2042,     0.20521,     0.20621,     0.20721,     0.20821,     0.20921,     0.21021,     0.21121,     0.21221,     0.21321,     0.21421,     0.21522,\n",
      "           0.21622,     0.21722,     0.21822,     0.21922,     0.22022,     0.22122,     0.22222,     0.22322,     0.22422,     0.22523,     0.22623,     0.22723,     0.22823,     0.22923,     0.23023,     0.23123,     0.23223,     0.23323,     0.23423,     0.23524,     0.23624,     0.23724,     0.23824,     0.23924,\n",
      "           0.24024,     0.24124,     0.24224,     0.24324,     0.24424,     0.24525,     0.24625,     0.24725,     0.24825,     0.24925,     0.25025,     0.25125,     0.25225,     0.25325,     0.25425,     0.25526,     0.25626,     0.25726,     0.25826,     0.25926,     0.26026,     0.26126,     0.26226,     0.26326,\n",
      "           0.26426,     0.26527,     0.26627,     0.26727,     0.26827,     0.26927,     0.27027,     0.27127,     0.27227,     0.27327,     0.27427,     0.27528,     0.27628,     0.27728,     0.27828,     0.27928,     0.28028,     0.28128,     0.28228,     0.28328,     0.28428,     0.28529,     0.28629,     0.28729,\n",
      "           0.28829,     0.28929,     0.29029,     0.29129,     0.29229,     0.29329,     0.29429,      0.2953,      0.2963,      0.2973,      0.2983,      0.2993,      0.3003,      0.3013,      0.3023,      0.3033,      0.3043,     0.30531,     0.30631,     0.30731,     0.30831,     0.30931,     0.31031,     0.31131,\n",
      "           0.31231,     0.31331,     0.31431,     0.31532,     0.31632,     0.31732,     0.31832,     0.31932,     0.32032,     0.32132,     0.32232,     0.32332,     0.32432,     0.32533,     0.32633,     0.32733,     0.32833,     0.32933,     0.33033,     0.33133,     0.33233,     0.33333,     0.33433,     0.33534,\n",
      "           0.33634,     0.33734,     0.33834,     0.33934,     0.34034,     0.34134,     0.34234,     0.34334,     0.34434,     0.34535,     0.34635,     0.34735,     0.34835,     0.34935,     0.35035,     0.35135,     0.35235,     0.35335,     0.35435,     0.35536,     0.35636,     0.35736,     0.35836,     0.35936,\n",
      "           0.36036,     0.36136,     0.36236,     0.36336,     0.36436,     0.36537,     0.36637,     0.36737,     0.36837,     0.36937,     0.37037,     0.37137,     0.37237,     0.37337,     0.37437,     0.37538,     0.37638,     0.37738,     0.37838,     0.37938,     0.38038,     0.38138,     0.38238,     0.38338,\n",
      "           0.38438,     0.38539,     0.38639,     0.38739,     0.38839,     0.38939,     0.39039,     0.39139,     0.39239,     0.39339,     0.39439,      0.3954,      0.3964,      0.3974,      0.3984,      0.3994,      0.4004,      0.4014,      0.4024,      0.4034,      0.4044,     0.40541,     0.40641,     0.40741,\n",
      "           0.40841,     0.40941,     0.41041,     0.41141,     0.41241,     0.41341,     0.41441,     0.41542,     0.41642,     0.41742,     0.41842,     0.41942,     0.42042,     0.42142,     0.42242,     0.42342,     0.42442,     0.42543,     0.42643,     0.42743,     0.42843,     0.42943,     0.43043,     0.43143,\n",
      "           0.43243,     0.43343,     0.43443,     0.43544,     0.43644,     0.43744,     0.43844,     0.43944,     0.44044,     0.44144,     0.44244,     0.44344,     0.44444,     0.44545,     0.44645,     0.44745,     0.44845,     0.44945,     0.45045,     0.45145,     0.45245,     0.45345,     0.45445,     0.45546,\n",
      "           0.45646,     0.45746,     0.45846,     0.45946,     0.46046,     0.46146,     0.46246,     0.46346,     0.46446,     0.46547,     0.46647,     0.46747,     0.46847,     0.46947,     0.47047,     0.47147,     0.47247,     0.47347,     0.47447,     0.47548,     0.47648,     0.47748,     0.47848,     0.47948,\n",
      "           0.48048,     0.48148,     0.48248,     0.48348,     0.48448,     0.48549,     0.48649,     0.48749,     0.48849,     0.48949,     0.49049,     0.49149,     0.49249,     0.49349,     0.49449,      0.4955,      0.4965,      0.4975,      0.4985,      0.4995,      0.5005,      0.5015,      0.5025,      0.5035,\n",
      "            0.5045,     0.50551,     0.50651,     0.50751,     0.50851,     0.50951,     0.51051,     0.51151,     0.51251,     0.51351,     0.51451,     0.51552,     0.51652,     0.51752,     0.51852,     0.51952,     0.52052,     0.52152,     0.52252,     0.52352,     0.52452,     0.52553,     0.52653,     0.52753,\n",
      "           0.52853,     0.52953,     0.53053,     0.53153,     0.53253,     0.53353,     0.53453,     0.53554,     0.53654,     0.53754,     0.53854,     0.53954,     0.54054,     0.54154,     0.54254,     0.54354,     0.54454,     0.54555,     0.54655,     0.54755,     0.54855,     0.54955,     0.55055,     0.55155,\n",
      "           0.55255,     0.55355,     0.55455,     0.55556,     0.55656,     0.55756,     0.55856,     0.55956,     0.56056,     0.56156,     0.56256,     0.56356,     0.56456,     0.56557,     0.56657,     0.56757,     0.56857,     0.56957,     0.57057,     0.57157,     0.57257,     0.57357,     0.57457,     0.57558,\n",
      "           0.57658,     0.57758,     0.57858,     0.57958,     0.58058,     0.58158,     0.58258,     0.58358,     0.58458,     0.58559,     0.58659,     0.58759,     0.58859,     0.58959,     0.59059,     0.59159,     0.59259,     0.59359,     0.59459,      0.5956,      0.5966,      0.5976,      0.5986,      0.5996,\n",
      "            0.6006,      0.6016,      0.6026,      0.6036,      0.6046,     0.60561,     0.60661,     0.60761,     0.60861,     0.60961,     0.61061,     0.61161,     0.61261,     0.61361,     0.61461,     0.61562,     0.61662,     0.61762,     0.61862,     0.61962,     0.62062,     0.62162,     0.62262,     0.62362,\n",
      "           0.62462,     0.62563,     0.62663,     0.62763,     0.62863,     0.62963,     0.63063,     0.63163,     0.63263,     0.63363,     0.63463,     0.63564,     0.63664,     0.63764,     0.63864,     0.63964,     0.64064,     0.64164,     0.64264,     0.64364,     0.64464,     0.64565,     0.64665,     0.64765,\n",
      "           0.64865,     0.64965,     0.65065,     0.65165,     0.65265,     0.65365,     0.65465,     0.65566,     0.65666,     0.65766,     0.65866,     0.65966,     0.66066,     0.66166,     0.66266,     0.66366,     0.66466,     0.66567,     0.66667,     0.66767,     0.66867,     0.66967,     0.67067,     0.67167,\n",
      "           0.67267,     0.67367,     0.67467,     0.67568,     0.67668,     0.67768,     0.67868,     0.67968,     0.68068,     0.68168,     0.68268,     0.68368,     0.68468,     0.68569,     0.68669,     0.68769,     0.68869,     0.68969,     0.69069,     0.69169,     0.69269,     0.69369,     0.69469,      0.6957,\n",
      "            0.6967,      0.6977,      0.6987,      0.6997,      0.7007,      0.7017,      0.7027,      0.7037,      0.7047,     0.70571,     0.70671,     0.70771,     0.70871,     0.70971,     0.71071,     0.71171,     0.71271,     0.71371,     0.71471,     0.71572,     0.71672,     0.71772,     0.71872,     0.71972,\n",
      "           0.72072,     0.72172,     0.72272,     0.72372,     0.72472,     0.72573,     0.72673,     0.72773,     0.72873,     0.72973,     0.73073,     0.73173,     0.73273,     0.73373,     0.73473,     0.73574,     0.73674,     0.73774,     0.73874,     0.73974,     0.74074,     0.74174,     0.74274,     0.74374,\n",
      "           0.74474,     0.74575,     0.74675,     0.74775,     0.74875,     0.74975,     0.75075,     0.75175,     0.75275,     0.75375,     0.75475,     0.75576,     0.75676,     0.75776,     0.75876,     0.75976,     0.76076,     0.76176,     0.76276,     0.76376,     0.76476,     0.76577,     0.76677,     0.76777,\n",
      "           0.76877,     0.76977,     0.77077,     0.77177,     0.77277,     0.77377,     0.77477,     0.77578,     0.77678,     0.77778,     0.77878,     0.77978,     0.78078,     0.78178,     0.78278,     0.78378,     0.78478,     0.78579,     0.78679,     0.78779,     0.78879,     0.78979,     0.79079,     0.79179,\n",
      "           0.79279,     0.79379,     0.79479,      0.7958,      0.7968,      0.7978,      0.7988,      0.7998,      0.8008,      0.8018,      0.8028,      0.8038,      0.8048,     0.80581,     0.80681,     0.80781,     0.80881,     0.80981,     0.81081,     0.81181,     0.81281,     0.81381,     0.81481,     0.81582,\n",
      "           0.81682,     0.81782,     0.81882,     0.81982,     0.82082,     0.82182,     0.82282,     0.82382,     0.82482,     0.82583,     0.82683,     0.82783,     0.82883,     0.82983,     0.83083,     0.83183,     0.83283,     0.83383,     0.83483,     0.83584,     0.83684,     0.83784,     0.83884,     0.83984,\n",
      "           0.84084,     0.84184,     0.84284,     0.84384,     0.84484,     0.84585,     0.84685,     0.84785,     0.84885,     0.84985,     0.85085,     0.85185,     0.85285,     0.85385,     0.85485,     0.85586,     0.85686,     0.85786,     0.85886,     0.85986,     0.86086,     0.86186,     0.86286,     0.86386,\n",
      "           0.86486,     0.86587,     0.86687,     0.86787,     0.86887,     0.86987,     0.87087,     0.87187,     0.87287,     0.87387,     0.87487,     0.87588,     0.87688,     0.87788,     0.87888,     0.87988,     0.88088,     0.88188,     0.88288,     0.88388,     0.88488,     0.88589,     0.88689,     0.88789,\n",
      "           0.88889,     0.88989,     0.89089,     0.89189,     0.89289,     0.89389,     0.89489,      0.8959,      0.8969,      0.8979,      0.8989,      0.8999,      0.9009,      0.9019,      0.9029,      0.9039,      0.9049,     0.90591,     0.90691,     0.90791,     0.90891,     0.90991,     0.91091,     0.91191,\n",
      "           0.91291,     0.91391,     0.91491,     0.91592,     0.91692,     0.91792,     0.91892,     0.91992,     0.92092,     0.92192,     0.92292,     0.92392,     0.92492,     0.92593,     0.92693,     0.92793,     0.92893,     0.92993,     0.93093,     0.93193,     0.93293,     0.93393,     0.93493,     0.93594,\n",
      "           0.93694,     0.93794,     0.93894,     0.93994,     0.94094,     0.94194,     0.94294,     0.94394,     0.94494,     0.94595,     0.94695,     0.94795,     0.94895,     0.94995,     0.95095,     0.95195,     0.95295,     0.95395,     0.95495,     0.95596,     0.95696,     0.95796,     0.95896,     0.95996,\n",
      "           0.96096,     0.96196,     0.96296,     0.96396,     0.96496,     0.96597,     0.96697,     0.96797,     0.96897,     0.96997,     0.97097,     0.97197,     0.97297,     0.97397,     0.97497,     0.97598,     0.97698,     0.97798,     0.97898,     0.97998,     0.98098,     0.98198,     0.98298,     0.98398,\n",
      "           0.98498,     0.98599,     0.98699,     0.98799,     0.98899,     0.98999,     0.99099,     0.99199,     0.99299,     0.99399,     0.99499,       0.996,       0.997,       0.998,       0.999,           1]), array([[          1,           1,           1,           1,           1,           1,           1,           1,           1,           1,           1,           1,           1,           1,           1,           1,           1,           1,           1,           1,           1,           1,           1,\n",
      "                  1,           1,           1,           1,           1,           1,           1,           1,           1,           1,           1,           1,           1,           1,           1,           1,           1,           1,           1,           1,           1,           1,           1,\n",
      "                  1,           1,           1,           1,           1,           1,           1,           1,           1,           1,           1,           1,           1,           1,           1,           1,           1,           1,           1,           1,           1,           1,           1,\n",
      "                  1,           1,           1,           1,           1,           1,           1,           1,           1,           1,           1,           1,           1,           1,           1,           1,           1,           1,           1,           1,           1,           1,           1,\n",
      "                  1,           1,           1,           1,           1,           1,           1,           1,           1,           1,           1,           1,           1,           1,           1,           1,           1,           1,           1,           1,           1,           1,           1,\n",
      "                  1,           1,           1,           1,           1,           1,           1,           1,           1,           1,           1,           1,           1,           1,           1,           1,           1,           1,           1,           1,           1,           1,           1,\n",
      "                  1,           1,           1,           1,           1,           1,           1,           1,           1,           1,           1,           1,           1,           1,           1,           1,           1,           1,           1,           1,           1,           1,           1,\n",
      "                  1,           1,           1,           1,           1,           1,           1,           1,           1,           1,           1,           1,           1,           1,           1,           1,           1,           1,           1,           1,           1,           1,           1,\n",
      "                  1,           1,           1,           1,           1,           1,           1,           1,           1,           1,           1,           1,           1,           1,           1,           1,           1,           1,     0.98333,     0.98333,     0.98333,     0.98333,     0.98333,\n",
      "            0.98333,     0.98333,     0.98333,     0.98333,     0.98333,     0.98333,     0.98333,     0.98333,     0.98333,     0.98333,     0.98333,     0.98333,     0.98333,     0.98333,     0.98333,     0.98333,     0.98333,     0.98333,     0.98333,     0.98333,     0.98333,     0.98333,     0.98333,\n",
      "            0.98333,     0.98333,     0.98333,     0.98333,     0.98333,     0.98333,     0.98333,     0.98333,     0.98333,     0.98333,     0.98333,     0.98333,     0.98333,     0.98333,     0.98333,     0.98333,     0.98333,     0.98333,     0.98333,     0.98333,     0.98333,     0.98333,     0.98333,\n",
      "            0.98333,     0.98333,     0.98333,     0.98333,     0.98333,     0.98333,     0.98333,     0.98333,     0.98333,     0.98333,     0.98333,     0.98333,     0.98333,     0.98333,     0.98333,     0.98333,     0.98333,     0.98333,     0.98333,     0.98333,     0.98333,     0.98333,     0.98333,\n",
      "            0.98333,     0.98333,     0.98333,     0.98333,     0.98333,     0.98333,     0.98333,     0.98333,     0.98333,     0.98333,     0.98333,     0.98333,     0.98333,     0.98333,     0.98333,     0.98333,     0.98333,     0.98333,     0.98333,     0.98333,     0.98333,     0.98333,     0.98333,\n",
      "            0.98333,     0.98333,     0.98333,     0.98333,     0.98333,     0.98333,     0.98333,     0.97222,     0.97222,     0.97222,     0.97222,     0.97222,     0.97222,     0.97222,     0.97222,     0.97222,     0.97222,     0.97222,     0.97222,     0.97222,     0.97222,     0.97222,     0.97222,\n",
      "            0.97222,     0.97222,     0.97222,     0.97222,     0.97222,     0.97222,     0.97222,     0.97222,     0.97222,     0.97222,     0.97222,     0.97222,     0.97222,     0.97222,     0.97222,     0.97222,     0.97222,     0.97222,     0.97222,     0.97222,     0.97222,     0.97222,     0.97222,\n",
      "            0.97222,     0.97222,     0.97222,     0.97222,     0.97222,     0.97222,     0.97222,     0.97222,     0.97222,     0.97222,     0.97222,     0.97222,     0.97222,     0.97222,     0.97222,     0.97222,     0.97222,     0.97222,     0.96386,     0.96386,     0.96386,     0.96386,     0.96386,\n",
      "            0.96386,     0.96386,     0.96386,     0.96386,     0.96386,     0.96386,     0.96386,     0.96386,     0.96386,     0.96386,     0.96386,     0.96386,     0.96386,     0.96386,     0.96386,     0.96386,     0.96386,     0.96386,     0.96386,     0.96386,     0.96386,     0.96386,     0.96386,\n",
      "            0.96386,     0.96386,     0.96386,     0.96386,     0.96386,     0.96386,     0.96386,     0.96386,     0.96386,     0.96386,     0.96386,     0.96386,     0.96386,     0.96386,     0.96386,     0.96386,     0.96386,     0.96386,     0.96386,     0.96386,     0.96386,     0.96386,     0.96386,\n",
      "            0.96386,     0.95402,     0.95402,     0.95402,     0.95402,     0.95402,     0.95402,     0.95402,     0.95402,     0.95402,     0.95402,     0.95402,     0.95402,     0.95402,     0.95402,     0.95402,     0.94737,     0.94737,     0.94737,     0.94737,     0.94737,     0.94737,     0.94737,\n",
      "            0.94737,     0.94737,     0.94737,     0.94737,     0.94737,     0.94737,     0.94737,     0.94737,     0.94737,     0.94737,     0.94737,     0.94737,     0.94737,     0.94737,     0.94737,     0.94737,     0.94737,     0.94737,     0.94737,     0.94737,     0.94737,     0.94737,     0.94737,\n",
      "            0.94737,     0.94737,     0.94737,     0.94737,     0.94737,     0.94737,     0.94595,     0.94595,     0.94595,     0.94595,     0.94595,     0.94595,     0.94595,     0.94595,     0.94595,     0.94595,     0.94595,     0.94595,     0.94595,     0.94595,     0.94595,     0.94595,     0.94595,\n",
      "            0.94595,     0.94595,     0.94595,     0.94595,     0.94595,     0.94595,     0.94595,     0.94595,     0.94595,     0.94595,     0.94595,     0.94595,     0.94595,     0.94595,     0.94595,     0.94595,     0.94595,     0.94595,     0.94595,     0.94595,     0.94595,     0.94595,     0.94595,\n",
      "            0.94595,     0.94595,     0.94595,     0.94595,     0.94595,     0.94595,     0.94595,     0.94595,     0.94595,     0.94595,     0.94595,     0.94595,     0.94595,     0.94595,     0.94595,     0.94595,     0.94595,     0.94595,     0.94595,     0.94595,     0.94595,     0.94595,     0.94595,\n",
      "            0.94595,     0.94595,     0.94595,     0.94595,     0.94595,     0.94595,     0.94595,     0.94595,     0.94595,     0.94595,     0.94595,     0.94595,     0.94595,     0.94595,     0.94595,     0.93966,     0.93966,     0.93966,     0.93966,     0.93966,     0.93966,     0.93966,     0.93966,\n",
      "            0.93966,     0.93966,     0.93966,     0.93966,     0.93966,     0.93966,     0.93966,     0.93966,     0.93966,     0.93966,     0.93966,     0.93966,     0.93966,     0.93277,     0.93277,     0.93277,     0.93277,     0.93277,     0.93277,     0.93277,     0.93277,     0.93277,     0.93277,\n",
      "            0.92969,     0.92969,     0.92969,     0.92969,     0.92969,     0.92969,     0.92969,     0.92969,     0.92969,     0.92969,     0.92969,     0.92969,     0.92969,     0.92969,     0.92969,     0.92969,     0.92969,     0.92969,     0.92969,     0.92969,     0.92969,     0.92969,     0.92969,\n",
      "            0.92969,     0.92969,     0.92969,     0.92969,     0.92969,     0.92969,     0.92969,     0.92969,     0.92969,     0.92969,     0.92969,     0.92969,     0.92969,     0.92969,     0.92969,     0.92969,     0.92969,     0.92969,     0.92481,     0.92481,     0.92481,     0.92481,     0.92481,\n",
      "            0.92481,     0.92481,     0.92481,     0.92481,     0.92481,     0.92481,     0.92481,     0.92481,     0.92481,     0.92481,     0.92481,     0.92481,     0.92481,     0.92481,     0.92481,     0.92481,     0.92199,     0.92199,     0.92199,     0.92199,     0.92199,     0.92199,     0.92199,\n",
      "            0.92199,     0.92199,     0.92199,     0.92199,     0.92199,     0.92199,     0.92199,     0.92199,     0.92199,     0.92199,     0.92199,     0.92199,     0.92199,     0.92199,     0.92199,     0.92199,     0.92199,     0.92199,     0.92199,     0.92199,     0.92199,     0.92199,     0.92199,\n",
      "            0.92199,     0.92199,     0.92199,     0.92199,     0.92199,     0.92199,     0.91608,     0.91608,     0.91608,     0.91608,     0.91608,     0.91608,     0.91275,     0.91275,     0.91275,     0.91275,     0.91275,     0.91275,     0.91275,     0.91275,     0.91275,     0.91275,     0.91275,\n",
      "            0.91275,     0.91275,     0.91275,     0.91275,     0.91275,     0.91275,     0.91275,     0.91275,     0.91275,     0.91275,     0.91275,     0.91275,     0.91275,     0.91275,      0.9085,      0.9085,      0.9085,      0.9085,      0.9085,      0.9085,      0.9085,      0.9085,      0.9085,\n",
      "             0.9085,      0.9085,      0.9085,      0.9085,      0.9085,      0.9085,      0.9085,     0.89172,     0.89172,     0.89172,     0.89172,     0.89172,     0.88125,     0.88125,     0.88125,     0.88125,     0.88125,     0.87654,     0.87654,     0.87654,     0.87654,     0.87654,     0.87654,\n",
      "            0.87195,     0.87195,     0.87195,     0.87195,     0.87195,     0.86747,     0.86747,     0.86747,     0.86747,     0.86747,     0.84884,     0.84884,     0.84884,     0.84884,     0.84884,     0.84884,     0.84884,     0.84884,     0.84884,     0.84884,     0.84571,     0.84571,     0.84571,\n",
      "            0.84571,     0.84571,     0.84571,     0.84571,     0.84571,     0.84571,     0.84571,     0.84571,     0.84444,     0.84444,     0.84444,     0.84444,     0.84444,     0.84444,     0.84444,     0.84444,     0.84444,     0.84444,     0.84444,     0.84444,     0.84444,     0.84444,     0.84444,\n",
      "            0.84444,     0.84444,     0.84444,     0.84444,     0.84444,     0.83607,     0.83607,     0.83607,     0.83607,     0.83607,     0.83243,     0.83243,     0.83243,     0.83243,     0.83243,     0.83243,     0.82888,     0.82888,     0.82888,     0.82888,     0.82888,      0.8254,      0.8254,\n",
      "             0.8254,      0.8254,      0.8254,     0.82199,     0.82199,     0.82199,     0.82199,     0.82199,     0.81026,     0.81026,     0.81026,     0.81026,     0.81026,     0.80808,     0.80808,     0.80808,     0.80808,     0.80808,     0.80808,     0.80808,     0.80808,     0.80808,     0.80808,\n",
      "            0.80808,     0.79512,     0.79512,     0.79512,     0.79512,     0.79512,     0.79512,     0.79512,     0.79512,     0.79512,     0.79512,     0.79512,     0.79512,     0.79512,     0.79512,     0.79512,     0.79327,     0.79327,     0.79327,     0.79327,     0.79327,     0.79327,     0.79327,\n",
      "            0.79327,     0.79327,     0.79327,     0.79327,     0.78302,     0.78302,     0.78302,     0.78302,     0.78302,     0.78037,     0.78037,     0.78037,     0.78037,     0.78037,     0.77778,     0.77778,     0.77778,     0.77778,     0.77778,     0.77523,     0.77523,     0.77523,     0.77523,\n",
      "            0.77523,     0.76923,     0.76923,     0.76923,     0.76923,     0.76923,        0.75,        0.75,        0.75,        0.75,        0.75,        0.75,     0.71967,     0.71967,     0.71967,     0.71967,     0.71967,     0.65038,     0.65038,     0.65038,     0.65038,     0.65038,     0.64925,\n",
      "            0.64925,     0.64925,     0.64925,     0.64925,     0.62724,     0.62724,     0.62724,     0.62724,     0.62724,     0.58086,     0.58086,     0.58086,     0.58086,     0.58086,     0.58086,     0.54128,     0.54128,     0.54128,     0.54128,     0.54128,     0.51003,     0.51003,     0.51003,\n",
      "            0.51003,     0.51003,     0.44638,     0.44638,     0.44638,     0.44638,     0.44638,      0.3913,      0.3913,      0.3913,      0.3913,      0.3913,     0.32149,     0.32149,     0.32149,     0.32149,     0.32149,     0.17878,     0.17878,     0.17878,     0.17878,     0.17878,     0.17878,\n",
      "            0.14782,     0.14782,     0.14782,     0.14782,     0.14782,      0.1036,      0.1036,      0.1036,      0.1036,      0.1036,      0.0586,      0.0586,      0.0586,      0.0586,      0.0586,    0.056343,    0.054969,    0.053595,     0.05222,    0.050846,    0.049472,    0.048098,    0.046724,\n",
      "           0.045349,    0.043975,    0.042601,    0.041227,    0.039852,    0.038478,    0.037104,     0.03573,    0.034356,    0.032981,    0.031607,    0.030233,    0.028859,    0.027484,     0.02611,    0.024736,    0.023362,    0.021988,    0.020613,    0.019239,    0.017865,    0.016491,    0.015116,\n",
      "           0.013742,    0.012368,    0.010994,   0.0096195,   0.0082453,   0.0068711,   0.0054969,   0.0041227,   0.0027484,   0.0013742,           0]]), 'Recall', 'Precision'], [array([          0,    0.001001,    0.002002,    0.003003,    0.004004,    0.005005,    0.006006,    0.007007,    0.008008,    0.009009,     0.01001,    0.011011,    0.012012,    0.013013,    0.014014,    0.015015,    0.016016,    0.017017,    0.018018,    0.019019,     0.02002,    0.021021,    0.022022,    0.023023,\n",
      "          0.024024,    0.025025,    0.026026,    0.027027,    0.028028,    0.029029,     0.03003,    0.031031,    0.032032,    0.033033,    0.034034,    0.035035,    0.036036,    0.037037,    0.038038,    0.039039,     0.04004,    0.041041,    0.042042,    0.043043,    0.044044,    0.045045,    0.046046,    0.047047,\n",
      "          0.048048,    0.049049,     0.05005,    0.051051,    0.052052,    0.053053,    0.054054,    0.055055,    0.056056,    0.057057,    0.058058,    0.059059,     0.06006,    0.061061,    0.062062,    0.063063,    0.064064,    0.065065,    0.066066,    0.067067,    0.068068,    0.069069,     0.07007,    0.071071,\n",
      "          0.072072,    0.073073,    0.074074,    0.075075,    0.076076,    0.077077,    0.078078,    0.079079,     0.08008,    0.081081,    0.082082,    0.083083,    0.084084,    0.085085,    0.086086,    0.087087,    0.088088,    0.089089,     0.09009,    0.091091,    0.092092,    0.093093,    0.094094,    0.095095,\n",
      "          0.096096,    0.097097,    0.098098,    0.099099,      0.1001,      0.1011,      0.1021,      0.1031,      0.1041,     0.10511,     0.10611,     0.10711,     0.10811,     0.10911,     0.11011,     0.11111,     0.11211,     0.11311,     0.11411,     0.11512,     0.11612,     0.11712,     0.11812,     0.11912,\n",
      "           0.12012,     0.12112,     0.12212,     0.12312,     0.12412,     0.12513,     0.12613,     0.12713,     0.12813,     0.12913,     0.13013,     0.13113,     0.13213,     0.13313,     0.13413,     0.13514,     0.13614,     0.13714,     0.13814,     0.13914,     0.14014,     0.14114,     0.14214,     0.14314,\n",
      "           0.14414,     0.14515,     0.14615,     0.14715,     0.14815,     0.14915,     0.15015,     0.15115,     0.15215,     0.15315,     0.15415,     0.15516,     0.15616,     0.15716,     0.15816,     0.15916,     0.16016,     0.16116,     0.16216,     0.16316,     0.16416,     0.16517,     0.16617,     0.16717,\n",
      "           0.16817,     0.16917,     0.17017,     0.17117,     0.17217,     0.17317,     0.17417,     0.17518,     0.17618,     0.17718,     0.17818,     0.17918,     0.18018,     0.18118,     0.18218,     0.18318,     0.18418,     0.18519,     0.18619,     0.18719,     0.18819,     0.18919,     0.19019,     0.19119,\n",
      "           0.19219,     0.19319,     0.19419,      0.1952,      0.1962,      0.1972,      0.1982,      0.1992,      0.2002,      0.2012,      0.2022,      0.2032,      0.2042,     0.20521,     0.20621,     0.20721,     0.20821,     0.20921,     0.21021,     0.21121,     0.21221,     0.21321,     0.21421,     0.21522,\n",
      "           0.21622,     0.21722,     0.21822,     0.21922,     0.22022,     0.22122,     0.22222,     0.22322,     0.22422,     0.22523,     0.22623,     0.22723,     0.22823,     0.22923,     0.23023,     0.23123,     0.23223,     0.23323,     0.23423,     0.23524,     0.23624,     0.23724,     0.23824,     0.23924,\n",
      "           0.24024,     0.24124,     0.24224,     0.24324,     0.24424,     0.24525,     0.24625,     0.24725,     0.24825,     0.24925,     0.25025,     0.25125,     0.25225,     0.25325,     0.25425,     0.25526,     0.25626,     0.25726,     0.25826,     0.25926,     0.26026,     0.26126,     0.26226,     0.26326,\n",
      "           0.26426,     0.26527,     0.26627,     0.26727,     0.26827,     0.26927,     0.27027,     0.27127,     0.27227,     0.27327,     0.27427,     0.27528,     0.27628,     0.27728,     0.27828,     0.27928,     0.28028,     0.28128,     0.28228,     0.28328,     0.28428,     0.28529,     0.28629,     0.28729,\n",
      "           0.28829,     0.28929,     0.29029,     0.29129,     0.29229,     0.29329,     0.29429,      0.2953,      0.2963,      0.2973,      0.2983,      0.2993,      0.3003,      0.3013,      0.3023,      0.3033,      0.3043,     0.30531,     0.30631,     0.30731,     0.30831,     0.30931,     0.31031,     0.31131,\n",
      "           0.31231,     0.31331,     0.31431,     0.31532,     0.31632,     0.31732,     0.31832,     0.31932,     0.32032,     0.32132,     0.32232,     0.32332,     0.32432,     0.32533,     0.32633,     0.32733,     0.32833,     0.32933,     0.33033,     0.33133,     0.33233,     0.33333,     0.33433,     0.33534,\n",
      "           0.33634,     0.33734,     0.33834,     0.33934,     0.34034,     0.34134,     0.34234,     0.34334,     0.34434,     0.34535,     0.34635,     0.34735,     0.34835,     0.34935,     0.35035,     0.35135,     0.35235,     0.35335,     0.35435,     0.35536,     0.35636,     0.35736,     0.35836,     0.35936,\n",
      "           0.36036,     0.36136,     0.36236,     0.36336,     0.36436,     0.36537,     0.36637,     0.36737,     0.36837,     0.36937,     0.37037,     0.37137,     0.37237,     0.37337,     0.37437,     0.37538,     0.37638,     0.37738,     0.37838,     0.37938,     0.38038,     0.38138,     0.38238,     0.38338,\n",
      "           0.38438,     0.38539,     0.38639,     0.38739,     0.38839,     0.38939,     0.39039,     0.39139,     0.39239,     0.39339,     0.39439,      0.3954,      0.3964,      0.3974,      0.3984,      0.3994,      0.4004,      0.4014,      0.4024,      0.4034,      0.4044,     0.40541,     0.40641,     0.40741,\n",
      "           0.40841,     0.40941,     0.41041,     0.41141,     0.41241,     0.41341,     0.41441,     0.41542,     0.41642,     0.41742,     0.41842,     0.41942,     0.42042,     0.42142,     0.42242,     0.42342,     0.42442,     0.42543,     0.42643,     0.42743,     0.42843,     0.42943,     0.43043,     0.43143,\n",
      "           0.43243,     0.43343,     0.43443,     0.43544,     0.43644,     0.43744,     0.43844,     0.43944,     0.44044,     0.44144,     0.44244,     0.44344,     0.44444,     0.44545,     0.44645,     0.44745,     0.44845,     0.44945,     0.45045,     0.45145,     0.45245,     0.45345,     0.45445,     0.45546,\n",
      "           0.45646,     0.45746,     0.45846,     0.45946,     0.46046,     0.46146,     0.46246,     0.46346,     0.46446,     0.46547,     0.46647,     0.46747,     0.46847,     0.46947,     0.47047,     0.47147,     0.47247,     0.47347,     0.47447,     0.47548,     0.47648,     0.47748,     0.47848,     0.47948,\n",
      "           0.48048,     0.48148,     0.48248,     0.48348,     0.48448,     0.48549,     0.48649,     0.48749,     0.48849,     0.48949,     0.49049,     0.49149,     0.49249,     0.49349,     0.49449,      0.4955,      0.4965,      0.4975,      0.4985,      0.4995,      0.5005,      0.5015,      0.5025,      0.5035,\n",
      "            0.5045,     0.50551,     0.50651,     0.50751,     0.50851,     0.50951,     0.51051,     0.51151,     0.51251,     0.51351,     0.51451,     0.51552,     0.51652,     0.51752,     0.51852,     0.51952,     0.52052,     0.52152,     0.52252,     0.52352,     0.52452,     0.52553,     0.52653,     0.52753,\n",
      "           0.52853,     0.52953,     0.53053,     0.53153,     0.53253,     0.53353,     0.53453,     0.53554,     0.53654,     0.53754,     0.53854,     0.53954,     0.54054,     0.54154,     0.54254,     0.54354,     0.54454,     0.54555,     0.54655,     0.54755,     0.54855,     0.54955,     0.55055,     0.55155,\n",
      "           0.55255,     0.55355,     0.55455,     0.55556,     0.55656,     0.55756,     0.55856,     0.55956,     0.56056,     0.56156,     0.56256,     0.56356,     0.56456,     0.56557,     0.56657,     0.56757,     0.56857,     0.56957,     0.57057,     0.57157,     0.57257,     0.57357,     0.57457,     0.57558,\n",
      "           0.57658,     0.57758,     0.57858,     0.57958,     0.58058,     0.58158,     0.58258,     0.58358,     0.58458,     0.58559,     0.58659,     0.58759,     0.58859,     0.58959,     0.59059,     0.59159,     0.59259,     0.59359,     0.59459,      0.5956,      0.5966,      0.5976,      0.5986,      0.5996,\n",
      "            0.6006,      0.6016,      0.6026,      0.6036,      0.6046,     0.60561,     0.60661,     0.60761,     0.60861,     0.60961,     0.61061,     0.61161,     0.61261,     0.61361,     0.61461,     0.61562,     0.61662,     0.61762,     0.61862,     0.61962,     0.62062,     0.62162,     0.62262,     0.62362,\n",
      "           0.62462,     0.62563,     0.62663,     0.62763,     0.62863,     0.62963,     0.63063,     0.63163,     0.63263,     0.63363,     0.63463,     0.63564,     0.63664,     0.63764,     0.63864,     0.63964,     0.64064,     0.64164,     0.64264,     0.64364,     0.64464,     0.64565,     0.64665,     0.64765,\n",
      "           0.64865,     0.64965,     0.65065,     0.65165,     0.65265,     0.65365,     0.65465,     0.65566,     0.65666,     0.65766,     0.65866,     0.65966,     0.66066,     0.66166,     0.66266,     0.66366,     0.66466,     0.66567,     0.66667,     0.66767,     0.66867,     0.66967,     0.67067,     0.67167,\n",
      "           0.67267,     0.67367,     0.67467,     0.67568,     0.67668,     0.67768,     0.67868,     0.67968,     0.68068,     0.68168,     0.68268,     0.68368,     0.68468,     0.68569,     0.68669,     0.68769,     0.68869,     0.68969,     0.69069,     0.69169,     0.69269,     0.69369,     0.69469,      0.6957,\n",
      "            0.6967,      0.6977,      0.6987,      0.6997,      0.7007,      0.7017,      0.7027,      0.7037,      0.7047,     0.70571,     0.70671,     0.70771,     0.70871,     0.70971,     0.71071,     0.71171,     0.71271,     0.71371,     0.71471,     0.71572,     0.71672,     0.71772,     0.71872,     0.71972,\n",
      "           0.72072,     0.72172,     0.72272,     0.72372,     0.72472,     0.72573,     0.72673,     0.72773,     0.72873,     0.72973,     0.73073,     0.73173,     0.73273,     0.73373,     0.73473,     0.73574,     0.73674,     0.73774,     0.73874,     0.73974,     0.74074,     0.74174,     0.74274,     0.74374,\n",
      "           0.74474,     0.74575,     0.74675,     0.74775,     0.74875,     0.74975,     0.75075,     0.75175,     0.75275,     0.75375,     0.75475,     0.75576,     0.75676,     0.75776,     0.75876,     0.75976,     0.76076,     0.76176,     0.76276,     0.76376,     0.76476,     0.76577,     0.76677,     0.76777,\n",
      "           0.76877,     0.76977,     0.77077,     0.77177,     0.77277,     0.77377,     0.77477,     0.77578,     0.77678,     0.77778,     0.77878,     0.77978,     0.78078,     0.78178,     0.78278,     0.78378,     0.78478,     0.78579,     0.78679,     0.78779,     0.78879,     0.78979,     0.79079,     0.79179,\n",
      "           0.79279,     0.79379,     0.79479,      0.7958,      0.7968,      0.7978,      0.7988,      0.7998,      0.8008,      0.8018,      0.8028,      0.8038,      0.8048,     0.80581,     0.80681,     0.80781,     0.80881,     0.80981,     0.81081,     0.81181,     0.81281,     0.81381,     0.81481,     0.81582,\n",
      "           0.81682,     0.81782,     0.81882,     0.81982,     0.82082,     0.82182,     0.82282,     0.82382,     0.82482,     0.82583,     0.82683,     0.82783,     0.82883,     0.82983,     0.83083,     0.83183,     0.83283,     0.83383,     0.83483,     0.83584,     0.83684,     0.83784,     0.83884,     0.83984,\n",
      "           0.84084,     0.84184,     0.84284,     0.84384,     0.84484,     0.84585,     0.84685,     0.84785,     0.84885,     0.84985,     0.85085,     0.85185,     0.85285,     0.85385,     0.85485,     0.85586,     0.85686,     0.85786,     0.85886,     0.85986,     0.86086,     0.86186,     0.86286,     0.86386,\n",
      "           0.86486,     0.86587,     0.86687,     0.86787,     0.86887,     0.86987,     0.87087,     0.87187,     0.87287,     0.87387,     0.87487,     0.87588,     0.87688,     0.87788,     0.87888,     0.87988,     0.88088,     0.88188,     0.88288,     0.88388,     0.88488,     0.88589,     0.88689,     0.88789,\n",
      "           0.88889,     0.88989,     0.89089,     0.89189,     0.89289,     0.89389,     0.89489,      0.8959,      0.8969,      0.8979,      0.8989,      0.8999,      0.9009,      0.9019,      0.9029,      0.9039,      0.9049,     0.90591,     0.90691,     0.90791,     0.90891,     0.90991,     0.91091,     0.91191,\n",
      "           0.91291,     0.91391,     0.91491,     0.91592,     0.91692,     0.91792,     0.91892,     0.91992,     0.92092,     0.92192,     0.92292,     0.92392,     0.92492,     0.92593,     0.92693,     0.92793,     0.92893,     0.92993,     0.93093,     0.93193,     0.93293,     0.93393,     0.93493,     0.93594,\n",
      "           0.93694,     0.93794,     0.93894,     0.93994,     0.94094,     0.94194,     0.94294,     0.94394,     0.94494,     0.94595,     0.94695,     0.94795,     0.94895,     0.94995,     0.95095,     0.95195,     0.95295,     0.95395,     0.95495,     0.95596,     0.95696,     0.95796,     0.95896,     0.95996,\n",
      "           0.96096,     0.96196,     0.96296,     0.96396,     0.96496,     0.96597,     0.96697,     0.96797,     0.96897,     0.96997,     0.97097,     0.97197,     0.97297,     0.97397,     0.97497,     0.97598,     0.97698,     0.97798,     0.97898,     0.97998,     0.98098,     0.98198,     0.98298,     0.98398,\n",
      "           0.98498,     0.98599,     0.98699,     0.98799,     0.98899,     0.98999,     0.99099,     0.99199,     0.99299,     0.99399,     0.99499,       0.996,       0.997,       0.998,       0.999,           1]), array([[    0.10743,      0.1076,     0.19196,     0.25062,       0.287,     0.31594,     0.34388,     0.36713,     0.39275,     0.40955,     0.42405,     0.43446,     0.44778,     0.45683,     0.46575,     0.47804,     0.48355,     0.49723,     0.50542,     0.51733,     0.52753,     0.53494,     0.53883,\n",
      "            0.54175,     0.54655,     0.55346,     0.55663,      0.5588,     0.55998,     0.56383,     0.57286,      0.5776,     0.58143,     0.58478,     0.58903,     0.59063,     0.59354,     0.59617,     0.60029,     0.60209,     0.60075,     0.60261,     0.60316,     0.60677,     0.61058,     0.61144,\n",
      "            0.61272,     0.61459,     0.61708,     0.61947,     0.62018,     0.62162,     0.62216,     0.62416,     0.62785,     0.62996,     0.63491,     0.63776,      0.6384,     0.63883,     0.64043,     0.64133,     0.64228,     0.64357,     0.64818,     0.65139,     0.65224,     0.65257,     0.65291,\n",
      "            0.65326,     0.65378,      0.6543,       0.656,     0.65661,     0.65587,     0.65657,     0.65713,     0.65765,     0.65824,     0.65901,     0.66066,     0.66101,     0.66136,     0.66216,     0.66679,     0.66905,     0.67174,     0.67243,     0.67365,     0.67479,     0.67541,     0.67625,\n",
      "            0.67949,     0.68029,     0.67922,     0.68042,     0.68159,     0.68297,     0.68515,     0.68589,     0.68679,     0.68796,     0.69021,     0.69054,     0.69087,      0.6912,     0.69153,     0.69228,      0.6944,     0.69503,     0.69567,     0.69629,     0.69691,     0.69761,     0.69832,\n",
      "            0.70125,     0.70292,      0.7034,     0.70387,     0.70489,     0.70755,      0.7092,     0.70893,     0.70793,     0.70711,     0.70741,     0.70771,     0.70801,     0.70831,      0.7086,     0.70888,     0.70916,     0.70944,     0.70972,     0.71003,     0.71047,     0.71092,     0.71136,\n",
      "            0.71211,     0.71288,     0.71364,     0.71451,     0.71615,     0.71926,      0.7209,     0.72191,     0.72241,     0.72292,     0.72514,     0.72616,     0.72677,     0.72738,     0.72828,     0.72947,     0.73079,     0.73137,     0.73196,      0.7336,     0.73541,     0.73558,     0.73575,\n",
      "            0.73592,     0.73609,     0.73626,     0.73643,     0.73659,     0.73676,      0.7377,     0.74044,     0.73907,     0.73963,      0.7402,     0.74076,     0.74131,     0.74187,     0.74244,     0.74301,     0.74358,     0.74392,     0.74425,     0.74458,     0.74492,     0.74537,     0.74631,\n",
      "             0.7478,     0.75051,     0.75167,     0.75332,     0.75352,     0.75372,     0.75392,     0.75411,     0.75431,     0.75451,     0.75471,     0.75427,     0.75233,     0.75266,     0.75298,     0.75331,     0.75363,     0.75243,      0.7552,      0.7569,     0.75773,     0.75783,     0.75794,\n",
      "            0.75805,     0.75815,     0.75826,     0.75836,     0.75847,     0.75858,     0.75868,     0.75879,     0.75889,       0.759,     0.75911,     0.75921,     0.75932,     0.75952,     0.75988,     0.76023,     0.76058,     0.76094,       0.763,     0.76362,     0.76425,      0.7653,     0.76621,\n",
      "            0.76641,     0.76661,      0.7668,       0.767,      0.7672,     0.76739,     0.76759,     0.76779,      0.7685,     0.76952,     0.76972,     0.76988,     0.77004,     0.77019,     0.77035,     0.77051,     0.77066,     0.77082,     0.77097,     0.77113,     0.77129,     0.77283,     0.77383,\n",
      "            0.77473,     0.77525,     0.77574,     0.77624,     0.77674,     0.77725,     0.77777,     0.77828,     0.77951,     0.78046,     0.78119,     0.78197,     0.78295,     0.78557,     0.78784,     0.78982,     0.79099,     0.79146,     0.79192,     0.79239,     0.79466,     0.79516,     0.79566,\n",
      "            0.79617,     0.79554,     0.79452,      0.7935,     0.79396,     0.79441,     0.79486,     0.79532,     0.79909,      0.7998,     0.80051,     0.80097,     0.80107,     0.80116,     0.80126,     0.80135,     0.80145,     0.80154,     0.80163,     0.80173,     0.80182,     0.80192,     0.80201,\n",
      "            0.80211,      0.8022,     0.80229,     0.80239,     0.80248,     0.80258,     0.80267,     0.80276,     0.80318,       0.804,     0.80569,     0.80679,       0.807,     0.80721,     0.80742,     0.80763,     0.80784,     0.80805,     0.80826,     0.80847,     0.81015,     0.81197,     0.81221,\n",
      "            0.81202,     0.81183,     0.81165,     0.81146,     0.81128,     0.81109,     0.81091,     0.81072,     0.81053,     0.81035,     0.81016,     0.80998,     0.80979,     0.80961,     0.80962,     0.80979,     0.80996,     0.81014,     0.81031,     0.81048,     0.81065,     0.81082,     0.81099,\n",
      "            0.81117,     0.81134,     0.81157,     0.81193,      0.8123,     0.81266,     0.81302,     0.81339,     0.81455,     0.81553,     0.81608,     0.81664,     0.81719,     0.81803,     0.81895,     0.81934,     0.81944,     0.81954,     0.81964,     0.81974,     0.81983,     0.81993,     0.82003,\n",
      "            0.82013,     0.82023,     0.82033,     0.82043,     0.82053,     0.82062,     0.82072,     0.82082,     0.82092,     0.82102,     0.82112,     0.82122,     0.81914,     0.81925,     0.82031,     0.82072,     0.82108,     0.82144,     0.82179,     0.82215,     0.82142,     0.82121,     0.81984,\n",
      "            0.82055,      0.8198,     0.81895,     0.81811,     0.81885,     0.81953,     0.81911,      0.8187,     0.81828,     0.81787,     0.81745,     0.81704,     0.81771,     0.81894,      0.8192,     0.81945,      0.8197,     0.81996,     0.82021,     0.82046,     0.82072,     0.82109,     0.82177,\n",
      "            0.82245,     0.82286,     0.82255,     0.82223,     0.82192,     0.82161,     0.82129,     0.82098,     0.82067,     0.82036,     0.82004,     0.81925,     0.81838,     0.81751,     0.81715,     0.81738,      0.8176,     0.81783,     0.81806,     0.81828,     0.81851,     0.81874,     0.81896,\n",
      "            0.81896,     0.81862,     0.81828,     0.81794,      0.8176,     0.81727,     0.81693,     0.81659,     0.81625,     0.81197,     0.81097,     0.81435,      0.8146,     0.81485,      0.8151,     0.81535,      0.8156,     0.81585,      0.8161,     0.81638,     0.81688,     0.81739,     0.81789,\n",
      "            0.81839,     0.81658,     0.81501,     0.81401,     0.81301,     0.81246,     0.81284,     0.81321,     0.81359,     0.81396,     0.81434,     0.81283,     0.81175,     0.81291,     0.81357,     0.81377,     0.81396,     0.81416,     0.81436,     0.81455,     0.81475,     0.81494,     0.81514,\n",
      "            0.81533,     0.81553,     0.81585,     0.81621,     0.81658,     0.81695,     0.81731,     0.81768,     0.81728,      0.8168,     0.81633,     0.81586,     0.81538,     0.81491,     0.81583,     0.81375,     0.81414,     0.81453,     0.81493,     0.81532,     0.81571,     0.81479,     0.81354,\n",
      "            0.81347,     0.81465,     0.81433,     0.81401,     0.81368,     0.81336,     0.81303,     0.81271,     0.81238,     0.81206,     0.81173,     0.81189,     0.81215,     0.81241,     0.81268,     0.81294,     0.81321,     0.81347,     0.81373,     0.81211,     0.81081,     0.81111,     0.81142,\n",
      "            0.81172,     0.81203,     0.81233,     0.81264,      0.8136,     0.81461,     0.81347,     0.81233,     0.81117,     0.80998,      0.8088,     0.80736,     0.80587,     0.80501,     0.80443,     0.80385,     0.80327,     0.80269,     0.80218,     0.80234,      0.8025,     0.80266,     0.80282,\n",
      "            0.80298,     0.80314,      0.8033,     0.80346,     0.80362,     0.80378,     0.80393,     0.80409,     0.80425,     0.80152,     0.79957,     0.79795,     0.79911,     0.79988,     0.79958,     0.79927,     0.79896,     0.79865,     0.79834,     0.79803,     0.79772,     0.79741,      0.7971,\n",
      "            0.79679,     0.79639,     0.79596,     0.79553,     0.79511,     0.79468,     0.79425,     0.79382,     0.79339,     0.79464,     0.79563,     0.79581,       0.796,     0.79619,     0.79637,     0.79656,     0.79675,     0.79693,     0.79712,     0.79731,     0.79749,     0.79768,     0.80013,\n",
      "            0.80042,     0.80071,     0.80101,      0.8013,     0.80159,     0.80188,     0.80217,     0.79975,     0.79969,      0.8008,     0.79982,     0.79798,     0.79825,     0.79882,     0.79938,     0.79994,     0.79955,     0.79906,     0.79856,     0.79807,     0.79757,     0.79708,     0.79663,\n",
      "            0.79694,     0.79725,     0.79757,     0.79788,     0.79819,      0.7985,     0.79881,     0.79822,     0.79744,     0.79666,     0.79588,     0.79691,     0.79915,     0.79785,     0.79656,     0.79696,     0.79736,     0.79776,     0.79815,     0.79855,     0.79913,     0.80029,     0.80123,\n",
      "            0.80152,     0.80181,     0.80211,      0.8024,     0.80269,     0.80298,     0.80327,     0.80269,     0.80031,     0.79917,     0.79822,     0.79726,     0.79633,     0.79549,     0.79464,     0.79379,     0.79303,     0.79343,     0.79383,     0.79423,     0.79462,     0.79502,     0.79462,\n",
      "            0.79178,     0.79154,      0.7913,     0.79106,     0.79082,     0.79058,     0.79034,      0.7901,     0.78986,     0.78962,     0.78937,     0.78913,     0.78889,     0.78865,     0.78841,     0.78773,     0.78595,     0.78415,     0.78236,     0.78072,      0.7795,     0.77828,     0.77758,\n",
      "            0.77799,     0.77841,     0.77882,     0.77923,     0.77964,     0.77879,      0.7774,     0.77681,     0.77785,     0.77711,     0.77638,     0.77564,     0.77491,     0.77179,     0.76462,     0.76265,     0.76145,     0.76026,     0.75806,     0.75571,     0.75425,     0.75279,     0.75385,\n",
      "            0.75008,     0.74882,     0.74755,     0.74631,      0.7451,     0.74389,     0.74285,     0.74222,     0.74159,     0.74096,     0.74033,      0.7397,     0.73916,     0.73952,     0.73987,     0.74022,     0.74057,     0.74092,     0.74126,     0.73608,     0.73309,     0.73139,     0.72968,\n",
      "            0.72591,     0.72453,     0.72341,     0.72229,     0.71976,     0.71276,     0.71156,     0.71037,     0.70931,     0.70984,     0.71038,     0.71091,     0.71144,     0.70471,     0.70529,     0.70149,     0.69611,     0.69421,     0.69254,     0.69153,     0.69052,     0.68951,      0.6886,\n",
      "            0.69018,     0.68762,     0.68298,     0.68103,     0.67977,     0.67851,     0.67747,     0.67678,     0.67608,     0.67539,      0.6747,       0.674,     0.67317,     0.66893,     0.66754,     0.66616,     0.66478,     0.66284,      0.6607,     0.65922,     0.65811,       0.657,     0.65588,\n",
      "            0.65488,     0.65396,     0.65304,     0.65212,      0.6512,     0.64393,     0.63996,      0.6357,     0.63062,     0.62809,     0.62289,     0.62325,     0.62361,     0.62398,     0.62434,      0.6247,     0.62477,     0.62342,     0.62207,     0.62072,     0.61944,     0.61821,     0.61698,\n",
      "            0.61574,     0.61379,     0.61155,     0.60488,     0.59083,     0.59186,     0.59281,     0.59062,     0.58843,     0.58746,     0.58698,     0.58649,       0.586,     0.58551,     0.58502,     0.58453,     0.58404,     0.58355,     0.58306,     0.58242,     0.58149,     0.58056,     0.57963,\n",
      "             0.5787,     0.57776,     0.57832,     0.57915,     0.57879,     0.57591,      0.5741,     0.57324,     0.57239,     0.57153,     0.57068,     0.56982,     0.56825,      0.5658,     0.55922,     0.55697,     0.55506,     0.55331,     0.55226,     0.55121,     0.55016,     0.54911,     0.54645,\n",
      "            0.54153,        0.54,     0.53846,     0.53634,      0.5325,     0.52864,     0.52725,     0.52506,     0.51465,     0.50489,     0.49697,     0.48992,     0.48729,     0.48578,     0.48426,     0.48275,      0.4789,     0.47029,     0.46506,     0.46545,     0.46398,     0.46251,     0.46103,\n",
      "            0.44795,     0.44159,     0.43855,     0.43551,     0.42983,     0.42471,     0.41843,     0.41379,     0.41017,     0.39936,      0.3956,     0.39393,     0.39226,     0.39058,     0.38311,     0.38138,     0.37964,      0.3779,     0.36904,     0.36581,     0.35566,     0.35084,     0.34824,\n",
      "            0.34708,     0.34592,     0.34476,      0.3436,     0.34244,      0.3409,     0.33901,     0.33711,     0.33521,     0.33583,     0.33085,     0.32009,       0.316,     0.29897,     0.29756,     0.29614,     0.29473,     0.29331,     0.29154,     0.28646,     0.27889,     0.27556,     0.27398,\n",
      "            0.27239,     0.27079,      0.2692,     0.26751,     0.26582,     0.26412,     0.26241,     0.26046,     0.25798,     0.25549,     0.25005,     0.23437,     0.22892,     0.22266,     0.21744,     0.20833,     0.19146,      0.1738,      0.1678,     0.16374,     0.15305,     0.15114,     0.14923,\n",
      "            0.14731,     0.14539,     0.13526,     0.12972,     0.12227,     0.11588,     0.11354,     0.11119,     0.10885,     0.10542,     0.10118,    0.097944,    0.096396,    0.094846,    0.093293,    0.091737,    0.090179,    0.084938,    0.069697,    0.067621,     0.06554,    0.063456,    0.061366,\n",
      "            0.05983,    0.058869,    0.057908,    0.056945,    0.055982,    0.055018,    0.054052,    0.053086,    0.052119,     0.05115,    0.040199,    0.038947,    0.037694,    0.036439,    0.035182,    0.033924,    0.032664,    0.031403,    0.029714,    0.027309,    0.024898,    0.022481,           0,\n",
      "                  0,           0,           0,           0,           0,           0,           0,           0,           0,           0,           0]]), 'Confidence', 'F1'], [array([          0,    0.001001,    0.002002,    0.003003,    0.004004,    0.005005,    0.006006,    0.007007,    0.008008,    0.009009,     0.01001,    0.011011,    0.012012,    0.013013,    0.014014,    0.015015,    0.016016,    0.017017,    0.018018,    0.019019,     0.02002,    0.021021,    0.022022,    0.023023,\n",
      "          0.024024,    0.025025,    0.026026,    0.027027,    0.028028,    0.029029,     0.03003,    0.031031,    0.032032,    0.033033,    0.034034,    0.035035,    0.036036,    0.037037,    0.038038,    0.039039,     0.04004,    0.041041,    0.042042,    0.043043,    0.044044,    0.045045,    0.046046,    0.047047,\n",
      "          0.048048,    0.049049,     0.05005,    0.051051,    0.052052,    0.053053,    0.054054,    0.055055,    0.056056,    0.057057,    0.058058,    0.059059,     0.06006,    0.061061,    0.062062,    0.063063,    0.064064,    0.065065,    0.066066,    0.067067,    0.068068,    0.069069,     0.07007,    0.071071,\n",
      "          0.072072,    0.073073,    0.074074,    0.075075,    0.076076,    0.077077,    0.078078,    0.079079,     0.08008,    0.081081,    0.082082,    0.083083,    0.084084,    0.085085,    0.086086,    0.087087,    0.088088,    0.089089,     0.09009,    0.091091,    0.092092,    0.093093,    0.094094,    0.095095,\n",
      "          0.096096,    0.097097,    0.098098,    0.099099,      0.1001,      0.1011,      0.1021,      0.1031,      0.1041,     0.10511,     0.10611,     0.10711,     0.10811,     0.10911,     0.11011,     0.11111,     0.11211,     0.11311,     0.11411,     0.11512,     0.11612,     0.11712,     0.11812,     0.11912,\n",
      "           0.12012,     0.12112,     0.12212,     0.12312,     0.12412,     0.12513,     0.12613,     0.12713,     0.12813,     0.12913,     0.13013,     0.13113,     0.13213,     0.13313,     0.13413,     0.13514,     0.13614,     0.13714,     0.13814,     0.13914,     0.14014,     0.14114,     0.14214,     0.14314,\n",
      "           0.14414,     0.14515,     0.14615,     0.14715,     0.14815,     0.14915,     0.15015,     0.15115,     0.15215,     0.15315,     0.15415,     0.15516,     0.15616,     0.15716,     0.15816,     0.15916,     0.16016,     0.16116,     0.16216,     0.16316,     0.16416,     0.16517,     0.16617,     0.16717,\n",
      "           0.16817,     0.16917,     0.17017,     0.17117,     0.17217,     0.17317,     0.17417,     0.17518,     0.17618,     0.17718,     0.17818,     0.17918,     0.18018,     0.18118,     0.18218,     0.18318,     0.18418,     0.18519,     0.18619,     0.18719,     0.18819,     0.18919,     0.19019,     0.19119,\n",
      "           0.19219,     0.19319,     0.19419,      0.1952,      0.1962,      0.1972,      0.1982,      0.1992,      0.2002,      0.2012,      0.2022,      0.2032,      0.2042,     0.20521,     0.20621,     0.20721,     0.20821,     0.20921,     0.21021,     0.21121,     0.21221,     0.21321,     0.21421,     0.21522,\n",
      "           0.21622,     0.21722,     0.21822,     0.21922,     0.22022,     0.22122,     0.22222,     0.22322,     0.22422,     0.22523,     0.22623,     0.22723,     0.22823,     0.22923,     0.23023,     0.23123,     0.23223,     0.23323,     0.23423,     0.23524,     0.23624,     0.23724,     0.23824,     0.23924,\n",
      "           0.24024,     0.24124,     0.24224,     0.24324,     0.24424,     0.24525,     0.24625,     0.24725,     0.24825,     0.24925,     0.25025,     0.25125,     0.25225,     0.25325,     0.25425,     0.25526,     0.25626,     0.25726,     0.25826,     0.25926,     0.26026,     0.26126,     0.26226,     0.26326,\n",
      "           0.26426,     0.26527,     0.26627,     0.26727,     0.26827,     0.26927,     0.27027,     0.27127,     0.27227,     0.27327,     0.27427,     0.27528,     0.27628,     0.27728,     0.27828,     0.27928,     0.28028,     0.28128,     0.28228,     0.28328,     0.28428,     0.28529,     0.28629,     0.28729,\n",
      "           0.28829,     0.28929,     0.29029,     0.29129,     0.29229,     0.29329,     0.29429,      0.2953,      0.2963,      0.2973,      0.2983,      0.2993,      0.3003,      0.3013,      0.3023,      0.3033,      0.3043,     0.30531,     0.30631,     0.30731,     0.30831,     0.30931,     0.31031,     0.31131,\n",
      "           0.31231,     0.31331,     0.31431,     0.31532,     0.31632,     0.31732,     0.31832,     0.31932,     0.32032,     0.32132,     0.32232,     0.32332,     0.32432,     0.32533,     0.32633,     0.32733,     0.32833,     0.32933,     0.33033,     0.33133,     0.33233,     0.33333,     0.33433,     0.33534,\n",
      "           0.33634,     0.33734,     0.33834,     0.33934,     0.34034,     0.34134,     0.34234,     0.34334,     0.34434,     0.34535,     0.34635,     0.34735,     0.34835,     0.34935,     0.35035,     0.35135,     0.35235,     0.35335,     0.35435,     0.35536,     0.35636,     0.35736,     0.35836,     0.35936,\n",
      "           0.36036,     0.36136,     0.36236,     0.36336,     0.36436,     0.36537,     0.36637,     0.36737,     0.36837,     0.36937,     0.37037,     0.37137,     0.37237,     0.37337,     0.37437,     0.37538,     0.37638,     0.37738,     0.37838,     0.37938,     0.38038,     0.38138,     0.38238,     0.38338,\n",
      "           0.38438,     0.38539,     0.38639,     0.38739,     0.38839,     0.38939,     0.39039,     0.39139,     0.39239,     0.39339,     0.39439,      0.3954,      0.3964,      0.3974,      0.3984,      0.3994,      0.4004,      0.4014,      0.4024,      0.4034,      0.4044,     0.40541,     0.40641,     0.40741,\n",
      "           0.40841,     0.40941,     0.41041,     0.41141,     0.41241,     0.41341,     0.41441,     0.41542,     0.41642,     0.41742,     0.41842,     0.41942,     0.42042,     0.42142,     0.42242,     0.42342,     0.42442,     0.42543,     0.42643,     0.42743,     0.42843,     0.42943,     0.43043,     0.43143,\n",
      "           0.43243,     0.43343,     0.43443,     0.43544,     0.43644,     0.43744,     0.43844,     0.43944,     0.44044,     0.44144,     0.44244,     0.44344,     0.44444,     0.44545,     0.44645,     0.44745,     0.44845,     0.44945,     0.45045,     0.45145,     0.45245,     0.45345,     0.45445,     0.45546,\n",
      "           0.45646,     0.45746,     0.45846,     0.45946,     0.46046,     0.46146,     0.46246,     0.46346,     0.46446,     0.46547,     0.46647,     0.46747,     0.46847,     0.46947,     0.47047,     0.47147,     0.47247,     0.47347,     0.47447,     0.47548,     0.47648,     0.47748,     0.47848,     0.47948,\n",
      "           0.48048,     0.48148,     0.48248,     0.48348,     0.48448,     0.48549,     0.48649,     0.48749,     0.48849,     0.48949,     0.49049,     0.49149,     0.49249,     0.49349,     0.49449,      0.4955,      0.4965,      0.4975,      0.4985,      0.4995,      0.5005,      0.5015,      0.5025,      0.5035,\n",
      "            0.5045,     0.50551,     0.50651,     0.50751,     0.50851,     0.50951,     0.51051,     0.51151,     0.51251,     0.51351,     0.51451,     0.51552,     0.51652,     0.51752,     0.51852,     0.51952,     0.52052,     0.52152,     0.52252,     0.52352,     0.52452,     0.52553,     0.52653,     0.52753,\n",
      "           0.52853,     0.52953,     0.53053,     0.53153,     0.53253,     0.53353,     0.53453,     0.53554,     0.53654,     0.53754,     0.53854,     0.53954,     0.54054,     0.54154,     0.54254,     0.54354,     0.54454,     0.54555,     0.54655,     0.54755,     0.54855,     0.54955,     0.55055,     0.55155,\n",
      "           0.55255,     0.55355,     0.55455,     0.55556,     0.55656,     0.55756,     0.55856,     0.55956,     0.56056,     0.56156,     0.56256,     0.56356,     0.56456,     0.56557,     0.56657,     0.56757,     0.56857,     0.56957,     0.57057,     0.57157,     0.57257,     0.57357,     0.57457,     0.57558,\n",
      "           0.57658,     0.57758,     0.57858,     0.57958,     0.58058,     0.58158,     0.58258,     0.58358,     0.58458,     0.58559,     0.58659,     0.58759,     0.58859,     0.58959,     0.59059,     0.59159,     0.59259,     0.59359,     0.59459,      0.5956,      0.5966,      0.5976,      0.5986,      0.5996,\n",
      "            0.6006,      0.6016,      0.6026,      0.6036,      0.6046,     0.60561,     0.60661,     0.60761,     0.60861,     0.60961,     0.61061,     0.61161,     0.61261,     0.61361,     0.61461,     0.61562,     0.61662,     0.61762,     0.61862,     0.61962,     0.62062,     0.62162,     0.62262,     0.62362,\n",
      "           0.62462,     0.62563,     0.62663,     0.62763,     0.62863,     0.62963,     0.63063,     0.63163,     0.63263,     0.63363,     0.63463,     0.63564,     0.63664,     0.63764,     0.63864,     0.63964,     0.64064,     0.64164,     0.64264,     0.64364,     0.64464,     0.64565,     0.64665,     0.64765,\n",
      "           0.64865,     0.64965,     0.65065,     0.65165,     0.65265,     0.65365,     0.65465,     0.65566,     0.65666,     0.65766,     0.65866,     0.65966,     0.66066,     0.66166,     0.66266,     0.66366,     0.66466,     0.66567,     0.66667,     0.66767,     0.66867,     0.66967,     0.67067,     0.67167,\n",
      "           0.67267,     0.67367,     0.67467,     0.67568,     0.67668,     0.67768,     0.67868,     0.67968,     0.68068,     0.68168,     0.68268,     0.68368,     0.68468,     0.68569,     0.68669,     0.68769,     0.68869,     0.68969,     0.69069,     0.69169,     0.69269,     0.69369,     0.69469,      0.6957,\n",
      "            0.6967,      0.6977,      0.6987,      0.6997,      0.7007,      0.7017,      0.7027,      0.7037,      0.7047,     0.70571,     0.70671,     0.70771,     0.70871,     0.70971,     0.71071,     0.71171,     0.71271,     0.71371,     0.71471,     0.71572,     0.71672,     0.71772,     0.71872,     0.71972,\n",
      "           0.72072,     0.72172,     0.72272,     0.72372,     0.72472,     0.72573,     0.72673,     0.72773,     0.72873,     0.72973,     0.73073,     0.73173,     0.73273,     0.73373,     0.73473,     0.73574,     0.73674,     0.73774,     0.73874,     0.73974,     0.74074,     0.74174,     0.74274,     0.74374,\n",
      "           0.74474,     0.74575,     0.74675,     0.74775,     0.74875,     0.74975,     0.75075,     0.75175,     0.75275,     0.75375,     0.75475,     0.75576,     0.75676,     0.75776,     0.75876,     0.75976,     0.76076,     0.76176,     0.76276,     0.76376,     0.76476,     0.76577,     0.76677,     0.76777,\n",
      "           0.76877,     0.76977,     0.77077,     0.77177,     0.77277,     0.77377,     0.77477,     0.77578,     0.77678,     0.77778,     0.77878,     0.77978,     0.78078,     0.78178,     0.78278,     0.78378,     0.78478,     0.78579,     0.78679,     0.78779,     0.78879,     0.78979,     0.79079,     0.79179,\n",
      "           0.79279,     0.79379,     0.79479,      0.7958,      0.7968,      0.7978,      0.7988,      0.7998,      0.8008,      0.8018,      0.8028,      0.8038,      0.8048,     0.80581,     0.80681,     0.80781,     0.80881,     0.80981,     0.81081,     0.81181,     0.81281,     0.81381,     0.81481,     0.81582,\n",
      "           0.81682,     0.81782,     0.81882,     0.81982,     0.82082,     0.82182,     0.82282,     0.82382,     0.82482,     0.82583,     0.82683,     0.82783,     0.82883,     0.82983,     0.83083,     0.83183,     0.83283,     0.83383,     0.83483,     0.83584,     0.83684,     0.83784,     0.83884,     0.83984,\n",
      "           0.84084,     0.84184,     0.84284,     0.84384,     0.84484,     0.84585,     0.84685,     0.84785,     0.84885,     0.84985,     0.85085,     0.85185,     0.85285,     0.85385,     0.85485,     0.85586,     0.85686,     0.85786,     0.85886,     0.85986,     0.86086,     0.86186,     0.86286,     0.86386,\n",
      "           0.86486,     0.86587,     0.86687,     0.86787,     0.86887,     0.86987,     0.87087,     0.87187,     0.87287,     0.87387,     0.87487,     0.87588,     0.87688,     0.87788,     0.87888,     0.87988,     0.88088,     0.88188,     0.88288,     0.88388,     0.88488,     0.88589,     0.88689,     0.88789,\n",
      "           0.88889,     0.88989,     0.89089,     0.89189,     0.89289,     0.89389,     0.89489,      0.8959,      0.8969,      0.8979,      0.8989,      0.8999,      0.9009,      0.9019,      0.9029,      0.9039,      0.9049,     0.90591,     0.90691,     0.90791,     0.90891,     0.90991,     0.91091,     0.91191,\n",
      "           0.91291,     0.91391,     0.91491,     0.91592,     0.91692,     0.91792,     0.91892,     0.91992,     0.92092,     0.92192,     0.92292,     0.92392,     0.92492,     0.92593,     0.92693,     0.92793,     0.92893,     0.92993,     0.93093,     0.93193,     0.93293,     0.93393,     0.93493,     0.93594,\n",
      "           0.93694,     0.93794,     0.93894,     0.93994,     0.94094,     0.94194,     0.94294,     0.94394,     0.94494,     0.94595,     0.94695,     0.94795,     0.94895,     0.94995,     0.95095,     0.95195,     0.95295,     0.95395,     0.95495,     0.95596,     0.95696,     0.95796,     0.95896,     0.95996,\n",
      "           0.96096,     0.96196,     0.96296,     0.96396,     0.96496,     0.96597,     0.96697,     0.96797,     0.96897,     0.96997,     0.97097,     0.97197,     0.97297,     0.97397,     0.97497,     0.97598,     0.97698,     0.97798,     0.97898,     0.97998,     0.98098,     0.98198,     0.98298,     0.98398,\n",
      "           0.98498,     0.98599,     0.98699,     0.98799,     0.98899,     0.98999,     0.99099,     0.99199,     0.99299,     0.99399,     0.99499,       0.996,       0.997,       0.998,       0.999,           1]), array([[   0.056906,    0.056997,     0.10679,     0.14439,     0.16925,     0.18997,     0.21054,     0.22824,     0.24839,     0.26198,     0.27397,     0.28272,      0.2941,     0.30196,     0.30981,     0.32138,     0.32638,     0.33897,     0.34663,     0.35793,     0.36778,     0.37502,     0.37885,\n",
      "            0.38175,     0.38653,     0.39441,     0.39764,     0.39985,     0.40106,     0.40503,     0.41441,     0.41939,     0.42344,     0.42701,     0.43155,     0.43328,     0.43641,     0.43926,     0.44375,     0.44572,     0.44524,      0.4475,     0.44811,     0.45211,     0.45635,     0.45731,\n",
      "            0.45875,     0.46084,     0.46365,     0.46636,     0.46715,      0.4688,     0.46941,     0.47169,     0.47592,     0.47835,     0.48408,      0.4874,     0.48814,     0.48864,     0.49053,     0.49158,     0.49269,     0.49421,     0.49967,      0.5035,     0.50452,     0.50492,     0.50532,\n",
      "            0.50574,     0.50636,     0.50699,     0.50903,     0.50977,     0.51047,     0.51132,       0.512,     0.51262,     0.51335,     0.51428,      0.5163,     0.51672,     0.51715,     0.51813,     0.52382,     0.52661,     0.52996,     0.53082,     0.53234,     0.53377,     0.53454,     0.53559,\n",
      "            0.53967,     0.54068,     0.54043,     0.54266,     0.54416,     0.54591,     0.54871,     0.54966,     0.55081,     0.55232,     0.55522,     0.55565,     0.55607,      0.5565,     0.55693,     0.55791,     0.56066,     0.56149,     0.56233,     0.56314,     0.56395,     0.56486,     0.56579,\n",
      "            0.56965,     0.57186,     0.57249,     0.57312,     0.57448,     0.57801,     0.58021,     0.58046,     0.57993,     0.57952,     0.57993,     0.58033,     0.58074,     0.58114,     0.58153,     0.58191,     0.58228,     0.58266,     0.58303,     0.58346,     0.58405,     0.58465,     0.58525,\n",
      "            0.58627,     0.58732,     0.58835,     0.58952,     0.59177,     0.59603,     0.59828,     0.59967,     0.60037,     0.60106,     0.60415,     0.60556,     0.60641,     0.60726,     0.60851,     0.61019,     0.61203,     0.61285,     0.61367,     0.61599,     0.61854,     0.61878,     0.61902,\n",
      "            0.61926,      0.6195,     0.61974,     0.61998,     0.62022,     0.62046,     0.62179,     0.62568,      0.6262,     0.62702,     0.62783,     0.62863,     0.62944,     0.63024,     0.63106,     0.63188,     0.63271,      0.6332,     0.63368,     0.63417,     0.63465,     0.63531,     0.63668,\n",
      "            0.63885,     0.64282,     0.64451,     0.64694,     0.64724,     0.64753,     0.64783,     0.64812,     0.64842,     0.64871,       0.649,     0.64896,     0.64818,     0.64866,     0.64914,     0.64963,     0.65011,      0.6497,     0.65522,     0.65778,     0.65903,     0.65919,     0.65935,\n",
      "            0.65951,     0.65968,     0.65984,        0.66,     0.66016,     0.66032,     0.66048,     0.66064,      0.6608,     0.66096,     0.66112,     0.66128,     0.66144,     0.66175,     0.66229,     0.66283,     0.66336,      0.6639,     0.66705,       0.668,     0.66896,     0.67057,     0.67197,\n",
      "            0.67228,     0.67258,     0.67288,     0.67319,     0.67349,     0.67379,      0.6741,      0.6744,     0.67551,     0.67709,      0.6774,     0.67764,     0.67788,     0.67812,     0.67837,     0.67861,     0.67885,     0.67909,     0.67934,     0.67958,     0.67982,     0.68222,     0.68378,\n",
      "             0.6852,       0.686,     0.68677,     0.68755,     0.68834,     0.68915,     0.68995,     0.69076,      0.6927,      0.6942,     0.69537,     0.69659,     0.69815,     0.70233,     0.70597,     0.70916,     0.71104,      0.7118,     0.71255,     0.71331,     0.71699,     0.71781,     0.71863,\n",
      "            0.71945,     0.71935,     0.71892,     0.71849,     0.71923,     0.71998,     0.72072,     0.72147,      0.7277,     0.72888,     0.73006,     0.73083,     0.73099,     0.73115,      0.7313,     0.73146,     0.73162,     0.73177,     0.73193,     0.73209,     0.73225,      0.7324,     0.73256,\n",
      "            0.73272,     0.73287,     0.73303,     0.73319,     0.73335,      0.7335,     0.73366,     0.73382,     0.73451,     0.73589,     0.73872,     0.74057,     0.74092,     0.74128,     0.74163,     0.74199,     0.74234,      0.7427,     0.74305,     0.74341,     0.74625,     0.74935,     0.74994,\n",
      "            0.74987,      0.7498,     0.74973,     0.74965,     0.74958,     0.74951,     0.74944,     0.74936,     0.74929,     0.74922,     0.74915,     0.74908,       0.749,     0.74893,     0.74906,     0.74936,     0.74965,     0.74995,     0.75024,     0.75054,     0.75083,     0.75113,     0.75142,\n",
      "            0.75171,     0.75201,     0.75241,     0.75303,     0.75366,     0.75428,     0.75491,     0.75554,     0.75754,     0.75924,      0.7602,     0.76117,     0.76213,     0.76359,     0.76519,     0.76588,     0.76605,     0.76622,     0.76639,     0.76657,     0.76674,     0.76691,     0.76709,\n",
      "            0.76726,     0.76743,      0.7676,     0.76778,     0.76795,     0.76812,      0.7683,     0.76847,     0.76864,     0.76881,     0.76899,     0.76916,     0.76845,     0.76968,     0.77156,     0.77228,     0.77291,     0.77355,     0.77418,     0.77481,     0.77488,     0.77767,     0.77718,\n",
      "            0.78021,     0.78008,     0.77977,     0.77947,     0.78136,     0.78294,     0.78279,     0.78265,      0.7825,     0.78236,     0.78221,     0.78206,     0.78359,     0.78587,     0.78634,     0.78681,     0.78727,     0.78774,     0.78821,     0.78868,     0.78914,     0.78984,      0.7911,\n",
      "            0.79235,     0.79324,     0.79313,     0.79303,     0.79292,     0.79282,     0.79271,      0.7926,      0.7925,     0.79239,     0.79228,     0.79201,     0.79172,     0.79142,     0.79146,     0.79189,     0.79231,     0.79274,     0.79317,     0.79359,     0.79402,     0.79445,     0.79487,\n",
      "            0.79507,     0.79496,     0.79485,     0.79473,     0.79462,      0.7945,     0.79439,     0.79428,     0.79416,     0.79271,     0.79369,      0.8002,     0.80068,     0.80117,     0.80165,     0.80214,     0.80262,      0.8031,     0.80359,     0.80412,      0.8051,     0.80608,     0.80706,\n",
      "            0.80804,     0.80749,     0.80698,     0.80666,     0.80634,     0.80637,     0.80711,     0.80785,     0.80859,     0.80933,     0.81007,     0.80974,     0.81003,     0.81234,     0.81367,     0.81406,     0.81446,     0.81485,     0.81524,     0.81563,     0.81603,     0.81642,     0.81681,\n",
      "             0.8172,      0.8176,     0.81824,     0.81897,     0.81971,     0.82045,     0.82119,     0.82192,     0.82186,     0.82171,     0.82157,     0.82143,     0.82128,     0.82114,     0.82351,     0.82468,     0.82548,     0.82629,      0.8271,      0.8279,     0.82871,     0.82858,     0.82821,\n",
      "            0.82963,     0.83239,     0.83229,      0.8322,      0.8321,     0.83201,     0.83192,     0.83182,     0.83173,     0.83163,     0.83154,     0.83197,     0.83253,     0.83308,     0.83364,      0.8342,     0.83475,     0.83531,     0.83587,     0.83558,     0.83546,     0.83611,     0.83676,\n",
      "            0.83741,     0.83806,     0.83871,     0.83936,     0.84141,     0.84434,     0.84402,     0.84371,     0.84339,     0.84307,     0.84274,     0.84235,     0.84194,      0.8417,     0.84154,     0.84138,     0.84122,     0.84105,     0.84094,     0.84129,     0.84164,     0.84199,     0.84234,\n",
      "             0.8427,     0.84305,      0.8434,     0.84375,      0.8441,     0.84445,      0.8448,     0.84515,      0.8455,     0.84494,     0.84441,     0.84397,     0.84684,     0.84881,     0.84872,     0.84864,     0.84856,     0.84847,     0.84839,     0.84831,     0.84822,     0.84814,     0.84806,\n",
      "            0.84798,     0.84787,     0.84775,     0.84764,     0.84752,     0.84741,     0.84729,     0.84717,     0.84707,     0.84992,     0.85218,     0.85261,     0.85304,     0.85347,     0.85389,     0.85432,     0.85475,     0.85518,     0.85561,     0.85604,     0.85647,      0.8569,     0.86257,\n",
      "            0.86325,     0.86393,     0.86461,     0.86529,     0.86597,     0.86665,     0.86733,     0.86687,     0.86856,     0.87119,     0.87165,     0.87122,     0.87235,     0.87371,     0.87506,     0.87641,     0.87644,     0.87633,     0.87622,     0.87611,     0.87599,     0.87588,     0.87582,\n",
      "            0.87658,     0.87734,     0.87809,     0.87885,     0.87961,     0.88036,     0.88112,     0.88111,     0.88094,     0.88077,      0.8806,     0.88408,     0.89155,     0.89129,     0.89103,     0.89203,     0.89303,     0.89402,     0.89502,     0.89601,     0.89747,     0.90042,     0.90279,\n",
      "            0.90354,     0.90428,     0.90502,     0.90577,     0.90651,     0.90725,       0.908,     0.90836,     0.90795,     0.90775,     0.90758,     0.90742,     0.90725,      0.9071,     0.90695,     0.90681,     0.90674,     0.90779,     0.90883,     0.90987,     0.91092,     0.91196,     0.91263,\n",
      "            0.91216,     0.91212,     0.91208,     0.91204,       0.912,     0.91196,     0.91192,     0.91188,     0.91184,      0.9118,     0.91176,     0.91172,     0.91167,     0.91163,     0.91159,     0.91148,     0.91118,     0.91087,     0.91057,     0.91029,     0.91008,     0.90987,     0.91008,\n",
      "            0.91122,     0.91235,     0.91348,     0.91461,     0.91574,     0.91593,      0.9157,     0.91741,      0.9219,     0.92178,     0.92167,     0.92156,     0.92145,     0.92097,     0.91986,     0.91955,     0.91936,     0.91918,     0.91883,     0.91846,     0.91822,     0.91799,     0.92256,\n",
      "            0.92414,     0.92395,     0.92376,     0.92357,     0.92339,     0.92321,     0.92305,     0.92295,     0.92286,     0.92276,     0.92266,     0.92257,     0.92259,     0.92368,     0.92478,     0.92587,     0.92697,     0.92806,     0.92916,     0.92893,     0.92851,     0.92826,     0.92802,\n",
      "            0.92747,     0.92727,     0.92711,     0.92694,     0.92657,     0.92553,     0.92535,     0.92517,     0.92515,     0.92697,      0.9288,     0.93062,     0.93244,     0.93183,     0.93889,     0.93915,     0.93847,     0.93823,     0.93802,     0.93789,     0.93776,     0.93763,     0.93778,\n",
      "            0.94588,     0.94559,     0.94505,     0.94483,     0.94468,     0.94453,     0.94441,     0.94433,     0.94425,     0.94417,     0.94409,       0.944,     0.94391,      0.9434,     0.94323,     0.94307,      0.9429,     0.94266,      0.9424,     0.94222,     0.94208,     0.94194,     0.94181,\n",
      "            0.94168,     0.94157,     0.94145,     0.94134,     0.94122,     0.94029,     0.93978,     0.93922,     0.93855,     0.93821,     0.93772,     0.93937,     0.94103,     0.94269,     0.94434,       0.946,     0.94734,     0.94718,     0.94703,     0.94687,     0.94672,     0.94657,     0.94642,\n",
      "            0.94628,     0.94604,     0.94578,     0.94496,      0.9436,     0.94887,     0.95402,     0.95379,     0.95355,     0.95345,      0.9534,     0.95335,     0.95329,     0.95324,     0.95319,     0.95313,     0.95308,     0.95303,     0.95298,     0.95291,     0.95281,      0.9527,      0.9526,\n",
      "             0.9525,      0.9524,     0.95622,     0.96077,     0.96378,     0.96353,     0.96338,      0.9633,     0.96323,     0.96315,     0.96308,       0.963,     0.96287,     0.96265,     0.96206,     0.96186,     0.96168,     0.96152,     0.96142,     0.96132,     0.96123,     0.96113,     0.96088,\n",
      "            0.96041,     0.96026,     0.96011,      0.9599,     0.95952,     0.95914,     0.96512,     0.97199,     0.97125,     0.97052,     0.96991,     0.96935,     0.96914,     0.96902,     0.96889,     0.96877,     0.96845,     0.96772,     0.96726,     0.98329,     0.98322,     0.98315,     0.98308,\n",
      "            0.98245,     0.98213,     0.98198,     0.98182,     0.98152,     0.98124,     0.98089,     0.98062,     0.98041,     0.97976,     0.97952,     0.97941,     0.97931,      0.9792,     0.97871,     0.97859,     0.97847,     0.97835,     0.97773,     0.97749,     0.97672,     0.97634,     0.97613,\n",
      "            0.97604,     0.97594,     0.97585,     0.97575,     0.97566,     0.97553,     0.97536,      0.9752,     0.97504,      0.9934,           1,           1,           1,           1,           1,           1,           1,           1,           1,           1,           1,           1,           1,\n",
      "                  1,           1,           1,           1,           1,           1,           1,           1,           1,           1,           1,           1,           1,           1,           1,           1,           1,           1,           1,           1,           1,           1,           1,\n",
      "                  1,           1,           1,           1,           1,           1,           1,           1,           1,           1,           1,           1,           1,           1,           1,           1,           1,           1,           1,           1,           1,           1,           1,\n",
      "                  1,           1,           1,           1,           1,           1,           1,           1,           1,           1,           1,           1,           1,           1,           1,           1,           1,           1,           1,           1,           1,           1,           1,\n",
      "                  1,           1,           1,           1,           1,           1,           1,           1,           1,           1,           1]]), 'Confidence', 'Precision'], [array([          0,    0.001001,    0.002002,    0.003003,    0.004004,    0.005005,    0.006006,    0.007007,    0.008008,    0.009009,     0.01001,    0.011011,    0.012012,    0.013013,    0.014014,    0.015015,    0.016016,    0.017017,    0.018018,    0.019019,     0.02002,    0.021021,    0.022022,    0.023023,\n",
      "          0.024024,    0.025025,    0.026026,    0.027027,    0.028028,    0.029029,     0.03003,    0.031031,    0.032032,    0.033033,    0.034034,    0.035035,    0.036036,    0.037037,    0.038038,    0.039039,     0.04004,    0.041041,    0.042042,    0.043043,    0.044044,    0.045045,    0.046046,    0.047047,\n",
      "          0.048048,    0.049049,     0.05005,    0.051051,    0.052052,    0.053053,    0.054054,    0.055055,    0.056056,    0.057057,    0.058058,    0.059059,     0.06006,    0.061061,    0.062062,    0.063063,    0.064064,    0.065065,    0.066066,    0.067067,    0.068068,    0.069069,     0.07007,    0.071071,\n",
      "          0.072072,    0.073073,    0.074074,    0.075075,    0.076076,    0.077077,    0.078078,    0.079079,     0.08008,    0.081081,    0.082082,    0.083083,    0.084084,    0.085085,    0.086086,    0.087087,    0.088088,    0.089089,     0.09009,    0.091091,    0.092092,    0.093093,    0.094094,    0.095095,\n",
      "          0.096096,    0.097097,    0.098098,    0.099099,      0.1001,      0.1011,      0.1021,      0.1031,      0.1041,     0.10511,     0.10611,     0.10711,     0.10811,     0.10911,     0.11011,     0.11111,     0.11211,     0.11311,     0.11411,     0.11512,     0.11612,     0.11712,     0.11812,     0.11912,\n",
      "           0.12012,     0.12112,     0.12212,     0.12312,     0.12412,     0.12513,     0.12613,     0.12713,     0.12813,     0.12913,     0.13013,     0.13113,     0.13213,     0.13313,     0.13413,     0.13514,     0.13614,     0.13714,     0.13814,     0.13914,     0.14014,     0.14114,     0.14214,     0.14314,\n",
      "           0.14414,     0.14515,     0.14615,     0.14715,     0.14815,     0.14915,     0.15015,     0.15115,     0.15215,     0.15315,     0.15415,     0.15516,     0.15616,     0.15716,     0.15816,     0.15916,     0.16016,     0.16116,     0.16216,     0.16316,     0.16416,     0.16517,     0.16617,     0.16717,\n",
      "           0.16817,     0.16917,     0.17017,     0.17117,     0.17217,     0.17317,     0.17417,     0.17518,     0.17618,     0.17718,     0.17818,     0.17918,     0.18018,     0.18118,     0.18218,     0.18318,     0.18418,     0.18519,     0.18619,     0.18719,     0.18819,     0.18919,     0.19019,     0.19119,\n",
      "           0.19219,     0.19319,     0.19419,      0.1952,      0.1962,      0.1972,      0.1982,      0.1992,      0.2002,      0.2012,      0.2022,      0.2032,      0.2042,     0.20521,     0.20621,     0.20721,     0.20821,     0.20921,     0.21021,     0.21121,     0.21221,     0.21321,     0.21421,     0.21522,\n",
      "           0.21622,     0.21722,     0.21822,     0.21922,     0.22022,     0.22122,     0.22222,     0.22322,     0.22422,     0.22523,     0.22623,     0.22723,     0.22823,     0.22923,     0.23023,     0.23123,     0.23223,     0.23323,     0.23423,     0.23524,     0.23624,     0.23724,     0.23824,     0.23924,\n",
      "           0.24024,     0.24124,     0.24224,     0.24324,     0.24424,     0.24525,     0.24625,     0.24725,     0.24825,     0.24925,     0.25025,     0.25125,     0.25225,     0.25325,     0.25425,     0.25526,     0.25626,     0.25726,     0.25826,     0.25926,     0.26026,     0.26126,     0.26226,     0.26326,\n",
      "           0.26426,     0.26527,     0.26627,     0.26727,     0.26827,     0.26927,     0.27027,     0.27127,     0.27227,     0.27327,     0.27427,     0.27528,     0.27628,     0.27728,     0.27828,     0.27928,     0.28028,     0.28128,     0.28228,     0.28328,     0.28428,     0.28529,     0.28629,     0.28729,\n",
      "           0.28829,     0.28929,     0.29029,     0.29129,     0.29229,     0.29329,     0.29429,      0.2953,      0.2963,      0.2973,      0.2983,      0.2993,      0.3003,      0.3013,      0.3023,      0.3033,      0.3043,     0.30531,     0.30631,     0.30731,     0.30831,     0.30931,     0.31031,     0.31131,\n",
      "           0.31231,     0.31331,     0.31431,     0.31532,     0.31632,     0.31732,     0.31832,     0.31932,     0.32032,     0.32132,     0.32232,     0.32332,     0.32432,     0.32533,     0.32633,     0.32733,     0.32833,     0.32933,     0.33033,     0.33133,     0.33233,     0.33333,     0.33433,     0.33534,\n",
      "           0.33634,     0.33734,     0.33834,     0.33934,     0.34034,     0.34134,     0.34234,     0.34334,     0.34434,     0.34535,     0.34635,     0.34735,     0.34835,     0.34935,     0.35035,     0.35135,     0.35235,     0.35335,     0.35435,     0.35536,     0.35636,     0.35736,     0.35836,     0.35936,\n",
      "           0.36036,     0.36136,     0.36236,     0.36336,     0.36436,     0.36537,     0.36637,     0.36737,     0.36837,     0.36937,     0.37037,     0.37137,     0.37237,     0.37337,     0.37437,     0.37538,     0.37638,     0.37738,     0.37838,     0.37938,     0.38038,     0.38138,     0.38238,     0.38338,\n",
      "           0.38438,     0.38539,     0.38639,     0.38739,     0.38839,     0.38939,     0.39039,     0.39139,     0.39239,     0.39339,     0.39439,      0.3954,      0.3964,      0.3974,      0.3984,      0.3994,      0.4004,      0.4014,      0.4024,      0.4034,      0.4044,     0.40541,     0.40641,     0.40741,\n",
      "           0.40841,     0.40941,     0.41041,     0.41141,     0.41241,     0.41341,     0.41441,     0.41542,     0.41642,     0.41742,     0.41842,     0.41942,     0.42042,     0.42142,     0.42242,     0.42342,     0.42442,     0.42543,     0.42643,     0.42743,     0.42843,     0.42943,     0.43043,     0.43143,\n",
      "           0.43243,     0.43343,     0.43443,     0.43544,     0.43644,     0.43744,     0.43844,     0.43944,     0.44044,     0.44144,     0.44244,     0.44344,     0.44444,     0.44545,     0.44645,     0.44745,     0.44845,     0.44945,     0.45045,     0.45145,     0.45245,     0.45345,     0.45445,     0.45546,\n",
      "           0.45646,     0.45746,     0.45846,     0.45946,     0.46046,     0.46146,     0.46246,     0.46346,     0.46446,     0.46547,     0.46647,     0.46747,     0.46847,     0.46947,     0.47047,     0.47147,     0.47247,     0.47347,     0.47447,     0.47548,     0.47648,     0.47748,     0.47848,     0.47948,\n",
      "           0.48048,     0.48148,     0.48248,     0.48348,     0.48448,     0.48549,     0.48649,     0.48749,     0.48849,     0.48949,     0.49049,     0.49149,     0.49249,     0.49349,     0.49449,      0.4955,      0.4965,      0.4975,      0.4985,      0.4995,      0.5005,      0.5015,      0.5025,      0.5035,\n",
      "            0.5045,     0.50551,     0.50651,     0.50751,     0.50851,     0.50951,     0.51051,     0.51151,     0.51251,     0.51351,     0.51451,     0.51552,     0.51652,     0.51752,     0.51852,     0.51952,     0.52052,     0.52152,     0.52252,     0.52352,     0.52452,     0.52553,     0.52653,     0.52753,\n",
      "           0.52853,     0.52953,     0.53053,     0.53153,     0.53253,     0.53353,     0.53453,     0.53554,     0.53654,     0.53754,     0.53854,     0.53954,     0.54054,     0.54154,     0.54254,     0.54354,     0.54454,     0.54555,     0.54655,     0.54755,     0.54855,     0.54955,     0.55055,     0.55155,\n",
      "           0.55255,     0.55355,     0.55455,     0.55556,     0.55656,     0.55756,     0.55856,     0.55956,     0.56056,     0.56156,     0.56256,     0.56356,     0.56456,     0.56557,     0.56657,     0.56757,     0.56857,     0.56957,     0.57057,     0.57157,     0.57257,     0.57357,     0.57457,     0.57558,\n",
      "           0.57658,     0.57758,     0.57858,     0.57958,     0.58058,     0.58158,     0.58258,     0.58358,     0.58458,     0.58559,     0.58659,     0.58759,     0.58859,     0.58959,     0.59059,     0.59159,     0.59259,     0.59359,     0.59459,      0.5956,      0.5966,      0.5976,      0.5986,      0.5996,\n",
      "            0.6006,      0.6016,      0.6026,      0.6036,      0.6046,     0.60561,     0.60661,     0.60761,     0.60861,     0.60961,     0.61061,     0.61161,     0.61261,     0.61361,     0.61461,     0.61562,     0.61662,     0.61762,     0.61862,     0.61962,     0.62062,     0.62162,     0.62262,     0.62362,\n",
      "           0.62462,     0.62563,     0.62663,     0.62763,     0.62863,     0.62963,     0.63063,     0.63163,     0.63263,     0.63363,     0.63463,     0.63564,     0.63664,     0.63764,     0.63864,     0.63964,     0.64064,     0.64164,     0.64264,     0.64364,     0.64464,     0.64565,     0.64665,     0.64765,\n",
      "           0.64865,     0.64965,     0.65065,     0.65165,     0.65265,     0.65365,     0.65465,     0.65566,     0.65666,     0.65766,     0.65866,     0.65966,     0.66066,     0.66166,     0.66266,     0.66366,     0.66466,     0.66567,     0.66667,     0.66767,     0.66867,     0.66967,     0.67067,     0.67167,\n",
      "           0.67267,     0.67367,     0.67467,     0.67568,     0.67668,     0.67768,     0.67868,     0.67968,     0.68068,     0.68168,     0.68268,     0.68368,     0.68468,     0.68569,     0.68669,     0.68769,     0.68869,     0.68969,     0.69069,     0.69169,     0.69269,     0.69369,     0.69469,      0.6957,\n",
      "            0.6967,      0.6977,      0.6987,      0.6997,      0.7007,      0.7017,      0.7027,      0.7037,      0.7047,     0.70571,     0.70671,     0.70771,     0.70871,     0.70971,     0.71071,     0.71171,     0.71271,     0.71371,     0.71471,     0.71572,     0.71672,     0.71772,     0.71872,     0.71972,\n",
      "           0.72072,     0.72172,     0.72272,     0.72372,     0.72472,     0.72573,     0.72673,     0.72773,     0.72873,     0.72973,     0.73073,     0.73173,     0.73273,     0.73373,     0.73473,     0.73574,     0.73674,     0.73774,     0.73874,     0.73974,     0.74074,     0.74174,     0.74274,     0.74374,\n",
      "           0.74474,     0.74575,     0.74675,     0.74775,     0.74875,     0.74975,     0.75075,     0.75175,     0.75275,     0.75375,     0.75475,     0.75576,     0.75676,     0.75776,     0.75876,     0.75976,     0.76076,     0.76176,     0.76276,     0.76376,     0.76476,     0.76577,     0.76677,     0.76777,\n",
      "           0.76877,     0.76977,     0.77077,     0.77177,     0.77277,     0.77377,     0.77477,     0.77578,     0.77678,     0.77778,     0.77878,     0.77978,     0.78078,     0.78178,     0.78278,     0.78378,     0.78478,     0.78579,     0.78679,     0.78779,     0.78879,     0.78979,     0.79079,     0.79179,\n",
      "           0.79279,     0.79379,     0.79479,      0.7958,      0.7968,      0.7978,      0.7988,      0.7998,      0.8008,      0.8018,      0.8028,      0.8038,      0.8048,     0.80581,     0.80681,     0.80781,     0.80881,     0.80981,     0.81081,     0.81181,     0.81281,     0.81381,     0.81481,     0.81582,\n",
      "           0.81682,     0.81782,     0.81882,     0.81982,     0.82082,     0.82182,     0.82282,     0.82382,     0.82482,     0.82583,     0.82683,     0.82783,     0.82883,     0.82983,     0.83083,     0.83183,     0.83283,     0.83383,     0.83483,     0.83584,     0.83684,     0.83784,     0.83884,     0.83984,\n",
      "           0.84084,     0.84184,     0.84284,     0.84384,     0.84484,     0.84585,     0.84685,     0.84785,     0.84885,     0.84985,     0.85085,     0.85185,     0.85285,     0.85385,     0.85485,     0.85586,     0.85686,     0.85786,     0.85886,     0.85986,     0.86086,     0.86186,     0.86286,     0.86386,\n",
      "           0.86486,     0.86587,     0.86687,     0.86787,     0.86887,     0.86987,     0.87087,     0.87187,     0.87287,     0.87387,     0.87487,     0.87588,     0.87688,     0.87788,     0.87888,     0.87988,     0.88088,     0.88188,     0.88288,     0.88388,     0.88488,     0.88589,     0.88689,     0.88789,\n",
      "           0.88889,     0.88989,     0.89089,     0.89189,     0.89289,     0.89389,     0.89489,      0.8959,      0.8969,      0.8979,      0.8989,      0.8999,      0.9009,      0.9019,      0.9029,      0.9039,      0.9049,     0.90591,     0.90691,     0.90791,     0.90891,     0.90991,     0.91091,     0.91191,\n",
      "           0.91291,     0.91391,     0.91491,     0.91592,     0.91692,     0.91792,     0.91892,     0.91992,     0.92092,     0.92192,     0.92292,     0.92392,     0.92492,     0.92593,     0.92693,     0.92793,     0.92893,     0.92993,     0.93093,     0.93193,     0.93293,     0.93393,     0.93493,     0.93594,\n",
      "           0.93694,     0.93794,     0.93894,     0.93994,     0.94094,     0.94194,     0.94294,     0.94394,     0.94494,     0.94595,     0.94695,     0.94795,     0.94895,     0.94995,     0.95095,     0.95195,     0.95295,     0.95395,     0.95495,     0.95596,     0.95696,     0.95796,     0.95896,     0.95996,\n",
      "           0.96096,     0.96196,     0.96296,     0.96396,     0.96496,     0.96597,     0.96697,     0.96797,     0.96897,     0.96997,     0.97097,     0.97197,     0.97297,     0.97397,     0.97497,     0.97598,     0.97698,     0.97798,     0.97898,     0.97998,     0.98098,     0.98198,     0.98298,     0.98398,\n",
      "           0.98498,     0.98599,     0.98699,     0.98799,     0.98899,     0.98999,     0.99099,     0.99199,     0.99299,     0.99399,     0.99499,       0.996,       0.997,       0.998,       0.999,           1]), array([[    0.95855,     0.95855,     0.94819,     0.94819,     0.94301,     0.93782,     0.93782,     0.93782,     0.93782,     0.93782,     0.93782,     0.93782,     0.93782,     0.93782,     0.93782,     0.93264,     0.93264,     0.93264,     0.93264,     0.93264,     0.93264,     0.93264,     0.93264,\n",
      "            0.93264,     0.93264,     0.92746,     0.92746,     0.92746,     0.92746,     0.92746,     0.92746,     0.92746,     0.92746,     0.92746,     0.92746,     0.92746,     0.92746,     0.92746,     0.92746,     0.92746,     0.92319,     0.92228,     0.92228,     0.92228,     0.92228,     0.92228,\n",
      "            0.92228,     0.92228,     0.92228,     0.92228,     0.92228,     0.92228,     0.92228,     0.92228,     0.92228,     0.92228,     0.92228,     0.92228,     0.92228,     0.92228,     0.92228,     0.92228,     0.92228,     0.92228,     0.92228,     0.92228,     0.92228,     0.92228,     0.92228,\n",
      "            0.92228,     0.92228,     0.92228,     0.92228,     0.92228,      0.9171,      0.9171,      0.9171,      0.9171,      0.9171,      0.9171,      0.9171,      0.9171,      0.9171,      0.9171,      0.9171,      0.9171,      0.9171,      0.9171,      0.9171,      0.9171,      0.9171,      0.9171,\n",
      "             0.9171,      0.9171,     0.91394,     0.91192,     0.91192,     0.91192,     0.91192,     0.91192,     0.91192,     0.91192,     0.91192,     0.91192,     0.91192,     0.91192,     0.91192,     0.91192,     0.91192,     0.91192,     0.91192,     0.91192,     0.91192,     0.91192,     0.91192,\n",
      "            0.91192,     0.91192,     0.91192,     0.91192,     0.91192,     0.91192,     0.91192,     0.91043,     0.90845,     0.90674,     0.90674,     0.90674,     0.90674,     0.90674,     0.90674,     0.90674,     0.90674,     0.90674,     0.90674,     0.90674,     0.90674,     0.90674,     0.90674,\n",
      "            0.90674,     0.90674,     0.90674,     0.90674,     0.90674,     0.90674,     0.90674,     0.90674,     0.90674,     0.90674,     0.90674,     0.90674,     0.90674,     0.90674,     0.90674,     0.90674,     0.90674,     0.90674,     0.90674,     0.90674,     0.90674,     0.90674,     0.90674,\n",
      "            0.90674,     0.90674,     0.90674,     0.90674,     0.90674,     0.90674,     0.90674,     0.90674,     0.90155,     0.90155,     0.90155,     0.90155,     0.90155,     0.90155,     0.90155,     0.90155,     0.90155,     0.90155,     0.90155,     0.90155,     0.90155,     0.90155,     0.90155,\n",
      "            0.90155,     0.90155,     0.90155,     0.90155,     0.90155,     0.90155,     0.90155,     0.90155,     0.90155,     0.90155,     0.90155,     0.90039,     0.89637,     0.89637,     0.89637,     0.89637,     0.89637,     0.89374,     0.89119,     0.89119,     0.89119,     0.89119,     0.89119,\n",
      "            0.89119,     0.89119,     0.89119,     0.89119,     0.89119,     0.89119,     0.89119,     0.89119,     0.89119,     0.89119,     0.89119,     0.89119,     0.89119,     0.89119,     0.89119,     0.89119,     0.89119,     0.89119,     0.89119,     0.89119,     0.89119,     0.89119,     0.89119,\n",
      "            0.89119,     0.89119,     0.89119,     0.89119,     0.89119,     0.89119,     0.89119,     0.89119,     0.89119,     0.89119,     0.89119,     0.89119,     0.89119,     0.89119,     0.89119,     0.89119,     0.89119,     0.89119,     0.89119,     0.89119,     0.89119,     0.89119,     0.89119,\n",
      "            0.89119,     0.89119,     0.89119,     0.89119,     0.89119,     0.89119,     0.89119,     0.89119,     0.89119,     0.89119,     0.89119,     0.89119,     0.89119,     0.89119,     0.89119,     0.89119,     0.89119,     0.89119,     0.89119,     0.89119,     0.89119,     0.89119,     0.89119,\n",
      "            0.89119,     0.88979,      0.8879,     0.88601,     0.88601,     0.88601,     0.88601,     0.88601,     0.88601,     0.88601,     0.88601,     0.88601,     0.88601,     0.88601,     0.88601,     0.88601,     0.88601,     0.88601,     0.88601,     0.88601,     0.88601,     0.88601,     0.88601,\n",
      "            0.88601,     0.88601,     0.88601,     0.88601,     0.88601,     0.88601,     0.88601,     0.88601,     0.88601,     0.88601,     0.88601,     0.88601,     0.88601,     0.88601,     0.88601,     0.88601,     0.88601,     0.88601,     0.88601,     0.88601,     0.88601,     0.88601,     0.88574,\n",
      "             0.8854,     0.88506,     0.88472,     0.88438,     0.88404,      0.8837,     0.88336,     0.88302,     0.88268,     0.88234,       0.882,     0.88166,     0.88132,     0.88098,     0.88083,     0.88083,     0.88083,     0.88083,     0.88083,     0.88083,     0.88083,     0.88083,     0.88083,\n",
      "            0.88083,     0.88083,     0.88083,     0.88083,     0.88083,     0.88083,     0.88083,     0.88083,     0.88083,     0.88083,     0.88083,     0.88083,     0.88083,     0.88083,     0.88083,     0.88083,     0.88083,     0.88083,     0.88083,     0.88083,     0.88083,     0.88083,     0.88083,\n",
      "            0.88083,     0.88083,     0.88083,     0.88083,     0.88083,     0.88083,     0.88083,     0.88083,     0.88083,     0.88083,     0.88083,     0.88083,     0.87699,     0.87565,     0.87565,     0.87565,     0.87565,     0.87565,     0.87565,     0.87565,      0.8739,     0.86992,     0.86746,\n",
      "            0.86528,     0.86378,     0.86228,     0.86077,      0.8601,      0.8597,     0.85897,     0.85823,      0.8575,     0.85676,     0.85602,     0.85529,     0.85492,     0.85492,     0.85492,     0.85492,     0.85492,     0.85492,     0.85492,     0.85492,     0.85492,     0.85492,     0.85492,\n",
      "            0.85492,     0.85477,     0.85422,     0.85367,     0.85312,     0.85257,     0.85202,     0.85147,     0.85092,     0.85037,     0.84982,     0.84842,      0.8469,     0.84537,     0.84456,     0.84456,     0.84456,     0.84456,     0.84456,     0.84456,     0.84456,     0.84456,     0.84456,\n",
      "            0.84432,     0.84373,     0.84314,     0.84255,     0.84196,     0.84137,     0.84078,     0.84019,     0.83961,     0.83219,     0.82902,     0.82902,     0.82902,     0.82902,     0.82902,     0.82902,     0.82902,     0.82902,     0.82902,     0.82902,     0.82902,     0.82902,     0.82902,\n",
      "            0.82902,     0.82588,     0.82319,     0.82149,     0.81979,     0.81865,     0.81865,     0.81865,     0.81865,     0.81865,     0.81865,     0.81593,     0.81347,     0.81347,     0.81347,     0.81347,     0.81347,     0.81347,     0.81347,     0.81347,     0.81347,     0.81347,     0.81347,\n",
      "            0.81347,     0.81347,     0.81347,     0.81347,     0.81347,     0.81347,     0.81347,     0.81347,     0.81275,     0.81195,     0.81116,     0.81036,     0.80957,     0.80877,     0.80829,     0.80311,     0.80311,     0.80311,     0.80311,     0.80311,     0.80311,     0.80146,     0.79938,\n",
      "            0.79793,     0.79766,     0.79713,     0.79659,     0.79606,     0.79552,     0.79499,     0.79445,     0.79392,     0.79338,     0.79285,     0.79275,     0.79275,     0.79275,     0.79275,     0.79275,     0.79275,     0.79275,     0.79275,     0.78993,     0.78756,     0.78756,     0.78756,\n",
      "            0.78756,     0.78756,     0.78756,     0.78756,     0.78756,     0.78691,     0.78506,      0.7832,     0.78131,      0.7794,     0.77748,     0.77516,     0.77276,     0.77138,     0.77046,     0.76953,     0.76861,     0.76768,     0.76684,     0.76684,     0.76684,     0.76684,     0.76684,\n",
      "            0.76684,     0.76684,     0.76684,     0.76684,     0.76684,     0.76684,     0.76684,     0.76684,     0.76684,     0.76234,     0.75925,     0.75669,     0.75648,     0.75629,     0.75581,     0.75532,     0.75483,     0.75435,     0.75386,     0.75337,     0.75289,      0.7524,     0.75191,\n",
      "            0.75143,     0.75081,     0.75014,     0.74947,     0.74879,     0.74812,     0.74745,     0.74678,     0.74611,     0.74611,     0.74611,     0.74611,     0.74611,     0.74611,     0.74611,     0.74611,     0.74611,     0.74611,     0.74611,     0.74611,     0.74611,     0.74611,     0.74611,\n",
      "            0.74611,     0.74611,     0.74611,     0.74611,     0.74611,     0.74611,     0.74611,     0.74227,     0.74093,     0.74093,     0.73892,      0.7361,     0.73575,     0.73575,     0.73575,     0.73575,     0.73507,     0.73431,     0.73355,      0.7328,     0.73204,     0.73128,     0.73057,\n",
      "            0.73057,     0.73057,     0.73057,     0.73057,     0.73057,     0.73057,     0.73057,     0.72959,      0.7284,     0.72722,     0.72604,     0.72539,     0.72411,     0.72215,     0.72021,     0.72021,     0.72021,     0.72021,     0.72021,     0.72021,     0.72021,     0.72021,     0.72021,\n",
      "            0.72021,     0.72021,     0.72021,     0.72021,     0.72021,     0.72021,     0.72021,     0.71904,     0.71549,      0.7138,     0.71238,     0.71096,     0.70958,     0.70833,     0.70707,     0.70582,     0.70466,     0.70466,     0.70466,     0.70466,     0.70466,     0.70466,     0.70363,\n",
      "            0.69947,     0.69912,     0.69877,     0.69842,     0.69807,     0.69772,     0.69737,     0.69701,     0.69666,     0.69631,     0.69596,     0.69561,     0.69526,      0.6949,     0.69455,     0.69357,     0.69098,     0.68839,      0.6858,     0.68344,      0.6817,     0.67995,     0.67876,\n",
      "            0.67876,     0.67876,     0.67876,     0.67876,     0.67876,     0.67738,      0.6754,     0.67358,     0.67273,     0.67169,     0.67066,     0.66962,     0.66858,     0.66421,     0.65421,     0.65149,     0.64984,     0.64819,     0.64517,     0.64196,     0.63997,     0.63798,     0.63731,\n",
      "             0.6312,      0.6295,      0.6278,     0.62614,     0.62452,      0.6229,     0.62151,     0.62068,     0.61984,     0.61901,     0.61817,     0.61733,     0.61658,     0.61658,     0.61658,     0.61658,     0.61658,     0.61658,     0.61658,     0.60954,     0.60563,     0.60341,      0.6012,\n",
      "            0.59631,     0.59454,      0.5931,     0.59166,     0.58843,     0.57953,     0.57802,     0.57651,     0.57513,     0.57513,     0.57513,     0.57513,     0.57513,     0.56661,     0.56477,     0.55982,     0.55323,     0.55092,      0.5489,     0.54768,     0.54645,     0.54523,     0.54404,\n",
      "            0.54331,     0.54024,     0.53471,     0.53239,      0.5309,      0.5294,     0.52818,     0.52736,     0.52655,     0.52573,     0.52492,      0.5241,     0.52313,     0.51818,     0.51655,     0.51496,     0.51336,     0.51112,     0.50866,     0.50696,     0.50568,     0.50441,     0.50314,\n",
      "            0.50199,     0.50095,      0.4999,     0.49885,     0.49781,     0.48961,     0.48518,     0.48044,     0.47483,     0.47205,     0.46632,     0.46632,     0.46632,     0.46632,     0.46632,     0.46632,     0.46607,     0.46461,     0.46315,     0.46169,     0.46031,     0.45899,     0.45766,\n",
      "            0.45634,     0.45425,     0.45187,      0.4448,     0.43005,     0.43005,        0.43,     0.42775,      0.4255,     0.42451,     0.42401,     0.42351,     0.42302,     0.42252,     0.42202,     0.42152,     0.42102,     0.42052,     0.42002,     0.41937,     0.41843,     0.41749,     0.41654,\n",
      "             0.4156,     0.41466,     0.41451,     0.41451,     0.41358,     0.41069,     0.40888,     0.40803,     0.40717,     0.40632,     0.40547,     0.40462,     0.40306,     0.40063,     0.39417,     0.39197,     0.39012,     0.38841,      0.3874,     0.38638,     0.38536,     0.38434,     0.38178,\n",
      "            0.37707,     0.37561,     0.37415,     0.37213,      0.3685,     0.36487,     0.36269,     0.35968,     0.35007,      0.3412,     0.33407,     0.32779,     0.32547,     0.32413,      0.3228,     0.32147,      0.3181,     0.31063,     0.30613,     0.30489,     0.30363,     0.30238,     0.30112,\n",
      "            0.29012,     0.28483,     0.28232,     0.27981,     0.27517,       0.271,     0.26594,     0.26222,     0.25933,     0.25079,     0.24785,     0.24655,     0.24525,     0.24394,     0.23817,     0.23684,     0.23551,     0.23418,     0.22744,     0.22501,     0.21741,     0.21384,     0.21192,\n",
      "            0.21107,     0.21022,     0.20937,     0.20852,     0.20767,     0.20654,     0.20516,     0.20378,     0.20239,     0.20207,     0.19822,     0.19054,     0.18765,     0.17576,     0.17478,     0.17381,     0.17284,     0.17186,     0.17064,     0.16717,     0.16204,      0.1598,     0.15873,\n",
      "            0.15767,      0.1566,     0.15553,     0.15441,     0.15328,     0.15215,     0.15102,     0.14973,     0.14809,     0.14645,     0.14289,     0.13274,     0.12926,     0.12527,     0.12198,     0.11628,     0.10586,    0.095168,    0.091586,    0.089169,    0.082867,    0.081749,    0.080631,\n",
      "           0.079513,    0.078394,    0.072537,    0.069358,    0.065118,    0.061501,    0.060186,     0.05887,    0.057555,    0.055643,    0.053288,    0.051494,    0.050639,    0.049784,    0.048929,    0.048074,    0.047219,    0.044353,    0.036107,    0.034994,     0.03388,    0.032767,    0.031654,\n",
      "           0.030837,    0.030327,    0.029817,    0.029307,    0.028797,    0.028287,    0.027777,    0.027267,    0.026757,    0.026246,    0.020512,     0.01986,    0.019209,    0.018557,    0.017906,    0.017255,    0.016603,    0.015952,    0.015081,    0.013844,    0.012606,    0.011368,           0,\n",
      "                  0,           0,           0,           0,           0,           0,           0,           0,           0,           0,           0]]), 'Confidence', 'Recall']]\n",
      "fitness: 0.6929680263707814\n",
      "keys: ['metrics/precision(B)', 'metrics/recall(B)', 'metrics/mAP50(B)', 'metrics/mAP50-95(B)']\n",
      "maps: array([    0.67403])\n",
      "names: {0: 'pothole'}\n",
      "plot: True\n",
      "results_dict: {'metrics/precision(B)': 0.7877400753219854, 'metrics/recall(B)': 0.8549222797927462, 'metrics/mAP50(B)': 0.8634328722545686, 'metrics/mAP50-95(B)': 0.6740274879392494, 'fitness': 0.6929680263707814}\n",
      "save_dir: PosixPath('runs/detect/val3')\n",
      "speed: {'preprocess': 2.0277630199085586, 'inference': 98.30869761380283, 'loss': 0.00021240927956321022, 'postprocess': 0.673718885941939}\n",
      "task: 'detect'\n",
      "Running inference on test images...\n",
      "\n",
      "image 1/55 /home/shashank/Desktop/Mini_project /dataset/pothole detection new.v1i.yolov8/test/images/images175_jpg.rf.1634080d28f106ac29e6d2b01966336c.jpg: 640x640 3 potholes, 106.9ms\n",
      "image 2/55 /home/shashank/Desktop/Mini_project /dataset/pothole detection new.v1i.yolov8/test/images/images179_jpg.rf.d8042106ac4c2b997d4d8b77fd1ca834.jpg: 640x640 1 pothole, 79.8ms\n",
      "image 3/55 /home/shashank/Desktop/Mini_project /dataset/pothole detection new.v1i.yolov8/test/images/images180_jpg.rf.55bb77fed9909b23e964ea70903761ae.jpg: 640x640 8 potholes, 85.9ms\n",
      "image 4/55 /home/shashank/Desktop/Mini_project /dataset/pothole detection new.v1i.yolov8/test/images/images180_jpg.rf.848007cd62029dedc749862146e78094.jpg: 640x640 9 potholes, 102.5ms\n",
      "image 5/55 /home/shashank/Desktop/Mini_project /dataset/pothole detection new.v1i.yolov8/test/images/images199_jpg.rf.d10efbdfe5db0dd272fde4669e8e6055.jpg: 640x640 2 potholes, 101.1ms\n",
      "image 6/55 /home/shashank/Desktop/Mini_project /dataset/pothole detection new.v1i.yolov8/test/images/images199_jpg.rf.e21f6ce2a9001fc5e2f4896097b03325.jpg: 640x640 2 potholes, 96.1ms\n",
      "image 7/55 /home/shashank/Desktop/Mini_project /dataset/pothole detection new.v1i.yolov8/test/images/images208_jpg.rf.ffbd23494f9be0f3b0218afbc20291f2.jpg: 640x640 43 potholes, 94.7ms\n",
      "image 8/55 /home/shashank/Desktop/Mini_project /dataset/pothole detection new.v1i.yolov8/test/images/images212_jpg.rf.2702258db98163b1a176d52aa7759e22.jpg: 640x640 1 pothole, 95.9ms\n",
      "image 9/55 /home/shashank/Desktop/Mini_project /dataset/pothole detection new.v1i.yolov8/test/images/images212_jpg.rf.78679050117f7255cc9814a7d1048d39.jpg: 640x640 1 pothole, 94.2ms\n",
      "image 10/55 /home/shashank/Desktop/Mini_project /dataset/pothole detection new.v1i.yolov8/test/images/images212_jpg.rf.b98be8197ac35120b24eeac1b0bf52a0.jpg: 640x640 1 pothole, 96.5ms\n",
      "image 11/55 /home/shashank/Desktop/Mini_project /dataset/pothole detection new.v1i.yolov8/test/images/images212_jpg.rf.d9187fe4d063ca2c97c1a7c3bfb526b3.jpg: 640x640 1 pothole, 95.7ms\n",
      "image 12/55 /home/shashank/Desktop/Mini_project /dataset/pothole detection new.v1i.yolov8/test/images/images218_jpg.rf.6ed6eabc4d9f1b8aeb66a28d5e204ad4.jpg: 640x640 18 potholes, 98.3ms\n",
      "image 13/55 /home/shashank/Desktop/Mini_project /dataset/pothole detection new.v1i.yolov8/test/images/images218_jpg.rf.78eeea1c701222d7b2a677bc2b1066a1.jpg: 640x640 23 potholes, 143.7ms\n",
      "image 14/55 /home/shashank/Desktop/Mini_project /dataset/pothole detection new.v1i.yolov8/test/images/images218_jpg.rf.a257a2e9a20fc0d9d16a1bf8154c8435.jpg: 640x640 22 potholes, 97.5ms\n",
      "image 15/55 /home/shashank/Desktop/Mini_project /dataset/pothole detection new.v1i.yolov8/test/images/images218_jpg.rf.cd36d57245c75418a9130d17cb1ba8d0.jpg: 640x640 21 potholes, 102.3ms\n",
      "image 16/55 /home/shashank/Desktop/Mini_project /dataset/pothole detection new.v1i.yolov8/test/images/images219_jpg.rf.1b91f92a0ecc9088514f734bc0d5753a.jpg: 640x640 1 pothole, 92.0ms\n",
      "image 17/55 /home/shashank/Desktop/Mini_project /dataset/pothole detection new.v1i.yolov8/test/images/images219_jpg.rf.20bf2aaadf6048c13d46b84671c5a178.jpg: 640x640 1 pothole, 89.0ms\n",
      "image 18/55 /home/shashank/Desktop/Mini_project /dataset/pothole detection new.v1i.yolov8/test/images/images219_jpg.rf.35fe9b255633542716f6ad1deec9e33d.jpg: 640x640 1 pothole, 83.6ms\n",
      "image 19/55 /home/shashank/Desktop/Mini_project /dataset/pothole detection new.v1i.yolov8/test/images/images21_jpg.rf.f8bf0d6a12ed91e0278b3578930c7711.jpg: 640x640 25 potholes, 90.3ms\n",
      "image 20/55 /home/shashank/Desktop/Mini_project /dataset/pothole detection new.v1i.yolov8/test/images/images220_jpg.rf.b378522c1e8ec54ed641b72e51f8ff90.jpg: 640x640 1 pothole, 91.7ms\n",
      "image 21/55 /home/shashank/Desktop/Mini_project /dataset/pothole detection new.v1i.yolov8/test/images/images224_jpg.rf.6f606cf81eca74a8e3e96e1fe240c916.jpg: 640x640 2 potholes, 91.0ms\n",
      "image 22/55 /home/shashank/Desktop/Mini_project /dataset/pothole detection new.v1i.yolov8/test/images/images224_jpg.rf.c9a7bd43ff23225f2658dc8da6c0f802.jpg: 640x640 1 pothole, 89.6ms\n",
      "image 23/55 /home/shashank/Desktop/Mini_project /dataset/pothole detection new.v1i.yolov8/test/images/youtube-23_jpg.rf.f27af40b76ecf4d26bcff2d9d069598d.jpg: 640x640 2 potholes, 97.1ms\n",
      "image 24/55 /home/shashank/Desktop/Mini_project /dataset/pothole detection new.v1i.yolov8/test/images/youtube-24_jpg.rf.4c138dbc0f5e94f377f35942bf381390.jpg: 640x640 2 potholes, 100.7ms\n",
      "image 25/55 /home/shashank/Desktop/Mini_project /dataset/pothole detection new.v1i.yolov8/test/images/youtube-25_jpg.rf.816ada118b36a24561aa06e86d4fe507.jpg: 640x640 1 pothole, 93.4ms\n",
      "image 26/55 /home/shashank/Desktop/Mini_project /dataset/pothole detection new.v1i.yolov8/test/images/youtube-25_jpg.rf.8fe6f814aafff805a9863fd067e3f388.jpg: 640x640 1 pothole, 109.7ms\n",
      "image 27/55 /home/shashank/Desktop/Mini_project /dataset/pothole detection new.v1i.yolov8/test/images/youtube-25_jpg.rf.a49aee79e446343171d87d59f89c85d3.jpg: 640x640 1 pothole, 93.0ms\n",
      "image 28/55 /home/shashank/Desktop/Mini_project /dataset/pothole detection new.v1i.yolov8/test/images/youtube-26_jpg.rf.4e499730ab92259f28b647b9ea40eb87.jpg: 640x640 3 potholes, 100.5ms\n",
      "image 29/55 /home/shashank/Desktop/Mini_project /dataset/pothole detection new.v1i.yolov8/test/images/youtube-26_jpg.rf.6dac4510df8fe6d422dffd20b3e0217b.jpg: 640x640 2 potholes, 90.9ms\n",
      "image 30/55 /home/shashank/Desktop/Mini_project /dataset/pothole detection new.v1i.yolov8/test/images/youtube-26_jpg.rf.fba19257ec1ab3451dacbfd0db07e1d1.jpg: 640x640 2 potholes, 98.9ms\n",
      "image 31/55 /home/shashank/Desktop/Mini_project /dataset/pothole detection new.v1i.yolov8/test/images/youtube-27_jpg.rf.1552aee985e82a38f851b350c029465c.jpg: 640x640 2 potholes, 98.5ms\n",
      "image 32/55 /home/shashank/Desktop/Mini_project /dataset/pothole detection new.v1i.yolov8/test/images/youtube-28_jpg.rf.5ab2eecf9086756429db5c5ab6de4248.jpg: 640x640 1 pothole, 97.1ms\n",
      "image 33/55 /home/shashank/Desktop/Mini_project /dataset/pothole detection new.v1i.yolov8/test/images/youtube-28_jpg.rf.5b14c2450a561bdacf4d6b5b585c1f13.jpg: 640x640 2 potholes, 144.4ms\n",
      "image 34/55 /home/shashank/Desktop/Mini_project /dataset/pothole detection new.v1i.yolov8/test/images/youtube-28_jpg.rf.6456b8d5f9bb7215795ddf2c857e7b7f.jpg: 640x640 3 potholes, 102.8ms\n",
      "image 35/55 /home/shashank/Desktop/Mini_project /dataset/pothole detection new.v1i.yolov8/test/images/youtube-28_jpg.rf.6c4bbd333e50e80aae28e159af7f8d4d.jpg: 640x640 2 potholes, 92.7ms\n",
      "image 36/55 /home/shashank/Desktop/Mini_project /dataset/pothole detection new.v1i.yolov8/test/images/youtube-28_jpg.rf.72d999959b2f5fe63bafe2a501aaa7fd.jpg: 640x640 2 potholes, 90.2ms\n",
      "image 37/55 /home/shashank/Desktop/Mini_project /dataset/pothole detection new.v1i.yolov8/test/images/youtube-28_jpg.rf.8861f33f21071dd77b78aafe885fe402.jpg: 640x640 2 potholes, 94.3ms\n",
      "image 38/55 /home/shashank/Desktop/Mini_project /dataset/pothole detection new.v1i.yolov8/test/images/youtube-29_jpg.rf.226477fab11fd61381e735130cacb10e.jpg: 640x640 3 potholes, 92.0ms\n",
      "image 39/55 /home/shashank/Desktop/Mini_project /dataset/pothole detection new.v1i.yolov8/test/images/youtube-29_jpg.rf.52f79aad5498098db36b35c6a17e5b70.jpg: 640x640 2 potholes, 93.8ms\n",
      "image 40/55 /home/shashank/Desktop/Mini_project /dataset/pothole detection new.v1i.yolov8/test/images/youtube-29_jpg.rf.5d2039590ca35c79ff1c17b75fc0c03f.jpg: 640x640 2 potholes, 92.4ms\n",
      "image 41/55 /home/shashank/Desktop/Mini_project /dataset/pothole detection new.v1i.yolov8/test/images/youtube-29_jpg.rf.85d74ddef3f2ca1a7beab88d946bdcee.jpg: 640x640 2 potholes, 93.7ms\n",
      "image 42/55 /home/shashank/Desktop/Mini_project /dataset/pothole detection new.v1i.yolov8/test/images/youtube-29_jpg.rf.d55153a633abc8285429d3ab1215dd37.jpg: 640x640 1 pothole, 101.8ms\n",
      "image 43/55 /home/shashank/Desktop/Mini_project /dataset/pothole detection new.v1i.yolov8/test/images/youtube-29_jpg.rf.ea0c5797a0c90d73037669598673f5ac.jpg: 640x640 1 pothole, 103.7ms\n",
      "image 44/55 /home/shashank/Desktop/Mini_project /dataset/pothole detection new.v1i.yolov8/test/images/youtube-29_jpg.rf.ec21ae1bba41cb6c2df6f7417704aa5c.jpg: 640x640 2 potholes, 94.7ms\n",
      "image 45/55 /home/shashank/Desktop/Mini_project /dataset/pothole detection new.v1i.yolov8/test/images/youtube-2_jpg.rf.20d224850090419a0304a3554a98c4d6.jpg: 640x640 6 potholes, 91.2ms\n",
      "image 46/55 /home/shashank/Desktop/Mini_project /dataset/pothole detection new.v1i.yolov8/test/images/youtube-30_jpg.rf.52bf2558ad972c493972f23d222b77a2.jpg: 640x640 2 potholes, 91.3ms\n",
      "image 47/55 /home/shashank/Desktop/Mini_project /dataset/pothole detection new.v1i.yolov8/test/images/youtube-31_jpg.rf.244d4a9602958a9b77814084f4a38ff7.jpg: 640x640 1 pothole, 89.8ms\n",
      "image 48/55 /home/shashank/Desktop/Mini_project /dataset/pothole detection new.v1i.yolov8/test/images/youtube-31_jpg.rf.3edb9d3e7a3455a38feaa6fa8a24b875.jpg: 640x640 1 pothole, 90.9ms\n",
      "image 49/55 /home/shashank/Desktop/Mini_project /dataset/pothole detection new.v1i.yolov8/test/images/youtube-31_jpg.rf.41211a88f4cb76284927aef31a758ee2.jpg: 640x640 2 potholes, 85.4ms\n",
      "image 50/55 /home/shashank/Desktop/Mini_project /dataset/pothole detection new.v1i.yolov8/test/images/youtube-31_jpg.rf.4d95ccd906e79395a311f2178b7d6068.jpg: 640x640 1 pothole, 84.8ms\n",
      "image 51/55 /home/shashank/Desktop/Mini_project /dataset/pothole detection new.v1i.yolov8/test/images/youtube-31_jpg.rf.66644be38df38b8dfda4a44a81a379af.jpg: 640x640 2 potholes, 89.9ms\n",
      "image 52/55 /home/shashank/Desktop/Mini_project /dataset/pothole detection new.v1i.yolov8/test/images/youtube-31_jpg.rf.7793593c3ccc87784786ad89ae0371b7.jpg: 640x640 1 pothole, 90.7ms\n",
      "image 53/55 /home/shashank/Desktop/Mini_project /dataset/pothole detection new.v1i.yolov8/test/images/youtube-31_jpg.rf.cab61b6c2395fdac99a26145a8bb9b2d.jpg: 640x640 1 pothole, 92.0ms\n",
      "image 54/55 /home/shashank/Desktop/Mini_project /dataset/pothole detection new.v1i.yolov8/test/images/youtube-32_jpg.rf.672b4f09dcd7c7450ec0c1ceec084a04.jpg: 640x640 1 pothole, 99.2ms\n",
      "image 55/55 /home/shashank/Desktop/Mini_project /dataset/pothole detection new.v1i.yolov8/test/images/youtube-32_jpg.rf.980bea49a8267016f341299dfb9fe6be.jpg: 640x640 1 pothole, 109.8ms\n",
      "Speed: 2.1ms preprocess, 96.5ms inference, 1.4ms postprocess per image at shape (1, 3, 640, 640)\n",
      "Results saved to \u001b[1mruns/detect/predict7\u001b[0m\n",
      "Visualization completed. Check results folder.\n"
     ]
    }
   ],
   "source": [
    "print(\"Validating the model...\")\n",
    "val_results = model.val(data=\"/home/shashank/Desktop/Mini_project /dataset/pothole detection new.v1i.yolov8/pothole.yaml\") \n",
    "print(\"Validation Results:\", val_results)\n",
    "\n",
    "# Step 6: Perform Inference on Test Images\n",
    "test_images = \"/home/shashank/Desktop/Mini_project /dataset/pothole detection new.v1i.yolov8/test/images\"\n",
    "print(\"Running inference on test images...\")\n",
    "predict_results = model.predict(source=test_images, save=True, imgsz=640)\n",
    "\n",
    "print(\"Visualization completed. Check results folder.\")"
   ]
  },
  {
   "cell_type": "code",
   "execution_count": 1,
   "metadata": {},
   "outputs": [
    {
     "name": "stdout",
     "output_type": "stream",
     "text": [
      "\n",
      "image 1/1 /home/shashank/Desktop/Mini_project /banglore_potholejpg.jpeg: 480x640 2 potholes, 89.4ms\n",
      "Speed: 3.8ms preprocess, 89.4ms inference, 2.1ms postprocess per image at shape (1, 3, 480, 640)\n",
      "Results saved to \u001b[1mruns/detect/predict9\u001b[0m\n",
      "Inference completed. Results saved at: [ultralytics.engine.results.Results object with attributes:\n",
      "\n",
      "boxes: ultralytics.engine.results.Boxes object\n",
      "keypoints: None\n",
      "masks: None\n",
      "names: {0: 'pothole'}\n",
      "obb: None\n",
      "orig_img: array([[[ 32,  27,  28],\n",
      "        [ 21,  16,  17],\n",
      "        [ 14,   9,  10],\n",
      "        ...,\n",
      "        [ 13,   8,   9],\n",
      "        [ 19,  14,  15],\n",
      "        [ 29,  24,  25]],\n",
      "\n",
      "       [[ 18,  13,  14],\n",
      "        [  7,   2,   3],\n",
      "        [  4,   0,   0],\n",
      "        ...,\n",
      "        [  2,   0,   0],\n",
      "        [  9,   7,   7],\n",
      "        [ 21,  19,  19]],\n",
      "\n",
      "       [[ 16,  11,  12],\n",
      "        [  5,   0,   1],\n",
      "        [  4,   0,   0],\n",
      "        ...,\n",
      "        [  0,   0,   0],\n",
      "        [  5,   5,   5],\n",
      "        [ 17,  17,  17]],\n",
      "\n",
      "       ...,\n",
      "\n",
      "       [[ 28,  54,  71],\n",
      "        [ 19,  35,  51],\n",
      "        [ 12,  16,  27],\n",
      "        ...,\n",
      "        [115, 167, 204],\n",
      "        [122, 171, 211],\n",
      "        [126, 172, 213]],\n",
      "\n",
      "       [[ 43,  66,  88],\n",
      "        [ 31,  45,  67],\n",
      "        [ 22,  26,  44],\n",
      "        ...,\n",
      "        [ 93, 144, 184],\n",
      "        [ 97, 145, 187],\n",
      "        [104, 149, 192]],\n",
      "\n",
      "       [[ 52,  71,  98],\n",
      "        [ 38,  51,  77],\n",
      "        [ 29,  33,  57],\n",
      "        ...,\n",
      "        [ 86, 136, 178],\n",
      "        [ 92, 139, 183],\n",
      "        [103, 148, 192]]], dtype=uint8)\n",
      "orig_shape: (900, 1200)\n",
      "path: '/home/shashank/Desktop/Mini_project /banglore_potholejpg.jpeg'\n",
      "probs: None\n",
      "save_dir: 'runs/detect/predict9'\n",
      "speed: {'preprocess': 3.7887096405029297, 'inference': 89.35713768005371, 'postprocess': 2.0546913146972656}]\n"
     ]
    }
   ],
   "source": [
    "from ultralytics import YOLO  # Import YOLOv8\n",
    "\n",
    "# Load the trained model\n",
    "model = YOLO(\"/home/shashank/Desktop/Mini_project /runs/detect/pothole_detection9/weights/best.pt\")  \n",
    "\n",
    "# Path to the image\n",
    "image_path = \"/home/shashank/Desktop/Mini_project /banglore_potholejpg.jpeg\"  \n",
    "\n",
    "# Run inference\n",
    "results = model.predict(source=image_path, save=True, conf=0.5) \n",
    "\n",
    "# Output the directory where results are saved\n",
    "print(\"Inference completed. Results saved at:\", results)\n"
   ]
  },
  {
   "cell_type": "code",
   "execution_count": null,
   "metadata": {},
   "outputs": [],
   "source": []
  }
 ],
 "metadata": {
  "kernelspec": {
   "display_name": "usr",
   "language": "python",
   "name": "python3"
  },
  "language_info": {
   "codemirror_mode": {
    "name": "ipython",
    "version": 3
   },
   "file_extension": ".py",
   "mimetype": "text/x-python",
   "name": "python",
   "nbconvert_exporter": "python",
   "pygments_lexer": "ipython3",
   "version": "3.10.12"
  }
 },
 "nbformat": 4,
 "nbformat_minor": 2
}
