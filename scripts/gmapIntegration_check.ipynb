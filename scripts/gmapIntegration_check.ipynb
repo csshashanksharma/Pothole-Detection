{
 "cells": [
  {
   "cell_type": "code",
   "execution_count": 2,
   "metadata": {},
   "outputs": [],
   "source": [
    "import serial  # For reading GPS data over serial communication\n",
    "import pynmea2  # For parsing GPS data\n",
    "from datetime import datetime\n"
   ]
  },
  {
   "cell_type": "code",
   "execution_count": 1,
   "metadata": {},
   "outputs": [
    {
     "name": "stdout",
     "output_type": "stream",
     "text": [
      "Connected to GPS server. Receiving data...\n",
      "Received GPS Data: {\"longitude\":77.5191134,\"latitude\":12.9156231,\"timestamp\":1736935783193,\"accuracy\":10.399999618530273,\"altitude\":761.3999633789062,\"altitude_accuracy\":1.8000688552856445,\"floor\":null,\"heading\":0.0,\"heading_accuracy\":0.0,\"speed\":0.019939439371228218,\"speed_accuracy\":0.10999999940395355,\"is_mocked\":false,\"gnss_satellite_count\":16.0,\"gnss_satellites_used_in_fix\":13.0}\n",
      "Received GPS Data: 8080\n",
      "Received GPS Data: {\"longitude\":77.5191121,\"latitude\":12.9156219,\"timestamp\":1736935784193,\"accuracy\":10.100000381469727,\"altitude\":761.3999633789062,\"altitude_accuracy\":1.5989725589752197,\"floor\":null,\"heading\":0.0,\"heading_accuracy\":0.0,\"speed\":0.07559926062822342,\"speed_accuracy\":0.10999999940395355,\"is_mocked\":false,\"gnss_satellite_count\":16.0,\"gnss_satellites_used_in_fix\":15.0}\n",
      "Received GPS Data: 8080\n",
      "Received GPS Data: {\"longitude\":77.5191117,\"latitude\":12.9156215,\"timestamp\":1736935785181,\"accuracy\":10.0,\"altitude\":761.3999633789062,\"altitude_accuracy\":1.608852505683899,\"floor\":null,\"heading\":0.0,\"heading_accuracy\":0.0,\"speed\":0.06969999521970749,\"speed_accuracy\":0.11999999731779099,\"is_mocked\":false,\"gnss_satellite_count\":16.0,\"gnss_satellites_used_in_fix\":13.0}\n",
      "Received GPS Data: 8080\n",
      "Received GPS Data: {\"longitude\":77.5190957,\"latitude\":12.9156104,\"timestamp\":1736935786191,\"accuracy\":9.800000190734863,\"altitude\":761.3999633789062,\"altitude_accuracy\":1.6189440488815308,\"floor\":null,\"heading\":234.4038848876953,\"heading_accuracy\":45.0,\"speed\":1.1885490417480469,\"speed_accuracy\":0.10999999940395355,\"is_mocked\":false,\"gnss_satellite_count\":16.0,\"gnss_satellites_used_in_fix\":14.0}\n",
      "Received GPS Data: 8080\n",
      "Received GPS Data: {\"longitude\":77.51909,\"latitude\":12.9156082,\"timestamp\":1736935787192,\"accuracy\":9.600000381469727,\"altitude\":761.3999633789062,\"altitude_accuracy\":1.6289563179016113,\"floor\":null,\"heading\":0.0,\"heading_accuracy\":0.0,\"speed\":0.00994022749364376,\"speed_accuracy\":0.10999999940395355,\"is_mocked\":false,\"gnss_satellite_count\":16.0,\"gnss_satellites_used_in_fix\":14.0}\n",
      "Received GPS Data: 8080\n",
      "Received GPS Data: {\"longitude\":77.5190891,\"latitude\":12.9156043,\"timestamp\":1736935788193,\"accuracy\":9.5,\"altitude\":761.3999633789062,\"altitude_accuracy\":1.6389663219451904,\"floor\":null,\"heading\":0.0,\"heading_accuracy\":0.0,\"speed\":0.009862441569566727,\"speed_accuracy\":0.11999999731779099,\"is_mocked\":false,\"gnss_satellite_count\":16.0,\"gnss_satellites_used_in_fix\":14.0}\n",
      "Received GPS Data: 8080\n",
      "Received GPS Data: {\"longitude\":77.5190865,\"latitude\":12.9155983,\"timestamp\":1736935789190,\"accuracy\":9.333000183105469,\"altitude\":761.3999633789062,\"altitude_accuracy\":1.6489382982254028,\"floor\":null,\"heading\":202.98907470703125,\"heading_accuracy\":45.0,\"speed\":0.31118521094322205,\"speed_accuracy\":0.11999999731779099,\"is_mocked\":false,\"gnss_satellite_count\":16.0,\"gnss_satellites_used_in_fix\":15.0}\n",
      "Received GPS Data: 8080\n",
      "Received GPS Data: {\"longitude\":77.5190857,\"latitude\":12.9155965,\"timestamp\":1736935790195,\"accuracy\":9.199999809265137,\"altitude\":761.3999633789062,\"altitude_accuracy\":1.658983588218689,\"floor\":null,\"heading\":202.74534606933594,\"heading_accuracy\":45.0,\"speed\":0.26086413860321045,\"speed_accuracy\":0.10999999940395355,\"is_mocked\":false,\"gnss_satellite_count\":17.0,\"gnss_satellites_used_in_fix\":15.0}\n",
      "Received GPS Data: 8080\n"
     ]
    },
    {
     "ename": "KeyboardInterrupt",
     "evalue": "",
     "output_type": "error",
     "traceback": [
      "\u001b[0;31m---------------------------------------------------------------------------\u001b[0m",
      "\u001b[0;31mKeyboardInterrupt\u001b[0m                         Traceback (most recent call last)",
      "Cell \u001b[0;32mIn[1], line 22\u001b[0m\n\u001b[1;32m     19\u001b[0m         \u001b[38;5;28mprint\u001b[39m(\u001b[38;5;124mf\u001b[39m\u001b[38;5;124m\"\u001b[39m\u001b[38;5;124mError: \u001b[39m\u001b[38;5;132;01m{\u001b[39;00me\u001b[38;5;132;01m}\u001b[39;00m\u001b[38;5;124m\"\u001b[39m)\n\u001b[1;32m     21\u001b[0m \u001b[38;5;66;03m# Start receiving GPS data\u001b[39;00m\n\u001b[0;32m---> 22\u001b[0m \u001b[43mget_gps_data\u001b[49m\u001b[43m(\u001b[49m\u001b[43mgps_ip\u001b[49m\u001b[43m,\u001b[49m\u001b[43m \u001b[49m\u001b[43mgps_port\u001b[49m\u001b[43m)\u001b[49m\n",
      "Cell \u001b[0;32mIn[1], line 16\u001b[0m, in \u001b[0;36mget_gps_data\u001b[0;34m(ip, port)\u001b[0m\n\u001b[1;32m     12\u001b[0m         \u001b[38;5;28mprint\u001b[39m(\u001b[38;5;124m\"\u001b[39m\u001b[38;5;124mConnected to GPS server. Receiving data...\u001b[39m\u001b[38;5;124m\"\u001b[39m)\n\u001b[1;32m     14\u001b[0m         \u001b[38;5;28;01mwhile\u001b[39;00m \u001b[38;5;28;01mTrue\u001b[39;00m:\n\u001b[1;32m     15\u001b[0m             \u001b[38;5;66;03m# Read GPS data\u001b[39;00m\n\u001b[0;32m---> 16\u001b[0m             data \u001b[38;5;241m=\u001b[39m \u001b[43ms\u001b[49m\u001b[38;5;241;43m.\u001b[39;49m\u001b[43mrecv\u001b[49m\u001b[43m(\u001b[49m\u001b[38;5;241;43m1024\u001b[39;49m\u001b[43m)\u001b[49m\u001b[38;5;241m.\u001b[39mdecode(\u001b[38;5;124m\"\u001b[39m\u001b[38;5;124mascii\u001b[39m\u001b[38;5;124m\"\u001b[39m, errors\u001b[38;5;241m=\u001b[39m\u001b[38;5;124m\"\u001b[39m\u001b[38;5;124mreplace\u001b[39m\u001b[38;5;124m\"\u001b[39m)\n\u001b[1;32m     17\u001b[0m             \u001b[38;5;28mprint\u001b[39m(\u001b[38;5;124m\"\u001b[39m\u001b[38;5;124mReceived GPS Data:\u001b[39m\u001b[38;5;124m\"\u001b[39m, data)\n\u001b[1;32m     18\u001b[0m \u001b[38;5;28;01mexcept\u001b[39;00m \u001b[38;5;167;01mException\u001b[39;00m \u001b[38;5;28;01mas\u001b[39;00m e:\n",
      "\u001b[0;31mKeyboardInterrupt\u001b[0m: "
     ]
    }
   ],
   "source": [
    "import socket\n",
    "\n",
    "gps_ip = \"192.168.1.2\"  \n",
    "gps_port = 8080             \n",
    "def get_gps_data(ip, port):\n",
    "    try:\n",
    "        with socket.socket(socket.AF_INET, socket.SOCK_STREAM) as s:\n",
    "            s.connect((ip, port))\n",
    "            print(\"Connected to GPS server. Receiving data...\")\n",
    "            \n",
    "            while True:\n",
    "                # Read GPS data\n",
    "                data = s.recv(1024).decode(\"ascii\", errors=\"replace\")\n",
    "                print(\"Received GPS Data:\", data)\n",
    "    except Exception as e:\n",
    "        print(f\"Error: {e}\")\n",
    "\n",
    "get_gps_data(gps_ip, gps_port)\n"
   ]
  },
  {
   "cell_type": "code",
   "execution_count": null,
   "metadata": {},
   "outputs": [],
   "source": []
  }
 ],
 "metadata": {
  "kernelspec": {
   "display_name": "usr",
   "language": "python",
   "name": "python3"
  },
  "language_info": {
   "codemirror_mode": {
    "name": "ipython",
    "version": 3
   },
   "file_extension": ".py",
   "mimetype": "text/x-python",
   "name": "python",
   "nbconvert_exporter": "python",
   "pygments_lexer": "ipython3",
   "version": "3.10.12"
  }
 },
 "nbformat": 4,
 "nbformat_minor": 2
}
