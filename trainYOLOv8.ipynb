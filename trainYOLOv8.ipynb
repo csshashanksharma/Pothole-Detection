{
 "cells": [
  {
   "cell_type": "code",
   "execution_count": 2,
   "metadata": {},
   "outputs": [
    {
     "name": "stdout",
     "output_type": "stream",
     "text": [
      "Starting training...\n",
      "New https://pypi.org/project/ultralytics/8.3.59 available 😃 Update with 'pip install -U ultralytics'\n",
      "Ultralytics 8.3.58 🚀 Python-3.10.12 torch-2.5.1+cu124 CPU (12th Gen Intel Core(TM) i5-1235U)\n",
      "\u001b[34m\u001b[1mengine/trainer: \u001b[0mtask=detect, mode=train, model=yolov8n.pt, data=/home/shashank/Desktop/Mini_project /dataset/pothole detection new.v1i.yolov8/pothole.yaml, epochs=50, time=None, patience=100, batch=16, imgsz=640, save=True, save_period=-1, cache=False, device=None, workers=8, project=None, name=pothole_detection2, exist_ok=False, pretrained=True, optimizer=auto, verbose=True, seed=0, deterministic=True, single_cls=False, rect=False, cos_lr=False, close_mosaic=10, resume=False, amp=True, fraction=1.0, profile=False, freeze=None, multi_scale=False, overlap_mask=True, mask_ratio=4, dropout=0.0, val=True, split=val, save_json=False, save_hybrid=False, conf=None, iou=0.7, max_det=300, half=False, dnn=False, plots=True, source=None, vid_stride=1, stream_buffer=False, visualize=False, augment=False, agnostic_nms=False, classes=None, retina_masks=False, embed=None, show=False, save_frames=False, save_txt=False, save_conf=False, save_crop=False, show_labels=True, show_conf=True, show_boxes=True, line_width=None, format=torchscript, keras=False, optimize=False, int8=False, dynamic=False, simplify=True, opset=None, workspace=None, nms=False, lr0=0.01, lrf=0.01, momentum=0.937, weight_decay=0.0005, warmup_epochs=3.0, warmup_momentum=0.8, warmup_bias_lr=0.1, box=7.5, cls=0.5, dfl=1.5, pose=12.0, kobj=1.0, nbs=64, hsv_h=0.015, hsv_s=0.7, hsv_v=0.4, degrees=0.0, translate=0.1, scale=0.5, shear=0.0, perspective=0.0, flipud=0.0, fliplr=0.5, bgr=0.0, mosaic=1.0, mixup=0.0, copy_paste=0.0, copy_paste_mode=flip, auto_augment=randaugment, erasing=0.4, crop_fraction=1.0, cfg=None, tracker=botsort.yaml, save_dir=runs/detect/pothole_detection2\n",
      "Downloading https://ultralytics.com/assets/Arial.ttf to '/home/shashank/.config/Ultralytics/Arial.ttf'...\n"
     ]
    },
    {
     "name": "stderr",
     "output_type": "stream",
     "text": [
      "100%|██████████| 755k/755k [00:00<00:00, 5.89MB/s]\n",
      "WARNING: All log messages before absl::InitializeLog() is called are written to STDERR\n",
      "E0000 00:00:1736481498.415478    5822 cuda_dnn.cc:8310] Unable to register cuDNN factory: Attempting to register factory for plugin cuDNN when one has already been registered\n",
      "E0000 00:00:1736481498.430519    5822 cuda_blas.cc:1418] Unable to register cuBLAS factory: Attempting to register factory for plugin cuBLAS when one has already been registered\n"
     ]
    },
    {
     "name": "stdout",
     "output_type": "stream",
     "text": [
      "Overriding model.yaml nc=80 with nc=1\n",
      "\n",
      "                   from  n    params  module                                       arguments                     \n",
      "  0                  -1  1       464  ultralytics.nn.modules.conv.Conv             [3, 16, 3, 2]                 \n",
      "  1                  -1  1      4672  ultralytics.nn.modules.conv.Conv             [16, 32, 3, 2]                \n",
      "  2                  -1  1      7360  ultralytics.nn.modules.block.C2f             [32, 32, 1, True]             \n",
      "  3                  -1  1     18560  ultralytics.nn.modules.conv.Conv             [32, 64, 3, 2]                \n",
      "  4                  -1  2     49664  ultralytics.nn.modules.block.C2f             [64, 64, 2, True]             \n",
      "  5                  -1  1     73984  ultralytics.nn.modules.conv.Conv             [64, 128, 3, 2]               \n",
      "  6                  -1  2    197632  ultralytics.nn.modules.block.C2f             [128, 128, 2, True]           \n",
      "  7                  -1  1    295424  ultralytics.nn.modules.conv.Conv             [128, 256, 3, 2]              \n",
      "  8                  -1  1    460288  ultralytics.nn.modules.block.C2f             [256, 256, 1, True]           \n",
      "  9                  -1  1    164608  ultralytics.nn.modules.block.SPPF            [256, 256, 5]                 \n",
      " 10                  -1  1         0  torch.nn.modules.upsampling.Upsample         [None, 2, 'nearest']          \n",
      " 11             [-1, 6]  1         0  ultralytics.nn.modules.conv.Concat           [1]                           \n",
      " 12                  -1  1    148224  ultralytics.nn.modules.block.C2f             [384, 128, 1]                 \n",
      " 13                  -1  1         0  torch.nn.modules.upsampling.Upsample         [None, 2, 'nearest']          \n",
      " 14             [-1, 4]  1         0  ultralytics.nn.modules.conv.Concat           [1]                           \n",
      " 15                  -1  1     37248  ultralytics.nn.modules.block.C2f             [192, 64, 1]                  \n",
      " 16                  -1  1     36992  ultralytics.nn.modules.conv.Conv             [64, 64, 3, 2]                \n",
      " 17            [-1, 12]  1         0  ultralytics.nn.modules.conv.Concat           [1]                           \n",
      " 18                  -1  1    123648  ultralytics.nn.modules.block.C2f             [192, 128, 1]                 \n",
      " 19                  -1  1    147712  ultralytics.nn.modules.conv.Conv             [128, 128, 3, 2]              \n",
      " 20             [-1, 9]  1         0  ultralytics.nn.modules.conv.Concat           [1]                           \n",
      " 21                  -1  1    493056  ultralytics.nn.modules.block.C2f             [384, 256, 1]                 \n",
      " 22        [15, 18, 21]  1    751507  ultralytics.nn.modules.head.Detect           [1, [64, 128, 256]]           \n",
      "Model summary: 225 layers, 3,011,043 parameters, 3,011,027 gradients, 8.2 GFLOPs\n",
      "\n",
      "Transferred 319/355 items from pretrained weights\n",
      "\u001b[34m\u001b[1mTensorBoard: \u001b[0mStart with 'tensorboard --logdir runs/detect/pothole_detection2', view at http://localhost:6006/\n",
      "Freezing layer 'model.22.dfl.conv.weight'\n"
     ]
    },
    {
     "name": "stderr",
     "output_type": "stream",
     "text": [
      "\u001b[34m\u001b[1mtrain: \u001b[0mScanning /home/shashank/Desktop/Mini_project /dataset/pothole detection new.v1i.yolov8/train/labels... 372 images, 0 backgrounds, 0 corrupt: 100%|██████████| 372/372 [00:00<00:00, 795.68it/s]"
     ]
    },
    {
     "name": "stdout",
     "output_type": "stream",
     "text": [
      "\u001b[34m\u001b[1mtrain: \u001b[0mNew cache created: /home/shashank/Desktop/Mini_project /dataset/pothole detection new.v1i.yolov8/train/labels.cache\n"
     ]
    },
    {
     "name": "stderr",
     "output_type": "stream",
     "text": [
      "\n",
      "\u001b[34m\u001b[1mval: \u001b[0mScanning /home/shashank/Desktop/Mini_project /dataset/pothole detection new.v1i.yolov8/test/labels... 55 images, 0 backgrounds, 0 corrupt: 100%|██████████| 55/55 [00:00<00:00, 897.43it/s]"
     ]
    },
    {
     "name": "stdout",
     "output_type": "stream",
     "text": [
      "\u001b[34m\u001b[1mval: \u001b[0mNew cache created: /home/shashank/Desktop/Mini_project /dataset/pothole detection new.v1i.yolov8/test/labels.cache\n"
     ]
    },
    {
     "name": "stderr",
     "output_type": "stream",
     "text": [
      "\n"
     ]
    },
    {
     "name": "stdout",
     "output_type": "stream",
     "text": [
      "Plotting labels to runs/detect/pothole_detection2/labels.jpg... \n",
      "\u001b[34m\u001b[1moptimizer:\u001b[0m 'optimizer=auto' found, ignoring 'lr0=0.01' and 'momentum=0.937' and determining best 'optimizer', 'lr0' and 'momentum' automatically... \n",
      "\u001b[34m\u001b[1moptimizer:\u001b[0m AdamW(lr=0.002, momentum=0.9) with parameter groups 57 weight(decay=0.0), 64 weight(decay=0.0005), 63 bias(decay=0.0)\n",
      "\u001b[34m\u001b[1mTensorBoard: \u001b[0mmodel graph visualization added ✅\n",
      "Image sizes 640 train, 640 val\n",
      "Using 0 dataloader workers\n",
      "Logging results to \u001b[1mruns/detect/pothole_detection2\u001b[0m\n",
      "Starting training for 50 epochs...\n",
      "\n",
      "      Epoch    GPU_mem   box_loss   cls_loss   dfl_loss  Instances       Size\n"
     ]
    },
    {
     "name": "stderr",
     "output_type": "stream",
     "text": [
      "       1/50         0G      1.395      2.697      1.343         34        640: 100%|██████████| 24/24 [01:42<00:00,  4.27s/it]\n",
      "                 Class     Images  Instances      Box(P          R      mAP50  mAP50-95): 100%|██████████| 2/2 [00:06<00:00,  3.07s/it]"
     ]
    },
    {
     "name": "stdout",
     "output_type": "stream",
     "text": [
      "                   all         55        193     0.0102       0.87       0.26      0.129\n"
     ]
    },
    {
     "name": "stderr",
     "output_type": "stream",
     "text": [
      "\n"
     ]
    },
    {
     "name": "stdout",
     "output_type": "stream",
     "text": [
      "\n",
      "      Epoch    GPU_mem   box_loss   cls_loss   dfl_loss  Instances       Size\n"
     ]
    },
    {
     "name": "stderr",
     "output_type": "stream",
     "text": [
      "       2/50         0G      1.178       1.76      1.236         14        640: 100%|██████████| 24/24 [01:36<00:00,  4.04s/it]\n",
      "                 Class     Images  Instances      Box(P          R      mAP50  mAP50-95): 100%|██████████| 2/2 [00:05<00:00,  2.81s/it]"
     ]
    },
    {
     "name": "stdout",
     "output_type": "stream",
     "text": [
      "                   all         55        193    0.00727      0.622     0.0909     0.0409\n"
     ]
    },
    {
     "name": "stderr",
     "output_type": "stream",
     "text": [
      "\n"
     ]
    },
    {
     "name": "stdout",
     "output_type": "stream",
     "text": [
      "\n",
      "      Epoch    GPU_mem   box_loss   cls_loss   dfl_loss  Instances       Size\n"
     ]
    },
    {
     "name": "stderr",
     "output_type": "stream",
     "text": [
      "       3/50         0G      1.158      1.547      1.198         39        640: 100%|██████████| 24/24 [01:38<00:00,  4.12s/it]\n",
      "                 Class     Images  Instances      Box(P          R      mAP50  mAP50-95): 100%|██████████| 2/2 [00:06<00:00,  3.06s/it]"
     ]
    },
    {
     "name": "stdout",
     "output_type": "stream",
     "text": [
      "                   all         55        193      0.409      0.192      0.182      0.105\n"
     ]
    },
    {
     "name": "stderr",
     "output_type": "stream",
     "text": [
      "\n"
     ]
    },
    {
     "name": "stdout",
     "output_type": "stream",
     "text": [
      "\n",
      "      Epoch    GPU_mem   box_loss   cls_loss   dfl_loss  Instances       Size\n"
     ]
    },
    {
     "name": "stderr",
     "output_type": "stream",
     "text": [
      "       4/50         0G       1.24       1.62      1.282         11        640: 100%|██████████| 24/24 [01:39<00:00,  4.13s/it]\n",
      "                 Class     Images  Instances      Box(P          R      mAP50  mAP50-95): 100%|██████████| 2/2 [00:06<00:00,  3.01s/it]"
     ]
    },
    {
     "name": "stdout",
     "output_type": "stream",
     "text": [
      "                   all         55        193      0.239      0.269      0.156      0.085\n"
     ]
    },
    {
     "name": "stderr",
     "output_type": "stream",
     "text": [
      "\n"
     ]
    },
    {
     "name": "stdout",
     "output_type": "stream",
     "text": [
      "\n",
      "      Epoch    GPU_mem   box_loss   cls_loss   dfl_loss  Instances       Size\n"
     ]
    },
    {
     "name": "stderr",
     "output_type": "stream",
     "text": [
      "       5/50         0G      1.275      1.612      1.294         12        640: 100%|██████████| 24/24 [01:41<00:00,  4.24s/it]\n",
      "                 Class     Images  Instances      Box(P          R      mAP50  mAP50-95): 100%|██████████| 2/2 [00:05<00:00,  2.95s/it]"
     ]
    },
    {
     "name": "stdout",
     "output_type": "stream",
     "text": [
      "                   all         55        193      0.535      0.286      0.347      0.217\n"
     ]
    },
    {
     "name": "stderr",
     "output_type": "stream",
     "text": [
      "\n"
     ]
    },
    {
     "name": "stdout",
     "output_type": "stream",
     "text": [
      "\n",
      "      Epoch    GPU_mem   box_loss   cls_loss   dfl_loss  Instances       Size\n"
     ]
    },
    {
     "name": "stderr",
     "output_type": "stream",
     "text": [
      "       6/50         0G      1.228      1.443      1.249         20        640: 100%|██████████| 24/24 [01:39<00:00,  4.16s/it]\n",
      "                 Class     Images  Instances      Box(P          R      mAP50  mAP50-95): 100%|██████████| 2/2 [00:05<00:00,  2.91s/it]"
     ]
    },
    {
     "name": "stdout",
     "output_type": "stream",
     "text": [
      "                   all         55        193      0.437      0.306      0.308      0.165\n"
     ]
    },
    {
     "name": "stderr",
     "output_type": "stream",
     "text": [
      "\n"
     ]
    },
    {
     "name": "stdout",
     "output_type": "stream",
     "text": [
      "\n",
      "      Epoch    GPU_mem   box_loss   cls_loss   dfl_loss  Instances       Size\n"
     ]
    },
    {
     "name": "stderr",
     "output_type": "stream",
     "text": [
      "       7/50         0G      1.244       1.46      1.267         15        640: 100%|██████████| 24/24 [01:40<00:00,  4.17s/it]\n",
      "                 Class     Images  Instances      Box(P          R      mAP50  mAP50-95): 100%|██████████| 2/2 [00:05<00:00,  3.00s/it]"
     ]
    },
    {
     "name": "stdout",
     "output_type": "stream",
     "text": [
      "                   all         55        193      0.476      0.544      0.457      0.275\n"
     ]
    },
    {
     "name": "stderr",
     "output_type": "stream",
     "text": [
      "\n"
     ]
    },
    {
     "name": "stdout",
     "output_type": "stream",
     "text": [
      "\n",
      "      Epoch    GPU_mem   box_loss   cls_loss   dfl_loss  Instances       Size\n"
     ]
    },
    {
     "name": "stderr",
     "output_type": "stream",
     "text": [
      "       8/50         0G      1.234      1.409      1.279          8        640: 100%|██████████| 24/24 [01:39<00:00,  4.14s/it]\n",
      "                 Class     Images  Instances      Box(P          R      mAP50  mAP50-95): 100%|██████████| 2/2 [00:05<00:00,  2.85s/it]"
     ]
    },
    {
     "name": "stdout",
     "output_type": "stream",
     "text": [
      "                   all         55        193      0.604      0.538      0.575      0.347\n"
     ]
    },
    {
     "name": "stderr",
     "output_type": "stream",
     "text": [
      "\n"
     ]
    },
    {
     "name": "stdout",
     "output_type": "stream",
     "text": [
      "\n",
      "      Epoch    GPU_mem   box_loss   cls_loss   dfl_loss  Instances       Size\n"
     ]
    },
    {
     "name": "stderr",
     "output_type": "stream",
     "text": [
      "       9/50         0G       1.14       1.27      1.218         17        640: 100%|██████████| 24/24 [01:38<00:00,  4.10s/it]\n",
      "                 Class     Images  Instances      Box(P          R      mAP50  mAP50-95): 100%|██████████| 2/2 [00:05<00:00,  2.86s/it]"
     ]
    },
    {
     "name": "stdout",
     "output_type": "stream",
     "text": [
      "                   all         55        193      0.617      0.651      0.628       0.41\n"
     ]
    },
    {
     "name": "stderr",
     "output_type": "stream",
     "text": [
      "\n"
     ]
    },
    {
     "name": "stdout",
     "output_type": "stream",
     "text": [
      "\n",
      "      Epoch    GPU_mem   box_loss   cls_loss   dfl_loss  Instances       Size\n"
     ]
    },
    {
     "name": "stderr",
     "output_type": "stream",
     "text": [
      "      10/50         0G      1.179      1.329      1.227         20        640: 100%|██████████| 24/24 [01:36<00:00,  4.02s/it]\n",
      "                 Class     Images  Instances      Box(P          R      mAP50  mAP50-95): 100%|██████████| 2/2 [00:05<00:00,  2.82s/it]"
     ]
    },
    {
     "name": "stdout",
     "output_type": "stream",
     "text": [
      "                   all         55        193      0.612       0.58      0.611      0.408\n"
     ]
    },
    {
     "name": "stderr",
     "output_type": "stream",
     "text": [
      "\n"
     ]
    },
    {
     "name": "stdout",
     "output_type": "stream",
     "text": [
      "\n",
      "      Epoch    GPU_mem   box_loss   cls_loss   dfl_loss  Instances       Size\n"
     ]
    },
    {
     "name": "stderr",
     "output_type": "stream",
     "text": [
      "      11/50         0G       1.14      1.236      1.182         17        640: 100%|██████████| 24/24 [01:36<00:00,  4.00s/it]\n",
      "                 Class     Images  Instances      Box(P          R      mAP50  mAP50-95): 100%|██████████| 2/2 [00:04<00:00,  2.29s/it]"
     ]
    },
    {
     "name": "stdout",
     "output_type": "stream",
     "text": [
      "                   all         55        193      0.682      0.634      0.626      0.418\n"
     ]
    },
    {
     "name": "stderr",
     "output_type": "stream",
     "text": [
      "\n"
     ]
    },
    {
     "name": "stdout",
     "output_type": "stream",
     "text": [
      "\n",
      "      Epoch    GPU_mem   box_loss   cls_loss   dfl_loss  Instances       Size\n"
     ]
    },
    {
     "name": "stderr",
     "output_type": "stream",
     "text": [
      "      12/50         0G      1.129       1.22      1.199         31        640: 100%|██████████| 24/24 [01:25<00:00,  3.57s/it]\n",
      "                 Class     Images  Instances      Box(P          R      mAP50  mAP50-95): 100%|██████████| 2/2 [00:04<00:00,  2.38s/it]"
     ]
    },
    {
     "name": "stdout",
     "output_type": "stream",
     "text": [
      "                   all         55        193      0.717      0.629       0.71      0.479\n"
     ]
    },
    {
     "name": "stderr",
     "output_type": "stream",
     "text": [
      "\n"
     ]
    },
    {
     "name": "stdout",
     "output_type": "stream",
     "text": [
      "\n",
      "      Epoch    GPU_mem   box_loss   cls_loss   dfl_loss  Instances       Size\n"
     ]
    },
    {
     "name": "stderr",
     "output_type": "stream",
     "text": [
      "      13/50         0G      1.123      1.164      1.178         26        640: 100%|██████████| 24/24 [01:24<00:00,  3.53s/it]\n",
      "                 Class     Images  Instances      Box(P          R      mAP50  mAP50-95): 100%|██████████| 2/2 [00:04<00:00,  2.38s/it]"
     ]
    },
    {
     "name": "stdout",
     "output_type": "stream",
     "text": [
      "                   all         55        193      0.705      0.585      0.658      0.409\n"
     ]
    },
    {
     "name": "stderr",
     "output_type": "stream",
     "text": [
      "\n"
     ]
    },
    {
     "name": "stdout",
     "output_type": "stream",
     "text": [
      "\n",
      "      Epoch    GPU_mem   box_loss   cls_loss   dfl_loss  Instances       Size\n"
     ]
    },
    {
     "name": "stderr",
     "output_type": "stream",
     "text": [
      "      14/50         0G      1.086      1.122      1.166         15        640: 100%|██████████| 24/24 [01:24<00:00,  3.52s/it]\n",
      "                 Class     Images  Instances      Box(P          R      mAP50  mAP50-95): 100%|██████████| 2/2 [00:04<00:00,  2.45s/it]"
     ]
    },
    {
     "name": "stdout",
     "output_type": "stream",
     "text": [
      "                   all         55        193      0.697      0.611       0.67      0.449\n"
     ]
    },
    {
     "name": "stderr",
     "output_type": "stream",
     "text": [
      "\n"
     ]
    },
    {
     "name": "stdout",
     "output_type": "stream",
     "text": [
      "\n",
      "      Epoch    GPU_mem   box_loss   cls_loss   dfl_loss  Instances       Size\n"
     ]
    },
    {
     "name": "stderr",
     "output_type": "stream",
     "text": [
      "      15/50         0G      1.018      1.021      1.108         28        640: 100%|██████████| 24/24 [01:26<00:00,  3.59s/it]\n",
      "                 Class     Images  Instances      Box(P          R      mAP50  mAP50-95): 100%|██████████| 2/2 [00:05<00:00,  2.50s/it]"
     ]
    },
    {
     "name": "stdout",
     "output_type": "stream",
     "text": [
      "                   all         55        193      0.673      0.745      0.745      0.483\n"
     ]
    },
    {
     "name": "stderr",
     "output_type": "stream",
     "text": [
      "\n"
     ]
    },
    {
     "name": "stdout",
     "output_type": "stream",
     "text": [
      "\n",
      "      Epoch    GPU_mem   box_loss   cls_loss   dfl_loss  Instances       Size\n"
     ]
    },
    {
     "name": "stderr",
     "output_type": "stream",
     "text": [
      "      16/50         0G      1.015      1.016       1.12         25        640: 100%|██████████| 24/24 [01:26<00:00,  3.60s/it]\n",
      "                 Class     Images  Instances      Box(P          R      mAP50  mAP50-95): 100%|██████████| 2/2 [00:04<00:00,  2.48s/it]"
     ]
    },
    {
     "name": "stdout",
     "output_type": "stream",
     "text": [
      "                   all         55        193       0.74      0.677      0.732      0.499\n"
     ]
    },
    {
     "name": "stderr",
     "output_type": "stream",
     "text": [
      "\n"
     ]
    },
    {
     "name": "stdout",
     "output_type": "stream",
     "text": [
      "\n",
      "      Epoch    GPU_mem   box_loss   cls_loss   dfl_loss  Instances       Size\n"
     ]
    },
    {
     "name": "stderr",
     "output_type": "stream",
     "text": [
      "      17/50         0G       1.06      1.095      1.163          9        640: 100%|██████████| 24/24 [01:26<00:00,  3.61s/it]\n",
      "                 Class     Images  Instances      Box(P          R      mAP50  mAP50-95): 100%|██████████| 2/2 [00:04<00:00,  2.45s/it]"
     ]
    },
    {
     "name": "stdout",
     "output_type": "stream",
     "text": [
      "                   all         55        193      0.647       0.71      0.704      0.483\n"
     ]
    },
    {
     "name": "stderr",
     "output_type": "stream",
     "text": [
      "\n"
     ]
    },
    {
     "name": "stdout",
     "output_type": "stream",
     "text": [
      "\n",
      "      Epoch    GPU_mem   box_loss   cls_loss   dfl_loss  Instances       Size\n"
     ]
    },
    {
     "name": "stderr",
     "output_type": "stream",
     "text": [
      "      18/50         0G       1.02      1.041       1.13          6        640: 100%|██████████| 24/24 [01:26<00:00,  3.60s/it]\n",
      "                 Class     Images  Instances      Box(P          R      mAP50  mAP50-95): 100%|██████████| 2/2 [00:04<00:00,  2.46s/it]"
     ]
    },
    {
     "name": "stdout",
     "output_type": "stream",
     "text": [
      "                   all         55        193      0.741      0.648      0.744      0.526\n"
     ]
    },
    {
     "name": "stderr",
     "output_type": "stream",
     "text": [
      "\n"
     ]
    },
    {
     "name": "stdout",
     "output_type": "stream",
     "text": [
      "\n",
      "      Epoch    GPU_mem   box_loss   cls_loss   dfl_loss  Instances       Size\n"
     ]
    },
    {
     "name": "stderr",
     "output_type": "stream",
     "text": [
      "      19/50         0G      1.026      1.014       1.13         30        640: 100%|██████████| 24/24 [01:26<00:00,  3.61s/it]\n",
      "                 Class     Images  Instances      Box(P          R      mAP50  mAP50-95): 100%|██████████| 2/2 [00:04<00:00,  2.46s/it]"
     ]
    },
    {
     "name": "stdout",
     "output_type": "stream",
     "text": [
      "                   all         55        193      0.721      0.731      0.772      0.536\n"
     ]
    },
    {
     "name": "stderr",
     "output_type": "stream",
     "text": [
      "\n"
     ]
    },
    {
     "name": "stdout",
     "output_type": "stream",
     "text": [
      "\n",
      "      Epoch    GPU_mem   box_loss   cls_loss   dfl_loss  Instances       Size\n"
     ]
    },
    {
     "name": "stderr",
     "output_type": "stream",
     "text": [
      "      20/50         0G     0.9849     0.9947       1.11         57        640: 100%|██████████| 24/24 [01:26<00:00,  3.60s/it]\n",
      "                 Class     Images  Instances      Box(P          R      mAP50  mAP50-95): 100%|██████████| 2/2 [00:04<00:00,  2.40s/it]"
     ]
    },
    {
     "name": "stdout",
     "output_type": "stream",
     "text": [
      "                   all         55        193      0.659      0.684      0.735      0.526\n"
     ]
    },
    {
     "name": "stderr",
     "output_type": "stream",
     "text": [
      "\n"
     ]
    },
    {
     "name": "stdout",
     "output_type": "stream",
     "text": [
      "\n",
      "      Epoch    GPU_mem   box_loss   cls_loss   dfl_loss  Instances       Size\n"
     ]
    },
    {
     "name": "stderr",
     "output_type": "stream",
     "text": [
      "      21/50         0G      1.027      1.024      1.129         30        640: 100%|██████████| 24/24 [01:26<00:00,  3.61s/it]\n",
      "                 Class     Images  Instances      Box(P          R      mAP50  mAP50-95): 100%|██████████| 2/2 [00:04<00:00,  2.44s/it]"
     ]
    },
    {
     "name": "stdout",
     "output_type": "stream",
     "text": [
      "                   all         55        193      0.792      0.746      0.795      0.527\n"
     ]
    },
    {
     "name": "stderr",
     "output_type": "stream",
     "text": [
      "\n"
     ]
    },
    {
     "name": "stdout",
     "output_type": "stream",
     "text": [
      "\n",
      "      Epoch    GPU_mem   box_loss   cls_loss   dfl_loss  Instances       Size\n"
     ]
    },
    {
     "name": "stderr",
     "output_type": "stream",
     "text": [
      "      22/50         0G     0.9822     0.9681      1.111          9        640: 100%|██████████| 24/24 [01:27<00:00,  3.63s/it]\n",
      "                 Class     Images  Instances      Box(P          R      mAP50  mAP50-95): 100%|██████████| 2/2 [00:05<00:00,  2.52s/it]"
     ]
    },
    {
     "name": "stdout",
     "output_type": "stream",
     "text": [
      "                   all         55        193      0.761      0.746      0.781      0.557\n"
     ]
    },
    {
     "name": "stderr",
     "output_type": "stream",
     "text": [
      "\n"
     ]
    },
    {
     "name": "stdout",
     "output_type": "stream",
     "text": [
      "\n",
      "      Epoch    GPU_mem   box_loss   cls_loss   dfl_loss  Instances       Size\n"
     ]
    },
    {
     "name": "stderr",
     "output_type": "stream",
     "text": [
      "      23/50         0G     0.9876     0.9645      1.107         13        640: 100%|██████████| 24/24 [01:27<00:00,  3.64s/it]\n",
      "                 Class     Images  Instances      Box(P          R      mAP50  mAP50-95): 100%|██████████| 2/2 [00:04<00:00,  2.50s/it]"
     ]
    },
    {
     "name": "stdout",
     "output_type": "stream",
     "text": [
      "                   all         55        193      0.781      0.757       0.79      0.542\n"
     ]
    },
    {
     "name": "stderr",
     "output_type": "stream",
     "text": [
      "\n"
     ]
    },
    {
     "name": "stdout",
     "output_type": "stream",
     "text": [
      "\n",
      "      Epoch    GPU_mem   box_loss   cls_loss   dfl_loss  Instances       Size\n"
     ]
    },
    {
     "name": "stderr",
     "output_type": "stream",
     "text": [
      "      24/50         0G       1.01     0.9979      1.128         18        640: 100%|██████████| 24/24 [01:27<00:00,  3.65s/it]\n",
      "                 Class     Images  Instances      Box(P          R      mAP50  mAP50-95): 100%|██████████| 2/2 [00:05<00:00,  2.51s/it]"
     ]
    },
    {
     "name": "stdout",
     "output_type": "stream",
     "text": [
      "                   all         55        193      0.681      0.684      0.723       0.51\n"
     ]
    },
    {
     "name": "stderr",
     "output_type": "stream",
     "text": [
      "\n"
     ]
    },
    {
     "name": "stdout",
     "output_type": "stream",
     "text": [
      "\n",
      "      Epoch    GPU_mem   box_loss   cls_loss   dfl_loss  Instances       Size\n"
     ]
    },
    {
     "name": "stderr",
     "output_type": "stream",
     "text": [
      "      25/50         0G     0.9394     0.9183      1.093         28        640: 100%|██████████| 24/24 [01:28<00:00,  3.68s/it]\n",
      "                 Class     Images  Instances      Box(P          R      mAP50  mAP50-95): 100%|██████████| 2/2 [00:04<00:00,  2.47s/it]"
     ]
    },
    {
     "name": "stdout",
     "output_type": "stream",
     "text": [
      "                   all         55        193       0.77      0.746      0.791      0.557\n"
     ]
    },
    {
     "name": "stderr",
     "output_type": "stream",
     "text": [
      "\n"
     ]
    },
    {
     "name": "stdout",
     "output_type": "stream",
     "text": [
      "\n",
      "      Epoch    GPU_mem   box_loss   cls_loss   dfl_loss  Instances       Size\n"
     ]
    },
    {
     "name": "stderr",
     "output_type": "stream",
     "text": [
      "      26/50         0G     0.9743     0.8913      1.104         31        640: 100%|██████████| 24/24 [01:28<00:00,  3.69s/it]\n",
      "                 Class     Images  Instances      Box(P          R      mAP50  mAP50-95): 100%|██████████| 2/2 [00:05<00:00,  2.53s/it]"
     ]
    },
    {
     "name": "stdout",
     "output_type": "stream",
     "text": [
      "                   all         55        193      0.777      0.812      0.833      0.588\n"
     ]
    },
    {
     "name": "stderr",
     "output_type": "stream",
     "text": [
      "\n"
     ]
    },
    {
     "name": "stdout",
     "output_type": "stream",
     "text": [
      "\n",
      "      Epoch    GPU_mem   box_loss   cls_loss   dfl_loss  Instances       Size\n"
     ]
    },
    {
     "name": "stderr",
     "output_type": "stream",
     "text": [
      "      27/50         0G     0.9727     0.9135      1.115         23        640: 100%|██████████| 24/24 [01:28<00:00,  3.68s/it]\n",
      "                 Class     Images  Instances      Box(P          R      mAP50  mAP50-95): 100%|██████████| 2/2 [00:05<00:00,  2.56s/it]"
     ]
    },
    {
     "name": "stdout",
     "output_type": "stream",
     "text": [
      "                   all         55        193      0.771      0.793      0.827      0.601\n"
     ]
    },
    {
     "name": "stderr",
     "output_type": "stream",
     "text": [
      "\n"
     ]
    },
    {
     "name": "stdout",
     "output_type": "stream",
     "text": [
      "\n",
      "      Epoch    GPU_mem   box_loss   cls_loss   dfl_loss  Instances       Size\n"
     ]
    },
    {
     "name": "stderr",
     "output_type": "stream",
     "text": [
      "      28/50         0G     0.9346     0.9445      1.098         11        640: 100%|██████████| 24/24 [01:33<00:00,  3.90s/it]\n",
      "                 Class     Images  Instances      Box(P          R      mAP50  mAP50-95): 100%|██████████| 2/2 [00:05<00:00,  2.92s/it]"
     ]
    },
    {
     "name": "stdout",
     "output_type": "stream",
     "text": [
      "                   all         55        193       0.78      0.782      0.831      0.602\n"
     ]
    },
    {
     "name": "stderr",
     "output_type": "stream",
     "text": [
      "\n"
     ]
    },
    {
     "name": "stdout",
     "output_type": "stream",
     "text": [
      "\n",
      "      Epoch    GPU_mem   box_loss   cls_loss   dfl_loss  Instances       Size\n"
     ]
    },
    {
     "name": "stderr",
     "output_type": "stream",
     "text": [
      "      29/50         0G     0.9355     0.8867      1.093         12        640: 100%|██████████| 24/24 [01:36<00:00,  4.03s/it]\n",
      "                 Class     Images  Instances      Box(P          R      mAP50  mAP50-95): 100%|██████████| 2/2 [00:05<00:00,  2.65s/it]"
     ]
    },
    {
     "name": "stdout",
     "output_type": "stream",
     "text": [
      "                   all         55        193      0.759      0.749      0.781      0.571\n"
     ]
    },
    {
     "name": "stderr",
     "output_type": "stream",
     "text": [
      "\n"
     ]
    },
    {
     "name": "stdout",
     "output_type": "stream",
     "text": [
      "\n",
      "      Epoch    GPU_mem   box_loss   cls_loss   dfl_loss  Instances       Size\n"
     ]
    },
    {
     "name": "stderr",
     "output_type": "stream",
     "text": [
      "      30/50         0G     0.9436     0.9055      1.096         18        640: 100%|██████████| 24/24 [01:36<00:00,  4.03s/it]\n",
      "                 Class     Images  Instances      Box(P          R      mAP50  mAP50-95): 100%|██████████| 2/2 [00:05<00:00,  2.71s/it]"
     ]
    },
    {
     "name": "stdout",
     "output_type": "stream",
     "text": [
      "                   all         55        193      0.735      0.793      0.808      0.591\n"
     ]
    },
    {
     "name": "stderr",
     "output_type": "stream",
     "text": [
      "\n"
     ]
    },
    {
     "name": "stdout",
     "output_type": "stream",
     "text": [
      "\n",
      "      Epoch    GPU_mem   box_loss   cls_loss   dfl_loss  Instances       Size\n"
     ]
    },
    {
     "name": "stderr",
     "output_type": "stream",
     "text": [
      "      31/50         0G     0.9403     0.9448       1.11          7        640: 100%|██████████| 24/24 [01:36<00:00,  4.03s/it]\n",
      "                 Class     Images  Instances      Box(P          R      mAP50  mAP50-95): 100%|██████████| 2/2 [00:05<00:00,  2.73s/it]"
     ]
    },
    {
     "name": "stdout",
     "output_type": "stream",
     "text": [
      "                   all         55        193      0.818      0.767      0.849      0.618\n"
     ]
    },
    {
     "name": "stderr",
     "output_type": "stream",
     "text": [
      "\n"
     ]
    },
    {
     "name": "stdout",
     "output_type": "stream",
     "text": [
      "\n",
      "      Epoch    GPU_mem   box_loss   cls_loss   dfl_loss  Instances       Size\n"
     ]
    },
    {
     "name": "stderr",
     "output_type": "stream",
     "text": [
      "      32/50         0G     0.9122     0.8219      1.057         11        640: 100%|██████████| 24/24 [01:38<00:00,  4.10s/it]\n",
      "                 Class     Images  Instances      Box(P          R      mAP50  mAP50-95): 100%|██████████| 2/2 [00:05<00:00,  2.86s/it]"
     ]
    },
    {
     "name": "stdout",
     "output_type": "stream",
     "text": [
      "                   all         55        193      0.832       0.77      0.852      0.602\n"
     ]
    },
    {
     "name": "stderr",
     "output_type": "stream",
     "text": [
      "\n"
     ]
    },
    {
     "name": "stdout",
     "output_type": "stream",
     "text": [
      "\n",
      "      Epoch    GPU_mem   box_loss   cls_loss   dfl_loss  Instances       Size\n"
     ]
    },
    {
     "name": "stderr",
     "output_type": "stream",
     "text": [
      "      33/50         0G     0.9103      0.865      1.094         24        640: 100%|██████████| 24/24 [01:36<00:00,  4.03s/it]\n",
      "                 Class     Images  Instances      Box(P          R      mAP50  mAP50-95): 100%|██████████| 2/2 [00:05<00:00,  2.68s/it]"
     ]
    },
    {
     "name": "stdout",
     "output_type": "stream",
     "text": [
      "                   all         55        193      0.757      0.798      0.826      0.614\n"
     ]
    },
    {
     "name": "stderr",
     "output_type": "stream",
     "text": [
      "\n"
     ]
    },
    {
     "name": "stdout",
     "output_type": "stream",
     "text": [
      "\n",
      "      Epoch    GPU_mem   box_loss   cls_loss   dfl_loss  Instances       Size\n"
     ]
    },
    {
     "name": "stderr",
     "output_type": "stream",
     "text": [
      "      34/50         0G     0.8638     0.8129      1.048         32        640: 100%|██████████| 24/24 [01:37<00:00,  4.06s/it]\n",
      "                 Class     Images  Instances      Box(P          R      mAP50  mAP50-95): 100%|██████████| 2/2 [00:05<00:00,  2.76s/it]"
     ]
    },
    {
     "name": "stdout",
     "output_type": "stream",
     "text": [
      "                   all         55        193      0.779      0.808      0.812      0.616\n"
     ]
    },
    {
     "name": "stderr",
     "output_type": "stream",
     "text": [
      "\n"
     ]
    },
    {
     "name": "stdout",
     "output_type": "stream",
     "text": [
      "\n",
      "      Epoch    GPU_mem   box_loss   cls_loss   dfl_loss  Instances       Size\n"
     ]
    },
    {
     "name": "stderr",
     "output_type": "stream",
     "text": [
      "      35/50         0G     0.8886     0.8551      1.077         30        640: 100%|██████████| 24/24 [01:37<00:00,  4.06s/it]\n",
      "                 Class     Images  Instances      Box(P          R      mAP50  mAP50-95): 100%|██████████| 2/2 [00:05<00:00,  2.68s/it]"
     ]
    },
    {
     "name": "stdout",
     "output_type": "stream",
     "text": [
      "                   all         55        193      0.778      0.781      0.822      0.628\n"
     ]
    },
    {
     "name": "stderr",
     "output_type": "stream",
     "text": [
      "\n"
     ]
    },
    {
     "name": "stdout",
     "output_type": "stream",
     "text": [
      "\n",
      "      Epoch    GPU_mem   box_loss   cls_loss   dfl_loss  Instances       Size\n"
     ]
    },
    {
     "name": "stderr",
     "output_type": "stream",
     "text": [
      "      36/50         0G     0.8619     0.8089      1.052         11        640: 100%|██████████| 24/24 [01:36<00:00,  4.02s/it]\n",
      "                 Class     Images  Instances      Box(P          R      mAP50  mAP50-95): 100%|██████████| 2/2 [00:05<00:00,  2.77s/it]"
     ]
    },
    {
     "name": "stdout",
     "output_type": "stream",
     "text": [
      "                   all         55        193      0.837      0.808      0.844      0.632\n"
     ]
    },
    {
     "name": "stderr",
     "output_type": "stream",
     "text": [
      "\n"
     ]
    },
    {
     "name": "stdout",
     "output_type": "stream",
     "text": [
      "\n",
      "      Epoch    GPU_mem   box_loss   cls_loss   dfl_loss  Instances       Size\n"
     ]
    },
    {
     "name": "stderr",
     "output_type": "stream",
     "text": [
      "      37/50         0G     0.8536     0.7604      1.044         19        640: 100%|██████████| 24/24 [01:37<00:00,  4.06s/it]\n",
      "                 Class     Images  Instances      Box(P          R      mAP50  mAP50-95): 100%|██████████| 2/2 [00:05<00:00,  2.78s/it]"
     ]
    },
    {
     "name": "stdout",
     "output_type": "stream",
     "text": [
      "                   all         55        193      0.793      0.816      0.844       0.63\n"
     ]
    },
    {
     "name": "stderr",
     "output_type": "stream",
     "text": [
      "\n"
     ]
    },
    {
     "name": "stdout",
     "output_type": "stream",
     "text": [
      "\n",
      "      Epoch    GPU_mem   box_loss   cls_loss   dfl_loss  Instances       Size\n"
     ]
    },
    {
     "name": "stderr",
     "output_type": "stream",
     "text": [
      "      38/50         0G     0.8468     0.7503      1.049         22        640: 100%|██████████| 24/24 [01:37<00:00,  4.08s/it]\n",
      "                 Class     Images  Instances      Box(P          R      mAP50  mAP50-95): 100%|██████████| 2/2 [00:05<00:00,  2.79s/it]"
     ]
    },
    {
     "name": "stdout",
     "output_type": "stream",
     "text": [
      "                   all         55        193      0.819      0.767      0.849      0.632\n"
     ]
    },
    {
     "name": "stderr",
     "output_type": "stream",
     "text": [
      "\n"
     ]
    },
    {
     "name": "stdout",
     "output_type": "stream",
     "text": [
      "\n",
      "      Epoch    GPU_mem   box_loss   cls_loss   dfl_loss  Instances       Size\n"
     ]
    },
    {
     "name": "stderr",
     "output_type": "stream",
     "text": [
      "      39/50         0G     0.7894     0.7293      1.018         33        640: 100%|██████████| 24/24 [01:37<00:00,  4.07s/it]\n",
      "                 Class     Images  Instances      Box(P          R      mAP50  mAP50-95): 100%|██████████| 2/2 [00:05<00:00,  2.71s/it]"
     ]
    },
    {
     "name": "stdout",
     "output_type": "stream",
     "text": [
      "                   all         55        193      0.848      0.811      0.859      0.661\n"
     ]
    },
    {
     "name": "stderr",
     "output_type": "stream",
     "text": [
      "\n"
     ]
    },
    {
     "name": "stdout",
     "output_type": "stream",
     "text": [
      "\n",
      "      Epoch    GPU_mem   box_loss   cls_loss   dfl_loss  Instances       Size\n"
     ]
    },
    {
     "name": "stderr",
     "output_type": "stream",
     "text": [
      "      40/50         0G     0.8224     0.7369      1.036         23        640: 100%|██████████| 24/24 [01:37<00:00,  4.06s/it]\n",
      "                 Class     Images  Instances      Box(P          R      mAP50  mAP50-95): 100%|██████████| 2/2 [00:05<00:00,  2.75s/it]"
     ]
    },
    {
     "name": "stdout",
     "output_type": "stream",
     "text": [
      "                   all         55        193      0.825      0.805      0.859      0.658\n"
     ]
    },
    {
     "name": "stderr",
     "output_type": "stream",
     "text": [
      "\n"
     ]
    },
    {
     "name": "stdout",
     "output_type": "stream",
     "text": [
      "Closing dataloader mosaic\n",
      "\n",
      "      Epoch    GPU_mem   box_loss   cls_loss   dfl_loss  Instances       Size\n"
     ]
    },
    {
     "name": "stderr",
     "output_type": "stream",
     "text": [
      "      41/50         0G     0.8105     0.7676      1.028         62        640: 100%|██████████| 24/24 [01:38<00:00,  4.10s/it]\n",
      "                 Class     Images  Instances      Box(P          R      mAP50  mAP50-95): 100%|██████████| 2/2 [00:05<00:00,  2.73s/it]"
     ]
    },
    {
     "name": "stdout",
     "output_type": "stream",
     "text": [
      "                   all         55        193      0.826      0.793      0.859      0.653\n"
     ]
    },
    {
     "name": "stderr",
     "output_type": "stream",
     "text": [
      "\n"
     ]
    },
    {
     "name": "stdout",
     "output_type": "stream",
     "text": [
      "\n",
      "      Epoch    GPU_mem   box_loss   cls_loss   dfl_loss  Instances       Size\n"
     ]
    },
    {
     "name": "stderr",
     "output_type": "stream",
     "text": [
      "      42/50         0G     0.7964     0.7103      1.026         12        640: 100%|██████████| 24/24 [01:35<00:00,  3.98s/it]\n",
      "                 Class     Images  Instances      Box(P          R      mAP50  mAP50-95): 100%|██████████| 2/2 [00:05<00:00,  2.70s/it]"
     ]
    },
    {
     "name": "stdout",
     "output_type": "stream",
     "text": [
      "                   all         55        193      0.828        0.8      0.853      0.638\n"
     ]
    },
    {
     "name": "stderr",
     "output_type": "stream",
     "text": [
      "\n"
     ]
    },
    {
     "name": "stdout",
     "output_type": "stream",
     "text": [
      "\n",
      "      Epoch    GPU_mem   box_loss   cls_loss   dfl_loss  Instances       Size\n"
     ]
    },
    {
     "name": "stderr",
     "output_type": "stream",
     "text": [
      "      43/50         0G      0.785     0.7298      1.032         37        640: 100%|██████████| 24/24 [01:36<00:00,  4.00s/it]\n",
      "                 Class     Images  Instances      Box(P          R      mAP50  mAP50-95): 100%|██████████| 2/2 [00:05<00:00,  2.74s/it]"
     ]
    },
    {
     "name": "stdout",
     "output_type": "stream",
     "text": [
      "                   all         55        193      0.807      0.813      0.858      0.655\n"
     ]
    },
    {
     "name": "stderr",
     "output_type": "stream",
     "text": [
      "\n"
     ]
    },
    {
     "name": "stdout",
     "output_type": "stream",
     "text": [
      "\n",
      "      Epoch    GPU_mem   box_loss   cls_loss   dfl_loss  Instances       Size\n"
     ]
    },
    {
     "name": "stderr",
     "output_type": "stream",
     "text": [
      "      44/50         0G     0.7563     0.7384      1.019         27        640: 100%|██████████| 24/24 [01:36<00:00,  4.02s/it]\n",
      "                 Class     Images  Instances      Box(P          R      mAP50  mAP50-95): 100%|██████████| 2/2 [00:05<00:00,  2.66s/it]"
     ]
    },
    {
     "name": "stdout",
     "output_type": "stream",
     "text": [
      "                   all         55        193      0.808      0.828      0.861      0.664\n"
     ]
    },
    {
     "name": "stderr",
     "output_type": "stream",
     "text": [
      "\n"
     ]
    },
    {
     "name": "stdout",
     "output_type": "stream",
     "text": [
      "\n",
      "      Epoch    GPU_mem   box_loss   cls_loss   dfl_loss  Instances       Size\n"
     ]
    },
    {
     "name": "stderr",
     "output_type": "stream",
     "text": [
      "      45/50         0G     0.7729     0.6995      1.023         18        640: 100%|██████████| 24/24 [01:35<00:00,  3.98s/it]\n",
      "                 Class     Images  Instances      Box(P          R      mAP50  mAP50-95): 100%|██████████| 2/2 [00:05<00:00,  2.72s/it]"
     ]
    },
    {
     "name": "stdout",
     "output_type": "stream",
     "text": [
      "                   all         55        193      0.813      0.813      0.858      0.672\n"
     ]
    },
    {
     "name": "stderr",
     "output_type": "stream",
     "text": [
      "\n"
     ]
    },
    {
     "name": "stdout",
     "output_type": "stream",
     "text": [
      "\n",
      "      Epoch    GPU_mem   box_loss   cls_loss   dfl_loss  Instances       Size\n"
     ]
    },
    {
     "name": "stderr",
     "output_type": "stream",
     "text": [
      "      46/50         0G     0.7489     0.6619      0.999          4        640: 100%|██████████| 24/24 [01:35<00:00,  3.98s/it]\n",
      "                 Class     Images  Instances      Box(P          R      mAP50  mAP50-95): 100%|██████████| 2/2 [00:05<00:00,  2.74s/it]"
     ]
    },
    {
     "name": "stdout",
     "output_type": "stream",
     "text": [
      "                   all         55        193      0.828      0.826      0.866      0.672\n"
     ]
    },
    {
     "name": "stderr",
     "output_type": "stream",
     "text": [
      "\n"
     ]
    },
    {
     "name": "stdout",
     "output_type": "stream",
     "text": [
      "\n",
      "      Epoch    GPU_mem   box_loss   cls_loss   dfl_loss  Instances       Size\n"
     ]
    },
    {
     "name": "stderr",
     "output_type": "stream",
     "text": [
      "      47/50         0G     0.7379      0.677     0.9986          6        640: 100%|██████████| 24/24 [01:36<00:00,  4.00s/it]\n",
      "                 Class     Images  Instances      Box(P          R      mAP50  mAP50-95): 100%|██████████| 2/2 [00:05<00:00,  2.70s/it]"
     ]
    },
    {
     "name": "stdout",
     "output_type": "stream",
     "text": [
      "                   all         55        193      0.834      0.808      0.864      0.669\n"
     ]
    },
    {
     "name": "stderr",
     "output_type": "stream",
     "text": [
      "\n"
     ]
    },
    {
     "name": "stdout",
     "output_type": "stream",
     "text": [
      "\n",
      "      Epoch    GPU_mem   box_loss   cls_loss   dfl_loss  Instances       Size\n"
     ]
    },
    {
     "name": "stderr",
     "output_type": "stream",
     "text": [
      "      48/50         0G     0.7549     0.6738      1.005         17        640: 100%|██████████| 24/24 [01:36<00:00,  4.01s/it]\n",
      "                 Class     Images  Instances      Box(P          R      mAP50  mAP50-95): 100%|██████████| 2/2 [00:05<00:00,  2.74s/it]"
     ]
    },
    {
     "name": "stdout",
     "output_type": "stream",
     "text": [
      "                   all         55        193      0.813      0.839      0.864      0.667\n"
     ]
    },
    {
     "name": "stderr",
     "output_type": "stream",
     "text": [
      "\n"
     ]
    },
    {
     "name": "stdout",
     "output_type": "stream",
     "text": [
      "\n",
      "      Epoch    GPU_mem   box_loss   cls_loss   dfl_loss  Instances       Size\n"
     ]
    },
    {
     "name": "stderr",
     "output_type": "stream",
     "text": [
      "      49/50         0G     0.7144     0.6218     0.9795         22        640: 100%|██████████| 24/24 [01:36<00:00,  4.00s/it]\n",
      "                 Class     Images  Instances      Box(P          R      mAP50  mAP50-95): 100%|██████████| 2/2 [00:05<00:00,  2.66s/it]"
     ]
    },
    {
     "name": "stdout",
     "output_type": "stream",
     "text": [
      "                   all         55        193      0.783      0.834      0.848      0.668\n"
     ]
    },
    {
     "name": "stderr",
     "output_type": "stream",
     "text": [
      "\n"
     ]
    },
    {
     "name": "stdout",
     "output_type": "stream",
     "text": [
      "\n",
      "      Epoch    GPU_mem   box_loss   cls_loss   dfl_loss  Instances       Size\n"
     ]
    },
    {
     "name": "stderr",
     "output_type": "stream",
     "text": [
      "      50/50         0G     0.6973     0.6171     0.9778          7        640: 100%|██████████| 24/24 [01:35<00:00,  3.99s/it]\n",
      "                 Class     Images  Instances      Box(P          R      mAP50  mAP50-95): 100%|██████████| 2/2 [00:05<00:00,  2.73s/it]"
     ]
    },
    {
     "name": "stdout",
     "output_type": "stream",
     "text": [
      "                   all         55        193      0.788      0.845      0.849      0.667\n"
     ]
    },
    {
     "name": "stderr",
     "output_type": "stream",
     "text": [
      "\n"
     ]
    },
    {
     "name": "stdout",
     "output_type": "stream",
     "text": [
      "\n",
      "50 epochs completed in 1.386 hours.\n",
      "Optimizer stripped from runs/detect/pothole_detection2/weights/last.pt, 6.2MB\n",
      "Optimizer stripped from runs/detect/pothole_detection2/weights/best.pt, 6.2MB\n",
      "\n",
      "Validating runs/detect/pothole_detection2/weights/best.pt...\n",
      "Ultralytics 8.3.58 🚀 Python-3.10.12 torch-2.5.1+cu124 CPU (12th Gen Intel Core(TM) i5-1235U)\n",
      "Model summary (fused): 168 layers, 3,005,843 parameters, 0 gradients, 8.1 GFLOPs\n"
     ]
    },
    {
     "name": "stderr",
     "output_type": "stream",
     "text": [
      "                 Class     Images  Instances      Box(P          R      mAP50  mAP50-95): 100%|██████████| 2/2 [00:04<00:00,  2.38s/it]\n"
     ]
    },
    {
     "name": "stdout",
     "output_type": "stream",
     "text": [
      "                   all         55        193      0.829      0.827      0.865      0.673\n",
      "Speed: 1.1ms preprocess, 77.3ms inference, 0.0ms loss, 0.7ms postprocess per image\n",
      "Results saved to \u001b[1mruns/detect/pothole_detection2\u001b[0m\n",
      "Training completed!\n",
      "Validating the model...\n",
      "Ultralytics 8.3.58 🚀 Python-3.10.12 torch-2.5.1+cu124 CPU (12th Gen Intel Core(TM) i5-1235U)\n",
      "Model summary (fused): 168 layers, 3,005,843 parameters, 0 gradients, 8.1 GFLOPs\n"
     ]
    },
    {
     "name": "stderr",
     "output_type": "stream",
     "text": [
      "\u001b[34m\u001b[1mval: \u001b[0mScanning /home/shashank/Desktop/Mini_project /dataset/pothole detection new.v1i.yolov8/test/labels.cache... 55 images, 0 backgrounds, 0 corrupt: 100%|██████████| 55/55 [00:00<?, ?it/s]\n",
      "                 Class     Images  Instances      Box(P          R      mAP50  mAP50-95): 100%|██████████| 4/4 [00:05<00:00,  1.30s/it]\n"
     ]
    },
    {
     "name": "stdout",
     "output_type": "stream",
     "text": [
      "                   all         55        193      0.829      0.827      0.865      0.673\n",
      "Speed: 1.2ms preprocess, 84.1ms inference, 0.0ms loss, 0.7ms postprocess per image\n",
      "Results saved to \u001b[1mruns/detect/pothole_detection22\u001b[0m\n",
      "Validation Results: ultralytics.utils.metrics.DetMetrics object with attributes:\n",
      "\n",
      "ap_class_index: array([0])\n",
      "box: ultralytics.utils.metrics.Metric object\n",
      "confusion_matrix: <ultralytics.utils.metrics.ConfusionMatrix object at 0x7902f61c61d0>\n",
      "curves: ['Precision-Recall(B)', 'F1-Confidence(B)', 'Precision-Confidence(B)', 'Recall-Confidence(B)']\n",
      "curves_results: [[array([          0,    0.001001,    0.002002,    0.003003,    0.004004,    0.005005,    0.006006,    0.007007,    0.008008,    0.009009,     0.01001,    0.011011,    0.012012,    0.013013,    0.014014,    0.015015,    0.016016,    0.017017,    0.018018,    0.019019,     0.02002,    0.021021,    0.022022,    0.023023,\n",
      "          0.024024,    0.025025,    0.026026,    0.027027,    0.028028,    0.029029,     0.03003,    0.031031,    0.032032,    0.033033,    0.034034,    0.035035,    0.036036,    0.037037,    0.038038,    0.039039,     0.04004,    0.041041,    0.042042,    0.043043,    0.044044,    0.045045,    0.046046,    0.047047,\n",
      "          0.048048,    0.049049,     0.05005,    0.051051,    0.052052,    0.053053,    0.054054,    0.055055,    0.056056,    0.057057,    0.058058,    0.059059,     0.06006,    0.061061,    0.062062,    0.063063,    0.064064,    0.065065,    0.066066,    0.067067,    0.068068,    0.069069,     0.07007,    0.071071,\n",
      "          0.072072,    0.073073,    0.074074,    0.075075,    0.076076,    0.077077,    0.078078,    0.079079,     0.08008,    0.081081,    0.082082,    0.083083,    0.084084,    0.085085,    0.086086,    0.087087,    0.088088,    0.089089,     0.09009,    0.091091,    0.092092,    0.093093,    0.094094,    0.095095,\n",
      "          0.096096,    0.097097,    0.098098,    0.099099,      0.1001,      0.1011,      0.1021,      0.1031,      0.1041,     0.10511,     0.10611,     0.10711,     0.10811,     0.10911,     0.11011,     0.11111,     0.11211,     0.11311,     0.11411,     0.11512,     0.11612,     0.11712,     0.11812,     0.11912,\n",
      "           0.12012,     0.12112,     0.12212,     0.12312,     0.12412,     0.12513,     0.12613,     0.12713,     0.12813,     0.12913,     0.13013,     0.13113,     0.13213,     0.13313,     0.13413,     0.13514,     0.13614,     0.13714,     0.13814,     0.13914,     0.14014,     0.14114,     0.14214,     0.14314,\n",
      "           0.14414,     0.14515,     0.14615,     0.14715,     0.14815,     0.14915,     0.15015,     0.15115,     0.15215,     0.15315,     0.15415,     0.15516,     0.15616,     0.15716,     0.15816,     0.15916,     0.16016,     0.16116,     0.16216,     0.16316,     0.16416,     0.16517,     0.16617,     0.16717,\n",
      "           0.16817,     0.16917,     0.17017,     0.17117,     0.17217,     0.17317,     0.17417,     0.17518,     0.17618,     0.17718,     0.17818,     0.17918,     0.18018,     0.18118,     0.18218,     0.18318,     0.18418,     0.18519,     0.18619,     0.18719,     0.18819,     0.18919,     0.19019,     0.19119,\n",
      "           0.19219,     0.19319,     0.19419,      0.1952,      0.1962,      0.1972,      0.1982,      0.1992,      0.2002,      0.2012,      0.2022,      0.2032,      0.2042,     0.20521,     0.20621,     0.20721,     0.20821,     0.20921,     0.21021,     0.21121,     0.21221,     0.21321,     0.21421,     0.21522,\n",
      "           0.21622,     0.21722,     0.21822,     0.21922,     0.22022,     0.22122,     0.22222,     0.22322,     0.22422,     0.22523,     0.22623,     0.22723,     0.22823,     0.22923,     0.23023,     0.23123,     0.23223,     0.23323,     0.23423,     0.23524,     0.23624,     0.23724,     0.23824,     0.23924,\n",
      "           0.24024,     0.24124,     0.24224,     0.24324,     0.24424,     0.24525,     0.24625,     0.24725,     0.24825,     0.24925,     0.25025,     0.25125,     0.25225,     0.25325,     0.25425,     0.25526,     0.25626,     0.25726,     0.25826,     0.25926,     0.26026,     0.26126,     0.26226,     0.26326,\n",
      "           0.26426,     0.26527,     0.26627,     0.26727,     0.26827,     0.26927,     0.27027,     0.27127,     0.27227,     0.27327,     0.27427,     0.27528,     0.27628,     0.27728,     0.27828,     0.27928,     0.28028,     0.28128,     0.28228,     0.28328,     0.28428,     0.28529,     0.28629,     0.28729,\n",
      "           0.28829,     0.28929,     0.29029,     0.29129,     0.29229,     0.29329,     0.29429,      0.2953,      0.2963,      0.2973,      0.2983,      0.2993,      0.3003,      0.3013,      0.3023,      0.3033,      0.3043,     0.30531,     0.30631,     0.30731,     0.30831,     0.30931,     0.31031,     0.31131,\n",
      "           0.31231,     0.31331,     0.31431,     0.31532,     0.31632,     0.31732,     0.31832,     0.31932,     0.32032,     0.32132,     0.32232,     0.32332,     0.32432,     0.32533,     0.32633,     0.32733,     0.32833,     0.32933,     0.33033,     0.33133,     0.33233,     0.33333,     0.33433,     0.33534,\n",
      "           0.33634,     0.33734,     0.33834,     0.33934,     0.34034,     0.34134,     0.34234,     0.34334,     0.34434,     0.34535,     0.34635,     0.34735,     0.34835,     0.34935,     0.35035,     0.35135,     0.35235,     0.35335,     0.35435,     0.35536,     0.35636,     0.35736,     0.35836,     0.35936,\n",
      "           0.36036,     0.36136,     0.36236,     0.36336,     0.36436,     0.36537,     0.36637,     0.36737,     0.36837,     0.36937,     0.37037,     0.37137,     0.37237,     0.37337,     0.37437,     0.37538,     0.37638,     0.37738,     0.37838,     0.37938,     0.38038,     0.38138,     0.38238,     0.38338,\n",
      "           0.38438,     0.38539,     0.38639,     0.38739,     0.38839,     0.38939,     0.39039,     0.39139,     0.39239,     0.39339,     0.39439,      0.3954,      0.3964,      0.3974,      0.3984,      0.3994,      0.4004,      0.4014,      0.4024,      0.4034,      0.4044,     0.40541,     0.40641,     0.40741,\n",
      "           0.40841,     0.40941,     0.41041,     0.41141,     0.41241,     0.41341,     0.41441,     0.41542,     0.41642,     0.41742,     0.41842,     0.41942,     0.42042,     0.42142,     0.42242,     0.42342,     0.42442,     0.42543,     0.42643,     0.42743,     0.42843,     0.42943,     0.43043,     0.43143,\n",
      "           0.43243,     0.43343,     0.43443,     0.43544,     0.43644,     0.43744,     0.43844,     0.43944,     0.44044,     0.44144,     0.44244,     0.44344,     0.44444,     0.44545,     0.44645,     0.44745,     0.44845,     0.44945,     0.45045,     0.45145,     0.45245,     0.45345,     0.45445,     0.45546,\n",
      "           0.45646,     0.45746,     0.45846,     0.45946,     0.46046,     0.46146,     0.46246,     0.46346,     0.46446,     0.46547,     0.46647,     0.46747,     0.46847,     0.46947,     0.47047,     0.47147,     0.47247,     0.47347,     0.47447,     0.47548,     0.47648,     0.47748,     0.47848,     0.47948,\n",
      "           0.48048,     0.48148,     0.48248,     0.48348,     0.48448,     0.48549,     0.48649,     0.48749,     0.48849,     0.48949,     0.49049,     0.49149,     0.49249,     0.49349,     0.49449,      0.4955,      0.4965,      0.4975,      0.4985,      0.4995,      0.5005,      0.5015,      0.5025,      0.5035,\n",
      "            0.5045,     0.50551,     0.50651,     0.50751,     0.50851,     0.50951,     0.51051,     0.51151,     0.51251,     0.51351,     0.51451,     0.51552,     0.51652,     0.51752,     0.51852,     0.51952,     0.52052,     0.52152,     0.52252,     0.52352,     0.52452,     0.52553,     0.52653,     0.52753,\n",
      "           0.52853,     0.52953,     0.53053,     0.53153,     0.53253,     0.53353,     0.53453,     0.53554,     0.53654,     0.53754,     0.53854,     0.53954,     0.54054,     0.54154,     0.54254,     0.54354,     0.54454,     0.54555,     0.54655,     0.54755,     0.54855,     0.54955,     0.55055,     0.55155,\n",
      "           0.55255,     0.55355,     0.55455,     0.55556,     0.55656,     0.55756,     0.55856,     0.55956,     0.56056,     0.56156,     0.56256,     0.56356,     0.56456,     0.56557,     0.56657,     0.56757,     0.56857,     0.56957,     0.57057,     0.57157,     0.57257,     0.57357,     0.57457,     0.57558,\n",
      "           0.57658,     0.57758,     0.57858,     0.57958,     0.58058,     0.58158,     0.58258,     0.58358,     0.58458,     0.58559,     0.58659,     0.58759,     0.58859,     0.58959,     0.59059,     0.59159,     0.59259,     0.59359,     0.59459,      0.5956,      0.5966,      0.5976,      0.5986,      0.5996,\n",
      "            0.6006,      0.6016,      0.6026,      0.6036,      0.6046,     0.60561,     0.60661,     0.60761,     0.60861,     0.60961,     0.61061,     0.61161,     0.61261,     0.61361,     0.61461,     0.61562,     0.61662,     0.61762,     0.61862,     0.61962,     0.62062,     0.62162,     0.62262,     0.62362,\n",
      "           0.62462,     0.62563,     0.62663,     0.62763,     0.62863,     0.62963,     0.63063,     0.63163,     0.63263,     0.63363,     0.63463,     0.63564,     0.63664,     0.63764,     0.63864,     0.63964,     0.64064,     0.64164,     0.64264,     0.64364,     0.64464,     0.64565,     0.64665,     0.64765,\n",
      "           0.64865,     0.64965,     0.65065,     0.65165,     0.65265,     0.65365,     0.65465,     0.65566,     0.65666,     0.65766,     0.65866,     0.65966,     0.66066,     0.66166,     0.66266,     0.66366,     0.66466,     0.66567,     0.66667,     0.66767,     0.66867,     0.66967,     0.67067,     0.67167,\n",
      "           0.67267,     0.67367,     0.67467,     0.67568,     0.67668,     0.67768,     0.67868,     0.67968,     0.68068,     0.68168,     0.68268,     0.68368,     0.68468,     0.68569,     0.68669,     0.68769,     0.68869,     0.68969,     0.69069,     0.69169,     0.69269,     0.69369,     0.69469,      0.6957,\n",
      "            0.6967,      0.6977,      0.6987,      0.6997,      0.7007,      0.7017,      0.7027,      0.7037,      0.7047,     0.70571,     0.70671,     0.70771,     0.70871,     0.70971,     0.71071,     0.71171,     0.71271,     0.71371,     0.71471,     0.71572,     0.71672,     0.71772,     0.71872,     0.71972,\n",
      "           0.72072,     0.72172,     0.72272,     0.72372,     0.72472,     0.72573,     0.72673,     0.72773,     0.72873,     0.72973,     0.73073,     0.73173,     0.73273,     0.73373,     0.73473,     0.73574,     0.73674,     0.73774,     0.73874,     0.73974,     0.74074,     0.74174,     0.74274,     0.74374,\n",
      "           0.74474,     0.74575,     0.74675,     0.74775,     0.74875,     0.74975,     0.75075,     0.75175,     0.75275,     0.75375,     0.75475,     0.75576,     0.75676,     0.75776,     0.75876,     0.75976,     0.76076,     0.76176,     0.76276,     0.76376,     0.76476,     0.76577,     0.76677,     0.76777,\n",
      "           0.76877,     0.76977,     0.77077,     0.77177,     0.77277,     0.77377,     0.77477,     0.77578,     0.77678,     0.77778,     0.77878,     0.77978,     0.78078,     0.78178,     0.78278,     0.78378,     0.78478,     0.78579,     0.78679,     0.78779,     0.78879,     0.78979,     0.79079,     0.79179,\n",
      "           0.79279,     0.79379,     0.79479,      0.7958,      0.7968,      0.7978,      0.7988,      0.7998,      0.8008,      0.8018,      0.8028,      0.8038,      0.8048,     0.80581,     0.80681,     0.80781,     0.80881,     0.80981,     0.81081,     0.81181,     0.81281,     0.81381,     0.81481,     0.81582,\n",
      "           0.81682,     0.81782,     0.81882,     0.81982,     0.82082,     0.82182,     0.82282,     0.82382,     0.82482,     0.82583,     0.82683,     0.82783,     0.82883,     0.82983,     0.83083,     0.83183,     0.83283,     0.83383,     0.83483,     0.83584,     0.83684,     0.83784,     0.83884,     0.83984,\n",
      "           0.84084,     0.84184,     0.84284,     0.84384,     0.84484,     0.84585,     0.84685,     0.84785,     0.84885,     0.84985,     0.85085,     0.85185,     0.85285,     0.85385,     0.85485,     0.85586,     0.85686,     0.85786,     0.85886,     0.85986,     0.86086,     0.86186,     0.86286,     0.86386,\n",
      "           0.86486,     0.86587,     0.86687,     0.86787,     0.86887,     0.86987,     0.87087,     0.87187,     0.87287,     0.87387,     0.87487,     0.87588,     0.87688,     0.87788,     0.87888,     0.87988,     0.88088,     0.88188,     0.88288,     0.88388,     0.88488,     0.88589,     0.88689,     0.88789,\n",
      "           0.88889,     0.88989,     0.89089,     0.89189,     0.89289,     0.89389,     0.89489,      0.8959,      0.8969,      0.8979,      0.8989,      0.8999,      0.9009,      0.9019,      0.9029,      0.9039,      0.9049,     0.90591,     0.90691,     0.90791,     0.90891,     0.90991,     0.91091,     0.91191,\n",
      "           0.91291,     0.91391,     0.91491,     0.91592,     0.91692,     0.91792,     0.91892,     0.91992,     0.92092,     0.92192,     0.92292,     0.92392,     0.92492,     0.92593,     0.92693,     0.92793,     0.92893,     0.92993,     0.93093,     0.93193,     0.93293,     0.93393,     0.93493,     0.93594,\n",
      "           0.93694,     0.93794,     0.93894,     0.93994,     0.94094,     0.94194,     0.94294,     0.94394,     0.94494,     0.94595,     0.94695,     0.94795,     0.94895,     0.94995,     0.95095,     0.95195,     0.95295,     0.95395,     0.95495,     0.95596,     0.95696,     0.95796,     0.95896,     0.95996,\n",
      "           0.96096,     0.96196,     0.96296,     0.96396,     0.96496,     0.96597,     0.96697,     0.96797,     0.96897,     0.96997,     0.97097,     0.97197,     0.97297,     0.97397,     0.97497,     0.97598,     0.97698,     0.97798,     0.97898,     0.97998,     0.98098,     0.98198,     0.98298,     0.98398,\n",
      "           0.98498,     0.98599,     0.98699,     0.98799,     0.98899,     0.98999,     0.99099,     0.99199,     0.99299,     0.99399,     0.99499,       0.996,       0.997,       0.998,       0.999,           1]), array([[          1,           1,           1,           1,           1,           1,           1,           1,           1,           1,           1,           1,           1,           1,           1,           1,           1,           1,           1,           1,           1,           1,           1,\n",
      "                  1,           1,           1,           1,           1,           1,           1,           1,           1,           1,           1,           1,           1,           1,           1,           1,           1,           1,           1,           1,           1,           1,           1,\n",
      "                  1,           1,           1,           1,           1,           1,           1,           1,           1,           1,           1,           1,           1,           1,           1,           1,           1,           1,           1,           1,           1,           1,           1,\n",
      "                  1,           1,           1,           1,           1,           1,           1,           1,           1,           1,           1,           1,           1,           1,           1,           1,           1,           1,           1,           1,           1,           1,           1,\n",
      "                  1,           1,           1,           1,           1,           1,           1,           1,           1,           1,           1,           1,           1,           1,           1,           1,           1,           1,           1,           1,           1,           1,           1,\n",
      "                  1,           1,           1,           1,           1,           1,           1,           1,           1,           1,           1,           1,           1,           1,           1,           1,           1,           1,           1,           1,           1,           1,           1,\n",
      "                  1,           1,           1,           1,           1,           1,           1,           1,           1,           1,           1,           1,           1,           1,           1,           1,           1,           1,           1,           1,           1,           1,           1,\n",
      "                  1,           1,           1,           1,           1,           1,           1,           1,           1,           1,           1,           1,           1,           1,           1,           1,           1,           1,           1,           1,           1,           1,           1,\n",
      "                  1,           1,           1,           1,           1,           1,           1,           1,           1,           1,           1,           1,           1,           1,           1,           1,           1,           1,           1,           1,           1,           1,           1,\n",
      "                  1,           1,           1,           1,           1,           1,           1,           1,           1,           1,           1,           1,           1,           1,           1,           1,           1,           1,           1,           1,           1,           1,           1,\n",
      "                  1,           1,           1,           1,           1,           1,           1,           1,           1,           1,           1,           1,           1,           1,           1,           1,           1,           1,           1,           1,           1,           1,           1,\n",
      "                  1,           1,           1,           1,           1,           1,           1,           1,           1,           1,           1,           1,           1,           1,           1,           1,           1,           1,           1,           1,           1,           1,           1,\n",
      "                  1,           1,           1,           1,           1,           1,           1,           1,           1,           1,           1,           1,           1,           1,     0.98718,     0.98718,     0.98718,     0.98718,     0.98718,     0.98718,     0.98718,     0.98718,     0.98718,\n",
      "            0.98718,     0.98718,     0.98718,     0.98718,     0.98718,     0.98718,     0.98718,     0.98718,     0.98718,     0.98718,     0.98718,     0.98718,     0.98718,     0.98718,     0.98718,     0.98718,     0.98718,     0.98718,     0.98718,     0.98718,     0.98718,     0.98718,     0.98718,\n",
      "            0.98718,     0.98718,     0.98718,     0.98718,     0.98718,     0.98718,     0.98718,     0.98718,     0.98718,     0.98718,     0.98718,     0.98718,     0.98718,     0.98718,     0.98718,     0.98718,     0.98718,     0.98718,     0.98718,     0.98718,     0.98718,     0.98718,     0.98718,\n",
      "            0.98718,     0.98718,     0.98718,     0.98718,     0.98718,     0.98718,     0.98718,     0.98718,     0.98718,     0.98718,     0.98718,     0.98718,     0.98718,     0.98718,     0.98718,     0.98718,     0.98718,     0.98718,     0.98718,     0.98718,     0.98718,     0.98718,     0.98718,\n",
      "            0.98718,     0.98718,     0.98718,     0.98718,     0.98718,     0.98718,     0.98718,     0.98718,     0.98718,     0.98718,     0.98718,     0.98718,     0.98718,     0.98718,     0.98718,     0.98718,     0.98718,     0.98718,     0.98718,     0.98718,     0.98718,     0.98718,     0.98718,\n",
      "            0.98718,     0.98718,     0.98718,     0.98718,     0.98718,     0.98718,     0.98718,     0.98718,     0.97619,     0.97619,     0.97619,     0.97619,     0.97619,     0.97619,     0.97619,     0.97619,     0.97619,     0.97619,     0.97619,     0.97619,     0.97619,     0.97619,     0.97619,\n",
      "            0.97619,     0.97619,     0.97619,     0.97619,     0.97619,     0.97619,     0.97619,     0.97619,     0.97619,     0.97619,     0.97619,     0.96512,     0.96512,     0.96512,     0.96512,     0.96512,     0.95789,     0.95789,     0.95789,     0.95789,     0.95789,     0.95789,     0.95789,\n",
      "            0.95789,     0.95789,     0.95789,     0.95789,     0.95789,     0.95789,     0.95789,     0.95789,     0.95789,     0.95789,     0.95789,     0.95789,     0.95789,     0.95789,     0.95789,     0.95789,     0.95789,     0.95789,     0.95789,     0.95789,     0.95789,     0.95789,     0.95789,\n",
      "            0.95789,     0.95789,     0.95789,     0.95789,     0.95789,     0.95789,     0.95789,     0.95789,     0.95789,     0.95789,     0.95789,     0.95789,      0.9505,      0.9505,      0.9505,      0.9505,      0.9505,      0.9505,      0.9505,      0.9505,      0.9505,      0.9505,      0.9505,\n",
      "             0.9505,      0.9505,      0.9505,      0.9505,      0.9505,      0.9505,      0.9505,      0.9505,      0.9505,      0.9505,      0.9505,      0.9505,      0.9505,      0.9505,     0.94286,     0.94286,     0.94286,     0.94286,     0.94286,     0.94286,     0.94286,     0.94286,     0.94286,\n",
      "            0.94286,     0.94286,     0.94286,     0.94286,     0.94286,     0.94286,     0.94286,     0.93519,     0.93519,     0.93519,     0.93519,     0.93519,     0.93519,     0.93519,     0.93519,     0.93519,     0.93519,      0.9292,      0.9292,      0.9292,      0.9292,      0.9292,      0.9292,\n",
      "             0.9292,      0.9292,      0.9292,      0.9292,      0.9292,      0.9292,      0.9292,      0.9292,      0.9292,      0.9292,      0.9292,      0.9292,      0.9292,      0.9292,      0.9292,       0.925,       0.925,       0.925,       0.925,       0.925,       0.925,       0.925,       0.925,\n",
      "              0.925,       0.925,       0.925,       0.925,       0.925,       0.925,       0.925,       0.925,       0.925,       0.925,       0.925,       0.925,       0.925,       0.925,       0.925,       0.925,       0.925,       0.925,       0.925,       0.925,       0.925,       0.925,       0.925,\n",
      "             0.9187,      0.9187,      0.9187,      0.9187,      0.9187,      0.9187,      0.9187,      0.9187,      0.9187,      0.9187,     0.91603,     0.91603,     0.91603,     0.91603,     0.91603,     0.91603,     0.91603,     0.91603,     0.91603,     0.91603,     0.91603,     0.91603,     0.91603,\n",
      "            0.91603,     0.91603,     0.91603,     0.91603,     0.91603,     0.91603,     0.91603,     0.91603,     0.91603,     0.91603,     0.91603,     0.91603,     0.91603,     0.91603,     0.91603,     0.91603,     0.91603,     0.91603,     0.91603,     0.91603,     0.91603,     0.91603,     0.91603,\n",
      "            0.91603,     0.91489,     0.91489,     0.91489,     0.91489,     0.91489,     0.91489,     0.91489,     0.91489,     0.91489,     0.91489,     0.91489,     0.91489,     0.91489,     0.91489,     0.91489,     0.91489,     0.91489,     0.91489,     0.91489,     0.91489,     0.91489,     0.91489,\n",
      "            0.91489,     0.91489,     0.91489,     0.91489,     0.91489,     0.91489,     0.91489,     0.91489,     0.91489,     0.91489,     0.91489,     0.91489,     0.91489,     0.91489,     0.91489,     0.91489,     0.91489,     0.91489,     0.91489,     0.91489,     0.91489,     0.91489,     0.91489,\n",
      "            0.91489,     0.91034,     0.91034,     0.91034,     0.91034,     0.91034,     0.91034,     0.91034,     0.91034,     0.91034,     0.91034,     0.91034,     0.91034,     0.91034,     0.91034,     0.91034,     0.91034,     0.90541,     0.90541,     0.90541,     0.90541,     0.90541,     0.90541,\n",
      "            0.90541,     0.90541,     0.90541,     0.90541,     0.89404,     0.89404,     0.89404,     0.89404,     0.89404,     0.88125,     0.88125,     0.88125,     0.88125,     0.88125,     0.88125,     0.88125,     0.88125,     0.88125,     0.88125,     0.88125,     0.88125,     0.88125,     0.88125,\n",
      "            0.88125,     0.88125,     0.88125,     0.88125,     0.88125,     0.88125,     0.88125,     0.88125,     0.88125,     0.88125,     0.88125,     0.88125,     0.88125,     0.88125,     0.88125,     0.88125,     0.88125,     0.87805,     0.87805,     0.87805,     0.87805,     0.87805,     0.87805,\n",
      "            0.87805,     0.87805,     0.87805,     0.87805,     0.87805,     0.87805,     0.87805,     0.87805,     0.87805,     0.87805,     0.87425,     0.87425,     0.87425,     0.87425,     0.87425,     0.87425,     0.87425,     0.87425,     0.87425,     0.87425,     0.87059,     0.87059,     0.87059,\n",
      "            0.87059,     0.87059,     0.87059,     0.87059,     0.87059,     0.87059,     0.87059,     0.87059,     0.86127,     0.86127,     0.86127,     0.86127,     0.86127,     0.85714,     0.85714,     0.85714,     0.85714,     0.85714,     0.85393,     0.85393,     0.85393,     0.85393,     0.85393,\n",
      "            0.85393,     0.85393,     0.85393,     0.85393,     0.85393,     0.84699,     0.84699,     0.84699,     0.84699,     0.84699,     0.84699,     0.84699,     0.84699,     0.84699,     0.84699,     0.84699,     0.84699,     0.84699,     0.84699,     0.84699,     0.84699,     0.84324,     0.84324,\n",
      "            0.84324,     0.84324,     0.84324,     0.82902,     0.82902,     0.82902,     0.82902,     0.82902,     0.82902,     0.82902,     0.82902,     0.82902,     0.82902,     0.82902,     0.82902,     0.82902,     0.82902,     0.82902,     0.82902,     0.82902,     0.82902,     0.82902,     0.82902,\n",
      "            0.82902,     0.80905,     0.80905,     0.80905,     0.80905,     0.80905,     0.80597,     0.80597,     0.80597,     0.80597,     0.80597,     0.79612,     0.79612,     0.79612,     0.79612,     0.79612,     0.79612,     0.79612,     0.79612,     0.79612,     0.79612,     0.78947,     0.78947,\n",
      "            0.78947,     0.78947,     0.78947,     0.78947,     0.76498,     0.76498,     0.76498,     0.76498,     0.76498,     0.75225,     0.75225,     0.75225,     0.75225,     0.75225,     0.73043,     0.73043,     0.73043,     0.73043,     0.73043,     0.71429,     0.71429,     0.71429,     0.71429,\n",
      "            0.71429,     0.71429,     0.71429,     0.71429,     0.71429,     0.71429,      0.7125,      0.7125,      0.7125,      0.7125,      0.7125,      0.7125,     0.71074,     0.71074,     0.71074,     0.71074,     0.71074,     0.70902,     0.70902,     0.70902,     0.70902,     0.70902,     0.69323,\n",
      "            0.69323,     0.69323,     0.69323,     0.69323,     0.66038,     0.66038,     0.66038,     0.66038,     0.66038,      0.5906,      0.5906,      0.5906,      0.5906,      0.5906,      0.5906,     0.57655,     0.57655,     0.57655,     0.57655,     0.57655,     0.49036,     0.49036,     0.49036,\n",
      "            0.49036,     0.49036,     0.42217,     0.42217,     0.42217,     0.42217,     0.42217,     0.34615,     0.34615,     0.34615,     0.34615,     0.34615,     0.34087,     0.34087,     0.34087,     0.34087,     0.34087,     0.31218,     0.31218,     0.31218,     0.31218,     0.31218,     0.31218,\n",
      "            0.18866,     0.18866,     0.18866,     0.18866,     0.18866,     0.05295,     0.05295,     0.05295,     0.05295,     0.05295,    0.046384,    0.045376,    0.044368,    0.043359,    0.042351,    0.041343,    0.040334,    0.039326,    0.038317,    0.037309,    0.036301,    0.035292,    0.034284,\n",
      "           0.033276,    0.032267,    0.031259,    0.030251,    0.029242,    0.028234,    0.027226,    0.026217,    0.025209,    0.024201,    0.023192,    0.022184,    0.021175,    0.020167,    0.019159,     0.01815,    0.017142,    0.016134,    0.015125,    0.014117,    0.013109,      0.0121,    0.011092,\n",
      "           0.010084,   0.0090752,   0.0080668,   0.0070585,   0.0060501,   0.0050418,   0.0040334,   0.0030251,   0.0020167,   0.0010084,           0]]), 'Recall', 'Precision'], [array([          0,    0.001001,    0.002002,    0.003003,    0.004004,    0.005005,    0.006006,    0.007007,    0.008008,    0.009009,     0.01001,    0.011011,    0.012012,    0.013013,    0.014014,    0.015015,    0.016016,    0.017017,    0.018018,    0.019019,     0.02002,    0.021021,    0.022022,    0.023023,\n",
      "          0.024024,    0.025025,    0.026026,    0.027027,    0.028028,    0.029029,     0.03003,    0.031031,    0.032032,    0.033033,    0.034034,    0.035035,    0.036036,    0.037037,    0.038038,    0.039039,     0.04004,    0.041041,    0.042042,    0.043043,    0.044044,    0.045045,    0.046046,    0.047047,\n",
      "          0.048048,    0.049049,     0.05005,    0.051051,    0.052052,    0.053053,    0.054054,    0.055055,    0.056056,    0.057057,    0.058058,    0.059059,     0.06006,    0.061061,    0.062062,    0.063063,    0.064064,    0.065065,    0.066066,    0.067067,    0.068068,    0.069069,     0.07007,    0.071071,\n",
      "          0.072072,    0.073073,    0.074074,    0.075075,    0.076076,    0.077077,    0.078078,    0.079079,     0.08008,    0.081081,    0.082082,    0.083083,    0.084084,    0.085085,    0.086086,    0.087087,    0.088088,    0.089089,     0.09009,    0.091091,    0.092092,    0.093093,    0.094094,    0.095095,\n",
      "          0.096096,    0.097097,    0.098098,    0.099099,      0.1001,      0.1011,      0.1021,      0.1031,      0.1041,     0.10511,     0.10611,     0.10711,     0.10811,     0.10911,     0.11011,     0.11111,     0.11211,     0.11311,     0.11411,     0.11512,     0.11612,     0.11712,     0.11812,     0.11912,\n",
      "           0.12012,     0.12112,     0.12212,     0.12312,     0.12412,     0.12513,     0.12613,     0.12713,     0.12813,     0.12913,     0.13013,     0.13113,     0.13213,     0.13313,     0.13413,     0.13514,     0.13614,     0.13714,     0.13814,     0.13914,     0.14014,     0.14114,     0.14214,     0.14314,\n",
      "           0.14414,     0.14515,     0.14615,     0.14715,     0.14815,     0.14915,     0.15015,     0.15115,     0.15215,     0.15315,     0.15415,     0.15516,     0.15616,     0.15716,     0.15816,     0.15916,     0.16016,     0.16116,     0.16216,     0.16316,     0.16416,     0.16517,     0.16617,     0.16717,\n",
      "           0.16817,     0.16917,     0.17017,     0.17117,     0.17217,     0.17317,     0.17417,     0.17518,     0.17618,     0.17718,     0.17818,     0.17918,     0.18018,     0.18118,     0.18218,     0.18318,     0.18418,     0.18519,     0.18619,     0.18719,     0.18819,     0.18919,     0.19019,     0.19119,\n",
      "           0.19219,     0.19319,     0.19419,      0.1952,      0.1962,      0.1972,      0.1982,      0.1992,      0.2002,      0.2012,      0.2022,      0.2032,      0.2042,     0.20521,     0.20621,     0.20721,     0.20821,     0.20921,     0.21021,     0.21121,     0.21221,     0.21321,     0.21421,     0.21522,\n",
      "           0.21622,     0.21722,     0.21822,     0.21922,     0.22022,     0.22122,     0.22222,     0.22322,     0.22422,     0.22523,     0.22623,     0.22723,     0.22823,     0.22923,     0.23023,     0.23123,     0.23223,     0.23323,     0.23423,     0.23524,     0.23624,     0.23724,     0.23824,     0.23924,\n",
      "           0.24024,     0.24124,     0.24224,     0.24324,     0.24424,     0.24525,     0.24625,     0.24725,     0.24825,     0.24925,     0.25025,     0.25125,     0.25225,     0.25325,     0.25425,     0.25526,     0.25626,     0.25726,     0.25826,     0.25926,     0.26026,     0.26126,     0.26226,     0.26326,\n",
      "           0.26426,     0.26527,     0.26627,     0.26727,     0.26827,     0.26927,     0.27027,     0.27127,     0.27227,     0.27327,     0.27427,     0.27528,     0.27628,     0.27728,     0.27828,     0.27928,     0.28028,     0.28128,     0.28228,     0.28328,     0.28428,     0.28529,     0.28629,     0.28729,\n",
      "           0.28829,     0.28929,     0.29029,     0.29129,     0.29229,     0.29329,     0.29429,      0.2953,      0.2963,      0.2973,      0.2983,      0.2993,      0.3003,      0.3013,      0.3023,      0.3033,      0.3043,     0.30531,     0.30631,     0.30731,     0.30831,     0.30931,     0.31031,     0.31131,\n",
      "           0.31231,     0.31331,     0.31431,     0.31532,     0.31632,     0.31732,     0.31832,     0.31932,     0.32032,     0.32132,     0.32232,     0.32332,     0.32432,     0.32533,     0.32633,     0.32733,     0.32833,     0.32933,     0.33033,     0.33133,     0.33233,     0.33333,     0.33433,     0.33534,\n",
      "           0.33634,     0.33734,     0.33834,     0.33934,     0.34034,     0.34134,     0.34234,     0.34334,     0.34434,     0.34535,     0.34635,     0.34735,     0.34835,     0.34935,     0.35035,     0.35135,     0.35235,     0.35335,     0.35435,     0.35536,     0.35636,     0.35736,     0.35836,     0.35936,\n",
      "           0.36036,     0.36136,     0.36236,     0.36336,     0.36436,     0.36537,     0.36637,     0.36737,     0.36837,     0.36937,     0.37037,     0.37137,     0.37237,     0.37337,     0.37437,     0.37538,     0.37638,     0.37738,     0.37838,     0.37938,     0.38038,     0.38138,     0.38238,     0.38338,\n",
      "           0.38438,     0.38539,     0.38639,     0.38739,     0.38839,     0.38939,     0.39039,     0.39139,     0.39239,     0.39339,     0.39439,      0.3954,      0.3964,      0.3974,      0.3984,      0.3994,      0.4004,      0.4014,      0.4024,      0.4034,      0.4044,     0.40541,     0.40641,     0.40741,\n",
      "           0.40841,     0.40941,     0.41041,     0.41141,     0.41241,     0.41341,     0.41441,     0.41542,     0.41642,     0.41742,     0.41842,     0.41942,     0.42042,     0.42142,     0.42242,     0.42342,     0.42442,     0.42543,     0.42643,     0.42743,     0.42843,     0.42943,     0.43043,     0.43143,\n",
      "           0.43243,     0.43343,     0.43443,     0.43544,     0.43644,     0.43744,     0.43844,     0.43944,     0.44044,     0.44144,     0.44244,     0.44344,     0.44444,     0.44545,     0.44645,     0.44745,     0.44845,     0.44945,     0.45045,     0.45145,     0.45245,     0.45345,     0.45445,     0.45546,\n",
      "           0.45646,     0.45746,     0.45846,     0.45946,     0.46046,     0.46146,     0.46246,     0.46346,     0.46446,     0.46547,     0.46647,     0.46747,     0.46847,     0.46947,     0.47047,     0.47147,     0.47247,     0.47347,     0.47447,     0.47548,     0.47648,     0.47748,     0.47848,     0.47948,\n",
      "           0.48048,     0.48148,     0.48248,     0.48348,     0.48448,     0.48549,     0.48649,     0.48749,     0.48849,     0.48949,     0.49049,     0.49149,     0.49249,     0.49349,     0.49449,      0.4955,      0.4965,      0.4975,      0.4985,      0.4995,      0.5005,      0.5015,      0.5025,      0.5035,\n",
      "            0.5045,     0.50551,     0.50651,     0.50751,     0.50851,     0.50951,     0.51051,     0.51151,     0.51251,     0.51351,     0.51451,     0.51552,     0.51652,     0.51752,     0.51852,     0.51952,     0.52052,     0.52152,     0.52252,     0.52352,     0.52452,     0.52553,     0.52653,     0.52753,\n",
      "           0.52853,     0.52953,     0.53053,     0.53153,     0.53253,     0.53353,     0.53453,     0.53554,     0.53654,     0.53754,     0.53854,     0.53954,     0.54054,     0.54154,     0.54254,     0.54354,     0.54454,     0.54555,     0.54655,     0.54755,     0.54855,     0.54955,     0.55055,     0.55155,\n",
      "           0.55255,     0.55355,     0.55455,     0.55556,     0.55656,     0.55756,     0.55856,     0.55956,     0.56056,     0.56156,     0.56256,     0.56356,     0.56456,     0.56557,     0.56657,     0.56757,     0.56857,     0.56957,     0.57057,     0.57157,     0.57257,     0.57357,     0.57457,     0.57558,\n",
      "           0.57658,     0.57758,     0.57858,     0.57958,     0.58058,     0.58158,     0.58258,     0.58358,     0.58458,     0.58559,     0.58659,     0.58759,     0.58859,     0.58959,     0.59059,     0.59159,     0.59259,     0.59359,     0.59459,      0.5956,      0.5966,      0.5976,      0.5986,      0.5996,\n",
      "            0.6006,      0.6016,      0.6026,      0.6036,      0.6046,     0.60561,     0.60661,     0.60761,     0.60861,     0.60961,     0.61061,     0.61161,     0.61261,     0.61361,     0.61461,     0.61562,     0.61662,     0.61762,     0.61862,     0.61962,     0.62062,     0.62162,     0.62262,     0.62362,\n",
      "           0.62462,     0.62563,     0.62663,     0.62763,     0.62863,     0.62963,     0.63063,     0.63163,     0.63263,     0.63363,     0.63463,     0.63564,     0.63664,     0.63764,     0.63864,     0.63964,     0.64064,     0.64164,     0.64264,     0.64364,     0.64464,     0.64565,     0.64665,     0.64765,\n",
      "           0.64865,     0.64965,     0.65065,     0.65165,     0.65265,     0.65365,     0.65465,     0.65566,     0.65666,     0.65766,     0.65866,     0.65966,     0.66066,     0.66166,     0.66266,     0.66366,     0.66466,     0.66567,     0.66667,     0.66767,     0.66867,     0.66967,     0.67067,     0.67167,\n",
      "           0.67267,     0.67367,     0.67467,     0.67568,     0.67668,     0.67768,     0.67868,     0.67968,     0.68068,     0.68168,     0.68268,     0.68368,     0.68468,     0.68569,     0.68669,     0.68769,     0.68869,     0.68969,     0.69069,     0.69169,     0.69269,     0.69369,     0.69469,      0.6957,\n",
      "            0.6967,      0.6977,      0.6987,      0.6997,      0.7007,      0.7017,      0.7027,      0.7037,      0.7047,     0.70571,     0.70671,     0.70771,     0.70871,     0.70971,     0.71071,     0.71171,     0.71271,     0.71371,     0.71471,     0.71572,     0.71672,     0.71772,     0.71872,     0.71972,\n",
      "           0.72072,     0.72172,     0.72272,     0.72372,     0.72472,     0.72573,     0.72673,     0.72773,     0.72873,     0.72973,     0.73073,     0.73173,     0.73273,     0.73373,     0.73473,     0.73574,     0.73674,     0.73774,     0.73874,     0.73974,     0.74074,     0.74174,     0.74274,     0.74374,\n",
      "           0.74474,     0.74575,     0.74675,     0.74775,     0.74875,     0.74975,     0.75075,     0.75175,     0.75275,     0.75375,     0.75475,     0.75576,     0.75676,     0.75776,     0.75876,     0.75976,     0.76076,     0.76176,     0.76276,     0.76376,     0.76476,     0.76577,     0.76677,     0.76777,\n",
      "           0.76877,     0.76977,     0.77077,     0.77177,     0.77277,     0.77377,     0.77477,     0.77578,     0.77678,     0.77778,     0.77878,     0.77978,     0.78078,     0.78178,     0.78278,     0.78378,     0.78478,     0.78579,     0.78679,     0.78779,     0.78879,     0.78979,     0.79079,     0.79179,\n",
      "           0.79279,     0.79379,     0.79479,      0.7958,      0.7968,      0.7978,      0.7988,      0.7998,      0.8008,      0.8018,      0.8028,      0.8038,      0.8048,     0.80581,     0.80681,     0.80781,     0.80881,     0.80981,     0.81081,     0.81181,     0.81281,     0.81381,     0.81481,     0.81582,\n",
      "           0.81682,     0.81782,     0.81882,     0.81982,     0.82082,     0.82182,     0.82282,     0.82382,     0.82482,     0.82583,     0.82683,     0.82783,     0.82883,     0.82983,     0.83083,     0.83183,     0.83283,     0.83383,     0.83483,     0.83584,     0.83684,     0.83784,     0.83884,     0.83984,\n",
      "           0.84084,     0.84184,     0.84284,     0.84384,     0.84484,     0.84585,     0.84685,     0.84785,     0.84885,     0.84985,     0.85085,     0.85185,     0.85285,     0.85385,     0.85485,     0.85586,     0.85686,     0.85786,     0.85886,     0.85986,     0.86086,     0.86186,     0.86286,     0.86386,\n",
      "           0.86486,     0.86587,     0.86687,     0.86787,     0.86887,     0.86987,     0.87087,     0.87187,     0.87287,     0.87387,     0.87487,     0.87588,     0.87688,     0.87788,     0.87888,     0.87988,     0.88088,     0.88188,     0.88288,     0.88388,     0.88488,     0.88589,     0.88689,     0.88789,\n",
      "           0.88889,     0.88989,     0.89089,     0.89189,     0.89289,     0.89389,     0.89489,      0.8959,      0.8969,      0.8979,      0.8989,      0.8999,      0.9009,      0.9019,      0.9029,      0.9039,      0.9049,     0.90591,     0.90691,     0.90791,     0.90891,     0.90991,     0.91091,     0.91191,\n",
      "           0.91291,     0.91391,     0.91491,     0.91592,     0.91692,     0.91792,     0.91892,     0.91992,     0.92092,     0.92192,     0.92292,     0.92392,     0.92492,     0.92593,     0.92693,     0.92793,     0.92893,     0.92993,     0.93093,     0.93193,     0.93293,     0.93393,     0.93493,     0.93594,\n",
      "           0.93694,     0.93794,     0.93894,     0.93994,     0.94094,     0.94194,     0.94294,     0.94394,     0.94494,     0.94595,     0.94695,     0.94795,     0.94895,     0.94995,     0.95095,     0.95195,     0.95295,     0.95395,     0.95495,     0.95596,     0.95696,     0.95796,     0.95896,     0.95996,\n",
      "           0.96096,     0.96196,     0.96296,     0.96396,     0.96496,     0.96597,     0.96697,     0.96797,     0.96897,     0.96997,     0.97097,     0.97197,     0.97297,     0.97397,     0.97497,     0.97598,     0.97698,     0.97798,     0.97898,     0.97998,     0.98098,     0.98198,     0.98298,     0.98398,\n",
      "           0.98498,     0.98599,     0.98699,     0.98799,     0.98899,     0.98999,     0.99099,     0.99199,     0.99299,     0.99399,     0.99499,       0.996,       0.997,       0.998,       0.999,           1]), array([[   0.089538,    0.089596,     0.16408,     0.22604,     0.27754,     0.30526,     0.32969,     0.35759,     0.37955,     0.40005,     0.41569,      0.4298,     0.44366,     0.45391,     0.46866,     0.47558,     0.48627,     0.49354,     0.49895,     0.50844,     0.51539,     0.51903,     0.52482,\n",
      "            0.53155,     0.54081,     0.54381,     0.54749,     0.55393,     0.55724,     0.56329,     0.56664,     0.56964,     0.57321,     0.57803,     0.58354,     0.59047,     0.59464,     0.60123,     0.60242,     0.60506,     0.60964,     0.61267,     0.61573,     0.61679,     0.61937,     0.62125,\n",
      "            0.62242,     0.62543,      0.6278,     0.62986,     0.63235,     0.63391,     0.63564,     0.63832,     0.64027,     0.64406,     0.64512,     0.64837,     0.64886,     0.64935,     0.65085,     0.65255,     0.65333,     0.65385,     0.65493,     0.65608,     0.65664,     0.65823,     0.65865,\n",
      "            0.65906,       0.662,     0.66292,     0.66373,     0.66568,     0.66735,     0.66828,     0.66874,     0.66921,     0.67073,     0.67267,     0.67562,     0.67606,     0.67649,     0.67698,     0.67777,     0.67962,     0.68016,      0.6807,     0.68224,     0.68281,     0.68338,     0.68676,\n",
      "             0.6915,     0.69295,     0.69421,     0.69549,     0.69607,     0.69665,      0.6974,     0.69826,     0.69898,      0.6997,     0.70038,     0.70103,     0.70133,     0.70163,     0.70193,     0.70223,     0.70258,       0.703,     0.70341,     0.70382,     0.70419,     0.70456,     0.70493,\n",
      "            0.70569,     0.70721,     0.70734,     0.70891,     0.70971,     0.71155,     0.71278,     0.71424,     0.71496,     0.71566,     0.71634,     0.71616,     0.71535,     0.71695,     0.71742,     0.71767,     0.71791,     0.71816,     0.71841,     0.71865,     0.71892,     0.71918,     0.71944,\n",
      "            0.71971,     0.71997,     0.72041,     0.72129,     0.72229,     0.72385,     0.72629,     0.72663,     0.72696,      0.7273,     0.72764,     0.72969,     0.73139,     0.73385,     0.73446,     0.73508,     0.73701,     0.73781,     0.73865,     0.73958,     0.74025,     0.74075,     0.74124,\n",
      "            0.74176,     0.74229,     0.74283,     0.74433,     0.74491,     0.74517,     0.74544,      0.7457,     0.74596,     0.74623,     0.74782,     0.74811,     0.74836,     0.74861,     0.74886,     0.74911,     0.74936,     0.75112,     0.75166,      0.7522,     0.75273,     0.75317,     0.75361,\n",
      "            0.75406,     0.75457,     0.75519,     0.75581,     0.75869,     0.76039,     0.76127,     0.76181,     0.76235,      0.7631,     0.76396,     0.76248,     0.76173,     0.76215,     0.76257,     0.76299,     0.76452,     0.76575,     0.76712,     0.76862,     0.76946,     0.77073,     0.77302,\n",
      "            0.77431,     0.77537,     0.77636,       0.777,     0.77738,     0.77776,     0.77814,     0.77852,     0.78111,     0.78201,     0.78367,     0.78328,     0.78289,      0.7825,     0.78211,     0.78172,     0.78133,     0.78106,     0.78116,     0.78125,     0.78135,     0.78144,     0.78154,\n",
      "            0.78163,     0.78173,     0.78182,     0.78192,     0.78201,     0.78211,      0.7822,      0.7823,     0.78239,     0.78249,     0.78258,     0.78268,     0.78277,     0.78335,     0.78418,     0.78492,     0.78556,     0.78621,     0.78688,     0.78758,     0.78838,     0.78978,     0.79021,\n",
      "            0.79051,      0.7908,      0.7911,     0.79139,     0.79169,     0.79133,     0.79075,     0.79017,     0.78959,       0.789,     0.78952,     0.78801,     0.78765,     0.78876,     0.78841,     0.78806,     0.78771,     0.78736,     0.78701,     0.78667,     0.78632,     0.78538,     0.78336,\n",
      "            0.78392,     0.78448,     0.78504,     0.78633,     0.78716,     0.78764,     0.78813,     0.78861,     0.79012,     0.79086,     0.79121,     0.79157,     0.79193,     0.79228,     0.79258,     0.79282,     0.79307,     0.79331,     0.79355,      0.7938,     0.79404,     0.79428,     0.79384,\n",
      "            0.79326,     0.79267,     0.79208,     0.79149,     0.79319,     0.79369,     0.79407,     0.79445,     0.79482,      0.7952,     0.79543,     0.79565,     0.79587,     0.79608,      0.7963,     0.79651,     0.79673,     0.79694,     0.79719,     0.79769,     0.79818,     0.79868,      0.7991,\n",
      "            0.79932,     0.79954,     0.79976,     0.79998,      0.8002,     0.80042,     0.80064,     0.80085,     0.80111,     0.80139,     0.80167,     0.80195,     0.80223,     0.80251,     0.80279,     0.80315,     0.80356,     0.80396,     0.80436,     0.80477,     0.80406,     0.80319,     0.80231,\n",
      "            0.80396,     0.80436,     0.80475,     0.80514,     0.80553,     0.80625,     0.80786,     0.80829,     0.80873,     0.80916,     0.80959,     0.80948,     0.80902,     0.80856,     0.80811,     0.80765,     0.80719,     0.80705,     0.80789,     0.80873,      0.8114,     0.81251,     0.81308,\n",
      "            0.81346,     0.81384,     0.81421,     0.81459,     0.81502,     0.81552,     0.81603,     0.81653,     0.81698,     0.81735,     0.81772,     0.81809,     0.81846,     0.81883,     0.81941,     0.82001,     0.82061,     0.81958,     0.81826,      0.8191,     0.81994,     0.82192,     0.82176,\n",
      "             0.8216,     0.82144,     0.82128,     0.82113,     0.82097,     0.82081,     0.82065,     0.82049,     0.82033,     0.82017,     0.82002,     0.81986,      0.8197,     0.81954,     0.81938,     0.81922,     0.81873,     0.81696,     0.81632,     0.81669,     0.81706,     0.81743,      0.8178,\n",
      "            0.81817,     0.81836,     0.81854,     0.81871,     0.81889,     0.81907,     0.81925,     0.81943,     0.81961,     0.81978,     0.81996,     0.82014,     0.82208,     0.82038,     0.81965,     0.82028,     0.82091,     0.82136,     0.82095,     0.82055,     0.82014,     0.81974,     0.81934,\n",
      "            0.81893,     0.81853,     0.81924,     0.82037,     0.82152,     0.82264,     0.82309,     0.82353,     0.82398,     0.82442,     0.82623,      0.8289,     0.82832,     0.82775,     0.82717,      0.8266,     0.82602,     0.82582,     0.82566,     0.82549,     0.82533,     0.82516,       0.825,\n",
      "            0.82483,     0.82467,      0.8245,     0.82434,     0.82417,     0.82401,     0.82384,     0.82368,     0.82351,     0.82335,     0.82318,     0.82302,      0.8225,     0.82141,     0.82031,     0.81964,     0.81927,     0.81891,     0.81855,     0.81818,     0.81782,     0.81745,     0.81709,\n",
      "            0.81684,     0.81794,      0.8195,     0.82149,     0.82216,     0.82282,     0.82348,     0.82414,     0.82479,     0.82535,     0.82466,     0.82397,     0.82328,     0.82258,     0.82416,     0.82285,     0.82152,     0.82079,     0.82016,     0.81953,      0.8189,     0.81827,     0.81761,\n",
      "            0.81694,     0.81628,     0.81561,     0.81506,     0.81548,      0.8159,     0.81632,     0.81674,     0.81715,     0.81833,     0.81927,     0.81838,     0.81748,     0.81658,     0.81596,     0.81553,      0.8151,     0.81467,     0.81425,     0.81382,     0.81339,     0.81305,     0.81339,\n",
      "            0.81373,     0.81406,      0.8144,     0.81474,     0.81507,     0.81212,     0.81327,     0.81351,     0.81117,     0.81178,     0.81239,       0.813,     0.81335,     0.81359,     0.81383,     0.81407,     0.81431,     0.81455,     0.81479,     0.81503,     0.81527,       0.813,     0.81137,\n",
      "            0.81047,     0.80958,     0.80889,     0.80899,     0.80909,     0.80919,      0.8093,      0.8094,      0.8095,      0.8096,     0.80971,     0.80981,     0.80991,     0.81001,     0.81011,     0.81022,     0.81032,     0.81042,     0.81052,     0.81063,     0.81073,     0.81083,     0.81093,\n",
      "            0.81103,     0.80914,     0.80449,      0.8054,      0.8063,     0.80663,     0.80645,     0.80628,      0.8061,     0.80592,     0.80575,     0.80557,     0.80539,     0.80522,     0.80504,     0.80486,     0.80469,     0.80451,     0.80433,     0.80416,     0.80398,      0.8038,     0.80363,\n",
      "            0.80345,      0.8026,      0.8012,     0.79971,     0.79777,     0.79724,     0.79878,     0.79857,     0.79825,     0.79794,     0.79762,     0.79731,     0.79699,     0.79668,     0.79636,     0.79605,     0.79573,     0.79508,     0.79221,     0.78853,     0.78766,     0.78679,     0.78591,\n",
      "            0.78508,     0.78475,     0.78442,      0.7841,     0.78377,     0.78344,     0.78312,     0.78279,     0.78246,     0.78214,     0.78181,      0.7813,     0.78053,     0.77976,     0.77898,     0.77821,     0.78176,     0.78289,     0.78338,     0.78387,     0.78436,     0.78485,      0.7825,\n",
      "            0.78433,     0.78397,     0.77879,     0.78086,     0.77961,     0.77837,     0.77716,     0.77608,       0.775,     0.77392,     0.77025,      0.7715,     0.77221,     0.77116,     0.77011,     0.76906,     0.76772,     0.76626,     0.76473,     0.76288,     0.76069,     0.75746,     0.75695,\n",
      "            0.75644,     0.75593,     0.75542,     0.75491,      0.7544,     0.75389,      0.7527,     0.75136,     0.75003,     0.74925,     0.74848,     0.74772,     0.74695,     0.74618,     0.74449,     0.74279,     0.74076,     0.73862,     0.74047,     0.73946,     0.73845,     0.73744,     0.73141,\n",
      "            0.72666,     0.72418,     0.72308,     0.72198,     0.72091,     0.72014,     0.71936,     0.71858,      0.7178,     0.71703,     0.71562,     0.71417,       0.713,     0.71348,     0.71395,     0.71442,      0.7149,     0.71496,     0.71435,     0.71374,     0.71313,     0.71251,      0.7119,\n",
      "            0.71129,     0.70996,     0.70834,     0.70713,     0.70785,     0.70857,     0.70919,     0.70694,     0.70485,     0.70342,     0.70198,     0.69656,     0.69543,      0.6943,     0.69317,     0.68901,       0.686,     0.68486,     0.68459,      0.6816,     0.67681,     0.67464,     0.67311,\n",
      "            0.67269,     0.67228,     0.67186,     0.67144,     0.67102,      0.6706,     0.67018,     0.66976,     0.66934,     0.66892,     0.66916,     0.66948,      0.6698,     0.67012,     0.67044,     0.67076,     0.67108,     0.67032,     0.66949,     0.66866,     0.66783,       0.667,     0.66228,\n",
      "            0.66309,     0.66389,     0.66395,     0.66249,     0.66103,     0.65977,     0.65909,     0.65842,     0.65775,     0.65708,      0.6564,     0.65573,     0.65504,     0.65434,     0.65364,     0.65294,     0.65224,     0.65154,     0.65087,      0.6528,     0.64889,     0.64204,     0.63941,\n",
      "            0.63778,     0.63624,     0.63469,     0.63243,     0.63005,     0.63085,     0.63179,     0.63046,     0.62914,     0.62781,     0.62695,     0.62651,     0.62607,     0.62563,     0.62519,     0.62475,      0.6243,     0.62386,     0.62342,     0.62298,     0.62254,     0.62205,     0.62153,\n",
      "            0.62101,     0.62049,     0.61997,     0.61945,     0.61893,     0.61841,     0.61789,      0.6167,     0.61414,      0.6121,     0.61075,      0.6094,     0.60805,     0.60488,     0.60237,     0.60133,     0.60028,     0.59924,     0.59819,     0.59482,     0.59334,     0.59185,     0.59037,\n",
      "            0.59063,     0.59163,     0.59154,     0.59063,     0.58972,     0.58881,     0.58789,     0.58697,     0.58471,     0.58241,     0.57332,     0.56786,      0.5622,     0.55974,     0.55489,     0.54917,     0.54494,     0.52852,     0.52145,     0.50521,     0.49008,      0.4889,     0.48773,\n",
      "            0.48655,     0.48537,     0.48349,     0.47808,     0.47378,     0.47122,     0.46945,     0.46767,     0.46026,     0.45848,     0.45671,     0.45492,     0.45105,     0.44844,     0.44944,     0.44919,     0.44823,     0.44728,     0.44632,     0.44536,      0.4444,     0.44233,     0.43518,\n",
      "             0.4313,     0.42435,     0.42228,      0.4202,     0.41812,     0.41692,     0.41575,     0.41459,     0.41342,     0.41225,     0.41007,     0.40619,     0.39974,     0.39677,     0.39485,     0.39293,     0.38437,     0.38218,     0.37998,     0.37742,     0.37319,     0.35666,     0.35246,\n",
      "            0.34792,     0.34325,     0.34166,     0.34006,     0.33846,     0.33686,     0.32823,     0.31552,     0.30282,     0.28665,     0.28309,     0.28147,     0.27984,     0.27821,     0.27634,     0.27275,     0.26916,     0.26133,     0.25273,     0.25044,     0.24814,     0.24584,     0.24153,\n",
      "            0.23682,     0.23221,     0.22873,      0.2271,     0.22546,     0.22383,     0.22219,     0.21934,     0.21464,     0.21009,     0.20559,     0.20115,     0.19671,     0.19227,     0.18782,     0.18287,     0.17784,     0.17261,     0.15205,     0.14331,     0.14074,     0.13816,     0.13557,\n",
      "            0.13159,     0.12742,     0.11468,     0.11114,     0.10674,    0.095213,    0.088395,    0.083711,    0.079325,    0.077135,    0.074941,    0.072742,    0.070538,    0.066073,    0.060859,    0.050221,    0.049774,    0.049327,     0.04888,    0.048433,    0.047985,    0.047537,    0.047089,\n",
      "           0.046641,    0.046193,    0.045744,    0.045295,    0.044846,    0.044397,    0.043948,    0.043498,    0.043048,    0.042598,    0.042148,    0.041698,    0.041247,    0.040796,    0.038685,    0.035391,    0.032086,     0.01993,    0.017731,    0.015527,    0.013318,    0.011105,           0,\n",
      "                  0,           0,           0,           0,           0,           0,           0,           0,           0,           0,           0]]), 'Confidence', 'F1'], [array([          0,    0.001001,    0.002002,    0.003003,    0.004004,    0.005005,    0.006006,    0.007007,    0.008008,    0.009009,     0.01001,    0.011011,    0.012012,    0.013013,    0.014014,    0.015015,    0.016016,    0.017017,    0.018018,    0.019019,     0.02002,    0.021021,    0.022022,    0.023023,\n",
      "          0.024024,    0.025025,    0.026026,    0.027027,    0.028028,    0.029029,     0.03003,    0.031031,    0.032032,    0.033033,    0.034034,    0.035035,    0.036036,    0.037037,    0.038038,    0.039039,     0.04004,    0.041041,    0.042042,    0.043043,    0.044044,    0.045045,    0.046046,    0.047047,\n",
      "          0.048048,    0.049049,     0.05005,    0.051051,    0.052052,    0.053053,    0.054054,    0.055055,    0.056056,    0.057057,    0.058058,    0.059059,     0.06006,    0.061061,    0.062062,    0.063063,    0.064064,    0.065065,    0.066066,    0.067067,    0.068068,    0.069069,     0.07007,    0.071071,\n",
      "          0.072072,    0.073073,    0.074074,    0.075075,    0.076076,    0.077077,    0.078078,    0.079079,     0.08008,    0.081081,    0.082082,    0.083083,    0.084084,    0.085085,    0.086086,    0.087087,    0.088088,    0.089089,     0.09009,    0.091091,    0.092092,    0.093093,    0.094094,    0.095095,\n",
      "          0.096096,    0.097097,    0.098098,    0.099099,      0.1001,      0.1011,      0.1021,      0.1031,      0.1041,     0.10511,     0.10611,     0.10711,     0.10811,     0.10911,     0.11011,     0.11111,     0.11211,     0.11311,     0.11411,     0.11512,     0.11612,     0.11712,     0.11812,     0.11912,\n",
      "           0.12012,     0.12112,     0.12212,     0.12312,     0.12412,     0.12513,     0.12613,     0.12713,     0.12813,     0.12913,     0.13013,     0.13113,     0.13213,     0.13313,     0.13413,     0.13514,     0.13614,     0.13714,     0.13814,     0.13914,     0.14014,     0.14114,     0.14214,     0.14314,\n",
      "           0.14414,     0.14515,     0.14615,     0.14715,     0.14815,     0.14915,     0.15015,     0.15115,     0.15215,     0.15315,     0.15415,     0.15516,     0.15616,     0.15716,     0.15816,     0.15916,     0.16016,     0.16116,     0.16216,     0.16316,     0.16416,     0.16517,     0.16617,     0.16717,\n",
      "           0.16817,     0.16917,     0.17017,     0.17117,     0.17217,     0.17317,     0.17417,     0.17518,     0.17618,     0.17718,     0.17818,     0.17918,     0.18018,     0.18118,     0.18218,     0.18318,     0.18418,     0.18519,     0.18619,     0.18719,     0.18819,     0.18919,     0.19019,     0.19119,\n",
      "           0.19219,     0.19319,     0.19419,      0.1952,      0.1962,      0.1972,      0.1982,      0.1992,      0.2002,      0.2012,      0.2022,      0.2032,      0.2042,     0.20521,     0.20621,     0.20721,     0.20821,     0.20921,     0.21021,     0.21121,     0.21221,     0.21321,     0.21421,     0.21522,\n",
      "           0.21622,     0.21722,     0.21822,     0.21922,     0.22022,     0.22122,     0.22222,     0.22322,     0.22422,     0.22523,     0.22623,     0.22723,     0.22823,     0.22923,     0.23023,     0.23123,     0.23223,     0.23323,     0.23423,     0.23524,     0.23624,     0.23724,     0.23824,     0.23924,\n",
      "           0.24024,     0.24124,     0.24224,     0.24324,     0.24424,     0.24525,     0.24625,     0.24725,     0.24825,     0.24925,     0.25025,     0.25125,     0.25225,     0.25325,     0.25425,     0.25526,     0.25626,     0.25726,     0.25826,     0.25926,     0.26026,     0.26126,     0.26226,     0.26326,\n",
      "           0.26426,     0.26527,     0.26627,     0.26727,     0.26827,     0.26927,     0.27027,     0.27127,     0.27227,     0.27327,     0.27427,     0.27528,     0.27628,     0.27728,     0.27828,     0.27928,     0.28028,     0.28128,     0.28228,     0.28328,     0.28428,     0.28529,     0.28629,     0.28729,\n",
      "           0.28829,     0.28929,     0.29029,     0.29129,     0.29229,     0.29329,     0.29429,      0.2953,      0.2963,      0.2973,      0.2983,      0.2993,      0.3003,      0.3013,      0.3023,      0.3033,      0.3043,     0.30531,     0.30631,     0.30731,     0.30831,     0.30931,     0.31031,     0.31131,\n",
      "           0.31231,     0.31331,     0.31431,     0.31532,     0.31632,     0.31732,     0.31832,     0.31932,     0.32032,     0.32132,     0.32232,     0.32332,     0.32432,     0.32533,     0.32633,     0.32733,     0.32833,     0.32933,     0.33033,     0.33133,     0.33233,     0.33333,     0.33433,     0.33534,\n",
      "           0.33634,     0.33734,     0.33834,     0.33934,     0.34034,     0.34134,     0.34234,     0.34334,     0.34434,     0.34535,     0.34635,     0.34735,     0.34835,     0.34935,     0.35035,     0.35135,     0.35235,     0.35335,     0.35435,     0.35536,     0.35636,     0.35736,     0.35836,     0.35936,\n",
      "           0.36036,     0.36136,     0.36236,     0.36336,     0.36436,     0.36537,     0.36637,     0.36737,     0.36837,     0.36937,     0.37037,     0.37137,     0.37237,     0.37337,     0.37437,     0.37538,     0.37638,     0.37738,     0.37838,     0.37938,     0.38038,     0.38138,     0.38238,     0.38338,\n",
      "           0.38438,     0.38539,     0.38639,     0.38739,     0.38839,     0.38939,     0.39039,     0.39139,     0.39239,     0.39339,     0.39439,      0.3954,      0.3964,      0.3974,      0.3984,      0.3994,      0.4004,      0.4014,      0.4024,      0.4034,      0.4044,     0.40541,     0.40641,     0.40741,\n",
      "           0.40841,     0.40941,     0.41041,     0.41141,     0.41241,     0.41341,     0.41441,     0.41542,     0.41642,     0.41742,     0.41842,     0.41942,     0.42042,     0.42142,     0.42242,     0.42342,     0.42442,     0.42543,     0.42643,     0.42743,     0.42843,     0.42943,     0.43043,     0.43143,\n",
      "           0.43243,     0.43343,     0.43443,     0.43544,     0.43644,     0.43744,     0.43844,     0.43944,     0.44044,     0.44144,     0.44244,     0.44344,     0.44444,     0.44545,     0.44645,     0.44745,     0.44845,     0.44945,     0.45045,     0.45145,     0.45245,     0.45345,     0.45445,     0.45546,\n",
      "           0.45646,     0.45746,     0.45846,     0.45946,     0.46046,     0.46146,     0.46246,     0.46346,     0.46446,     0.46547,     0.46647,     0.46747,     0.46847,     0.46947,     0.47047,     0.47147,     0.47247,     0.47347,     0.47447,     0.47548,     0.47648,     0.47748,     0.47848,     0.47948,\n",
      "           0.48048,     0.48148,     0.48248,     0.48348,     0.48448,     0.48549,     0.48649,     0.48749,     0.48849,     0.48949,     0.49049,     0.49149,     0.49249,     0.49349,     0.49449,      0.4955,      0.4965,      0.4975,      0.4985,      0.4995,      0.5005,      0.5015,      0.5025,      0.5035,\n",
      "            0.5045,     0.50551,     0.50651,     0.50751,     0.50851,     0.50951,     0.51051,     0.51151,     0.51251,     0.51351,     0.51451,     0.51552,     0.51652,     0.51752,     0.51852,     0.51952,     0.52052,     0.52152,     0.52252,     0.52352,     0.52452,     0.52553,     0.52653,     0.52753,\n",
      "           0.52853,     0.52953,     0.53053,     0.53153,     0.53253,     0.53353,     0.53453,     0.53554,     0.53654,     0.53754,     0.53854,     0.53954,     0.54054,     0.54154,     0.54254,     0.54354,     0.54454,     0.54555,     0.54655,     0.54755,     0.54855,     0.54955,     0.55055,     0.55155,\n",
      "           0.55255,     0.55355,     0.55455,     0.55556,     0.55656,     0.55756,     0.55856,     0.55956,     0.56056,     0.56156,     0.56256,     0.56356,     0.56456,     0.56557,     0.56657,     0.56757,     0.56857,     0.56957,     0.57057,     0.57157,     0.57257,     0.57357,     0.57457,     0.57558,\n",
      "           0.57658,     0.57758,     0.57858,     0.57958,     0.58058,     0.58158,     0.58258,     0.58358,     0.58458,     0.58559,     0.58659,     0.58759,     0.58859,     0.58959,     0.59059,     0.59159,     0.59259,     0.59359,     0.59459,      0.5956,      0.5966,      0.5976,      0.5986,      0.5996,\n",
      "            0.6006,      0.6016,      0.6026,      0.6036,      0.6046,     0.60561,     0.60661,     0.60761,     0.60861,     0.60961,     0.61061,     0.61161,     0.61261,     0.61361,     0.61461,     0.61562,     0.61662,     0.61762,     0.61862,     0.61962,     0.62062,     0.62162,     0.62262,     0.62362,\n",
      "           0.62462,     0.62563,     0.62663,     0.62763,     0.62863,     0.62963,     0.63063,     0.63163,     0.63263,     0.63363,     0.63463,     0.63564,     0.63664,     0.63764,     0.63864,     0.63964,     0.64064,     0.64164,     0.64264,     0.64364,     0.64464,     0.64565,     0.64665,     0.64765,\n",
      "           0.64865,     0.64965,     0.65065,     0.65165,     0.65265,     0.65365,     0.65465,     0.65566,     0.65666,     0.65766,     0.65866,     0.65966,     0.66066,     0.66166,     0.66266,     0.66366,     0.66466,     0.66567,     0.66667,     0.66767,     0.66867,     0.66967,     0.67067,     0.67167,\n",
      "           0.67267,     0.67367,     0.67467,     0.67568,     0.67668,     0.67768,     0.67868,     0.67968,     0.68068,     0.68168,     0.68268,     0.68368,     0.68468,     0.68569,     0.68669,     0.68769,     0.68869,     0.68969,     0.69069,     0.69169,     0.69269,     0.69369,     0.69469,      0.6957,\n",
      "            0.6967,      0.6977,      0.6987,      0.6997,      0.7007,      0.7017,      0.7027,      0.7037,      0.7047,     0.70571,     0.70671,     0.70771,     0.70871,     0.70971,     0.71071,     0.71171,     0.71271,     0.71371,     0.71471,     0.71572,     0.71672,     0.71772,     0.71872,     0.71972,\n",
      "           0.72072,     0.72172,     0.72272,     0.72372,     0.72472,     0.72573,     0.72673,     0.72773,     0.72873,     0.72973,     0.73073,     0.73173,     0.73273,     0.73373,     0.73473,     0.73574,     0.73674,     0.73774,     0.73874,     0.73974,     0.74074,     0.74174,     0.74274,     0.74374,\n",
      "           0.74474,     0.74575,     0.74675,     0.74775,     0.74875,     0.74975,     0.75075,     0.75175,     0.75275,     0.75375,     0.75475,     0.75576,     0.75676,     0.75776,     0.75876,     0.75976,     0.76076,     0.76176,     0.76276,     0.76376,     0.76476,     0.76577,     0.76677,     0.76777,\n",
      "           0.76877,     0.76977,     0.77077,     0.77177,     0.77277,     0.77377,     0.77477,     0.77578,     0.77678,     0.77778,     0.77878,     0.77978,     0.78078,     0.78178,     0.78278,     0.78378,     0.78478,     0.78579,     0.78679,     0.78779,     0.78879,     0.78979,     0.79079,     0.79179,\n",
      "           0.79279,     0.79379,     0.79479,      0.7958,      0.7968,      0.7978,      0.7988,      0.7998,      0.8008,      0.8018,      0.8028,      0.8038,      0.8048,     0.80581,     0.80681,     0.80781,     0.80881,     0.80981,     0.81081,     0.81181,     0.81281,     0.81381,     0.81481,     0.81582,\n",
      "           0.81682,     0.81782,     0.81882,     0.81982,     0.82082,     0.82182,     0.82282,     0.82382,     0.82482,     0.82583,     0.82683,     0.82783,     0.82883,     0.82983,     0.83083,     0.83183,     0.83283,     0.83383,     0.83483,     0.83584,     0.83684,     0.83784,     0.83884,     0.83984,\n",
      "           0.84084,     0.84184,     0.84284,     0.84384,     0.84484,     0.84585,     0.84685,     0.84785,     0.84885,     0.84985,     0.85085,     0.85185,     0.85285,     0.85385,     0.85485,     0.85586,     0.85686,     0.85786,     0.85886,     0.85986,     0.86086,     0.86186,     0.86286,     0.86386,\n",
      "           0.86486,     0.86587,     0.86687,     0.86787,     0.86887,     0.86987,     0.87087,     0.87187,     0.87287,     0.87387,     0.87487,     0.87588,     0.87688,     0.87788,     0.87888,     0.87988,     0.88088,     0.88188,     0.88288,     0.88388,     0.88488,     0.88589,     0.88689,     0.88789,\n",
      "           0.88889,     0.88989,     0.89089,     0.89189,     0.89289,     0.89389,     0.89489,      0.8959,      0.8969,      0.8979,      0.8989,      0.8999,      0.9009,      0.9019,      0.9029,      0.9039,      0.9049,     0.90591,     0.90691,     0.90791,     0.90891,     0.90991,     0.91091,     0.91191,\n",
      "           0.91291,     0.91391,     0.91491,     0.91592,     0.91692,     0.91792,     0.91892,     0.91992,     0.92092,     0.92192,     0.92292,     0.92392,     0.92492,     0.92593,     0.92693,     0.92793,     0.92893,     0.92993,     0.93093,     0.93193,     0.93293,     0.93393,     0.93493,     0.93594,\n",
      "           0.93694,     0.93794,     0.93894,     0.93994,     0.94094,     0.94194,     0.94294,     0.94394,     0.94494,     0.94595,     0.94695,     0.94795,     0.94895,     0.94995,     0.95095,     0.95195,     0.95295,     0.95395,     0.95495,     0.95596,     0.95696,     0.95796,     0.95896,     0.95996,\n",
      "           0.96096,     0.96196,     0.96296,     0.96396,     0.96496,     0.96597,     0.96697,     0.96797,     0.96897,     0.96997,     0.97097,     0.97197,     0.97297,     0.97397,     0.97497,     0.97598,     0.97698,     0.97798,     0.97898,     0.97998,     0.98098,     0.98198,     0.98298,     0.98398,\n",
      "           0.98498,     0.98599,     0.98699,     0.98799,     0.98899,     0.98999,     0.99099,     0.99199,     0.99299,     0.99399,     0.99499,       0.996,       0.997,       0.998,       0.999,           1]), array([[   0.046975,    0.047007,    0.089812,     0.12831,     0.16256,     0.18191,     0.19976,     0.22062,     0.23759,     0.25388,     0.26661,     0.27833,     0.29006,     0.29889,     0.31181,     0.31857,     0.32823,     0.33489,     0.34058,     0.35022,     0.35685,     0.36035,     0.36595,\n",
      "            0.37253,     0.38169,     0.38469,     0.38838,     0.39489,     0.39827,     0.40448,     0.40794,     0.41106,     0.41478,     0.42087,     0.42679,     0.43424,     0.43877,     0.44598,     0.44729,     0.45021,      0.4553,     0.45869,     0.46212,     0.46332,     0.46624,     0.46837,\n",
      "             0.4697,     0.47314,     0.47586,     0.47823,     0.48111,     0.48292,     0.48493,     0.48805,     0.49035,      0.4963,     0.49756,     0.50143,     0.50203,     0.50262,     0.50441,     0.50645,     0.50739,     0.50803,     0.50933,     0.51072,      0.5114,     0.51334,     0.51384,\n",
      "            0.51434,     0.51793,     0.51906,     0.52005,     0.52246,     0.52451,     0.52566,     0.52623,     0.52682,      0.5287,     0.53111,      0.5348,     0.53535,      0.5359,     0.53651,      0.5375,     0.53983,     0.54051,      0.5412,     0.54315,     0.54387,     0.54459,      0.5489,\n",
      "            0.55498,     0.55685,     0.55848,     0.56013,     0.56089,     0.56164,     0.56262,     0.56373,     0.56468,     0.56562,     0.56652,     0.56735,     0.56775,     0.56814,     0.56854,     0.56893,      0.5694,     0.56994,     0.57048,     0.57102,     0.57151,     0.57199,     0.57248,\n",
      "            0.57348,     0.57613,     0.57773,     0.57982,      0.5809,     0.58338,     0.58502,     0.58699,     0.58797,     0.58892,     0.58984,     0.59021,     0.59068,     0.59287,      0.5935,     0.59384,     0.59418,     0.59452,     0.59485,     0.59519,     0.59555,     0.59592,     0.59628,\n",
      "            0.59664,     0.59701,      0.5976,     0.59882,      0.6002,     0.60236,     0.60574,     0.60621,     0.60668,     0.60715,     0.60762,     0.61049,     0.61287,     0.61633,      0.6172,     0.61807,     0.62081,     0.62195,     0.62313,     0.62446,     0.62542,     0.62613,     0.62684,\n",
      "            0.62757,     0.62834,     0.62911,     0.63126,      0.6321,     0.63248,     0.63286,     0.63324,     0.63362,       0.634,      0.6363,     0.63672,     0.63708,     0.63745,     0.63781,     0.63817,     0.63854,      0.6411,     0.64188,     0.64267,     0.64344,     0.64409,     0.64473,\n",
      "            0.64538,     0.64614,     0.64705,     0.64796,      0.6522,     0.65471,     0.65602,     0.65682,     0.65763,     0.65875,     0.66004,     0.65956,     0.65945,     0.66008,     0.66072,     0.66135,     0.66364,     0.66551,     0.66758,     0.66986,     0.67113,     0.67307,     0.67656,\n",
      "            0.67854,     0.68017,     0.68169,     0.68268,     0.68327,     0.68386,     0.68445,     0.68503,     0.68906,     0.69045,     0.69317,       0.693,     0.69283,     0.69265,     0.69248,      0.6923,     0.69213,     0.69204,     0.69219,     0.69234,     0.69249,     0.69264,     0.69279,\n",
      "            0.69293,     0.69308,     0.69323,     0.69338,     0.69353,     0.69368,     0.69383,     0.69398,     0.69413,     0.69428,     0.69443,     0.69458,     0.69473,     0.69563,     0.69695,     0.69812,     0.69913,     0.70015,     0.70123,     0.70233,     0.70361,     0.70585,     0.70654,\n",
      "            0.70701,     0.70748,     0.70795,     0.70843,      0.7089,     0.70883,     0.70858,     0.70833,     0.70808,     0.70782,     0.71236,     0.71171,     0.71231,     0.71424,     0.71409,     0.71394,     0.71379,     0.71364,     0.71349,     0.71334,      0.7132,     0.71279,      0.7121,\n",
      "            0.71303,     0.71396,     0.71489,     0.71702,      0.7184,     0.71921,     0.72002,     0.72082,     0.72335,     0.72459,     0.72519,     0.72579,     0.72639,     0.72699,     0.72749,      0.7279,     0.72831,     0.72872,     0.72913,     0.72954,     0.72995,     0.73036,     0.73024,\n",
      "            0.72999,     0.72975,     0.72951,     0.72927,     0.73218,     0.73304,     0.73369,     0.73433,     0.73497,     0.73562,     0.73602,     0.73639,     0.73676,     0.73713,      0.7375,     0.73787,     0.73824,     0.73861,     0.73903,     0.73989,     0.74074,      0.7416,     0.74232,\n",
      "             0.7427,     0.74308,     0.74346,     0.74384,     0.74422,      0.7446,     0.74498,     0.74535,     0.74579,     0.74628,     0.74676,     0.74725,     0.74774,     0.74823,     0.74871,     0.74935,     0.75005,     0.75075,     0.75146,     0.75216,     0.75196,     0.75162,     0.75128,\n",
      "             0.7547,     0.75539,     0.75608,     0.75677,     0.75746,     0.75875,      0.7616,     0.76237,     0.76314,     0.76391,     0.76468,     0.76487,      0.7647,     0.76453,     0.76436,     0.76419,     0.76402,     0.76425,     0.76576,     0.76728,      0.7721,      0.7741,     0.77515,\n",
      "            0.77583,     0.77652,      0.7772,     0.77789,     0.77867,     0.77959,     0.78052,     0.78145,     0.78227,     0.78295,     0.78362,      0.7843,     0.78498,     0.78566,     0.78673,     0.78784,     0.78894,     0.78902,     0.78903,     0.79059,     0.79216,     0.79607,     0.79602,\n",
      "            0.79596,     0.79591,     0.79586,      0.7958,     0.79575,      0.7957,     0.79564,     0.79559,     0.79554,     0.79548,     0.79543,     0.79538,     0.79532,     0.79527,     0.79522,     0.79516,       0.795,      0.7944,     0.79449,     0.79519,      0.7959,      0.7966,     0.79731,\n",
      "            0.79801,     0.79836,      0.7987,     0.79904,     0.79938,     0.79972,     0.80006,      0.8004,     0.80074,     0.80108,     0.80142,     0.80176,     0.80549,     0.80534,     0.80561,     0.80683,     0.80805,     0.80902,     0.80889,     0.80876,     0.80863,      0.8085,     0.80838,\n",
      "            0.80825,     0.80812,     0.80968,      0.8119,     0.81417,     0.81637,     0.81725,     0.81813,       0.819,     0.81988,     0.82346,     0.82898,     0.82881,     0.82864,     0.82848,     0.82831,     0.82814,     0.82808,     0.82803,     0.82798,     0.82793,     0.82789,     0.82784,\n",
      "            0.82779,     0.82774,     0.82769,     0.82764,     0.82759,     0.82755,      0.8275,     0.82745,      0.8274,     0.82735,      0.8273,     0.82726,      0.8271,     0.82678,     0.82645,     0.82625,     0.82615,     0.82604,     0.82593,     0.82582,     0.82571,      0.8256,      0.8255,\n",
      "            0.82558,     0.82783,     0.83102,     0.83513,     0.83651,     0.83789,     0.83926,     0.84061,     0.84197,     0.84323,     0.84304,     0.84285,     0.84266,     0.84247,     0.84691,     0.84656,     0.84621,     0.84601,     0.84584,     0.84567,      0.8455,     0.84533,     0.84515,\n",
      "            0.84497,     0.84479,     0.84461,     0.84454,     0.84544,     0.84634,     0.84725,     0.84815,     0.84906,     0.85159,      0.8539,     0.85367,     0.85343,      0.8532,     0.85304,     0.85293,     0.85282,     0.85271,     0.85259,     0.85248,     0.85237,     0.85236,     0.85311,\n",
      "            0.85385,     0.85459,     0.85534,     0.85608,     0.85683,     0.85662,     0.85917,      0.8611,     0.86094,     0.86232,      0.8637,     0.86508,     0.86588,     0.86642,     0.86697,     0.86751,     0.86805,      0.8686,     0.86914,     0.86969,     0.87023,     0.87002,     0.86964,\n",
      "            0.86943,     0.86922,      0.8691,     0.86933,     0.86957,     0.86981,     0.87004,     0.87028,     0.87052,     0.87075,     0.87099,     0.87123,     0.87147,      0.8717,     0.87194,     0.87218,     0.87241,     0.87265,     0.87289,     0.87312,     0.87336,      0.8736,     0.87384,\n",
      "            0.87407,      0.8738,     0.87277,     0.87492,     0.87706,     0.87803,     0.87799,     0.87795,     0.87791,     0.87787,     0.87783,     0.87779,     0.87775,     0.87771,     0.87767,     0.87763,     0.87759,     0.87755,     0.87752,     0.87748,     0.87744,      0.8774,     0.87736,\n",
      "            0.87732,     0.87713,     0.87681,     0.87648,     0.87604,      0.8773,     0.88105,     0.88118,     0.88112,     0.88105,     0.88098,     0.88091,     0.88084,     0.88077,      0.8807,     0.88063,     0.88056,     0.88042,     0.87979,     0.87897,     0.87878,     0.87858,     0.87839,\n",
      "             0.8782,     0.87813,     0.87805,     0.87798,     0.87791,     0.87783,     0.87776,     0.87768,     0.87761,     0.87754,     0.87746,     0.87735,     0.87717,       0.877,     0.87682,     0.87665,     0.88597,     0.88888,     0.89014,     0.89141,     0.89268,     0.89395,     0.89356,\n",
      "            0.90118,     0.90505,     0.90411,     0.91031,     0.91009,     0.90988,     0.90967,     0.90949,      0.9093,     0.90911,     0.90874,     0.91222,     0.91485,     0.91468,     0.91451,     0.91433,     0.91411,     0.91387,     0.91361,      0.9133,     0.91294,     0.91239,      0.9123,\n",
      "            0.91222,     0.91213,     0.91204,     0.91195,     0.91187,     0.91178,     0.91157,     0.91135,     0.91112,     0.91098,     0.91085,     0.91071,     0.91058,     0.91045,     0.91015,     0.90985,      0.9095,     0.90912,     0.91599,     0.91582,     0.91565,     0.91548,     0.91447,\n",
      "            0.91367,     0.91324,     0.91305,     0.91287,     0.91268,     0.91255,     0.91241,     0.91228,     0.91214,     0.91201,     0.91176,     0.91151,     0.91152,     0.91307,     0.91462,     0.91618,     0.91773,     0.91866,     0.91856,     0.91846,     0.91836,     0.91826,     0.91816,\n",
      "            0.91806,     0.91784,     0.91758,     0.91778,     0.92022,     0.92265,     0.92499,     0.92465,     0.92433,     0.92411,     0.92389,     0.92304,     0.92287,     0.92269,     0.92251,     0.92185,     0.92137,     0.92404,     0.92896,     0.92852,      0.9278,     0.92748,     0.92725,\n",
      "            0.92719,     0.92712,     0.92706,     0.92699,     0.92693,     0.92687,      0.9268,     0.92674,     0.92668,     0.92661,      0.9277,     0.92894,     0.93017,     0.93141,     0.93264,     0.93388,     0.93511,     0.93508,     0.93497,     0.93485,     0.93474,     0.93462,     0.93424,\n",
      "            0.93747,     0.94069,      0.9428,     0.94262,     0.94244,     0.94229,      0.9422,     0.94212,     0.94204,     0.94195,     0.94187,     0.94179,      0.9417,     0.94161,     0.94153,     0.94144,     0.94135,     0.94126,     0.94128,     0.94941,     0.95005,      0.9493,     0.94901,\n",
      "            0.94882,     0.94865,     0.94848,     0.94822,     0.94795,      0.9529,     0.95788,     0.95776,     0.95763,     0.95751,     0.95742,     0.95738,     0.95734,      0.9573,     0.95726,     0.95721,     0.95717,     0.95713,     0.95709,     0.95705,       0.957,     0.95696,     0.95691,\n",
      "            0.95686,     0.95681,     0.95676,     0.95671,     0.95666,     0.95661,     0.95656,     0.95644,     0.95619,     0.95599,     0.95585,     0.95572,     0.95558,     0.95526,     0.95501,      0.9549,     0.95479,     0.95469,     0.95458,      0.9651,     0.96498,     0.96486,     0.96474,\n",
      "            0.96849,     0.97386,     0.97616,     0.97611,     0.97606,     0.97601,     0.97596,      0.9759,     0.97577,     0.97564,     0.97511,     0.97478,     0.98699,     0.98691,     0.98675,     0.98656,     0.98642,     0.98585,     0.98559,     0.98498,     0.98437,     0.98432,     0.98427,\n",
      "            0.98422,     0.98417,     0.98409,     0.98386,     0.98367,     0.98355,     0.98347,     0.98339,     0.98305,     0.98296,     0.98288,     0.98279,     0.98261,     0.98669,      0.9965,           1,           1,           1,           1,           1,           1,           1,           1,\n",
      "                  1,           1,           1,           1,           1,           1,           1,           1,           1,           1,           1,           1,           1,           1,           1,           1,           1,           1,           1,           1,           1,           1,           1,\n",
      "                  1,           1,           1,           1,           1,           1,           1,           1,           1,           1,           1,           1,           1,           1,           1,           1,           1,           1,           1,           1,           1,           1,           1,\n",
      "                  1,           1,           1,           1,           1,           1,           1,           1,           1,           1,           1,           1,           1,           1,           1,           1,           1,           1,           1,           1,           1,           1,           1,\n",
      "                  1,           1,           1,           1,           1,           1,           1,           1,           1,           1,           1,           1,           1,           1,           1,           1,           1,           1,           1,           1,           1,           1,           1,\n",
      "                  1,           1,           1,           1,           1,           1,           1,           1,           1,           1,           1,           1,           1,           1,           1,           1,           1,           1,           1,           1,           1,           1,           1,\n",
      "                  1,           1,           1,           1,           1,           1,           1,           1,           1,           1,           1]]), 'Confidence', 'Precision'], [array([          0,    0.001001,    0.002002,    0.003003,    0.004004,    0.005005,    0.006006,    0.007007,    0.008008,    0.009009,     0.01001,    0.011011,    0.012012,    0.013013,    0.014014,    0.015015,    0.016016,    0.017017,    0.018018,    0.019019,     0.02002,    0.021021,    0.022022,    0.023023,\n",
      "          0.024024,    0.025025,    0.026026,    0.027027,    0.028028,    0.029029,     0.03003,    0.031031,    0.032032,    0.033033,    0.034034,    0.035035,    0.036036,    0.037037,    0.038038,    0.039039,     0.04004,    0.041041,    0.042042,    0.043043,    0.044044,    0.045045,    0.046046,    0.047047,\n",
      "          0.048048,    0.049049,     0.05005,    0.051051,    0.052052,    0.053053,    0.054054,    0.055055,    0.056056,    0.057057,    0.058058,    0.059059,     0.06006,    0.061061,    0.062062,    0.063063,    0.064064,    0.065065,    0.066066,    0.067067,    0.068068,    0.069069,     0.07007,    0.071071,\n",
      "          0.072072,    0.073073,    0.074074,    0.075075,    0.076076,    0.077077,    0.078078,    0.079079,     0.08008,    0.081081,    0.082082,    0.083083,    0.084084,    0.085085,    0.086086,    0.087087,    0.088088,    0.089089,     0.09009,    0.091091,    0.092092,    0.093093,    0.094094,    0.095095,\n",
      "          0.096096,    0.097097,    0.098098,    0.099099,      0.1001,      0.1011,      0.1021,      0.1031,      0.1041,     0.10511,     0.10611,     0.10711,     0.10811,     0.10911,     0.11011,     0.11111,     0.11211,     0.11311,     0.11411,     0.11512,     0.11612,     0.11712,     0.11812,     0.11912,\n",
      "           0.12012,     0.12112,     0.12212,     0.12312,     0.12412,     0.12513,     0.12613,     0.12713,     0.12813,     0.12913,     0.13013,     0.13113,     0.13213,     0.13313,     0.13413,     0.13514,     0.13614,     0.13714,     0.13814,     0.13914,     0.14014,     0.14114,     0.14214,     0.14314,\n",
      "           0.14414,     0.14515,     0.14615,     0.14715,     0.14815,     0.14915,     0.15015,     0.15115,     0.15215,     0.15315,     0.15415,     0.15516,     0.15616,     0.15716,     0.15816,     0.15916,     0.16016,     0.16116,     0.16216,     0.16316,     0.16416,     0.16517,     0.16617,     0.16717,\n",
      "           0.16817,     0.16917,     0.17017,     0.17117,     0.17217,     0.17317,     0.17417,     0.17518,     0.17618,     0.17718,     0.17818,     0.17918,     0.18018,     0.18118,     0.18218,     0.18318,     0.18418,     0.18519,     0.18619,     0.18719,     0.18819,     0.18919,     0.19019,     0.19119,\n",
      "           0.19219,     0.19319,     0.19419,      0.1952,      0.1962,      0.1972,      0.1982,      0.1992,      0.2002,      0.2012,      0.2022,      0.2032,      0.2042,     0.20521,     0.20621,     0.20721,     0.20821,     0.20921,     0.21021,     0.21121,     0.21221,     0.21321,     0.21421,     0.21522,\n",
      "           0.21622,     0.21722,     0.21822,     0.21922,     0.22022,     0.22122,     0.22222,     0.22322,     0.22422,     0.22523,     0.22623,     0.22723,     0.22823,     0.22923,     0.23023,     0.23123,     0.23223,     0.23323,     0.23423,     0.23524,     0.23624,     0.23724,     0.23824,     0.23924,\n",
      "           0.24024,     0.24124,     0.24224,     0.24324,     0.24424,     0.24525,     0.24625,     0.24725,     0.24825,     0.24925,     0.25025,     0.25125,     0.25225,     0.25325,     0.25425,     0.25526,     0.25626,     0.25726,     0.25826,     0.25926,     0.26026,     0.26126,     0.26226,     0.26326,\n",
      "           0.26426,     0.26527,     0.26627,     0.26727,     0.26827,     0.26927,     0.27027,     0.27127,     0.27227,     0.27327,     0.27427,     0.27528,     0.27628,     0.27728,     0.27828,     0.27928,     0.28028,     0.28128,     0.28228,     0.28328,     0.28428,     0.28529,     0.28629,     0.28729,\n",
      "           0.28829,     0.28929,     0.29029,     0.29129,     0.29229,     0.29329,     0.29429,      0.2953,      0.2963,      0.2973,      0.2983,      0.2993,      0.3003,      0.3013,      0.3023,      0.3033,      0.3043,     0.30531,     0.30631,     0.30731,     0.30831,     0.30931,     0.31031,     0.31131,\n",
      "           0.31231,     0.31331,     0.31431,     0.31532,     0.31632,     0.31732,     0.31832,     0.31932,     0.32032,     0.32132,     0.32232,     0.32332,     0.32432,     0.32533,     0.32633,     0.32733,     0.32833,     0.32933,     0.33033,     0.33133,     0.33233,     0.33333,     0.33433,     0.33534,\n",
      "           0.33634,     0.33734,     0.33834,     0.33934,     0.34034,     0.34134,     0.34234,     0.34334,     0.34434,     0.34535,     0.34635,     0.34735,     0.34835,     0.34935,     0.35035,     0.35135,     0.35235,     0.35335,     0.35435,     0.35536,     0.35636,     0.35736,     0.35836,     0.35936,\n",
      "           0.36036,     0.36136,     0.36236,     0.36336,     0.36436,     0.36537,     0.36637,     0.36737,     0.36837,     0.36937,     0.37037,     0.37137,     0.37237,     0.37337,     0.37437,     0.37538,     0.37638,     0.37738,     0.37838,     0.37938,     0.38038,     0.38138,     0.38238,     0.38338,\n",
      "           0.38438,     0.38539,     0.38639,     0.38739,     0.38839,     0.38939,     0.39039,     0.39139,     0.39239,     0.39339,     0.39439,      0.3954,      0.3964,      0.3974,      0.3984,      0.3994,      0.4004,      0.4014,      0.4024,      0.4034,      0.4044,     0.40541,     0.40641,     0.40741,\n",
      "           0.40841,     0.40941,     0.41041,     0.41141,     0.41241,     0.41341,     0.41441,     0.41542,     0.41642,     0.41742,     0.41842,     0.41942,     0.42042,     0.42142,     0.42242,     0.42342,     0.42442,     0.42543,     0.42643,     0.42743,     0.42843,     0.42943,     0.43043,     0.43143,\n",
      "           0.43243,     0.43343,     0.43443,     0.43544,     0.43644,     0.43744,     0.43844,     0.43944,     0.44044,     0.44144,     0.44244,     0.44344,     0.44444,     0.44545,     0.44645,     0.44745,     0.44845,     0.44945,     0.45045,     0.45145,     0.45245,     0.45345,     0.45445,     0.45546,\n",
      "           0.45646,     0.45746,     0.45846,     0.45946,     0.46046,     0.46146,     0.46246,     0.46346,     0.46446,     0.46547,     0.46647,     0.46747,     0.46847,     0.46947,     0.47047,     0.47147,     0.47247,     0.47347,     0.47447,     0.47548,     0.47648,     0.47748,     0.47848,     0.47948,\n",
      "           0.48048,     0.48148,     0.48248,     0.48348,     0.48448,     0.48549,     0.48649,     0.48749,     0.48849,     0.48949,     0.49049,     0.49149,     0.49249,     0.49349,     0.49449,      0.4955,      0.4965,      0.4975,      0.4985,      0.4995,      0.5005,      0.5015,      0.5025,      0.5035,\n",
      "            0.5045,     0.50551,     0.50651,     0.50751,     0.50851,     0.50951,     0.51051,     0.51151,     0.51251,     0.51351,     0.51451,     0.51552,     0.51652,     0.51752,     0.51852,     0.51952,     0.52052,     0.52152,     0.52252,     0.52352,     0.52452,     0.52553,     0.52653,     0.52753,\n",
      "           0.52853,     0.52953,     0.53053,     0.53153,     0.53253,     0.53353,     0.53453,     0.53554,     0.53654,     0.53754,     0.53854,     0.53954,     0.54054,     0.54154,     0.54254,     0.54354,     0.54454,     0.54555,     0.54655,     0.54755,     0.54855,     0.54955,     0.55055,     0.55155,\n",
      "           0.55255,     0.55355,     0.55455,     0.55556,     0.55656,     0.55756,     0.55856,     0.55956,     0.56056,     0.56156,     0.56256,     0.56356,     0.56456,     0.56557,     0.56657,     0.56757,     0.56857,     0.56957,     0.57057,     0.57157,     0.57257,     0.57357,     0.57457,     0.57558,\n",
      "           0.57658,     0.57758,     0.57858,     0.57958,     0.58058,     0.58158,     0.58258,     0.58358,     0.58458,     0.58559,     0.58659,     0.58759,     0.58859,     0.58959,     0.59059,     0.59159,     0.59259,     0.59359,     0.59459,      0.5956,      0.5966,      0.5976,      0.5986,      0.5996,\n",
      "            0.6006,      0.6016,      0.6026,      0.6036,      0.6046,     0.60561,     0.60661,     0.60761,     0.60861,     0.60961,     0.61061,     0.61161,     0.61261,     0.61361,     0.61461,     0.61562,     0.61662,     0.61762,     0.61862,     0.61962,     0.62062,     0.62162,     0.62262,     0.62362,\n",
      "           0.62462,     0.62563,     0.62663,     0.62763,     0.62863,     0.62963,     0.63063,     0.63163,     0.63263,     0.63363,     0.63463,     0.63564,     0.63664,     0.63764,     0.63864,     0.63964,     0.64064,     0.64164,     0.64264,     0.64364,     0.64464,     0.64565,     0.64665,     0.64765,\n",
      "           0.64865,     0.64965,     0.65065,     0.65165,     0.65265,     0.65365,     0.65465,     0.65566,     0.65666,     0.65766,     0.65866,     0.65966,     0.66066,     0.66166,     0.66266,     0.66366,     0.66466,     0.66567,     0.66667,     0.66767,     0.66867,     0.66967,     0.67067,     0.67167,\n",
      "           0.67267,     0.67367,     0.67467,     0.67568,     0.67668,     0.67768,     0.67868,     0.67968,     0.68068,     0.68168,     0.68268,     0.68368,     0.68468,     0.68569,     0.68669,     0.68769,     0.68869,     0.68969,     0.69069,     0.69169,     0.69269,     0.69369,     0.69469,      0.6957,\n",
      "            0.6967,      0.6977,      0.6987,      0.6997,      0.7007,      0.7017,      0.7027,      0.7037,      0.7047,     0.70571,     0.70671,     0.70771,     0.70871,     0.70971,     0.71071,     0.71171,     0.71271,     0.71371,     0.71471,     0.71572,     0.71672,     0.71772,     0.71872,     0.71972,\n",
      "           0.72072,     0.72172,     0.72272,     0.72372,     0.72472,     0.72573,     0.72673,     0.72773,     0.72873,     0.72973,     0.73073,     0.73173,     0.73273,     0.73373,     0.73473,     0.73574,     0.73674,     0.73774,     0.73874,     0.73974,     0.74074,     0.74174,     0.74274,     0.74374,\n",
      "           0.74474,     0.74575,     0.74675,     0.74775,     0.74875,     0.74975,     0.75075,     0.75175,     0.75275,     0.75375,     0.75475,     0.75576,     0.75676,     0.75776,     0.75876,     0.75976,     0.76076,     0.76176,     0.76276,     0.76376,     0.76476,     0.76577,     0.76677,     0.76777,\n",
      "           0.76877,     0.76977,     0.77077,     0.77177,     0.77277,     0.77377,     0.77477,     0.77578,     0.77678,     0.77778,     0.77878,     0.77978,     0.78078,     0.78178,     0.78278,     0.78378,     0.78478,     0.78579,     0.78679,     0.78779,     0.78879,     0.78979,     0.79079,     0.79179,\n",
      "           0.79279,     0.79379,     0.79479,      0.7958,      0.7968,      0.7978,      0.7988,      0.7998,      0.8008,      0.8018,      0.8028,      0.8038,      0.8048,     0.80581,     0.80681,     0.80781,     0.80881,     0.80981,     0.81081,     0.81181,     0.81281,     0.81381,     0.81481,     0.81582,\n",
      "           0.81682,     0.81782,     0.81882,     0.81982,     0.82082,     0.82182,     0.82282,     0.82382,     0.82482,     0.82583,     0.82683,     0.82783,     0.82883,     0.82983,     0.83083,     0.83183,     0.83283,     0.83383,     0.83483,     0.83584,     0.83684,     0.83784,     0.83884,     0.83984,\n",
      "           0.84084,     0.84184,     0.84284,     0.84384,     0.84484,     0.84585,     0.84685,     0.84785,     0.84885,     0.84985,     0.85085,     0.85185,     0.85285,     0.85385,     0.85485,     0.85586,     0.85686,     0.85786,     0.85886,     0.85986,     0.86086,     0.86186,     0.86286,     0.86386,\n",
      "           0.86486,     0.86587,     0.86687,     0.86787,     0.86887,     0.86987,     0.87087,     0.87187,     0.87287,     0.87387,     0.87487,     0.87588,     0.87688,     0.87788,     0.87888,     0.87988,     0.88088,     0.88188,     0.88288,     0.88388,     0.88488,     0.88589,     0.88689,     0.88789,\n",
      "           0.88889,     0.88989,     0.89089,     0.89189,     0.89289,     0.89389,     0.89489,      0.8959,      0.8969,      0.8979,      0.8989,      0.8999,      0.9009,      0.9019,      0.9029,      0.9039,      0.9049,     0.90591,     0.90691,     0.90791,     0.90891,     0.90991,     0.91091,     0.91191,\n",
      "           0.91291,     0.91391,     0.91491,     0.91592,     0.91692,     0.91792,     0.91892,     0.91992,     0.92092,     0.92192,     0.92292,     0.92392,     0.92492,     0.92593,     0.92693,     0.92793,     0.92893,     0.92993,     0.93093,     0.93193,     0.93293,     0.93393,     0.93493,     0.93594,\n",
      "           0.93694,     0.93794,     0.93894,     0.93994,     0.94094,     0.94194,     0.94294,     0.94394,     0.94494,     0.94595,     0.94695,     0.94795,     0.94895,     0.94995,     0.95095,     0.95195,     0.95295,     0.95395,     0.95495,     0.95596,     0.95696,     0.95796,     0.95896,     0.95996,\n",
      "           0.96096,     0.96196,     0.96296,     0.96396,     0.96496,     0.96597,     0.96697,     0.96797,     0.96897,     0.96997,     0.97097,     0.97197,     0.97297,     0.97397,     0.97497,     0.97598,     0.97698,     0.97798,     0.97898,     0.97998,     0.98098,     0.98198,     0.98298,     0.98398,\n",
      "           0.98498,     0.98599,     0.98699,     0.98799,     0.98899,     0.98999,     0.99099,     0.99199,     0.99299,     0.99399,     0.99499,       0.996,       0.997,       0.998,       0.999,           1]), array([[    0.95337,     0.95337,     0.94819,     0.94819,     0.94819,     0.94819,     0.94301,     0.94301,     0.94301,     0.94301,     0.94301,     0.94301,     0.94301,     0.94301,     0.94301,     0.93782,     0.93782,     0.93782,     0.93264,     0.92746,     0.92746,     0.92746,     0.92746,\n",
      "            0.92746,     0.92746,     0.92746,     0.92746,     0.92746,     0.92746,     0.92746,     0.92746,     0.92746,     0.92746,     0.92252,     0.92228,     0.92228,     0.92228,     0.92228,     0.92228,     0.92228,     0.92228,     0.92228,     0.92228,     0.92228,     0.92228,     0.92228,\n",
      "            0.92228,     0.92228,     0.92228,     0.92228,     0.92228,     0.92228,     0.92228,     0.92228,     0.92224,      0.9171,      0.9171,      0.9171,      0.9171,      0.9171,      0.9171,      0.9171,      0.9171,      0.9171,      0.9171,      0.9171,      0.9171,      0.9171,      0.9171,\n",
      "             0.9171,      0.9171,      0.9171,      0.9171,      0.9171,      0.9171,      0.9171,      0.9171,      0.9171,      0.9171,      0.9171,      0.9171,      0.9171,      0.9171,      0.9171,      0.9171,      0.9171,      0.9171,      0.9171,      0.9171,      0.9171,      0.9171,      0.9171,\n",
      "             0.9171,      0.9171,      0.9171,      0.9171,      0.9171,      0.9171,      0.9171,      0.9171,      0.9171,      0.9171,      0.9171,      0.9171,      0.9171,      0.9171,      0.9171,      0.9171,      0.9171,      0.9171,      0.9171,      0.9171,      0.9171,      0.9171,      0.9171,\n",
      "             0.9171,     0.91552,     0.91192,     0.91192,     0.91192,     0.91192,     0.91192,     0.91192,     0.91192,     0.91192,     0.91192,     0.91045,     0.90674,     0.90674,     0.90674,     0.90674,     0.90674,     0.90674,     0.90674,     0.90674,     0.90674,     0.90674,     0.90674,\n",
      "            0.90674,     0.90674,     0.90674,     0.90674,     0.90674,     0.90674,     0.90674,     0.90674,     0.90674,     0.90674,     0.90674,     0.90674,     0.90674,     0.90674,     0.90674,     0.90674,     0.90674,     0.90674,     0.90674,     0.90674,     0.90674,     0.90674,     0.90674,\n",
      "            0.90674,     0.90674,     0.90674,     0.90674,     0.90674,     0.90674,     0.90674,     0.90674,     0.90674,     0.90674,     0.90674,     0.90674,     0.90674,     0.90674,     0.90674,     0.90674,     0.90674,     0.90674,     0.90674,     0.90674,     0.90674,     0.90674,     0.90674,\n",
      "            0.90674,     0.90674,     0.90674,     0.90674,     0.90674,     0.90674,     0.90674,     0.90674,     0.90674,     0.90674,     0.90674,     0.90345,     0.90155,     0.90155,     0.90155,     0.90155,     0.90155,     0.90155,     0.90155,     0.90155,     0.90155,     0.90155,     0.90155,\n",
      "            0.90155,     0.90155,     0.90155,     0.90155,     0.90155,     0.90155,     0.90155,     0.90155,     0.90155,     0.90155,     0.90133,      0.9006,     0.89986,     0.89912,     0.89839,     0.89765,     0.89692,     0.89637,     0.89637,     0.89637,     0.89637,     0.89637,     0.89637,\n",
      "            0.89637,     0.89637,     0.89637,     0.89637,     0.89637,     0.89637,     0.89637,     0.89637,     0.89637,     0.89637,     0.89637,     0.89637,     0.89637,     0.89637,     0.89637,     0.89637,     0.89637,     0.89637,     0.89637,     0.89637,     0.89637,     0.89637,     0.89637,\n",
      "            0.89637,     0.89637,     0.89637,     0.89637,     0.89637,     0.89556,     0.89447,     0.89339,      0.8923,     0.89122,     0.88542,     0.88262,     0.88083,     0.88064,        0.88,     0.87935,     0.87871,     0.87807,     0.87743,     0.87678,     0.87614,     0.87443,     0.87047,\n",
      "            0.87047,     0.87047,     0.87047,     0.87047,     0.87047,     0.87047,     0.87047,     0.87047,     0.87047,     0.87047,     0.87047,     0.87047,     0.87047,     0.87047,     0.87047,     0.87047,     0.87047,     0.87047,     0.87047,     0.87047,     0.87047,     0.87047,     0.86959,\n",
      "            0.86852,     0.86746,     0.86639,     0.86532,     0.86528,     0.86528,     0.86528,     0.86528,     0.86528,     0.86528,     0.86528,     0.86528,     0.86528,     0.86528,     0.86528,     0.86528,     0.86528,     0.86528,     0.86528,     0.86528,     0.86528,     0.86528,     0.86528,\n",
      "            0.86528,     0.86528,     0.86528,     0.86528,     0.86528,     0.86528,     0.86528,     0.86528,     0.86528,     0.86528,     0.86528,     0.86528,     0.86528,     0.86528,     0.86528,     0.86528,     0.86528,     0.86528,     0.86528,     0.86528,     0.86392,     0.86235,     0.86078,\n",
      "             0.8601,      0.8601,      0.8601,      0.8601,      0.8601,      0.8601,      0.8601,      0.8601,      0.8601,      0.8601,      0.8601,      0.8596,     0.85879,     0.85798,     0.85717,     0.85635,     0.85554,     0.85492,     0.85492,     0.85492,     0.85492,     0.85492,     0.85492,\n",
      "            0.85492,     0.85492,     0.85492,     0.85492,     0.85492,     0.85492,     0.85492,     0.85492,     0.85492,     0.85492,     0.85492,     0.85492,     0.85492,     0.85492,     0.85492,     0.85492,     0.85492,      0.8526,     0.84974,     0.84974,     0.84974,      0.8495,     0.84922,\n",
      "            0.84895,     0.84867,     0.84839,     0.84811,     0.84783,     0.84756,     0.84728,       0.847,     0.84672,     0.84645,     0.84617,     0.84589,     0.84561,     0.84533,     0.84506,     0.84478,     0.84392,     0.84084,     0.83938,     0.83938,     0.83938,     0.83938,     0.83938,\n",
      "            0.83938,     0.83938,     0.83938,     0.83938,     0.83938,     0.83938,     0.83938,     0.83938,     0.83938,     0.83938,     0.83938,     0.83938,     0.83938,     0.83599,      0.8342,      0.8342,      0.8342,     0.83407,     0.83338,     0.83268,     0.83199,     0.83129,      0.8306,\n",
      "             0.8299,     0.82921,     0.82902,     0.82902,     0.82902,     0.82902,     0.82902,     0.82902,     0.82902,     0.82902,     0.82902,     0.82881,     0.82783,     0.82685,     0.82587,     0.82489,     0.82391,     0.82358,      0.8233,     0.82302,     0.82274,     0.82246,     0.82218,\n",
      "             0.8219,     0.82162,     0.82134,     0.82106,     0.82078,      0.8205,     0.82022,     0.81994,     0.81966,     0.81938,      0.8191,     0.81883,     0.81795,      0.8161,     0.81426,     0.81312,     0.81251,      0.8119,     0.81129,     0.81068,     0.81007,     0.80946,     0.80885,\n",
      "            0.80829,     0.80829,     0.80829,     0.80829,     0.80829,     0.80829,     0.80829,     0.80829,     0.80829,     0.80822,     0.80707,     0.80591,     0.80476,     0.80361,      0.8026,     0.80042,     0.79824,     0.79704,       0.796,     0.79496,     0.79392,     0.79288,      0.7918,\n",
      "            0.79072,     0.78963,     0.78854,     0.78756,     0.78756,     0.78756,     0.78756,     0.78756,     0.78756,     0.78756,     0.78735,     0.78589,     0.78443,     0.78297,     0.78197,     0.78128,     0.78058,     0.77989,      0.7792,      0.7785,     0.77781,      0.7772,      0.7772,\n",
      "             0.7772,      0.7772,      0.7772,      0.7772,      0.7772,     0.77202,     0.77202,     0.77091,     0.76684,     0.76684,     0.76684,     0.76684,     0.76684,     0.76684,     0.76684,     0.76684,     0.76684,     0.76684,     0.76684,     0.76684,     0.76684,     0.76299,     0.76042,\n",
      "            0.75901,      0.7576,     0.75648,     0.75648,     0.75648,     0.75648,     0.75648,     0.75648,     0.75648,     0.75648,     0.75648,     0.75648,     0.75648,     0.75648,     0.75648,     0.75648,     0.75648,     0.75648,     0.75648,     0.75648,     0.75648,     0.75648,     0.75648,\n",
      "            0.75648,     0.75338,     0.74611,     0.74611,     0.74611,     0.74597,     0.74569,     0.74542,     0.74515,     0.74488,      0.7446,     0.74433,     0.74406,     0.74378,     0.74351,     0.74324,     0.74297,     0.74269,     0.74242,     0.74215,     0.74187,      0.7416,     0.74133,\n",
      "            0.74106,     0.73975,     0.73759,     0.73531,     0.73233,     0.73057,     0.73057,     0.73012,     0.72964,     0.72916,     0.72868,      0.7282,     0.72772,     0.72724,     0.72676,     0.72628,      0.7258,     0.72482,      0.7205,     0.71497,     0.71367,     0.71236,     0.71106,\n",
      "            0.70981,     0.70933,     0.70884,     0.70835,     0.70787,     0.70738,      0.7069,     0.70641,     0.70593,     0.70544,     0.70496,     0.70421,     0.70307,     0.70193,     0.70079,     0.69964,     0.69948,     0.69948,     0.69948,     0.69948,     0.69948,     0.69948,     0.69599,\n",
      "             0.6943,     0.69146,     0.68398,     0.68364,     0.68186,     0.68007,     0.67835,     0.67681,     0.67527,     0.67374,     0.66839,     0.66839,     0.66805,     0.66658,      0.6651,     0.66362,     0.66174,      0.6597,     0.65757,       0.655,     0.65197,     0.64751,     0.64681,\n",
      "            0.64611,     0.64541,     0.64471,     0.64401,     0.64331,     0.64261,     0.64098,     0.63916,     0.63734,     0.63629,     0.63525,     0.63421,     0.63317,     0.63213,     0.62985,     0.62756,     0.62484,     0.62197,      0.6214,     0.62006,     0.61871,     0.61737,     0.60942,\n",
      "             0.6032,     0.59997,     0.59854,     0.59712,     0.59574,     0.59474,     0.59374,     0.59273,     0.59173,     0.59073,     0.58893,     0.58707,     0.58549,     0.58549,     0.58549,     0.58549,     0.58549,      0.5852,     0.58442,     0.58364,     0.58287,     0.58209,     0.58131,\n",
      "            0.58053,     0.57885,     0.57681,     0.57513,     0.57513,     0.57513,     0.57503,     0.57221,      0.5696,     0.56782,     0.56603,     0.55932,     0.55793,     0.55655,     0.55516,     0.55007,     0.54642,     0.54404,     0.54201,     0.53842,      0.5327,     0.53012,     0.52831,\n",
      "            0.52782,     0.52733,     0.52683,     0.52634,     0.52584,     0.52535,     0.52485,     0.52436,     0.52387,     0.52337,     0.52332,     0.52332,     0.52332,     0.52332,     0.52332,     0.52332,     0.52332,      0.5224,     0.52143,     0.52046,     0.51949,     0.51852,     0.51295,\n",
      "            0.51295,     0.51295,      0.5124,     0.51072,     0.50904,     0.50758,     0.50681,     0.50604,     0.50527,      0.5045,     0.50373,     0.50296,     0.50217,     0.50138,     0.50058,     0.49979,     0.49899,     0.49819,     0.49741,     0.49741,     0.49271,     0.48504,     0.48213,\n",
      "            0.48032,     0.47862,     0.47692,     0.47443,     0.47182,      0.4715,     0.47133,     0.46989,     0.46845,       0.467,     0.46607,     0.46559,     0.46512,     0.46464,     0.46417,     0.46369,     0.46322,     0.46274,     0.46226,     0.46179,     0.46131,     0.46079,     0.46023,\n",
      "            0.45967,     0.45912,     0.45856,       0.458,     0.45745,     0.45689,     0.45633,     0.45506,     0.45233,     0.45016,     0.44874,     0.44731,     0.44589,     0.44255,     0.43993,     0.43884,     0.43775,     0.43666,     0.43557,     0.42988,     0.42836,     0.42684,     0.42532,\n",
      "            0.42487,     0.42487,     0.42435,     0.42342,     0.42249,     0.42156,     0.42064,     0.41971,     0.41742,      0.4151,     0.40602,     0.40062,     0.39304,     0.39065,     0.38597,     0.38048,     0.37646,     0.36103,      0.3545,     0.33973,     0.32625,     0.32522,     0.32418,\n",
      "            0.32315,     0.32211,     0.32047,     0.31576,     0.31204,     0.30983,     0.30831,     0.30679,     0.30047,     0.29897,     0.29746,     0.29596,     0.29271,     0.29016,     0.29016,     0.28964,     0.28885,     0.28806,     0.28727,     0.28647,     0.28568,     0.28397,      0.2781,\n",
      "            0.27494,     0.26932,     0.26765,     0.26598,     0.26432,     0.26336,     0.26243,      0.2615,     0.26057,     0.25965,     0.25792,     0.25485,      0.2498,     0.24748,     0.24599,      0.2445,     0.23791,     0.23623,     0.23455,     0.23261,      0.2294,     0.21703,     0.21393,\n",
      "             0.2106,     0.20718,     0.20602,     0.20486,      0.2037,     0.20254,     0.19634,     0.18731,     0.17843,      0.1673,     0.16488,     0.16378,     0.16268,     0.16158,     0.16032,     0.15791,     0.15551,      0.1503,     0.14464,     0.14314,     0.14164,     0.14015,     0.13735,\n",
      "            0.13431,     0.13135,     0.12913,     0.12809,     0.12706,     0.12602,     0.12498,     0.12318,     0.12022,     0.11737,     0.11457,     0.11182,     0.10908,     0.10636,     0.10364,     0.10064,    0.097598,    0.094455,    0.082282,    0.077188,    0.075696,    0.074204,    0.072712,\n",
      "           0.070429,    0.068042,    0.060829,    0.058839,    0.056377,    0.049986,    0.046241,    0.043684,      0.0413,    0.040115,    0.038929,    0.037744,    0.036558,    0.034165,    0.031384,    0.025757,    0.025522,    0.025287,    0.025052,    0.024817,    0.024582,    0.024347,    0.024112,\n",
      "           0.023877,    0.023642,    0.023408,    0.023173,    0.022938,    0.022703,    0.022468,    0.022233,    0.021998,    0.021763,    0.021528,    0.021293,    0.021058,    0.020823,    0.019724,    0.018014,    0.016304,    0.010065,   0.0089448,   0.0078243,   0.0067038,   0.0055833,           0,\n",
      "                  0,           0,           0,           0,           0,           0,           0,           0,           0,           0,           0]]), 'Confidence', 'Recall']]\n",
      "fitness: 0.6918147276787048\n",
      "keys: ['metrics/precision(B)', 'metrics/recall(B)', 'metrics/mAP50(B)', 'metrics/mAP50-95(B)']\n",
      "maps: array([    0.67253])\n",
      "names: {0: 'pothole'}\n",
      "plot: True\n",
      "results_dict: {'metrics/precision(B)': 0.8286439326131435, 'metrics/recall(B)': 0.8268534411858448, 'metrics/mAP50(B)': 0.8653724444270565, 'metrics/mAP50-95(B)': 0.6725305369288879, 'fitness': 0.6918147276787048}\n",
      "save_dir: PosixPath('runs/detect/pothole_detection22')\n",
      "speed: {'preprocess': 1.1810822920365767, 'inference': 84.12915143099698, 'loss': 0.00020373951305042613, 'postprocess': 0.7296562194824219}\n",
      "task: 'detect'\n",
      "Running inference on test images...\n",
      "\n"
     ]
    },
    {
     "ename": "FileNotFoundError",
     "evalue": "/home/shashank/Desktop/Mini_project/dataset/pothole_detection_new.v1i.yolov8/test/images does not exist",
     "output_type": "error",
     "traceback": [
      "\u001b[0;31m---------------------------------------------------------------------------\u001b[0m",
      "\u001b[0;31mFileNotFoundError\u001b[0m                         Traceback (most recent call last)",
      "Cell \u001b[0;32mIn[2], line 30\u001b[0m\n\u001b[1;32m     28\u001b[0m test_images \u001b[38;5;241m=\u001b[39m \u001b[38;5;124m\"\u001b[39m\u001b[38;5;124m/home/shashank/Desktop/Mini_project/dataset/pothole_detection_new.v1i.yolov8/test/images\u001b[39m\u001b[38;5;124m\"\u001b[39m\n\u001b[1;32m     29\u001b[0m \u001b[38;5;28mprint\u001b[39m(\u001b[38;5;124m\"\u001b[39m\u001b[38;5;124mRunning inference on test images...\u001b[39m\u001b[38;5;124m\"\u001b[39m)\n\u001b[0;32m---> 30\u001b[0m predict_results \u001b[38;5;241m=\u001b[39m \u001b[43mmodel\u001b[49m\u001b[38;5;241;43m.\u001b[39;49m\u001b[43mpredict\u001b[49m\u001b[43m(\u001b[49m\u001b[43msource\u001b[49m\u001b[38;5;241;43m=\u001b[39;49m\u001b[43mtest_images\u001b[49m\u001b[43m,\u001b[49m\u001b[43m \u001b[49m\u001b[43msave\u001b[49m\u001b[38;5;241;43m=\u001b[39;49m\u001b[38;5;28;43;01mTrue\u001b[39;49;00m\u001b[43m,\u001b[49m\u001b[43m \u001b[49m\u001b[43mimgsz\u001b[49m\u001b[38;5;241;43m=\u001b[39;49m\u001b[38;5;241;43m640\u001b[39;49m\u001b[43m)\u001b[49m\n\u001b[1;32m     31\u001b[0m \u001b[38;5;28mprint\u001b[39m(\u001b[38;5;124m\"\u001b[39m\u001b[38;5;124mInference completed. Results saved at:\u001b[39m\u001b[38;5;124m\"\u001b[39m, predict_results\u001b[38;5;241m.\u001b[39msave_dir)\n\u001b[1;32m     33\u001b[0m \u001b[38;5;66;03m# Step 6: Visualize Results (Optional)\u001b[39;00m\n\u001b[1;32m     34\u001b[0m \u001b[38;5;66;03m# The predicted images are saved in the `runs/detect/predict` directory\u001b[39;00m\n",
      "File \u001b[0;32m~/.local/lib/python3.10/site-packages/ultralytics/engine/model.py:558\u001b[0m, in \u001b[0;36mModel.predict\u001b[0;34m(self, source, stream, predictor, **kwargs)\u001b[0m\n\u001b[1;32m    556\u001b[0m \u001b[38;5;28;01mif\u001b[39;00m prompts \u001b[38;5;129;01mand\u001b[39;00m \u001b[38;5;28mhasattr\u001b[39m(\u001b[38;5;28mself\u001b[39m\u001b[38;5;241m.\u001b[39mpredictor, \u001b[38;5;124m\"\u001b[39m\u001b[38;5;124mset_prompts\u001b[39m\u001b[38;5;124m\"\u001b[39m):  \u001b[38;5;66;03m# for SAM-type models\u001b[39;00m\n\u001b[1;32m    557\u001b[0m     \u001b[38;5;28mself\u001b[39m\u001b[38;5;241m.\u001b[39mpredictor\u001b[38;5;241m.\u001b[39mset_prompts(prompts)\n\u001b[0;32m--> 558\u001b[0m \u001b[38;5;28;01mreturn\u001b[39;00m \u001b[38;5;28mself\u001b[39m\u001b[38;5;241m.\u001b[39mpredictor\u001b[38;5;241m.\u001b[39mpredict_cli(source\u001b[38;5;241m=\u001b[39msource) \u001b[38;5;28;01mif\u001b[39;00m is_cli \u001b[38;5;28;01melse\u001b[39;00m \u001b[38;5;28;43mself\u001b[39;49m\u001b[38;5;241;43m.\u001b[39;49m\u001b[43mpredictor\u001b[49m\u001b[43m(\u001b[49m\u001b[43msource\u001b[49m\u001b[38;5;241;43m=\u001b[39;49m\u001b[43msource\u001b[49m\u001b[43m,\u001b[49m\u001b[43m \u001b[49m\u001b[43mstream\u001b[49m\u001b[38;5;241;43m=\u001b[39;49m\u001b[43mstream\u001b[49m\u001b[43m)\u001b[49m\n",
      "File \u001b[0;32m~/.local/lib/python3.10/site-packages/ultralytics/engine/predictor.py:173\u001b[0m, in \u001b[0;36mBasePredictor.__call__\u001b[0;34m(self, source, model, stream, *args, **kwargs)\u001b[0m\n\u001b[1;32m    171\u001b[0m     \u001b[38;5;28;01mreturn\u001b[39;00m \u001b[38;5;28mself\u001b[39m\u001b[38;5;241m.\u001b[39mstream_inference(source, model, \u001b[38;5;241m*\u001b[39margs, \u001b[38;5;241m*\u001b[39m\u001b[38;5;241m*\u001b[39mkwargs)\n\u001b[1;32m    172\u001b[0m \u001b[38;5;28;01melse\u001b[39;00m:\n\u001b[0;32m--> 173\u001b[0m     \u001b[38;5;28;01mreturn\u001b[39;00m \u001b[38;5;28;43mlist\u001b[39;49m\u001b[43m(\u001b[49m\u001b[38;5;28;43mself\u001b[39;49m\u001b[38;5;241;43m.\u001b[39;49m\u001b[43mstream_inference\u001b[49m\u001b[43m(\u001b[49m\u001b[43msource\u001b[49m\u001b[43m,\u001b[49m\u001b[43m \u001b[49m\u001b[43mmodel\u001b[49m\u001b[43m,\u001b[49m\u001b[43m \u001b[49m\u001b[38;5;241;43m*\u001b[39;49m\u001b[43margs\u001b[49m\u001b[43m,\u001b[49m\u001b[43m \u001b[49m\u001b[38;5;241;43m*\u001b[39;49m\u001b[38;5;241;43m*\u001b[39;49m\u001b[43mkwargs\u001b[49m\u001b[43m)\u001b[49m\u001b[43m)\u001b[49m\n",
      "File \u001b[0;32m~/.local/lib/python3.10/site-packages/torch/utils/_contextlib.py:36\u001b[0m, in \u001b[0;36m_wrap_generator.<locals>.generator_context\u001b[0;34m(*args, **kwargs)\u001b[0m\n\u001b[1;32m     33\u001b[0m \u001b[38;5;28;01mtry\u001b[39;00m:\n\u001b[1;32m     34\u001b[0m     \u001b[38;5;66;03m# Issuing `None` to a generator fires it up\u001b[39;00m\n\u001b[1;32m     35\u001b[0m     \u001b[38;5;28;01mwith\u001b[39;00m ctx_factory():\n\u001b[0;32m---> 36\u001b[0m         response \u001b[38;5;241m=\u001b[39m \u001b[43mgen\u001b[49m\u001b[38;5;241;43m.\u001b[39;49m\u001b[43msend\u001b[49m\u001b[43m(\u001b[49m\u001b[38;5;28;43;01mNone\u001b[39;49;00m\u001b[43m)\u001b[49m\n\u001b[1;32m     38\u001b[0m     \u001b[38;5;28;01mwhile\u001b[39;00m \u001b[38;5;28;01mTrue\u001b[39;00m:\n\u001b[1;32m     39\u001b[0m         \u001b[38;5;28;01mtry\u001b[39;00m:\n\u001b[1;32m     40\u001b[0m             \u001b[38;5;66;03m# Forward the response to our caller and get its next request\u001b[39;00m\n",
      "File \u001b[0;32m~/.local/lib/python3.10/site-packages/ultralytics/engine/predictor.py:231\u001b[0m, in \u001b[0;36mBasePredictor.stream_inference\u001b[0;34m(self, source, model, *args, **kwargs)\u001b[0m\n\u001b[1;32m    227\u001b[0m     \u001b[38;5;28mself\u001b[39m\u001b[38;5;241m.\u001b[39msetup_model(model)\n\u001b[1;32m    229\u001b[0m \u001b[38;5;28;01mwith\u001b[39;00m \u001b[38;5;28mself\u001b[39m\u001b[38;5;241m.\u001b[39m_lock:  \u001b[38;5;66;03m# for thread-safe inference\u001b[39;00m\n\u001b[1;32m    230\u001b[0m     \u001b[38;5;66;03m# Setup source every time predict is called\u001b[39;00m\n\u001b[0;32m--> 231\u001b[0m     \u001b[38;5;28;43mself\u001b[39;49m\u001b[38;5;241;43m.\u001b[39;49m\u001b[43msetup_source\u001b[49m\u001b[43m(\u001b[49m\u001b[43msource\u001b[49m\u001b[43m \u001b[49m\u001b[38;5;28;43;01mif\u001b[39;49;00m\u001b[43m \u001b[49m\u001b[43msource\u001b[49m\u001b[43m \u001b[49m\u001b[38;5;129;43;01mis\u001b[39;49;00m\u001b[43m \u001b[49m\u001b[38;5;129;43;01mnot\u001b[39;49;00m\u001b[43m \u001b[49m\u001b[38;5;28;43;01mNone\u001b[39;49;00m\u001b[43m \u001b[49m\u001b[38;5;28;43;01melse\u001b[39;49;00m\u001b[43m \u001b[49m\u001b[38;5;28;43mself\u001b[39;49m\u001b[38;5;241;43m.\u001b[39;49m\u001b[43margs\u001b[49m\u001b[38;5;241;43m.\u001b[39;49m\u001b[43msource\u001b[49m\u001b[43m)\u001b[49m\n\u001b[1;32m    233\u001b[0m     \u001b[38;5;66;03m# Check if save_dir/ label file exists\u001b[39;00m\n\u001b[1;32m    234\u001b[0m     \u001b[38;5;28;01mif\u001b[39;00m \u001b[38;5;28mself\u001b[39m\u001b[38;5;241m.\u001b[39margs\u001b[38;5;241m.\u001b[39msave \u001b[38;5;129;01mor\u001b[39;00m \u001b[38;5;28mself\u001b[39m\u001b[38;5;241m.\u001b[39margs\u001b[38;5;241m.\u001b[39msave_txt:\n",
      "File \u001b[0;32m~/.local/lib/python3.10/site-packages/ultralytics/engine/predictor.py:203\u001b[0m, in \u001b[0;36mBasePredictor.setup_source\u001b[0;34m(self, source)\u001b[0m\n\u001b[1;32m    193\u001b[0m \u001b[38;5;28mself\u001b[39m\u001b[38;5;241m.\u001b[39mimgsz \u001b[38;5;241m=\u001b[39m check_imgsz(\u001b[38;5;28mself\u001b[39m\u001b[38;5;241m.\u001b[39margs\u001b[38;5;241m.\u001b[39mimgsz, stride\u001b[38;5;241m=\u001b[39m\u001b[38;5;28mself\u001b[39m\u001b[38;5;241m.\u001b[39mmodel\u001b[38;5;241m.\u001b[39mstride, min_dim\u001b[38;5;241m=\u001b[39m\u001b[38;5;241m2\u001b[39m)  \u001b[38;5;66;03m# check image size\u001b[39;00m\n\u001b[1;32m    194\u001b[0m \u001b[38;5;28mself\u001b[39m\u001b[38;5;241m.\u001b[39mtransforms \u001b[38;5;241m=\u001b[39m (\n\u001b[1;32m    195\u001b[0m     \u001b[38;5;28mgetattr\u001b[39m(\n\u001b[1;32m    196\u001b[0m         \u001b[38;5;28mself\u001b[39m\u001b[38;5;241m.\u001b[39mmodel\u001b[38;5;241m.\u001b[39mmodel,\n\u001b[0;32m   (...)\u001b[0m\n\u001b[1;32m    201\u001b[0m     \u001b[38;5;28;01melse\u001b[39;00m \u001b[38;5;28;01mNone\u001b[39;00m\n\u001b[1;32m    202\u001b[0m )\n\u001b[0;32m--> 203\u001b[0m \u001b[38;5;28mself\u001b[39m\u001b[38;5;241m.\u001b[39mdataset \u001b[38;5;241m=\u001b[39m \u001b[43mload_inference_source\u001b[49m\u001b[43m(\u001b[49m\n\u001b[1;32m    204\u001b[0m \u001b[43m    \u001b[49m\u001b[43msource\u001b[49m\u001b[38;5;241;43m=\u001b[39;49m\u001b[43msource\u001b[49m\u001b[43m,\u001b[49m\n\u001b[1;32m    205\u001b[0m \u001b[43m    \u001b[49m\u001b[43mbatch\u001b[49m\u001b[38;5;241;43m=\u001b[39;49m\u001b[38;5;28;43mself\u001b[39;49m\u001b[38;5;241;43m.\u001b[39;49m\u001b[43margs\u001b[49m\u001b[38;5;241;43m.\u001b[39;49m\u001b[43mbatch\u001b[49m\u001b[43m,\u001b[49m\n\u001b[1;32m    206\u001b[0m \u001b[43m    \u001b[49m\u001b[43mvid_stride\u001b[49m\u001b[38;5;241;43m=\u001b[39;49m\u001b[38;5;28;43mself\u001b[39;49m\u001b[38;5;241;43m.\u001b[39;49m\u001b[43margs\u001b[49m\u001b[38;5;241;43m.\u001b[39;49m\u001b[43mvid_stride\u001b[49m\u001b[43m,\u001b[49m\n\u001b[1;32m    207\u001b[0m \u001b[43m    \u001b[49m\u001b[43mbuffer\u001b[49m\u001b[38;5;241;43m=\u001b[39;49m\u001b[38;5;28;43mself\u001b[39;49m\u001b[38;5;241;43m.\u001b[39;49m\u001b[43margs\u001b[49m\u001b[38;5;241;43m.\u001b[39;49m\u001b[43mstream_buffer\u001b[49m\u001b[43m,\u001b[49m\n\u001b[1;32m    208\u001b[0m \u001b[43m\u001b[49m\u001b[43m)\u001b[49m\n\u001b[1;32m    209\u001b[0m \u001b[38;5;28mself\u001b[39m\u001b[38;5;241m.\u001b[39msource_type \u001b[38;5;241m=\u001b[39m \u001b[38;5;28mself\u001b[39m\u001b[38;5;241m.\u001b[39mdataset\u001b[38;5;241m.\u001b[39msource_type\n\u001b[1;32m    210\u001b[0m \u001b[38;5;28;01mif\u001b[39;00m \u001b[38;5;129;01mnot\u001b[39;00m \u001b[38;5;28mgetattr\u001b[39m(\u001b[38;5;28mself\u001b[39m, \u001b[38;5;124m\"\u001b[39m\u001b[38;5;124mstream\u001b[39m\u001b[38;5;124m\"\u001b[39m, \u001b[38;5;28;01mTrue\u001b[39;00m) \u001b[38;5;129;01mand\u001b[39;00m (\n\u001b[1;32m    211\u001b[0m     \u001b[38;5;28mself\u001b[39m\u001b[38;5;241m.\u001b[39msource_type\u001b[38;5;241m.\u001b[39mstream\n\u001b[1;32m    212\u001b[0m     \u001b[38;5;129;01mor\u001b[39;00m \u001b[38;5;28mself\u001b[39m\u001b[38;5;241m.\u001b[39msource_type\u001b[38;5;241m.\u001b[39mscreenshot\n\u001b[1;32m    213\u001b[0m     \u001b[38;5;129;01mor\u001b[39;00m \u001b[38;5;28mlen\u001b[39m(\u001b[38;5;28mself\u001b[39m\u001b[38;5;241m.\u001b[39mdataset) \u001b[38;5;241m>\u001b[39m \u001b[38;5;241m1000\u001b[39m  \u001b[38;5;66;03m# many images\u001b[39;00m\n\u001b[1;32m    214\u001b[0m     \u001b[38;5;129;01mor\u001b[39;00m \u001b[38;5;28many\u001b[39m(\u001b[38;5;28mgetattr\u001b[39m(\u001b[38;5;28mself\u001b[39m\u001b[38;5;241m.\u001b[39mdataset, \u001b[38;5;124m\"\u001b[39m\u001b[38;5;124mvideo_flag\u001b[39m\u001b[38;5;124m\"\u001b[39m, [\u001b[38;5;28;01mFalse\u001b[39;00m]))\n\u001b[1;32m    215\u001b[0m ):  \u001b[38;5;66;03m# videos\u001b[39;00m\n",
      "File \u001b[0;32m~/.local/lib/python3.10/site-packages/ultralytics/data/build.py:202\u001b[0m, in \u001b[0;36mload_inference_source\u001b[0;34m(source, batch, vid_stride, buffer)\u001b[0m\n\u001b[1;32m    200\u001b[0m     dataset \u001b[38;5;241m=\u001b[39m LoadPilAndNumpy(source)\n\u001b[1;32m    201\u001b[0m \u001b[38;5;28;01melse\u001b[39;00m:\n\u001b[0;32m--> 202\u001b[0m     dataset \u001b[38;5;241m=\u001b[39m \u001b[43mLoadImagesAndVideos\u001b[49m\u001b[43m(\u001b[49m\u001b[43msource\u001b[49m\u001b[43m,\u001b[49m\u001b[43m \u001b[49m\u001b[43mbatch\u001b[49m\u001b[38;5;241;43m=\u001b[39;49m\u001b[43mbatch\u001b[49m\u001b[43m,\u001b[49m\u001b[43m \u001b[49m\u001b[43mvid_stride\u001b[49m\u001b[38;5;241;43m=\u001b[39;49m\u001b[43mvid_stride\u001b[49m\u001b[43m)\u001b[49m\n\u001b[1;32m    204\u001b[0m \u001b[38;5;66;03m# Attach source types to the dataset\u001b[39;00m\n\u001b[1;32m    205\u001b[0m \u001b[38;5;28msetattr\u001b[39m(dataset, \u001b[38;5;124m\"\u001b[39m\u001b[38;5;124msource_type\u001b[39m\u001b[38;5;124m\"\u001b[39m, source_type)\n",
      "File \u001b[0;32m~/.local/lib/python3.10/site-packages/ultralytics/data/loaders.py:341\u001b[0m, in \u001b[0;36mLoadImagesAndVideos.__init__\u001b[0;34m(self, path, batch, vid_stride)\u001b[0m\n\u001b[1;32m    339\u001b[0m         files\u001b[38;5;241m.\u001b[39mappend(\u001b[38;5;28mstr\u001b[39m((parent \u001b[38;5;241m/\u001b[39m p)\u001b[38;5;241m.\u001b[39mabsolute()))  \u001b[38;5;66;03m# files (relative to *.txt file parent)\u001b[39;00m\n\u001b[1;32m    340\u001b[0m     \u001b[38;5;28;01melse\u001b[39;00m:\n\u001b[0;32m--> 341\u001b[0m         \u001b[38;5;28;01mraise\u001b[39;00m \u001b[38;5;167;01mFileNotFoundError\u001b[39;00m(\u001b[38;5;124mf\u001b[39m\u001b[38;5;124m\"\u001b[39m\u001b[38;5;132;01m{\u001b[39;00mp\u001b[38;5;132;01m}\u001b[39;00m\u001b[38;5;124m does not exist\u001b[39m\u001b[38;5;124m\"\u001b[39m)\n\u001b[1;32m    343\u001b[0m \u001b[38;5;66;03m# Define files as images or videos\u001b[39;00m\n\u001b[1;32m    344\u001b[0m images, videos \u001b[38;5;241m=\u001b[39m [], []\n",
      "\u001b[0;31mFileNotFoundError\u001b[0m: /home/shashank/Desktop/Mini_project/dataset/pothole_detection_new.v1i.yolov8/test/images does not exist"
     ]
    }
   ],
   "source": [
    "from ultralytics import YOLO\n",
    "\n",
    "# Step 1: Define Paths\n",
    "yaml_path = \"/home/shashank/Desktop/Mini_project /dataset/pothole detection new.v1i.yolov8/pothole.yaml\"\n",
    "pretrained_model = \"yolov8n.pt\"  # Use YOLOv8 Nano model (smallest, fastest)\n",
    "output_path = \"/home/shashank/Desktop/Mini_project /results\"  # Directory to save training outputs\n",
    "\n",
    "# Step 2: Load YOLOv8 Model\n",
    "model = YOLO(pretrained_model)  # Load the pre-trained YOLOv8 model\n",
    "\n",
    "# Step 3: Train the Model\n",
    "print(\"Starting training...\")\n",
    "model.train(\n",
    "    data=yaml_path,  # Path to YAML file\n",
    "    epochs=50,       # Number of epochs (adjust as needed)\n",
    "    imgsz=640,       # Input image size (default is 640x640)\n",
    "    batch=16,        # Batch size (adjust based on GPU/CPU memory)\n",
    "    name=\"pothole_detection\"  # Custom name for the training run\n",
    ")\n",
    "print(\"Training completed!\")\n",
    "\n",
    "# Step 4: Validate the Model\n",
    "print(\"Validating the model...\")\n",
    "val_results = model.val(data=yaml_path)  # Evaluate on validation data\n",
    "print(\"Validation Results:\", val_results)\n",
    "\n",
    "# Step 5: Perform Inference on Test Images\n",
    "test_images = \"/home/shashank/Desktop/Mini_project /dataset/pothole detection new.v1i.yolov8/test/images\"\n",
    "print(\"Running inference on test images...\")\n",
    "predict_results = model.predict(source=test_images, save=True, imgsz=640)\n",
    "print(\"Inference completed. Results saved at:\", predict_results.save_dir)\n",
    "\n",
    "# Step 6: Visualize Results (Optional)\n",
    "# The predicted images are saved in the `runs/detect/predict` directory\n",
    "print(\"Visualization completed. Check results folder.\")\n"
   ]
  },
  {
   "cell_type": "code",
   "execution_count": null,
   "metadata": {},
   "outputs": [],
   "source": [
    "\n",
    "# Step 4: Validate the Model\n",
    "print(\"Validating the model...\")\n",
    "val_results = model.val(data=yaml_path)  # Evaluate on validation data\n",
    "print(\"Validation Results:\", val_results)"
   ]
  },
  {
   "cell_type": "code",
   "execution_count": 1,
   "metadata": {},
   "outputs": [
    {
     "name": "stdout",
     "output_type": "stream",
     "text": [
      "Running inference on test images...\n"
     ]
    },
    {
     "ename": "NameError",
     "evalue": "name 'model' is not defined",
     "output_type": "error",
     "traceback": [
      "\u001b[0;31m---------------------------------------------------------------------------\u001b[0m",
      "\u001b[0;31mNameError\u001b[0m                                 Traceback (most recent call last)",
      "Cell \u001b[0;32mIn[1], line 4\u001b[0m\n\u001b[1;32m      2\u001b[0m test_images \u001b[38;5;241m=\u001b[39m \u001b[38;5;124m\"\u001b[39m\u001b[38;5;124m/home/shashank/Desktop/Mini_project /dataset/pothole detection new.v1i.yolov8/test/images\u001b[39m\u001b[38;5;124m\"\u001b[39m\n\u001b[1;32m      3\u001b[0m \u001b[38;5;28mprint\u001b[39m(\u001b[38;5;124m\"\u001b[39m\u001b[38;5;124mRunning inference on test images...\u001b[39m\u001b[38;5;124m\"\u001b[39m)\n\u001b[0;32m----> 4\u001b[0m predict_results \u001b[38;5;241m=\u001b[39m \u001b[43mmodel\u001b[49m\u001b[38;5;241m.\u001b[39mpredict(source\u001b[38;5;241m=\u001b[39mtest_images, save\u001b[38;5;241m=\u001b[39m\u001b[38;5;28;01mTrue\u001b[39;00m, imgsz\u001b[38;5;241m=\u001b[39m\u001b[38;5;241m640\u001b[39m)\n\u001b[1;32m      5\u001b[0m \u001b[38;5;28mprint\u001b[39m(\u001b[38;5;124m\"\u001b[39m\u001b[38;5;124mInference completed. Results saved at:\u001b[39m\u001b[38;5;124m\"\u001b[39m, predict_results\u001b[38;5;241m.\u001b[39msave_dir)\n\u001b[1;32m      7\u001b[0m \u001b[38;5;66;03m# Step 6: Visualize Results (Optional)\u001b[39;00m\n\u001b[1;32m      8\u001b[0m \u001b[38;5;66;03m# The predicted images are saved in the `runs/detect/predict` directory\u001b[39;00m\n",
      "\u001b[0;31mNameError\u001b[0m: name 'model' is not defined"
     ]
    }
   ],
   "source": [
    "# Step 5: Perform Inference on Test Images\n",
    "test_images = \"/home/shashank/Desktop/Mini_project /dataset/pothole detection new.v1i.yolov8/test/images\"\n",
    "print(\"Running inference on test images...\")\n",
    "predict_results = model.predict(source=test_images, save=True, imgsz=640)\n",
    "print(\"Inference completed. Results saved at:\", predict_results.save_dir)\n",
    "\n",
    "# Step 6: Visualize Results (Optional)\n",
    "# The predicted images are saved in the `runs/detect/predict` directory\n",
    "print(\"Visualization completed. Check results folder.\")\n"
   ]
  },
  {
   "cell_type": "code",
   "execution_count": 1,
   "metadata": {},
   "outputs": [],
   "source": []
  },
  {
   "cell_type": "code",
   "execution_count": null,
   "metadata": {},
   "outputs": [],
   "source": []
  }
 ],
 "metadata": {
  "kernelspec": {
   "display_name": "usr",
   "language": "python",
   "name": "python3"
  },
  "language_info": {
   "codemirror_mode": {
    "name": "ipython",
    "version": 3
   },
   "file_extension": ".py",
   "mimetype": "text/x-python",
   "name": "python",
   "nbconvert_exporter": "python",
   "pygments_lexer": "ipython3",
   "version": "3.10.12"
  }
 },
 "nbformat": 4,
 "nbformat_minor": 2
}
